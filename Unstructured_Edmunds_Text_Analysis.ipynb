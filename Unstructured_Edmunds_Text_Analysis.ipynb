{
  "nbformat": 4,
  "nbformat_minor": 0,
  "metadata": {
    "colab": {
      "name": "Unstructured Edmunds Text Analysis.ipynb",
      "provenance": []
    },
    "kernelspec": {
      "name": "python3",
      "display_name": "Python 3"
    },
    "language_info": {
      "name": "python"
    }
  },
  "cells": [
    {
      "cell_type": "code",
      "metadata": {
        "colab": {
          "base_uri": "https://localhost:8080/"
        },
        "id": "5wzMvTpukLKZ",
        "outputId": "2b9932f1-746f-48a8-95c1-7c2222a83fec"
      },
      "source": [
        "# Use this code if using Colab to run Selenium\n",
        "\n",
        "# Make sure to go to Runtime -> Change runtime and set GPU as hardware accelerator\n",
        "\n",
        "# !kill -9 -1 # Use this line to delete this VM and start a new one. \n",
        "# The above line deletes all files and folders from the current VM and allocates a new one.\n",
        "\n",
        "#Selenium is an open-source tool that automates web browsers.\n",
        "!pip install selenium\n",
        "!apt-get -q update   #Used to handle installation and removal of softwares and libraries\n",
        "!apt install -yq chromium-chromedriver #ChromeDriver is a separate executable that Selenium WebDriver uses to control Chrome.\n",
        "!cp /usr/lib/chromium-browser/chromedriver /usr/bin\n",
        "\n",
        "import sys\n",
        "sys.path.insert(0,'/usr/lib/chromium-browser/chromedriver')\n",
        "from selenium import webdriver \n",
        "#WebDriver is a browser automation framework that works with open source APIs. \n",
        "#The framework operates by accepting commands, sending those commands to a browser, and interacting with applications.\n",
        "chrome_options = webdriver.ChromeOptions()\n",
        "chrome_options.add_argument('--headless')\n",
        "chrome_options.add_argument('--no-sandbox')\n",
        "chrome_options.add_argument('--disable-dev-shm-usage')"
      ],
      "execution_count": 8,
      "outputs": [
        {
          "output_type": "stream",
          "name": "stdout",
          "text": [
            "Collecting selenium\n",
            "  Downloading selenium-3.141.0-py2.py3-none-any.whl (904 kB)\n",
            "\u001b[K     |████████████████████████████████| 904 kB 5.0 MB/s \n",
            "\u001b[?25hRequirement already satisfied: urllib3 in /usr/local/lib/python3.7/dist-packages (from selenium) (1.24.3)\n",
            "Installing collected packages: selenium\n",
            "Successfully installed selenium-3.141.0\n",
            "Get:1 http://security.ubuntu.com/ubuntu bionic-security InRelease [88.7 kB]\n",
            "Ign:2 https://developer.download.nvidia.com/compute/cuda/repos/ubuntu1804/x86_64  InRelease\n",
            "Get:3 https://cloud.r-project.org/bin/linux/ubuntu bionic-cran40/ InRelease [3,626 B]\n",
            "Get:4 http://ppa.launchpad.net/c2d4u.team/c2d4u4.0+/ubuntu bionic InRelease [15.9 kB]\n",
            "Hit:5 http://archive.ubuntu.com/ubuntu bionic InRelease\n",
            "Ign:6 https://developer.download.nvidia.com/compute/machine-learning/repos/ubuntu1804/x86_64  InRelease\n",
            "Get:7 https://developer.download.nvidia.com/compute/cuda/repos/ubuntu1804/x86_64  Release [696 B]\n",
            "Hit:8 https://developer.download.nvidia.com/compute/machine-learning/repos/ubuntu1804/x86_64  Release\n",
            "Get:9 https://developer.download.nvidia.com/compute/cuda/repos/ubuntu1804/x86_64  Release.gpg [836 B]\n",
            "Get:10 http://archive.ubuntu.com/ubuntu bionic-updates InRelease [88.7 kB]\n",
            "Get:11 http://security.ubuntu.com/ubuntu bionic-security/restricted amd64 Packages [567 kB]\n",
            "Hit:12 http://ppa.launchpad.net/cran/libgit2/ubuntu bionic InRelease\n",
            "Get:13 http://security.ubuntu.com/ubuntu bionic-security/main amd64 Packages [2,324 kB]\n",
            "Get:14 http://archive.ubuntu.com/ubuntu bionic-backports InRelease [74.6 kB]\n",
            "Get:15 http://ppa.launchpad.net/deadsnakes/ppa/ubuntu bionic InRelease [15.9 kB]\n",
            "Get:16 http://security.ubuntu.com/ubuntu bionic-security/universe amd64 Packages [1,428 kB]\n",
            "Hit:17 http://ppa.launchpad.net/graphics-drivers/ppa/ubuntu bionic InRelease\n",
            "Get:19 https://developer.download.nvidia.com/compute/cuda/repos/ubuntu1804/x86_64  Packages [718 kB]\n",
            "Get:20 http://ppa.launchpad.net/c2d4u.team/c2d4u4.0+/ubuntu bionic/main Sources [1,799 kB]\n",
            "Get:21 http://archive.ubuntu.com/ubuntu bionic-updates/restricted amd64 Packages [600 kB]\n",
            "Get:22 http://archive.ubuntu.com/ubuntu bionic-updates/universe amd64 Packages [2,202 kB]\n",
            "Get:23 http://ppa.launchpad.net/c2d4u.team/c2d4u4.0+/ubuntu bionic/main amd64 Packages [921 kB]\n",
            "Get:24 http://archive.ubuntu.com/ubuntu bionic-updates/main amd64 Packages [2,760 kB]\n",
            "Get:25 http://ppa.launchpad.net/deadsnakes/ppa/ubuntu bionic/main amd64 Packages [40.8 kB]\n",
            "Fetched 13.6 MB in 4s (3,686 kB/s)\n",
            "Reading package lists...\n",
            "Reading package lists...\n",
            "Building dependency tree...\n",
            "Reading state information...\n",
            "The following additional packages will be installed:\n",
            "  chromium-browser chromium-browser-l10n chromium-codecs-ffmpeg-extra\n",
            "Suggested packages:\n",
            "  webaccounts-chromium-extension unity-chromium-extension\n",
            "The following NEW packages will be installed:\n",
            "  chromium-browser chromium-browser-l10n chromium-chromedriver\n",
            "  chromium-codecs-ffmpeg-extra\n",
            "0 upgraded, 4 newly installed, 0 to remove and 90 not upgraded.\n",
            "Need to get 91.8 MB of archives.\n",
            "After this operation, 315 MB of additional disk space will be used.\n",
            "Get:1 http://archive.ubuntu.com/ubuntu bionic-updates/universe amd64 chromium-codecs-ffmpeg-extra amd64 92.0.4515.159-0ubuntu0.18.04.1 [1,124 kB]\n",
            "Get:2 http://archive.ubuntu.com/ubuntu bionic-updates/universe amd64 chromium-browser amd64 92.0.4515.159-0ubuntu0.18.04.1 [81.7 MB]\n",
            "Get:3 http://archive.ubuntu.com/ubuntu bionic-updates/universe amd64 chromium-browser-l10n all 92.0.4515.159-0ubuntu0.18.04.1 [4,026 kB]\n",
            "Get:4 http://archive.ubuntu.com/ubuntu bionic-updates/universe amd64 chromium-chromedriver amd64 92.0.4515.159-0ubuntu0.18.04.1 [4,902 kB]\n",
            "Fetched 91.8 MB in 4s (24.1 MB/s)\n",
            "Selecting previously unselected package chromium-codecs-ffmpeg-extra.\n",
            "(Reading database ... 148492 files and directories currently installed.)\n",
            "Preparing to unpack .../chromium-codecs-ffmpeg-extra_92.0.4515.159-0ubuntu0.18.04.1_amd64.deb ...\n",
            "Unpacking chromium-codecs-ffmpeg-extra (92.0.4515.159-0ubuntu0.18.04.1) ...\n",
            "Selecting previously unselected package chromium-browser.\n",
            "Preparing to unpack .../chromium-browser_92.0.4515.159-0ubuntu0.18.04.1_amd64.deb ...\n",
            "Unpacking chromium-browser (92.0.4515.159-0ubuntu0.18.04.1) ...\n",
            "Selecting previously unselected package chromium-browser-l10n.\n",
            "Preparing to unpack .../chromium-browser-l10n_92.0.4515.159-0ubuntu0.18.04.1_all.deb ...\n",
            "Unpacking chromium-browser-l10n (92.0.4515.159-0ubuntu0.18.04.1) ...\n",
            "Selecting previously unselected package chromium-chromedriver.\n",
            "Preparing to unpack .../chromium-chromedriver_92.0.4515.159-0ubuntu0.18.04.1_amd64.deb ...\n",
            "Unpacking chromium-chromedriver (92.0.4515.159-0ubuntu0.18.04.1) ...\n",
            "Setting up chromium-codecs-ffmpeg-extra (92.0.4515.159-0ubuntu0.18.04.1) ...\n",
            "Setting up chromium-browser (92.0.4515.159-0ubuntu0.18.04.1) ...\n",
            "update-alternatives: using /usr/bin/chromium-browser to provide /usr/bin/x-www-browser (x-www-browser) in auto mode\n",
            "update-alternatives: using /usr/bin/chromium-browser to provide /usr/bin/gnome-www-browser (gnome-www-browser) in auto mode\n",
            "Setting up chromium-chromedriver (92.0.4515.159-0ubuntu0.18.04.1) ...\n",
            "Setting up chromium-browser-l10n (92.0.4515.159-0ubuntu0.18.04.1) ...\n",
            "Processing triggers for man-db (2.8.3-2ubuntu0.1) ...\n",
            "Processing triggers for hicolor-icon-theme (0.17-2) ...\n",
            "Processing triggers for mime-support (3.60ubuntu1) ...\n",
            "Processing triggers for libc-bin (2.27-3ubuntu1.2) ...\n",
            "/sbin/ldconfig.real: /usr/local/lib/python3.7/dist-packages/ideep4py/lib/libmkldnn.so.0 is not a symbolic link\n",
            "\n",
            "cp: '/usr/lib/chromium-browser/chromedriver' and '/usr/bin/chromedriver' are the same file\n"
          ]
        }
      ]
    },
    {
      "cell_type": "code",
      "metadata": {
        "id": "LSvyCIjdkSnr"
      },
      "source": [
        "wd = webdriver.Chrome('chromedriver',options=chrome_options)\n"
      ],
      "execution_count": null,
      "outputs": []
    },
    {
      "cell_type": "code",
      "metadata": {
        "id": "qqeVqrEGkX3R"
      },
      "source": [
        "# Source: https://towardsdatascience.com/web-scraping-using-selenium-python-8a60f4cf40ab\n",
        "wd.get('https://forums.edmunds.com/discussion/2864/general/x/entry-level-luxury-performance-sedans')\n",
        "#print(wd.page_source)"
      ],
      "execution_count": null,
      "outputs": []
    },
    {
      "cell_type": "code",
      "metadata": {
        "colab": {
          "base_uri": "https://localhost:8080/"
        },
        "id": "FmLdbqDikhlO",
        "outputId": "b380cea0-2cc2-492a-c326-fa251d7f6f03"
      },
      "source": [
        "user_message = wd.find_elements_by_xpath('//*[@id=\"Discussion_2864\"]/div/div[2]/div/div[1]')[0] \n",
        "print(user_message.text)"
      ],
      "execution_count": null,
      "outputs": [
        {
          "output_type": "stream",
          "name": "stdout",
          "text": [
            "Entry level performance luxury sedans are a hot area for car manufacturers and enthusiasts alike. These sedans show their performance by being fun to drive and handling well. They show luxury by offering leather and some of the important creatures comforts found in the most luxurious upscale sedans. The selection of vehicles that compete in the space is vast and varied.\n",
            "\n",
            "The benchmarks which define this are the BMW 330 and the Audi A4 3.0. But there are many contenders, such as Acura TL-S, Chrysler 300M, Jaguar X-type, Infiniti I35, Mercedes C-Class, Volvo S60 T5. Some companies have contenders that emphasize performance Lexus IS300 or luxury Lexus ES300. And the field is continously growing, with the recent additions being the Cadillac CTS and Infiniti G35.\n",
            "\n",
            "The common charateristics of this entry level perfomance luxury group seem to a price around 30 to 40k (US dollars) and 0-60 times between six and eight seconds.\n",
            "\n",
            "With this wide variety of cars targeted at a similar market segment, the choices for our own personal car are great. But with all these choices, it is hard to understand and personally evaluate all these options. So this topic has been created to start a discussion on the relative merits and personalities of the cars available in this entry level performance luxury field.\n"
          ]
        }
      ]
    },
    {
      "cell_type": "code",
      "metadata": {
        "colab": {
          "base_uri": "https://localhost:8080/"
        },
        "id": "ZTfeBM_Jk5bC",
        "outputId": "7428a612-a626-45ff-b198-84784effd34a"
      },
      "source": [
        "date = wd.find_elements_by_xpath('//*[@id=\"Discussion_2864\"]/div/div[1]/div[2]/span[1]/a/time')[0] \n",
        "print(date.text)\n",
        "time = date.get_attribute('title')\n",
        "print(time)"
      ],
      "execution_count": null,
      "outputs": [
        {
          "output_type": "stream",
          "name": "stdout",
          "text": [
            "March 2002\n",
            "March 23, 2002 12:04PM\n"
          ]
        }
      ]
    },
    {
      "cell_type": "code",
      "metadata": {
        "id": "5ULDOZRhmP-M"
      },
      "source": [
        "import pandas as pd\n",
        "import numpy as np"
      ],
      "execution_count": 9,
      "outputs": []
    },
    {
      "cell_type": "code",
      "metadata": {
        "id": "_j7m0Cokn02V"
      },
      "source": [
        "page_number_list = ['p'+str(x) for x in list(np.arange(2,330))]"
      ],
      "execution_count": null,
      "outputs": []
    },
    {
      "cell_type": "code",
      "metadata": {
        "colab": {
          "base_uri": "https://localhost:8080/"
        },
        "id": "Z7XrmkJDlFYI",
        "outputId": "e8e8f796-9abe-40cb-9815-493c345c0238"
      },
      "source": [
        "final_df_newest = pd.DataFrame()\n",
        "for p in page_number_list:\n",
        "  wd.get('https://forums.edmunds.com/discussion/2864/general/x/entry-level-luxury-performance-sedans/p')\n",
        "\n",
        "  comments = pd.DataFrame(columns = ['Date','comments']) \n",
        "  ids = wd.find_elements_by_xpath(\"//*[contains(@id,'Comment_')]\")\n",
        "\n",
        "  comment_ids = []\n",
        "  for i in ids:\n",
        "    comment_ids.append(i.get_attribute('id'))\n",
        "\n",
        "  for x in comment_ids:\n",
        "      #Extract dates from for each user on a page\n",
        "      user_date = wd.find_elements_by_xpath('//*[@id=\"'+x+'\"]/div/div[2]/div[2]/span/a/time')[0]\n",
        "      date = user_date.get_attribute('title')\n",
        "\n",
        "      #Extract Message for each user on a page\n",
        "      user_message = wd.find_elements_by_xpath('//*[@id=\"'+x+'\"]/div/div[3]/div/div[1]')[0]\n",
        "      comment = user_message.text\n",
        "                                    \n",
        "      #Adding date, userid and comment for each user in a dataframe    \n",
        "      comments.loc[len(comments)] = [date,comment]\n",
        "    \n",
        "  final_df_newest = pd.concat([comments,final_df_newest])\n",
        "print(final_df_newest.shape[0])"
      ],
      "execution_count": null,
      "outputs": [
        {
          "output_type": "stream",
          "name": "stdout",
          "text": [
            "16400\n"
          ]
        }
      ]
    },
    {
      "cell_type": "code",
      "metadata": {
        "id": "rMwdnYnlvKy4"
      },
      "source": [
        "## Scraping for Old Posts"
      ],
      "execution_count": null,
      "outputs": []
    },
    {
      "cell_type": "code",
      "metadata": {
        "id": "KrKVu9e1yxUI"
      },
      "source": [
        "page_number_list = ['p'+str(x) for x in list(np.arange(330,436))]"
      ],
      "execution_count": null,
      "outputs": []
    },
    {
      "cell_type": "code",
      "metadata": {
        "colab": {
          "base_uri": "https://localhost:8080/"
        },
        "id": "JqEmMEMXyxbU",
        "outputId": "57c55882-f98a-4d1f-e87f-679027ebe925"
      },
      "source": [
        "final_df_oldest = pd.DataFrame()\n",
        "for p in page_number_list:\n",
        "  wd.get('https://forums.edmunds.com/discussion/2864/general/x/entry-level-luxury-performance-sedans/p')\n",
        "\n",
        "  comments = pd.DataFrame(columns = ['Date','comments']) \n",
        "  ids = wd.find_elements_by_xpath(\"//*[contains(@id,'Comment_') and not (contains(@id,'blockquote'))]\")\n",
        "\n",
        "  comment_ids = []\n",
        "  for i in ids:\n",
        "    comment_ids.append(i.get_attribute('id'))\n",
        "\n",
        "  for x in comment_ids:\n",
        "      #Extract dates from for each user on a page\n",
        "      user_date = wd.find_elements_by_xpath('//*[@id=\"'+x+'\"]/div/div[2]/div[2]/span/a/time')[0]\n",
        "      date = user_date.get_attribute('title')\n",
        "\n",
        "      #Extract Message for each user on a page\n",
        "      user_message = wd.find_elements_by_xpath('//*[@id=\"'+x+'\"]/div/div[3]/div/div[1]')[0]\n",
        "      comment = user_message.text\n",
        "                                    \n",
        "      #Adding date, userid and comment for each user in a dataframe    \n",
        "      comments.loc[len(comments)] = [date,comment]\n",
        "    \n",
        "  final_df_oldest = pd.concat([comments,final_df_oldest])\n",
        "print(final_df_oldest.shape[0])"
      ],
      "execution_count": null,
      "outputs": [
        {
          "output_type": "stream",
          "name": "stdout",
          "text": [
            "5300\n"
          ]
        }
      ]
    },
    {
      "cell_type": "code",
      "metadata": {
        "colab": {
          "base_uri": "https://localhost:8080/",
          "height": 423
        },
        "id": "nrrOpvaH5S7E",
        "outputId": "227e70f1-df47-482e-8f90-9c37bd37fe5a"
      },
      "source": [
        "final_df_newest"
      ],
      "execution_count": null,
      "outputs": [
        {
          "output_type": "execute_result",
          "data": {
            "text/html": [
              "<div>\n",
              "<style scoped>\n",
              "    .dataframe tbody tr th:only-of-type {\n",
              "        vertical-align: middle;\n",
              "    }\n",
              "\n",
              "    .dataframe tbody tr th {\n",
              "        vertical-align: top;\n",
              "    }\n",
              "\n",
              "    .dataframe thead th {\n",
              "        text-align: right;\n",
              "    }\n",
              "</style>\n",
              "<table border=\"1\" class=\"dataframe\">\n",
              "  <thead>\n",
              "    <tr style=\"text-align: right;\">\n",
              "      <th></th>\n",
              "      <th>Date</th>\n",
              "      <th>comments</th>\n",
              "    </tr>\n",
              "  </thead>\n",
              "  <tbody>\n",
              "    <tr>\n",
              "      <th>0</th>\n",
              "      <td>March 24, 2002 10:54PM</td>\n",
              "      <td>I personally think that with a few tweaks the ...</td>\n",
              "    </tr>\n",
              "    <tr>\n",
              "      <th>1</th>\n",
              "      <td>March 25, 2002 12:06AM</td>\n",
              "      <td>I am debating a new purchase and these two are...</td>\n",
              "    </tr>\n",
              "    <tr>\n",
              "      <th>2</th>\n",
              "      <td>March 25, 2002 10:02AM</td>\n",
              "      <td>Great handling, RWD, excellent engine and the ...</td>\n",
              "    </tr>\n",
              "    <tr>\n",
              "      <th>3</th>\n",
              "      <td>March 25, 2002 4:04PM</td>\n",
              "      <td>And no manual tranny. That may not matter to y...</td>\n",
              "    </tr>\n",
              "    <tr>\n",
              "      <th>4</th>\n",
              "      <td>March 25, 2002 5:44PM</td>\n",
              "      <td>One beauty of BMW 3 Series is that there are s...</td>\n",
              "    </tr>\n",
              "    <tr>\n",
              "      <th>...</th>\n",
              "      <td>...</td>\n",
              "      <td>...</td>\n",
              "    </tr>\n",
              "    <tr>\n",
              "      <th>45</th>\n",
              "      <td>April 24, 2002 7:51AM</td>\n",
              "      <td>So, if you read through most of this group, al...</td>\n",
              "    </tr>\n",
              "    <tr>\n",
              "      <th>46</th>\n",
              "      <td>April 24, 2002 5:15PM</td>\n",
              "      <td>Have you driven them both? The S4 really moves...</td>\n",
              "    </tr>\n",
              "    <tr>\n",
              "      <th>47</th>\n",
              "      <td>April 25, 2002 12:36PM</td>\n",
              "      <td>I've tested the 3.0, not the S4. Hmmm... new S...</td>\n",
              "    </tr>\n",
              "    <tr>\n",
              "      <th>48</th>\n",
              "      <td>April 26, 2002 9:50AM</td>\n",
              "      <td>Yeah, the current S4 has 250 hp and 258 lb-ft ...</td>\n",
              "    </tr>\n",
              "    <tr>\n",
              "      <th>49</th>\n",
              "      <td>April 27, 2002 2:37PM</td>\n",
              "      <td>Not so fast. There is merit to the \"nationalit...</td>\n",
              "    </tr>\n",
              "  </tbody>\n",
              "</table>\n",
              "<p>16400 rows × 2 columns</p>\n",
              "</div>"
            ],
            "text/plain": [
              "                      Date                                           comments\n",
              "0   March 24, 2002 10:54PM  I personally think that with a few tweaks the ...\n",
              "1   March 25, 2002 12:06AM  I am debating a new purchase and these two are...\n",
              "2   March 25, 2002 10:02AM  Great handling, RWD, excellent engine and the ...\n",
              "3    March 25, 2002 4:04PM  And no manual tranny. That may not matter to y...\n",
              "4    March 25, 2002 5:44PM  One beauty of BMW 3 Series is that there are s...\n",
              "..                     ...                                                ...\n",
              "45   April 24, 2002 7:51AM  So, if you read through most of this group, al...\n",
              "46   April 24, 2002 5:15PM  Have you driven them both? The S4 really moves...\n",
              "47  April 25, 2002 12:36PM  I've tested the 3.0, not the S4. Hmmm... new S...\n",
              "48   April 26, 2002 9:50AM  Yeah, the current S4 has 250 hp and 258 lb-ft ...\n",
              "49   April 27, 2002 2:37PM  Not so fast. There is merit to the \"nationalit...\n",
              "\n",
              "[16400 rows x 2 columns]"
            ]
          },
          "metadata": {},
          "execution_count": 74
        }
      ]
    },
    {
      "cell_type": "code",
      "metadata": {
        "colab": {
          "base_uri": "https://localhost:8080/",
          "height": 423
        },
        "id": "D71__1Eo5SDh",
        "outputId": "fcd57308-8142-488f-8575-c30b449a2dd5"
      },
      "source": [
        "master_df"
      ],
      "execution_count": null,
      "outputs": [
        {
          "output_type": "execute_result",
          "data": {
            "text/html": [
              "<div>\n",
              "<style scoped>\n",
              "    .dataframe tbody tr th:only-of-type {\n",
              "        vertical-align: middle;\n",
              "    }\n",
              "\n",
              "    .dataframe tbody tr th {\n",
              "        vertical-align: top;\n",
              "    }\n",
              "\n",
              "    .dataframe thead th {\n",
              "        text-align: right;\n",
              "    }\n",
              "</style>\n",
              "<table border=\"1\" class=\"dataframe\">\n",
              "  <thead>\n",
              "    <tr style=\"text-align: right;\">\n",
              "      <th></th>\n",
              "      <th>Date</th>\n",
              "      <th>comments</th>\n",
              "    </tr>\n",
              "  </thead>\n",
              "  <tbody>\n",
              "    <tr>\n",
              "      <th>0</th>\n",
              "      <td>March 24, 2002 10:54PM</td>\n",
              "      <td>I personally think that with a few tweaks the ...</td>\n",
              "    </tr>\n",
              "    <tr>\n",
              "      <th>1</th>\n",
              "      <td>March 25, 2002 12:06AM</td>\n",
              "      <td>I am debating a new purchase and these two are...</td>\n",
              "    </tr>\n",
              "    <tr>\n",
              "      <th>2</th>\n",
              "      <td>March 25, 2002 10:02AM</td>\n",
              "      <td>Great handling, RWD, excellent engine and the ...</td>\n",
              "    </tr>\n",
              "    <tr>\n",
              "      <th>3</th>\n",
              "      <td>March 25, 2002 4:04PM</td>\n",
              "      <td>And no manual tranny. That may not matter to y...</td>\n",
              "    </tr>\n",
              "    <tr>\n",
              "      <th>4</th>\n",
              "      <td>March 25, 2002 5:44PM</td>\n",
              "      <td>One beauty of BMW 3 Series is that there are s...</td>\n",
              "    </tr>\n",
              "    <tr>\n",
              "      <th>...</th>\n",
              "      <td>...</td>\n",
              "      <td>...</td>\n",
              "    </tr>\n",
              "    <tr>\n",
              "      <th>45</th>\n",
              "      <td>April 24, 2002 7:51AM</td>\n",
              "      <td>So, if you read through most of this group, al...</td>\n",
              "    </tr>\n",
              "    <tr>\n",
              "      <th>46</th>\n",
              "      <td>April 24, 2002 5:15PM</td>\n",
              "      <td>Have you driven them both? The S4 really moves...</td>\n",
              "    </tr>\n",
              "    <tr>\n",
              "      <th>47</th>\n",
              "      <td>April 25, 2002 12:36PM</td>\n",
              "      <td>I've tested the 3.0, not the S4. Hmmm... new S...</td>\n",
              "    </tr>\n",
              "    <tr>\n",
              "      <th>48</th>\n",
              "      <td>April 26, 2002 9:50AM</td>\n",
              "      <td>Yeah, the current S4 has 250 hp and 258 lb-ft ...</td>\n",
              "    </tr>\n",
              "    <tr>\n",
              "      <th>49</th>\n",
              "      <td>April 27, 2002 2:37PM</td>\n",
              "      <td>Not so fast. There is merit to the \"nationalit...</td>\n",
              "    </tr>\n",
              "  </tbody>\n",
              "</table>\n",
              "<p>21700 rows × 2 columns</p>\n",
              "</div>"
            ],
            "text/plain": [
              "                      Date                                           comments\n",
              "0   March 24, 2002 10:54PM  I personally think that with a few tweaks the ...\n",
              "1   March 25, 2002 12:06AM  I am debating a new purchase and these two are...\n",
              "2   March 25, 2002 10:02AM  Great handling, RWD, excellent engine and the ...\n",
              "3    March 25, 2002 4:04PM  And no manual tranny. That may not matter to y...\n",
              "4    March 25, 2002 5:44PM  One beauty of BMW 3 Series is that there are s...\n",
              "..                     ...                                                ...\n",
              "45   April 24, 2002 7:51AM  So, if you read through most of this group, al...\n",
              "46   April 24, 2002 5:15PM  Have you driven them both? The S4 really moves...\n",
              "47  April 25, 2002 12:36PM  I've tested the 3.0, not the S4. Hmmm... new S...\n",
              "48   April 26, 2002 9:50AM  Yeah, the current S4 has 250 hp and 258 lb-ft ...\n",
              "49   April 27, 2002 2:37PM  Not so fast. There is merit to the \"nationalit...\n",
              "\n",
              "[21700 rows x 2 columns]"
            ]
          },
          "metadata": {},
          "execution_count": 77
        }
      ]
    },
    {
      "cell_type": "code",
      "metadata": {
        "colab": {
          "base_uri": "https://localhost:8080/",
          "height": 52
        },
        "id": "wTliJoLxzL17",
        "outputId": "2fe0d27d-0334-4596-c05e-2dc267dc7826"
      },
      "source": [
        "master_df = pd.concat([final_df_newest,final_df_oldest])\n",
        "\n",
        "master_df.to_csv(\"results.csv\")\n",
        "!ls\n",
        "from google.colab import files\n",
        "files.download(\"results.csv\")"
      ],
      "execution_count": null,
      "outputs": [
        {
          "output_type": "stream",
          "name": "stdout",
          "text": [
            "results.csv  sample_data\n"
          ]
        },
        {
          "output_type": "display_data",
          "data": {
            "application/javascript": [
              "\n",
              "    async function download(id, filename, size) {\n",
              "      if (!google.colab.kernel.accessAllowed) {\n",
              "        return;\n",
              "      }\n",
              "      const div = document.createElement('div');\n",
              "      const label = document.createElement('label');\n",
              "      label.textContent = `Downloading \"${filename}\": `;\n",
              "      div.appendChild(label);\n",
              "      const progress = document.createElement('progress');\n",
              "      progress.max = size;\n",
              "      div.appendChild(progress);\n",
              "      document.body.appendChild(div);\n",
              "\n",
              "      const buffers = [];\n",
              "      let downloaded = 0;\n",
              "\n",
              "      const channel = await google.colab.kernel.comms.open(id);\n",
              "      // Send a message to notify the kernel that we're ready.\n",
              "      channel.send({})\n",
              "\n",
              "      for await (const message of channel.messages) {\n",
              "        // Send a message to notify the kernel that we're ready.\n",
              "        channel.send({})\n",
              "        if (message.buffers) {\n",
              "          for (const buffer of message.buffers) {\n",
              "            buffers.push(buffer);\n",
              "            downloaded += buffer.byteLength;\n",
              "            progress.value = downloaded;\n",
              "          }\n",
              "        }\n",
              "      }\n",
              "      const blob = new Blob(buffers, {type: 'application/binary'});\n",
              "      const a = document.createElement('a');\n",
              "      a.href = window.URL.createObjectURL(blob);\n",
              "      a.download = filename;\n",
              "      div.appendChild(a);\n",
              "      a.click();\n",
              "      div.remove();\n",
              "    }\n",
              "  "
            ],
            "text/plain": [
              "<IPython.core.display.Javascript object>"
            ]
          },
          "metadata": {}
        },
        {
          "output_type": "display_data",
          "data": {
            "application/javascript": [
              "download(\"download_3f087b96-6d74-42a5-a5d4-0edeb9786f7e\", \"results.csv\", 13832463)"
            ],
            "text/plain": [
              "<IPython.core.display.Javascript object>"
            ]
          },
          "metadata": {}
        }
      ]
    },
    {
      "cell_type": "code",
      "metadata": {
        "id": "Wi-SuiMW5Ydy"
      },
      "source": [
        "from google.colab import files"
      ],
      "execution_count": 2,
      "outputs": []
    },
    {
      "cell_type": "code",
      "metadata": {
        "colab": {
          "resources": {
            "http://localhost:8080/nbextensions/google.colab/files.js": {
              "data": "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",
              "ok": true,
              "headers": [
                [
                  "content-type",
                  "application/javascript"
                ]
              ],
              "status": 200,
              "status_text": ""
            }
          },
          "base_uri": "https://localhost:8080/",
          "height": 73
        },
        "id": "e9-SofJjjAC5",
        "outputId": "15e38cbf-db8b-4cd7-d3fe-8dd8cc4f526e"
      },
      "source": [
        "files.upload()"
      ],
      "execution_count": 5,
      "outputs": [
        {
          "output_type": "display_data",
          "data": {
            "text/html": [
              "\n",
              "     <input type=\"file\" id=\"files-c1e7ef48-0ebd-4211-95f8-f7817fc85ae4\" name=\"files[]\" multiple disabled\n",
              "        style=\"border:none\" />\n",
              "     <output id=\"result-c1e7ef48-0ebd-4211-95f8-f7817fc85ae4\">\n",
              "      Upload widget is only available when the cell has been executed in the\n",
              "      current browser session. Please rerun this cell to enable.\n",
              "      </output>\n",
              "      <script src=\"/nbextensions/google.colab/files.js\"></script> "
            ],
            "text/plain": [
              "<IPython.core.display.HTML object>"
            ]
          },
          "metadata": {}
        },
        {
          "output_type": "stream",
          "name": "stdout",
          "text": [
            "Saving results.csv to results.csv\n"
          ]
        }
      ]
    },
    {
      "cell_type": "code",
      "metadata": {
        "id": "XY322MGAjUun"
      },
      "source": [
        "master_df = pd.read_csv('results.csv')"
      ],
      "execution_count": 10,
      "outputs": []
    },
    {
      "cell_type": "code",
      "metadata": {
        "id": "LTg9UvAbj2Mk"
      },
      "source": [
        "# Taking newest 5000 comments\n",
        "newest_df = master_df.tail(5000)"
      ],
      "execution_count": 13,
      "outputs": []
    },
    {
      "cell_type": "code",
      "metadata": {
        "colab": {
          "base_uri": "https://localhost:8080/",
          "height": 363
        },
        "id": "oYY5QzFrkICP",
        "outputId": "d77f244c-d4cb-457e-9e96-54dd71333762"
      },
      "source": [
        "newest_df.sample(10)"
      ],
      "execution_count": 14,
      "outputs": [
        {
          "output_type": "execute_result",
          "data": {
            "text/html": [
              "<div>\n",
              "<style scoped>\n",
              "    .dataframe tbody tr th:only-of-type {\n",
              "        vertical-align: middle;\n",
              "    }\n",
              "\n",
              "    .dataframe tbody tr th {\n",
              "        vertical-align: top;\n",
              "    }\n",
              "\n",
              "    .dataframe thead th {\n",
              "        text-align: right;\n",
              "    }\n",
              "</style>\n",
              "<table border=\"1\" class=\"dataframe\">\n",
              "  <thead>\n",
              "    <tr style=\"text-align: right;\">\n",
              "      <th></th>\n",
              "      <th>Unnamed: 0</th>\n",
              "      <th>Date</th>\n",
              "      <th>comments</th>\n",
              "    </tr>\n",
              "  </thead>\n",
              "  <tbody>\n",
              "    <tr>\n",
              "      <th>18957</th>\n",
              "      <td>7</td>\n",
              "      <td>March 26, 2002 2:45PM</td>\n",
              "      <td>I understand it's not about the speed. I reall...</td>\n",
              "    </tr>\n",
              "    <tr>\n",
              "      <th>19971</th>\n",
              "      <td>21</td>\n",
              "      <td>March 28, 2002 5:07PM</td>\n",
              "      <td>mbarto... As regards the \"bribes\" issue, you'v...</td>\n",
              "    </tr>\n",
              "    <tr>\n",
              "      <th>20307</th>\n",
              "      <td>7</td>\n",
              "      <td>March 26, 2002 2:45PM</td>\n",
              "      <td>I understand it's not about the speed. I reall...</td>\n",
              "    </tr>\n",
              "    <tr>\n",
              "      <th>20681</th>\n",
              "      <td>31</td>\n",
              "      <td>April 14, 2002 1:09AM</td>\n",
              "      <td>I think both are excellent(sp?) cars, however ...</td>\n",
              "    </tr>\n",
              "    <tr>\n",
              "      <th>17494</th>\n",
              "      <td>44</td>\n",
              "      <td>April 21, 2002 6:50AM</td>\n",
              "      <td>cybersol... From what I've read, the better va...</td>\n",
              "    </tr>\n",
              "    <tr>\n",
              "      <th>20553</th>\n",
              "      <td>3</td>\n",
              "      <td>March 25, 2002 4:04PM</td>\n",
              "      <td>And no manual tranny. That may not matter to y...</td>\n",
              "    </tr>\n",
              "    <tr>\n",
              "      <th>19778</th>\n",
              "      <td>28</td>\n",
              "      <td>April 9, 2002 2:43PM</td>\n",
              "      <td>Go drive one. They're a blast and for the mone...</td>\n",
              "    </tr>\n",
              "    <tr>\n",
              "      <th>19977</th>\n",
              "      <td>27</td>\n",
              "      <td>April 9, 2002 2:12PM</td>\n",
              "      <td>Sorry, I thought that I had already taken up t...</td>\n",
              "    </tr>\n",
              "    <tr>\n",
              "      <th>17530</th>\n",
              "      <td>30</td>\n",
              "      <td>April 12, 2002 7:53AM</td>\n",
              "      <td>Well I'm a Benz fan first and foremost, but th...</td>\n",
              "    </tr>\n",
              "    <tr>\n",
              "      <th>20233</th>\n",
              "      <td>33</td>\n",
              "      <td>April 17, 2002 12:37PM</td>\n",
              "      <td>There is not much to debate on this subject. I...</td>\n",
              "    </tr>\n",
              "  </tbody>\n",
              "</table>\n",
              "</div>"
            ],
            "text/plain": [
              "       Unnamed: 0  ...                                           comments\n",
              "18957           7  ...  I understand it's not about the speed. I reall...\n",
              "19971          21  ...  mbarto... As regards the \"bribes\" issue, you'v...\n",
              "20307           7  ...  I understand it's not about the speed. I reall...\n",
              "20681          31  ...  I think both are excellent(sp?) cars, however ...\n",
              "17494          44  ...  cybersol... From what I've read, the better va...\n",
              "20553           3  ...  And no manual tranny. That may not matter to y...\n",
              "19778          28  ...  Go drive one. They're a blast and for the mone...\n",
              "19977          27  ...  Sorry, I thought that I had already taken up t...\n",
              "17530          30  ...  Well I'm a Benz fan first and foremost, but th...\n",
              "20233          33  ...  There is not much to debate on this subject. I...\n",
              "\n",
              "[10 rows x 3 columns]"
            ]
          },
          "metadata": {},
          "execution_count": 14
        }
      ]
    },
    {
      "cell_type": "markdown",
      "metadata": {
        "id": "z6VxljtIkdSG"
      },
      "source": [
        "# Task A: Test Zipf's Law on the dataset"
      ]
    },
    {
      "cell_type": "code",
      "metadata": {
        "colab": {
          "base_uri": "https://localhost:8080/"
        },
        "id": "AShukjDPkjFf",
        "outputId": "df53e5ac-5c5a-45db-ae28-25ab19b1927c"
      },
      "source": [
        "import nltk\n",
        "nltk.download('punkt')"
      ],
      "execution_count": 20,
      "outputs": [
        {
          "output_type": "stream",
          "name": "stdout",
          "text": [
            "[nltk_data] Downloading package punkt to /root/nltk_data...\n",
            "[nltk_data]   Unzipping tokenizers/punkt.zip.\n"
          ]
        },
        {
          "output_type": "execute_result",
          "data": {
            "text/plain": [
              "True"
            ]
          },
          "metadata": {},
          "execution_count": 20
        }
      ]
    },
    {
      "cell_type": "code",
      "metadata": {
        "id": "l9f05welk1Ru"
      },
      "source": [
        "from collections import Counter\n",
        "p = Counter(\" \".join(newest_df['comments']).split()).most_common(100)\n",
        "rslt = pd.DataFrame(p, columns=['Word', 'Frequency'])"
      ],
      "execution_count": 22,
      "outputs": []
    },
    {
      "cell_type": "code",
      "metadata": {
        "colab": {
          "base_uri": "https://localhost:8080/",
          "height": 423
        },
        "id": "ACFijOxpm8H9",
        "outputId": "79655a67-4721-4035-9b14-5fbd1579d256"
      },
      "source": [
        "rslt"
      ],
      "execution_count": 36,
      "outputs": [
        {
          "output_type": "execute_result",
          "data": {
            "text/html": [
              "<div>\n",
              "<style scoped>\n",
              "    .dataframe tbody tr th:only-of-type {\n",
              "        vertical-align: middle;\n",
              "    }\n",
              "\n",
              "    .dataframe tbody tr th {\n",
              "        vertical-align: top;\n",
              "    }\n",
              "\n",
              "    .dataframe thead th {\n",
              "        text-align: right;\n",
              "    }\n",
              "</style>\n",
              "<table border=\"1\" class=\"dataframe\">\n",
              "  <thead>\n",
              "    <tr style=\"text-align: right;\">\n",
              "      <th></th>\n",
              "      <th>Word</th>\n",
              "      <th>Frequency</th>\n",
              "      <th>log_freq</th>\n",
              "      <th>index</th>\n",
              "      <th>log_rank</th>\n",
              "    </tr>\n",
              "  </thead>\n",
              "  <tbody>\n",
              "    <tr>\n",
              "      <th>0</th>\n",
              "      <td>the</td>\n",
              "      <td>29100</td>\n",
              "      <td>10.278493</td>\n",
              "      <td>0</td>\n",
              "      <td>-inf</td>\n",
              "    </tr>\n",
              "    <tr>\n",
              "      <th>1</th>\n",
              "      <td>to</td>\n",
              "      <td>12800</td>\n",
              "      <td>9.457200</td>\n",
              "      <td>1</td>\n",
              "      <td>0.000000</td>\n",
              "    </tr>\n",
              "    <tr>\n",
              "      <th>2</th>\n",
              "      <td>and</td>\n",
              "      <td>12300</td>\n",
              "      <td>9.417355</td>\n",
              "      <td>2</td>\n",
              "      <td>0.693147</td>\n",
              "    </tr>\n",
              "    <tr>\n",
              "      <th>3</th>\n",
              "      <td>a</td>\n",
              "      <td>12200</td>\n",
              "      <td>9.409191</td>\n",
              "      <td>3</td>\n",
              "      <td>1.098612</td>\n",
              "    </tr>\n",
              "    <tr>\n",
              "      <th>4</th>\n",
              "      <td>I</td>\n",
              "      <td>11300</td>\n",
              "      <td>9.332558</td>\n",
              "      <td>4</td>\n",
              "      <td>1.386294</td>\n",
              "    </tr>\n",
              "    <tr>\n",
              "      <th>...</th>\n",
              "      <td>...</td>\n",
              "      <td>...</td>\n",
              "      <td>...</td>\n",
              "      <td>...</td>\n",
              "      <td>...</td>\n",
              "    </tr>\n",
              "    <tr>\n",
              "      <th>95</th>\n",
              "      <td>time</td>\n",
              "      <td>800</td>\n",
              "      <td>6.684612</td>\n",
              "      <td>95</td>\n",
              "      <td>4.553877</td>\n",
              "    </tr>\n",
              "    <tr>\n",
              "      <th>96</th>\n",
              "      <td>keep</td>\n",
              "      <td>800</td>\n",
              "      <td>6.684612</td>\n",
              "      <td>96</td>\n",
              "      <td>4.564348</td>\n",
              "    </tr>\n",
              "    <tr>\n",
              "      <th>97</th>\n",
              "      <td>over</td>\n",
              "      <td>800</td>\n",
              "      <td>6.684612</td>\n",
              "      <td>97</td>\n",
              "      <td>4.574711</td>\n",
              "    </tr>\n",
              "    <tr>\n",
              "      <th>98</th>\n",
              "      <td>say</td>\n",
              "      <td>800</td>\n",
              "      <td>6.684612</td>\n",
              "      <td>98</td>\n",
              "      <td>4.584967</td>\n",
              "    </tr>\n",
              "    <tr>\n",
              "      <th>99</th>\n",
              "      <td>am</td>\n",
              "      <td>800</td>\n",
              "      <td>6.684612</td>\n",
              "      <td>99</td>\n",
              "      <td>4.595120</td>\n",
              "    </tr>\n",
              "  </tbody>\n",
              "</table>\n",
              "<p>100 rows × 5 columns</p>\n",
              "</div>"
            ],
            "text/plain": [
              "    Word  Frequency   log_freq  index  log_rank\n",
              "0    the      29100  10.278493      0      -inf\n",
              "1     to      12800   9.457200      1  0.000000\n",
              "2    and      12300   9.417355      2  0.693147\n",
              "3      a      12200   9.409191      3  1.098612\n",
              "4      I      11300   9.332558      4  1.386294\n",
              "..   ...        ...        ...    ...       ...\n",
              "95  time        800   6.684612     95  4.553877\n",
              "96  keep        800   6.684612     96  4.564348\n",
              "97  over        800   6.684612     97  4.574711\n",
              "98   say        800   6.684612     98  4.584967\n",
              "99    am        800   6.684612     99  4.595120\n",
              "\n",
              "[100 rows x 5 columns]"
            ]
          },
          "metadata": {},
          "execution_count": 36
        }
      ]
    },
    {
      "cell_type": "code",
      "metadata": {
        "id": "S8phx4Ohl6em"
      },
      "source": [
        "import matplotlib.pyplot as plt\n",
        "%matplotlib inline"
      ],
      "execution_count": 35,
      "outputs": []
    },
    {
      "cell_type": "code",
      "metadata": {
        "colab": {
          "base_uri": "https://localhost:8080/",
          "height": 297
        },
        "id": "z7HEM32nlDfK",
        "outputId": "02efb175-c48e-44d9-e60a-e7285016d71a"
      },
      "source": [
        "plt.plot(rslt.index+1,rslt['Frequency'])\n",
        "plt.xlabel('Rank of a Word')\n",
        "plt.ylabel('Frequency')"
      ],
      "execution_count": 37,
      "outputs": [
        {
          "output_type": "execute_result",
          "data": {
            "text/plain": [
              "Text(0, 0.5, 'Frequency')"
            ]
          },
          "metadata": {},
          "execution_count": 37
        },
        {
          "output_type": "display_data",
          "data": {
            "image/png": "[encoded data removed]",
            "text/plain": [
              "<Figure size 432x288 with 1 Axes>"
            ]
          },
          "metadata": {
            "needs_background": "light"
          }
        }
      ]
    },
    {
      "cell_type": "markdown",
      "metadata": {
        "id": "vqpfXOxZmY5Q"
      },
      "source": [
        "Based on the graph, we can see that rank and frequency of frequency distribution of words follow Zipf's law"
      ]
    },
    {
      "cell_type": "markdown",
      "metadata": {
        "id": "CavuAb2hnE0I"
      },
      "source": [
        "Task B: Find Top 10 Brands"
      ]
    },
    {
      "cell_type": "code",
      "metadata": {
        "colab": {
          "base_uri": "https://localhost:8080/"
        },
        "id": "k_-O7HHPmnQR",
        "outputId": "ce08ab02-77d2-4dcc-d8ae-52b100cfbd1f"
      },
      "source": [
        "# Remove stop words\n",
        "nltk.download('stopwords')"
      ],
      "execution_count": 42,
      "outputs": [
        {
          "output_type": "stream",
          "name": "stdout",
          "text": [
            "[nltk_data] Downloading package stopwords to /root/nltk_data...\n",
            "[nltk_data]   Unzipping corpora/stopwords.zip.\n"
          ]
        },
        {
          "output_type": "execute_result",
          "data": {
            "text/plain": [
              "True"
            ]
          },
          "metadata": {},
          "execution_count": 42
        }
      ]
    },
    {
      "cell_type": "code",
      "metadata": {
        "id": "jtcJ65nzohkJ"
      },
      "source": [
        "from nltk.corpus import stopwords"
      ],
      "execution_count": 46,
      "outputs": []
    },
    {
      "cell_type": "code",
      "metadata": {
        "id": "myrFtOdhnmlD"
      },
      "source": [
        "newest_df['comments'] = newest_df['comments'].apply(lambda x: x.lower())\n",
        "newest_df['word_tokens'] = newest_df['comments'].apply(lambda x: nltk.word_tokenize(x))\n",
        "\n",
        "def remove_stopwords(text):\n",
        "  return [word for word in text if word not in stopwords.words('english')]\n",
        "\n",
        "newest_df['comments_new'] = newest_df['word_tokens'].apply(remove_stopwords)"
      ],
      "execution_count": null,
      "outputs": []
    },
    {
      "cell_type": "code",
      "metadata": {
        "id": "VAq3j6AyoShu"
      },
      "source": [
        "newest_df['comments_new'] = [' '.join(x) for x in newest_df['comments_new']]"
      ],
      "execution_count": null,
      "outputs": []
    },
    {
      "cell_type": "code",
      "metadata": {
        "id": "E39VJMk-oe-p"
      },
      "source": [
        "p = Counter(\" \".join(newest_df['comments_new']).split()).most_common()\n",
        "rslt_wo_stopwords = pd.DataFrame(p, columns=['Word', 'Frequency'])"
      ],
      "execution_count": 78,
      "outputs": []
    },
    {
      "cell_type": "code",
      "metadata": {
        "colab": {
          "resources": {
            "http://localhost:8080/nbextensions/google.colab/files.js": {
              "data": "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",
              "ok": true,
              "headers": [
                [
                  "content-type",
                  "application/javascript"
                ]
              ],
              "status": 200,
              "status_text": ""
            }
          },
          "base_uri": "https://localhost:8080/",
          "height": 111
        },
        "id": "TWx9-yNsrjLb",
        "outputId": "5e56afde-b04d-4919-b901-273c70c10bb7"
      },
      "source": [
        "files.upload()"
      ],
      "execution_count": 71,
      "outputs": [
        {
          "output_type": "display_data",
          "data": {
            "text/html": [
              "\n",
              "     <input type=\"file\" id=\"files-66a6a3d1-24a4-4440-96ff-d6296a875a42\" name=\"files[]\" multiple disabled\n",
              "        style=\"border:none\" />\n",
              "     <output id=\"result-66a6a3d1-24a4-4440-96ff-d6296a875a42\">\n",
              "      Upload widget is only available when the cell has been executed in the\n",
              "      current browser session. Please rerun this cell to enable.\n",
              "      </output>\n",
              "      <script src=\"/nbextensions/google.colab/files.js\"></script> "
            ],
            "text/plain": [
              "<IPython.core.display.HTML object>"
            ]
          },
          "metadata": {}
        },
        {
          "output_type": "stream",
          "name": "stdout",
          "text": [
            "Saving car models and brands.csv to car models and brands.csv\n"
          ]
        },
        {
          "output_type": "execute_result",
          "data": {
            "text/plain": [
              "{'car models and brands.csv': b'Brand,Model\\r\\nacura,integra\\r\\nacura,legend\\r\\nacura,vigor\\r\\nacura,rlx\\r\\nacura,ilx\\r\\nacura,mdx\\r\\nacura,rdx\\r\\nacura,tsx\\r\\nacura,rsx\\r\\naudi,quattro\\r\\naudi,a4\\r\\naudi,a6\\r\\naudi,a5\\r\\naudi,a7\\r\\naudi,q3\\r\\naudi,q5\\r\\naudi,q7\\r\\naudi,a8\\r\\naudi,a3\\r\\nbmw,3-series\\r\\nbmw,5-series\\r\\nbmw,6-series\\r\\nbmw,4-series\\r\\nbmw,xdrive\\r\\nbmw,alpina\\r\\nbmw,330ci\\r\\nbmw,328i\\r\\nbmw,330c\\r\\nbmw,335i\\r\\nbmw,335d\\r\\nbmw,528i\\r\\nbmw,535i\\r\\nbmw,128i\\r\\nbmw,640i\\r\\nbmw,3er\\r\\nbmw,5er\\r\\nbmw,m5\\r\\nbmw,m3\\r\\nbmw,m6\\r\\nbmw,bmws\\r\\nbmw,bmwesque\\r\\nbuick,park avenue\\r\\nbuick,la crosse\\r\\nbuick,lacrosse\\r\\nbuick,century\\r\\nbuick,enclave\\r\\nbuick,encore\\r\\nbuick,regal\\r\\nbuick,buicks\\r\\ncadillac,escalade\\r\\ncadillac,srx\\r\\ncadillac,xts\\r\\ncar,cars\\r\\nchevrolet,grand blazer\\r\\nchevrolet,trailblazer\\r\\nchevrolet,trailblazer\\r\\nchevrolet,silverado\\r\\nchevrolet,colorado\\r\\nchevrolet,corvette\\r\\nchevrolet,suburban\\r\\nchevrolet,cavalier\\r\\nchevrolet,caprice\\r\\nchevrolet,captiva\\r\\nchevrolet,equinox\\r\\nchevrolet,express\\r\\nchevrolet,lacetti\\r\\nchevrolet,montana\\r\\nchevrolet,uplander\\r\\nchevrolet,orlando\\r\\nchevrolet,tornado\\r\\nchevrolet,tracker\\r\\nchevrolet,traverse\\r\\nchevrolet,caprice\\r\\nchevrolet,captiva\\r\\nchevrolet,equinox\\r\\nchevrolet,express\\r\\nchevrolet,camaro\\r\\nchevrolet,cobalt\\r\\nchevrolet,impala\\r\\nchevrolet,lumina\\r\\nchevrolet,malibu\\r\\nchevrolet,prisma\\r\\nchevrolet,tavera\\r\\nchevrolet,camaro\\r\\nchevrolet,cobalt\\r\\nchevrolet,impala\\r\\nchevrolet,lumina\\r\\nchevrolet,malibu\\r\\nchevrolet,tavera\\r\\nchevrolet,agile\\r\\nchevrolet,celta\\r\\nchevrolet,cruze\\r\\nchevrolet,lanos\\r\\nchevrolet,omega\\r\\nchevrolet,optra\\r\\nchevrolet,sonic\\r\\nchevrolet,spark\\r\\nchevrolet,tahoe\\r\\nchevrolet,agile\\r\\nchevrolet,cruze\\r\\nchevrolet,sonic\\r\\nchevrolet,spark\\r\\nchevrolet,aveo\\r\\nchevrolet,lova\\r\\nchevrolet,n200\\r\\nchevrolet,niva\\r\\nchevrolet,onix\\r\\nchevrolet,s-10\\r\\nchevrolet,sail\\r\\nchevrolet,volt\\r\\nchevrolet,aveo\\r\\nchevrolet,volt\\r\\nchevrolet,chevy\\r\\nchevrolet,malibus\\r\\nchevrolet,suburban\\r\\nchevrolet,corvette\\r\\nchrysler,town and country\\r\\nchrysler,chrysler 300\\r\\nchrysler,chrysler 200\\r\\nchrysler,pacifica\\r\\nchrysler,cruiser\\r\\nchrysler,sebring\\r\\nchrysler,300m\\r\\nchrysler,lx\\r\\nchrysler,chryslers\\r\\ndodge,challenger\\r\\ndodge,intrepid\\r\\ndodge,avenger\\r\\ndodge,charger\\r\\ndodge,durango\\r\\ndodge,journey\\r\\ndodge,caliber\\r\\ndodge,stealth\\r\\ndodge,magnum\\r\\ndodge,viper\\r\\ndodge,dart\\r\\ndodge,ram\\r\\nford,crownvictoria\\r\\nford,expedition\\r\\nford,supervan\\r\\nford,freestar\\r\\nford,explorer\\r\\nford,mustang\\r\\nford,ecoline\\r\\nford,tourneo\\r\\nford,everest\\r\\nford,fiesta\\r\\nford,fusion\\r\\nford,taurus\\r\\nford,galaxy\\r\\nford,escape\\r\\nford,focus\\r\\nford,f-150\\r\\nford,c-max\\r\\nford,s-max\\r\\nford,kuga\\r\\nford,cmax\\r\\nford,f150\\r\\nford,fords\\r\\nford,fusions\\r\\nford,fusionmilan\\r\\nhonda,crosstour\\r\\nhonda,ridgeline\\r\\nhonda,inspire\\r\\nhonda,mobilio\\r\\nhonda,prelude\\r\\nhonda,shuttle\\r\\nhonda,spirior\\r\\nhonda,stepwgn\\r\\nhonda,crider\\r\\nhonda,insight\\r\\nhonda,legend\\r\\nhonda,odyssey\\r\\nhonda,stream\\r\\nhonda,amaze\\r\\nhonda,hobio\\r\\nhonda,n-box\\r\\nhonda,n-one\\r\\nhonda,n-wgn\\r\\nhonda,pilot\\r\\nhonda,vamos\\r\\nhonda,vezel\\r\\nhonda,spike\\r\\nhonda,acty\\r\\nhonda,brio\\r\\nhonda,city\\r\\nhonda,civic\\r\\nhonda,cr-v\\r\\nhonda,freed\\r\\nhonda,jade\\r\\nhonda,zest\\r\\nhonda,aria\\r\\nhonda,ex-l\\r\\nhonda,cr-z\\r\\nhonda,jazz\\r\\nhonda,nsx\\r\\nhonda,nbox\\r\\nhonda,exl\\r\\nhonda,fcx\\r\\nhonda,5dr\\r\\nhonda,crv\\r\\nhonda,pilot\\r\\nhonda,accord\\r\\nhonda,hondas\\r\\nhonda,accords\\r\\nhonda,odessey\\r\\nhonda,crosstour\\r\\nhyndai kia,hyundaikia\\r\\nhyundai,centennial\\r\\nhyundai,grandeur\\r\\nhyundai,veloster\\r\\nhyundai,elantra\\r\\nhyundai,genesis\\r\\nhyundai,tiburon\\r\\nhyundai,tuscani\\r\\nhyundai,dynasty\\r\\nhyundai,santamo\\r\\nhyundai,stellar\\r\\nhyundai,accent\\r\\nhyundai,lantra\\r\\nhyundai,avante\\r\\nhyundai,santro\\r\\nhyundai,sonata\\r\\nhyundai,scoupe\\r\\nhyundai,matrix\\r\\nhyundai,lavity\\r\\nhyundai,verna\\r\\nhyundai,equus\\r\\nhyundai,azera\\r\\nhyundai,xcent\\r\\nhyundai,click\\r\\nhyundai,atos\\r\\nhyundai,atoz\\r\\nhyundai,ix20\\r\\nhyundai,getz\\r\\nhyundai,pony\\r\\nhyundai,i10\\r\\nhyundai,i20\\r\\nhyundai,i30\\r\\nhyundai,i40\\r\\nhyundai,i45\\r\\nhyundai,xg\\r\\nhyundai,santa\\r\\nhyundai,sonatas\\r\\nhyundai,hyundais\\r\\nhyundai,veracruz\\r\\n\"hyundai,\",\"excel,\"\\r\\nhyundai.,excel.\\r\\ninfiniti,qx50\\r\\ninfiniti,qx60\\r\\ninfiniti,qx70\\r\\ninfiniti,fx35\\r\\ninfiniti,q50\\r\\ninfiniti,q60\\r\\ninfiniti,q70\\r\\ninfiniti,g37\\r\\ninfiniti,g25\\r\\ninfiniti,6mt\\r\\nkia,cadenza\\r\\nkia,sorento\\r\\nkia,sedona\\r\\nkia,forte\\r\\nkia,koup\\r\\nkia,k900\\r\\nkia,kias\\r\\nkia,optima\\r\\n\"kia,\",optima\\r\\nkia.,optima\\r\\nlincoln,navigator\\r\\nlincoln,town car\\r\\nlincoln,zephyr\\r\\nlincoln,mkz\\r\\nlincoln,mks\\r\\nlincoln,mkx\\r\\nlincoln,mkc\\r\\nlincoln,mkt\\r\\nmazda,az-offroad\\r\\nmazda,az-wagon\\r\\nmazda,familia\\r\\nmazda,premacy\\r\\nmazda,biante\\r\\nmazda,carol\\r\\nmazda,scrum\\r\\nmazda,mazda2\\r\\nmazda,mazda3\\r\\nmazda,mazda5\\r\\nmazda,atenza\\r\\nmazda,mazda6\\r\\nmazda,mazda8\\r\\nmazda,bongo\\r\\nmazda,demio\\r\\nmazda,axela\\r\\nmazda,rx-8\\r\\nmazda,cx-7\\r\\nmazda,bt-50\\r\\nmazda,rx-8\\r\\nmazda,mx-5\\r\\nmazda,cx-5\\r\\nmazda,cx-9\\r\\nmazda,6i\\r\\nmazda,cx9\\r\\nmazda,cx5\\r\\nmazda,rx8\\r\\nmazda,mazdas\\r\\nmazda,mazda6s\\r\\nmazda,mazda6i\\r\\nmercedes,mercedes-benz\\r\\nmercedes,benz\\r\\nmercedes,cl-class\\r\\nmercedes,c-class\\r\\nmercedes,e-class\\r\\nmercedes,s-class\\r\\nmercedes,mercedesbenz\\r\\nmercedes benz,mercedes\\r\\nmercedes-benz,mercedes\\r\\nmercury,milan\\r\\nmercury,mercury\\r\\nmitsubishi,galant\\r\\nmitsubishi,lancer\\r\\nnissan,pathfinder\\r\\nnissan,frontier\\r\\nnissan,sentra\\r\\nnissan,altima\\r\\nnissan,maxima\\r\\nnissan,murano\\r\\nnissan,armada\\r\\nnissan,xterra\\r\\nnissan,versa\\r\\nnissan,rogue\\r\\nnissan,titan\\r\\nnissan,cube\\r\\nnissan,juke\\r\\nnissan,leaf\\r\\nnissan,370z\\r\\nnissan,altimas\\r\\nnissan,nissans\\r\\nnissan.,quest.\\r\\nnissan.,\"quest,\"\\r\\npontiac,streamliner\\r\\npontiac,grand prix\\r\\npontiac,grand am\\r\\npontiac,sunfire\\r\\npontiac,torpedo\\r\\npontiac,aztek\\r\\npontiac,vibe\\r\\npontiac,wave\\r\\npontiac,vibe\\r\\npontiac,gxp\\r\\npontiac,gto\\r\\npontiac,g6\\r\\npontiac,g3\\r\\npontiac,g4\\r\\npontiac,g5\\r\\npontiac,g6\\r\\npontiac,g8\\r\\nproblem,problems\\r\\nsaturn,aura\\r\\nseat,seats\\r\\nsedan,sedans\\r\\nsubaru,outback sport\\r\\nsubaru,grand wagon\\r\\nsubaru,impreza xv\\r\\nsubaru,crosstrek\\r\\nsubaru,lancaster\\r\\nsubaru,forester\\r\\nsubaru,impreza\\r\\nsubaru,tribeca\\r\\nsubaru,liberty\\r\\nsubaru,outback\\r\\nsubaru,gravel\\r\\nsubaru,legacy\\r\\nsubaru,sambar\\r\\nsubaru,stella\\r\\nsubaru,exiga\\r\\nsubaru,pleo\\r\\nsubaru,brz\\r\\nsubaru,wrx\\r\\nsubaru,dex\\r\\nsubaru,r1\\r\\nsubaru,r2\\r\\nsuzuki,every landy\\r\\nsuzuki,cappuccino\\r\\nsuzuki,mighty boy\\r\\nsuzuki,geo metro\\r\\nsuzuki,mr wagon\\r\\nsuzuki,palette\\r\\nsuzuki,wagon r\\r\\nsuzuki,kizashi\\r\\nsuzuki,equator\\r\\nsuzuki,splash\\r\\nsuzuki,ertiga\\r\\nsuzuki,cultus\\r\\nsuzuki,esteem\\r\\nsuzuki,fronte\\r\\nsuzuki,escudo\\r\\nsuzuki,lapin\\r\\nsuzuki,solio\\r\\nsuzuki,swift\\r\\nsuzuki,landy\\r\\nsuzuki,jimny\\r\\nsuzuki,aerio\\r\\nsuzuki,liana\\r\\nsuzuki,cervo\\r\\nsuzuki,forsa\\r\\nsuzuki,ignis\\r\\nsuzuki,x-90\\r\\nsuzuki,xl7\\r\\nsuzuki,sx4\\r\\nsuzuki,apv\\r\\ntoyata,camrybest\\r\\ntoyota,corolla/sprinter\\r\\ntoyota,urban cruiser\\r\\ntoyota,land cruiser\\r\\ntoyota,highlander\\r\\ntoyota,fj cruiser\\r\\ntoyota,hilux surf\\r\\ntoyota,fortuner\\r\\ntoyota,stallion\\r\\ntoyota,vanguard\\r\\ntoyota,4runner\\r\\ntoyota,alphard\\r\\ntoyota,avensis\\r\\ntoyota,century\\r\\ntoyota,coaster\\r\\ntoyota,comfort\\r\\ntoyota,granvia\\r\\ntoyota,liteace\\r\\ntoyota,scepter\\r\\ntoyota,sequoia\\r\\ntoyota,succeed\\r\\ntoyota,townace\\r\\ntoyota,toyoace\\r\\ntoyota,venture\\r\\ntoyota,allion\\r\\ntoyota,aurion\\r\\ntoyota,avalon\\r\\ntoyota,avanza\\r\\ntoyota,condor\\r\\ntoyota,fiedler\\r\\ntoyota,majesta\\r\\ntoyota,estima\\r\\ntoyota,hiclass\\r\\ntoyota,innova\\r\\ntoyota,kijang\\r\\ntoyota,kingdom\\r\\ntoyota,kluger\\r\\ntoyota,matrix\\r\\ntoyota,miniace\\r\\ntoyota,picnic\\r\\ntoyota,premio\\r\\ntoyota,probox\\r\\ntoyota,qualis\\r\\ntoyota,ractis\\r\\ntoyota,sienna\\r\\ntoyota,sienta\\r\\ntoyota,sparky\\r\\ntoyota,tacoma\\r\\ntoyota,tamaraw\\r\\ntoyota,tarago\\r\\ntoyota,tundra\\r\\ntoyota,vienta\\r\\ntoyota,auris\\r\\ntoyota,belta\\r\\ntoyota,camry\\r\\ntoyota,carri\\r\\ntoyota,rumion\\r\\ntoyota,etios\\r\\ntoyota,hilux\\r\\ntoyota,hiace\\r\\ntoyota,mark x\\r\\ntoyota,passo\\r\\ntoyota,porte\\r\\ntoyota,prius\\r\\ntoyota,sofia\\r\\ntoyota,tiara\\r\\ntoyota,venza\\r\\ntoyota,verso\\r\\ntoyota,yaris\\r\\ntoyota,zelas\\r\\ntoyota,aygo\\r\\ntoyota,cami\\r\\ntoyota,dyna\\r\\ntoyota,isis\\r\\ntoyota,nadia\\r\\ntoyota,noah\\r\\ntoyota,raum\\r\\ntoyota,rav4\\r\\ntoyota,reiz\\r\\ntoyota,vios\\r\\ntoyota,voxy\\r\\ntoyota,platz\\r\\ntoyota,axio\\r\\ntoyota,ist\\r\\ntoyota,sai\\r\\ntoyota,vitz\\r\\ntoyota,echo\\r\\ntoyota,bb\\r\\ntoyota,iq\\r\\ntoyota,zio\\r\\ntoyota,camry\\r\\ntoyota,prius\\r\\ntoyota,venza\\r\\ntoyota,camrys\\r\\ntoyota,avalon\\r\\ntoyota,solara\\r\\ntoyota,corolla\\r\\ntoyota,toyotas\\r\\ntoyota,highlander\\r\\nvolkswagen,sportwagen\\r\\nvolkswagen,touraeg\\r\\nvolkswagen,passat\\r\\nvolkswagen,tiguan\\r\\nvolkswagen,beetle\\r\\nvolkswagen,rabbit\\r\\nvolkswagen,jetta\\r\\nvolkswagen,golf\\r\\nvolkswagen,gti\\r\\nvolkswagen,eos\\r\\nvolkswagen,volkwagen\\r\\nvolkswagen,vw\\r\\nvolkswagen,vws\\r\\nvolkswagen,passats\\r\\nvolkwagen,passat\\r\\nvolvo,xc60\\r\\nvolvo,xc70\\r\\nvolvo,xc90\\r\\nvolvo,s60\\r\\nvolvo,s80\\r\\nvolvo,v60\\r\\nvolvo,c70\\r\\n'}"
            ]
          },
          "metadata": {},
          "execution_count": 71
        }
      ]
    },
    {
      "cell_type": "code",
      "metadata": {
        "id": "L3dLgm7Hrpp0"
      },
      "source": [
        "car_models = pd.read_csv('car models and brands.csv')"
      ],
      "execution_count": 72,
      "outputs": []
    },
    {
      "cell_type": "code",
      "metadata": {
        "colab": {
          "base_uri": "https://localhost:8080/",
          "height": 351
        },
        "id": "D984BxDisJpD",
        "outputId": "f93f3b58-91cf-4c82-8fc3-34f179df5f0a"
      },
      "source": [
        "top_10models = rslt_wo_stopwords[rslt_wo_stopwords['Word'].isin(car_models['Model'].unique())][:10]\n",
        "top_10_brands = pd.merge(top_10models,car_models,left_on='Word',right_on=['Model'])[:10]\n",
        "plt.bar(top_10_brands['Brand'],top_10_brands['Frequency'])\n",
        "plt.xticks(rotation='90')"
      ],
      "execution_count": 99,
      "outputs": [
        {
          "output_type": "execute_result",
          "data": {
            "text/plain": [
              "([0, 1, 2, 3, 4, 5, 6, 7], <a list of 8 Text major ticklabel objects>)"
            ]
          },
          "metadata": {},
          "execution_count": 99
        },
        {
          "output_type": "display_data",
          "data": {
            "image/png": "[encoded data removed]",
            "text/plain": [
              "<Figure size 432x288 with 1 Axes>"
            ]
          },
          "metadata": {
            "needs_background": "light"
          }
        }
      ]
    },
    {
      "cell_type": "code",
      "metadata": {
        "id": "FTUo1Aeyp82G"
      },
      "source": [
        ""
      ],
      "execution_count": null,
      "outputs": []
    }
  ]
}