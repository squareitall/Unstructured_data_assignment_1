{
  "nbformat": 4,
  "nbformat_minor": 0,
  "metadata": {
    "colab": {
      "name": "Unstructured Data - Assignment 1 - V2.ipynb",
      "provenance": [],
      "collapsed_sections": []
    },
    "kernelspec": {
      "name": "python3",
      "display_name": "Python 3"
    },
    "language_info": {
      "name": "python"
    }
  },
  "cells": [
    {
      "cell_type": "code",
      "metadata": {
        "colab": {
          "base_uri": "https://localhost:8080/"
        },
        "id": "nfGuTlQKnNkK",
        "outputId": "5814560b-8435-49b1-e45d-89457bf57398"
      },
      "source": [
        "!pip install selenium\n",
        "!pip install nltk\n",
        "!apt-get -q update  \n",
        "!apt install -yq chromium-chromedriver \n",
        "!cp /usr/lib/chromium-browser/chromedriver /usr/bin\n",
        "\n",
        "import sys\n",
        "sys.path.insert(0,'/usr/lib/chromium-browser/chromedriver')\n",
        "from selenium import webdriver \n",
        "chrome_options = webdriver.ChromeOptions()\n",
        "chrome_options.add_argument('--headless')\n",
        "chrome_options.add_argument('--no-sandbox')\n",
        "chrome_options.add_argument('--disable-dev-shm-usage')"
      ],
      "execution_count": 1,
      "outputs": [
        {
          "output_type": "stream",
          "name": "stdout",
          "text": [
            "Collecting selenium\n",
            "  Downloading selenium-3.141.0-py2.py3-none-any.whl (904 kB)\n",
            "\u001b[?25l\r\u001b[K     |▍                               | 10 kB 15.4 MB/s eta 0:00:01\r\u001b[K     |▊                               | 20 kB 9.8 MB/s eta 0:00:01\r\u001b[K     |█                               | 30 kB 7.4 MB/s eta 0:00:01\r\u001b[K     |█▌                              | 40 kB 7.7 MB/s eta 0:00:01\r\u001b[K     |█▉                              | 51 kB 6.8 MB/s eta 0:00:01\r\u001b[K     |██▏                             | 61 kB 7.4 MB/s eta 0:00:01\r\u001b[K     |██▌                             | 71 kB 8.3 MB/s eta 0:00:01\r\u001b[K     |███                             | 81 kB 7.5 MB/s eta 0:00:01\r\u001b[K     |███▎                            | 92 kB 8.2 MB/s eta 0:00:01\r\u001b[K     |███▋                            | 102 kB 8.3 MB/s eta 0:00:01\r\u001b[K     |████                            | 112 kB 8.3 MB/s eta 0:00:01\r\u001b[K     |████▍                           | 122 kB 8.3 MB/s eta 0:00:01\r\u001b[K     |████▊                           | 133 kB 8.3 MB/s eta 0:00:01\r\u001b[K     |█████                           | 143 kB 8.3 MB/s eta 0:00:01\r\u001b[K     |█████▍                          | 153 kB 8.3 MB/s eta 0:00:01\r\u001b[K     |█████▉                          | 163 kB 8.3 MB/s eta 0:00:01\r\u001b[K     |██████▏                         | 174 kB 8.3 MB/s eta 0:00:01\r\u001b[K     |██████▌                         | 184 kB 8.3 MB/s eta 0:00:01\r\u001b[K     |██████▉                         | 194 kB 8.3 MB/s eta 0:00:01\r\u001b[K     |███████▎                        | 204 kB 8.3 MB/s eta 0:00:01\r\u001b[K     |███████▋                        | 215 kB 8.3 MB/s eta 0:00:01\r\u001b[K     |████████                        | 225 kB 8.3 MB/s eta 0:00:01\r\u001b[K     |████████▎                       | 235 kB 8.3 MB/s eta 0:00:01\r\u001b[K     |████████▊                       | 245 kB 8.3 MB/s eta 0:00:01\r\u001b[K     |█████████                       | 256 kB 8.3 MB/s eta 0:00:01\r\u001b[K     |█████████▍                      | 266 kB 8.3 MB/s eta 0:00:01\r\u001b[K     |█████████▉                      | 276 kB 8.3 MB/s eta 0:00:01\r\u001b[K     |██████████▏                     | 286 kB 8.3 MB/s eta 0:00:01\r\u001b[K     |██████████▌                     | 296 kB 8.3 MB/s eta 0:00:01\r\u001b[K     |██████████▉                     | 307 kB 8.3 MB/s eta 0:00:01\r\u001b[K     |███████████▎                    | 317 kB 8.3 MB/s eta 0:00:01\r\u001b[K     |███████████▋                    | 327 kB 8.3 MB/s eta 0:00:01\r\u001b[K     |████████████                    | 337 kB 8.3 MB/s eta 0:00:01\r\u001b[K     |████████████▎                   | 348 kB 8.3 MB/s eta 0:00:01\r\u001b[K     |████████████▊                   | 358 kB 8.3 MB/s eta 0:00:01\r\u001b[K     |█████████████                   | 368 kB 8.3 MB/s eta 0:00:01\r\u001b[K     |█████████████▍                  | 378 kB 8.3 MB/s eta 0:00:01\r\u001b[K     |█████████████▊                  | 389 kB 8.3 MB/s eta 0:00:01\r\u001b[K     |██████████████▏                 | 399 kB 8.3 MB/s eta 0:00:01\r\u001b[K     |██████████████▌                 | 409 kB 8.3 MB/s eta 0:00:01\r\u001b[K     |██████████████▉                 | 419 kB 8.3 MB/s eta 0:00:01\r\u001b[K     |███████████████▏                | 430 kB 8.3 MB/s eta 0:00:01\r\u001b[K     |███████████████▋                | 440 kB 8.3 MB/s eta 0:00:01\r\u001b[K     |████████████████                | 450 kB 8.3 MB/s eta 0:00:01\r\u001b[K     |████████████████▎               | 460 kB 8.3 MB/s eta 0:00:01\r\u001b[K     |████████████████▋               | 471 kB 8.3 MB/s eta 0:00:01\r\u001b[K     |█████████████████               | 481 kB 8.3 MB/s eta 0:00:01\r\u001b[K     |█████████████████▍              | 491 kB 8.3 MB/s eta 0:00:01\r\u001b[K     |█████████████████▊              | 501 kB 8.3 MB/s eta 0:00:01\r\u001b[K     |██████████████████▏             | 512 kB 8.3 MB/s eta 0:00:01\r\u001b[K     |██████████████████▌             | 522 kB 8.3 MB/s eta 0:00:01\r\u001b[K     |██████████████████▉             | 532 kB 8.3 MB/s eta 0:00:01\r\u001b[K     |███████████████████▏            | 542 kB 8.3 MB/s eta 0:00:01\r\u001b[K     |███████████████████▋            | 552 kB 8.3 MB/s eta 0:00:01\r\u001b[K     |████████████████████            | 563 kB 8.3 MB/s eta 0:00:01\r\u001b[K     |████████████████████▎           | 573 kB 8.3 MB/s eta 0:00:01\r\u001b[K     |████████████████████▋           | 583 kB 8.3 MB/s eta 0:00:01\r\u001b[K     |█████████████████████           | 593 kB 8.3 MB/s eta 0:00:01\r\u001b[K     |█████████████████████▍          | 604 kB 8.3 MB/s eta 0:00:01\r\u001b[K     |█████████████████████▊          | 614 kB 8.3 MB/s eta 0:00:01\r\u001b[K     |██████████████████████          | 624 kB 8.3 MB/s eta 0:00:01\r\u001b[K     |██████████████████████▌         | 634 kB 8.3 MB/s eta 0:00:01\r\u001b[K     |██████████████████████▉         | 645 kB 8.3 MB/s eta 0:00:01\r\u001b[K     |███████████████████████▏        | 655 kB 8.3 MB/s eta 0:00:01\r\u001b[K     |███████████████████████▌        | 665 kB 8.3 MB/s eta 0:00:01\r\u001b[K     |████████████████████████        | 675 kB 8.3 MB/s eta 0:00:01\r\u001b[K     |████████████████████████▎       | 686 kB 8.3 MB/s eta 0:00:01\r\u001b[K     |████████████████████████▋       | 696 kB 8.3 MB/s eta 0:00:01\r\u001b[K     |█████████████████████████       | 706 kB 8.3 MB/s eta 0:00:01\r\u001b[K     |█████████████████████████▍      | 716 kB 8.3 MB/s eta 0:00:01\r\u001b[K     |█████████████████████████▊      | 727 kB 8.3 MB/s eta 0:00:01\r\u001b[K     |██████████████████████████      | 737 kB 8.3 MB/s eta 0:00:01\r\u001b[K     |██████████████████████████▍     | 747 kB 8.3 MB/s eta 0:00:01\r\u001b[K     |██████████████████████████▉     | 757 kB 8.3 MB/s eta 0:00:01\r\u001b[K     |███████████████████████████▏    | 768 kB 8.3 MB/s eta 0:00:01\r\u001b[K     |███████████████████████████▌    | 778 kB 8.3 MB/s eta 0:00:01\r\u001b[K     |████████████████████████████    | 788 kB 8.3 MB/s eta 0:00:01\r\u001b[K     |████████████████████████████▎   | 798 kB 8.3 MB/s eta 0:00:01\r\u001b[K     |████████████████████████████▋   | 808 kB 8.3 MB/s eta 0:00:01\r\u001b[K     |█████████████████████████████   | 819 kB 8.3 MB/s eta 0:00:01\r\u001b[K     |█████████████████████████████▍  | 829 kB 8.3 MB/s eta 0:00:01\r\u001b[K     |█████████████████████████████▊  | 839 kB 8.3 MB/s eta 0:00:01\r\u001b[K     |██████████████████████████████  | 849 kB 8.3 MB/s eta 0:00:01\r\u001b[K     |██████████████████████████████▍ | 860 kB 8.3 MB/s eta 0:00:01\r\u001b[K     |██████████████████████████████▉ | 870 kB 8.3 MB/s eta 0:00:01\r\u001b[K     |███████████████████████████████▏| 880 kB 8.3 MB/s eta 0:00:01\r\u001b[K     |███████████████████████████████▌| 890 kB 8.3 MB/s eta 0:00:01\r\u001b[K     |███████████████████████████████▉| 901 kB 8.3 MB/s eta 0:00:01\r\u001b[K     |████████████████████████████████| 904 kB 8.3 MB/s \n",
            "\u001b[?25hRequirement already satisfied: urllib3 in /usr/local/lib/python3.7/dist-packages (from selenium) (1.24.3)\n",
            "Installing collected packages: selenium\n",
            "Successfully installed selenium-3.141.0\n",
            "Requirement already satisfied: nltk in /usr/local/lib/python3.7/dist-packages (3.2.5)\n",
            "Requirement already satisfied: six in /usr/local/lib/python3.7/dist-packages (from nltk) (1.15.0)\n",
            "Get:1 https://cloud.r-project.org/bin/linux/ubuntu bionic-cran40/ InRelease [3,626 B]\n",
            "Ign:2 https://developer.download.nvidia.com/compute/cuda/repos/ubuntu1804/x86_64  InRelease\n",
            "Get:3 http://security.ubuntu.com/ubuntu bionic-security InRelease [88.7 kB]\n",
            "Ign:4 https://developer.download.nvidia.com/compute/machine-learning/repos/ubuntu1804/x86_64  InRelease\n",
            "Hit:5 https://developer.download.nvidia.com/compute/cuda/repos/ubuntu1804/x86_64  Release\n",
            "Hit:6 https://developer.download.nvidia.com/compute/machine-learning/repos/ubuntu1804/x86_64  Release\n",
            "Hit:7 http://archive.ubuntu.com/ubuntu bionic InRelease\n",
            "Get:8 http://ppa.launchpad.net/c2d4u.team/c2d4u4.0+/ubuntu bionic InRelease [15.9 kB]\n",
            "Get:9 http://archive.ubuntu.com/ubuntu bionic-updates InRelease [88.7 kB]\n",
            "Hit:11 http://ppa.launchpad.net/cran/libgit2/ubuntu bionic InRelease\n",
            "Get:13 http://archive.ubuntu.com/ubuntu bionic-backports InRelease [74.6 kB]\n",
            "Hit:14 http://ppa.launchpad.net/deadsnakes/ppa/ubuntu bionic InRelease\n",
            "Hit:15 http://ppa.launchpad.net/graphics-drivers/ppa/ubuntu bionic InRelease\n",
            "Get:16 http://security.ubuntu.com/ubuntu bionic-security/universe amd64 Packages [1,428 kB]\n",
            "Get:17 http://security.ubuntu.com/ubuntu bionic-security/main amd64 Packages [2,326 kB]\n",
            "Get:18 http://ppa.launchpad.net/c2d4u.team/c2d4u4.0+/ubuntu bionic/main Sources [1,799 kB]\n",
            "Get:19 http://archive.ubuntu.com/ubuntu bionic-updates/universe amd64 Packages [2,202 kB]\n",
            "Get:20 http://ppa.launchpad.net/c2d4u.team/c2d4u4.0+/ubuntu bionic/main amd64 Packages [921 kB]\n",
            "Get:21 http://archive.ubuntu.com/ubuntu bionic-updates/main amd64 Packages [2,761 kB]\n",
            "Fetched 11.7 MB in 4s (2,939 kB/s)\n",
            "Reading package lists...\n",
            "Reading package lists...\n",
            "Building dependency tree...\n",
            "Reading state information...\n",
            "The following additional packages will be installed:\n",
            "  chromium-browser chromium-browser-l10n chromium-codecs-ffmpeg-extra\n",
            "Suggested packages:\n",
            "  webaccounts-chromium-extension unity-chromium-extension\n",
            "The following NEW packages will be installed:\n",
            "  chromium-browser chromium-browser-l10n chromium-chromedriver\n",
            "  chromium-codecs-ffmpeg-extra\n",
            "0 upgraded, 4 newly installed, 0 to remove and 52 not upgraded.\n",
            "Need to get 91.8 MB of archives.\n",
            "After this operation, 315 MB of additional disk space will be used.\n",
            "Get:1 http://archive.ubuntu.com/ubuntu bionic-updates/universe amd64 chromium-codecs-ffmpeg-extra amd64 92.0.4515.159-0ubuntu0.18.04.1 [1,124 kB]\n",
            "Get:2 http://archive.ubuntu.com/ubuntu bionic-updates/universe amd64 chromium-browser amd64 92.0.4515.159-0ubuntu0.18.04.1 [81.7 MB]\n",
            "Get:3 http://archive.ubuntu.com/ubuntu bionic-updates/universe amd64 chromium-browser-l10n all 92.0.4515.159-0ubuntu0.18.04.1 [4,026 kB]\n",
            "Get:4 http://archive.ubuntu.com/ubuntu bionic-updates/universe amd64 chromium-chromedriver amd64 92.0.4515.159-0ubuntu0.18.04.1 [4,902 kB]\n",
            "Fetched 91.8 MB in 6s (15.3 MB/s)\n",
            "Selecting previously unselected package chromium-codecs-ffmpeg-extra.\n",
            "(Reading database ... 155013 files and directories currently installed.)\n",
            "Preparing to unpack .../chromium-codecs-ffmpeg-extra_92.0.4515.159-0ubuntu0.18.04.1_amd64.deb ...\n",
            "Unpacking chromium-codecs-ffmpeg-extra (92.0.4515.159-0ubuntu0.18.04.1) ...\n",
            "Selecting previously unselected package chromium-browser.\n",
            "Preparing to unpack .../chromium-browser_92.0.4515.159-0ubuntu0.18.04.1_amd64.deb ...\n",
            "Unpacking chromium-browser (92.0.4515.159-0ubuntu0.18.04.1) ...\n",
            "Selecting previously unselected package chromium-browser-l10n.\n",
            "Preparing to unpack .../chromium-browser-l10n_92.0.4515.159-0ubuntu0.18.04.1_all.deb ...\n",
            "Unpacking chromium-browser-l10n (92.0.4515.159-0ubuntu0.18.04.1) ...\n",
            "Selecting previously unselected package chromium-chromedriver.\n",
            "Preparing to unpack .../chromium-chromedriver_92.0.4515.159-0ubuntu0.18.04.1_amd64.deb ...\n",
            "Unpacking chromium-chromedriver (92.0.4515.159-0ubuntu0.18.04.1) ...\n",
            "Setting up chromium-codecs-ffmpeg-extra (92.0.4515.159-0ubuntu0.18.04.1) ...\n",
            "Setting up chromium-browser (92.0.4515.159-0ubuntu0.18.04.1) ...\n",
            "update-alternatives: using /usr/bin/chromium-browser to provide /usr/bin/x-www-browser (x-www-browser) in auto mode\n",
            "update-alternatives: using /usr/bin/chromium-browser to provide /usr/bin/gnome-www-browser (gnome-www-browser) in auto mode\n",
            "Setting up chromium-chromedriver (92.0.4515.159-0ubuntu0.18.04.1) ...\n",
            "Setting up chromium-browser-l10n (92.0.4515.159-0ubuntu0.18.04.1) ...\n",
            "Processing triggers for man-db (2.8.3-2ubuntu0.1) ...\n",
            "Processing triggers for hicolor-icon-theme (0.17-2) ...\n",
            "Processing triggers for mime-support (3.60ubuntu1) ...\n",
            "Processing triggers for libc-bin (2.27-3ubuntu1.3) ...\n",
            "/sbin/ldconfig.real: /usr/local/lib/python3.7/dist-packages/ideep4py/lib/libmkldnn.so.0 is not a symbolic link\n",
            "\n",
            "cp: '/usr/lib/chromium-browser/chromedriver' and '/usr/bin/chromedriver' are the same file\n"
          ]
        }
      ]
    },
    {
      "cell_type": "code",
      "metadata": {
        "colab": {
          "base_uri": "https://localhost:8080/"
        },
        "id": "Rz4gxSdNoYMY",
        "outputId": "26826bba-7c01-450c-9874-72a493c66427"
      },
      "source": [
        "import pandas as pd\n",
        "import numpy as np\n",
        "import matplotlib.pyplot as plt\n",
        "\n",
        "import string\n",
        "import re\n",
        "\n",
        "import nltk\n",
        "nltk.download('punkt')\n",
        "nltk.download('stopwords')\n",
        "from nltk.corpus import stopwords\n",
        "from nltk.tokenize import word_tokenize"
      ],
      "execution_count": 41,
      "outputs": [
        {
          "output_type": "stream",
          "name": "stdout",
          "text": [
            "[nltk_data] Downloading package punkt to /root/nltk_data...\n",
            "[nltk_data]   Unzipping tokenizers/punkt.zip.\n",
            "[nltk_data] Downloading package stopwords to /root/nltk_data...\n",
            "[nltk_data]   Unzipping corpora/stopwords.zip.\n"
          ]
        }
      ]
    },
    {
      "cell_type": "code",
      "metadata": {
        "id": "sQpzBe_GoAlD"
      },
      "source": [
        "wd = webdriver.Chrome('chromedriver',options=chrome_options)\n",
        "wd.get(\"https://forums.edmunds.com/discussion/2864/general/x/entry-level-luxury-performance-sedans\")"
      ],
      "execution_count": 3,
      "outputs": []
    },
    {
      "cell_type": "code",
      "metadata": {
        "id": "5Qq7Fjloof2w"
      },
      "source": [
        "comments_df = pd.DataFrame(columns = ['Date','user_id','comments']) \n",
        "\n",
        "ids = wd.find_elements_by_xpath(\"//*[contains(@id,'Comment_')]\")\n",
        "\n",
        "for i in range(435):\n",
        "  next_page=wd.find_elements_by_xpath('//*[@id=\"PagerBefore\"]/a[10]')\n",
        "  next_page\n",
        "\n",
        "  comment_ids = []\n",
        "  for i in ids:\n",
        "    comment_ids.append(i.get_attribute('id'))\n",
        "\n",
        "  for x in comment_ids:\n",
        "      #Extract dates from for each user on a page\n",
        "      user_date = wd.find_elements_by_xpath('//*[@id=\"' + x +'\"]/div/div[2]/div[2]/span[1]/a/time')[0]\n",
        "      date = user_date.get_attribute('title')\n",
        "\n",
        "      #Extract user ids from each user on a page\n",
        "      userid_element = wd.find_elements_by_xpath('//*[@id=\"' + x +'\"]/div/div[2]/div[1]/span[1]/a[2]')[0]\n",
        "      userid = userid_element.text\n",
        "\n",
        "      #Extract Message for each user on a page\n",
        "      user_message = wd.find_elements_by_xpath('//*[@id=\"' + x +'\"]/div/div[3]/div/div[1]')[0]\n",
        "      comment = user_message.text\n",
        "                                    \n",
        "      #Adding date, userid and comment for each user in a dataframe    \n",
        "      comments_df.loc[len(comments_df)] = [date,userid,comment]"
      ],
      "execution_count": 6,
      "outputs": []
    },
    {
      "cell_type": "code",
      "metadata": {
        "colab": {
          "base_uri": "https://localhost:8080/",
          "height": 17
        },
        "id": "aREP3mUToppO",
        "outputId": "b0782eb3-c8d0-4b6e-dc6e-a08f7f220836"
      },
      "source": [
        "from google.colab import files\n",
        "\n",
        "comments_df.to_csv('comments_df.csv')\n",
        "files.download('comments_df.csv')"
      ],
      "execution_count": 7,
      "outputs": [
        {
          "output_type": "display_data",
          "data": {
            "application/javascript": [
              "\n",
              "    async function download(id, filename, size) {\n",
              "      if (!google.colab.kernel.accessAllowed) {\n",
              "        return;\n",
              "      }\n",
              "      const div = document.createElement('div');\n",
              "      const label = document.createElement('label');\n",
              "      label.textContent = `Downloading \"${filename}\": `;\n",
              "      div.appendChild(label);\n",
              "      const progress = document.createElement('progress');\n",
              "      progress.max = size;\n",
              "      div.appendChild(progress);\n",
              "      document.body.appendChild(div);\n",
              "\n",
              "      const buffers = [];\n",
              "      let downloaded = 0;\n",
              "\n",
              "      const channel = await google.colab.kernel.comms.open(id);\n",
              "      // Send a message to notify the kernel that we're ready.\n",
              "      channel.send({})\n",
              "\n",
              "      for await (const message of channel.messages) {\n",
              "        // Send a message to notify the kernel that we're ready.\n",
              "        channel.send({})\n",
              "        if (message.buffers) {\n",
              "          for (const buffer of message.buffers) {\n",
              "            buffers.push(buffer);\n",
              "            downloaded += buffer.byteLength;\n",
              "            progress.value = downloaded;\n",
              "          }\n",
              "        }\n",
              "      }\n",
              "      const blob = new Blob(buffers, {type: 'application/binary'});\n",
              "      const a = document.createElement('a');\n",
              "      a.href = window.URL.createObjectURL(blob);\n",
              "      a.download = filename;\n",
              "      div.appendChild(a);\n",
              "      a.click();\n",
              "      div.remove();\n",
              "    }\n",
              "  "
            ],
            "text/plain": [
              "<IPython.core.display.Javascript object>"
            ]
          },
          "metadata": {}
        },
        {
          "output_type": "display_data",
          "data": {
            "application/javascript": [
              "download(\"download_d1c4442c-bdfd-4f68-8bf9-b0b02e225953\", \"comments_df.csv\", 14121628)"
            ],
            "text/plain": [
              "<IPython.core.display.Javascript object>"
            ]
          },
          "metadata": {}
        }
      ]
    },
    {
      "cell_type": "code",
      "metadata": {
        "id": "2fiahS7u__DW"
      },
      "source": [
        "from google.colab import files\n",
        "uploaded = files.upload()\n",
        "\n",
        "comments_df = pd.read_csv('comments_df (1).csv')"
      ],
      "execution_count": 158,
      "outputs": []
    },
    {
      "cell_type": "code",
      "metadata": {
        "colab": {
          "base_uri": "https://localhost:8080/"
        },
        "id": "JertgJdtoqep",
        "outputId": "a6bfab39-3b97-41e4-b545-62dab25962e0"
      },
      "source": [
        "# Formatting Comments\n",
        "print(comments_df.head())\n",
        "print(comments_df.shape)"
      ],
      "execution_count": 159,
      "outputs": [
        {
          "output_type": "stream",
          "name": "stdout",
          "text": [
            "   Unnamed: 0  ...                                           comments\n",
            "0           0  ...  I personally think that with a few tweaks the ...\n",
            "1           1  ...  I am debating a new purchase and these two are...\n",
            "2           2  ...  Great handling, RWD, excellent engine and the ...\n",
            "3           3  ...  And no manual tranny. That may not matter to y...\n",
            "4           4  ...  One beauty of BMW 3 Series is that there are s...\n",
            "\n",
            "[5 rows x 4 columns]\n",
            "(21750, 4)\n"
          ]
        }
      ]
    },
    {
      "cell_type": "code",
      "metadata": {
        "id": "ohd0k-ozu6AU"
      },
      "source": [
        "# all lower case\n",
        "# removing punctuations\n",
        "\n",
        "comments_df['comments'] = comments_df['comments'].map(lambda x : re.sub(r'[^\\w\\s]','',str(x)).replace('\\n\\n',' ').lower())"
      ],
      "execution_count": 160,
      "outputs": []
    },
    {
      "cell_type": "markdown",
      "metadata": {
        "id": "_QVePCpH2Fgp"
      },
      "source": [
        "Task A"
      ]
    },
    {
      "cell_type": "code",
      "metadata": {
        "id": "N5g20VWtwPOS"
      },
      "source": [
        "# Testing Zips Law\n",
        "\n",
        "all_words = {}\n",
        "\n",
        "for i in range(len(comments_df['comments'])):\n",
        "  comment_words = comments_df['comments'][i].split()\n",
        "\n",
        "  for j in comment_words:\n",
        "    if j not in all_words.keys():\n",
        "      all_words[j] = 1\n",
        "    else:\n",
        "      all_words[j] += 1\n"
      ],
      "execution_count": 161,
      "outputs": []
    },
    {
      "cell_type": "code",
      "metadata": {
        "colab": {
          "base_uri": "https://localhost:8080/",
          "height": 537
        },
        "id": "_Rcr-SeawKYT",
        "outputId": "ba9b2b8d-573a-4333-88a8-1be231e7ce96"
      },
      "source": [
        "all_words2 = sorted(all_words.items(),key=lambda item: item[1], reverse = True) # sorted by key, return a list of tuples\n",
        "\n",
        "x, y = zip(*all_words2) # unpack a list of pairs into two tuples\n",
        "\n",
        "fig = plt.gcf()\n",
        "fig.set_size_inches(25, 8)\n",
        "plt.plot(x[:100], y[:100])\n",
        "plt.xticks(rotation=90)\n",
        "\n",
        "plt.show()"
      ],
      "execution_count": 162,
      "outputs": [
        {
          "output_type": "display_data",
          "data": {
            "image/png": "[encoded data removed]",
            "text/plain": [
              "<Figure size 1800x576 with 1 Axes>"
            ]
          },
          "metadata": {
            "needs_background": "light"
          }
        }
      ]
    },
    {
      "cell_type": "markdown",
      "metadata": {
        "id": "mPtrO6m12HpQ"
      },
      "source": [
        "Task B"
      ]
    },
    {
      "cell_type": "code",
      "metadata": {
        "colab": {
          "resources": {
            "http://localhost:8080/nbextensions/google.colab/files.js": {
              "data": "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",
              "ok": true,
              "headers": [
                [
                  "content-type",
                  "application/javascript"
                ]
              ],
              "status": 200,
              "status_text": ""
            }
          },
          "base_uri": "https://localhost:8080/",
          "height": 72
        },
        "id": "AmRzG0RI0NT-",
        "outputId": "e754ab02-62da-4c3c-993e-aed29d4a997d"
      },
      "source": [
        "from google.colab import files\n",
        "uploaded = files.upload()"
      ],
      "execution_count": 163,
      "outputs": [
        {
          "output_type": "display_data",
          "data": {
            "text/html": [
              "\n",
              "     <input type=\"file\" id=\"files-d2decfc6-d887-4da3-aee1-4aaf9dfc9687\" name=\"files[]\" multiple disabled\n",
              "        style=\"border:none\" />\n",
              "     <output id=\"result-d2decfc6-d887-4da3-aee1-4aaf9dfc9687\">\n",
              "      Upload widget is only available when the cell has been executed in the\n",
              "      current browser session. Please rerun this cell to enable.\n",
              "      </output>\n",
              "      <script src=\"/nbextensions/google.colab/files.js\"></script> "
            ],
            "text/plain": [
              "<IPython.core.display.HTML object>"
            ]
          },
          "metadata": {}
        },
        {
          "output_type": "stream",
          "name": "stdout",
          "text": [
            "Saving car models and brands.csv to car models and brands (1).csv\n"
          ]
        }
      ]
    },
    {
      "cell_type": "code",
      "metadata": {
        "id": "6fH2pD880PIB"
      },
      "source": [
        "car_model_brand = pd.read_csv('car models and brands (1).csv')\n",
        "car_model_brand['Brand'] = car_model_brand['Brand'].map(lambda x : re.sub(r'[^\\w\\s]','',str(x)).replace('\\n\\n',' ').lower())\n",
        "car_model_brand['Model'] = car_model_brand['Model'].map(lambda x : re.sub(r'[^\\w\\s]','',str(x)).replace('\\n\\n',' ').lower())\n",
        "\n",
        "car_model_brand.drop_duplicates(inplace = True)\n",
        "\n",
        "car_model_brand.reset_index(inplace=True)\n",
        "car_model_brand.set_index('Model', inplace=True)\n",
        "car_model_brand.drop(columns=['index'], inplace=True)\n"
      ],
      "execution_count": 164,
      "outputs": []
    },
    {
      "cell_type": "code",
      "metadata": {
        "colab": {
          "base_uri": "https://localhost:8080/"
        },
        "id": "i14ei2dfEIJi",
        "outputId": "25b52315-78a9-464f-a2ec-d4a8ac93c544"
      },
      "source": [
        "car_model_brand['Brand']\n",
        "# car_model_brand.index.name= None\n",
        "# car_model_brand"
      ],
      "execution_count": 165,
      "outputs": [
        {
          "output_type": "execute_result",
          "data": {
            "text/plain": [
              "Model\n",
              "integra    acura\n",
              "legend     acura\n",
              "vigor      acura\n",
              "rlx        acura\n",
              "ilx        acura\n",
              "           ...  \n",
              "xc90       volvo\n",
              "s60        volvo\n",
              "s80        volvo\n",
              "v60        volvo\n",
              "c70        volvo\n",
              "Name: Brand, Length: 488, dtype: object"
            ]
          },
          "metadata": {},
          "execution_count": 165
        }
      ]
    },
    {
      "cell_type": "code",
      "metadata": {
        "id": "VfWtQsOl7Vys"
      },
      "source": [
        "# Replace Comments Models with Brands."
      ],
      "execution_count": 166,
      "outputs": []
    },
    {
      "cell_type": "code",
      "metadata": {
        "id": "Dek3PX7Y7V1T"
      },
      "source": [
        "def replace_models_with_brand(e):\n",
        "  s_e=pd.Series(word_tokenize(e))\n",
        "  s_e=s_e.replace(car_model_brand['Brand'])\n",
        "\n",
        "  modified_text=' '.join(s_e)\n",
        "\n",
        "  return modified_text\n",
        "\n",
        "comments_df['comments_replaced_brands']=comments_df.comments.apply(lambda e : replace_models_with_brand(e))\n"
      ],
      "execution_count": 167,
      "outputs": []
    },
    {
      "cell_type": "code",
      "metadata": {
        "id": "Qxq3pCMp7V4K"
      },
      "source": [
        "Top_brands = {}\n",
        "\n",
        "for i in range(len(comments_df['comments_replaced_brands'])):\n",
        "  comment_words = comments_df['comments_replaced_brands'][i].split()\n",
        "\n",
        "  for j in comment_words:\n",
        "    if (j not in Top_brands.keys()) and (j in car_model_brand['Brand'].values):\n",
        "      Top_brands[j] = 1\n",
        "    if (j in Top_brands.keys()) and (j in car_model_brand['Brand'].values):\n",
        "      Top_brands[j] = Top_brands[j] + 1  "
      ],
      "execution_count": 168,
      "outputs": []
    },
    {
      "cell_type": "code",
      "metadata": {
        "colab": {
          "base_uri": "https://localhost:8080/"
        },
        "id": "DmK0Owqc7V65",
        "outputId": "a54be202-6374-4503-c97f-3c1fb656c859"
      },
      "source": [
        "Top_brands\n",
        "\n",
        "Top_brands2 = sorted(Top_brands.items(),key=lambda item: item[1], reverse = True) # sorted by key, return a list of tuples\n",
        "\n",
        "Top_brands2[:15]\n"
      ],
      "execution_count": 182,
      "outputs": [
        {
          "output_type": "execute_result",
          "data": {
            "text/plain": [
              "[('car', 31321),\n",
              " ('bmw', 15226),\n",
              " ('audi', 11746),\n",
              " ('sedan', 8266),\n",
              " ('nissan', 6526),\n",
              " ('infiniti', 5656),\n",
              " ('toyota', 4786),\n",
              " ('chrysler', 3481),\n",
              " ('acura', 3046),\n",
              " ('mercedesbenz', 1741),\n",
              " ('mercedes', 1741),\n",
              " ('ford', 1306),\n",
              " ('honda', 1306),\n",
              " ('seat', 871),\n",
              " ('cadillac', 871)]"
            ]
          },
          "metadata": {},
          "execution_count": 182
        }
      ]
    },
    {
      "cell_type": "markdown",
      "metadata": {
        "id": "bkTcyK9BNSuM"
      },
      "source": [
        "Task C"
      ]
    },
    {
      "cell_type": "code",
      "metadata": {
        "id": "DDBMRZz86peY"
      },
      "source": [
        "Top_10_Brands = ['bmw','audi','nissan','infiniti','toyota','chrysler','acura','mercedesbenz','mercedes','ford']\n",
        "df_lift = pd.DataFrame(index = Top_10_Brands, columns = Top_10_Brands).fillna(0)"
      ],
      "execution_count": 180,
      "outputs": []
    },
    {
      "cell_type": "code",
      "metadata": {
        "id": "K2LGN8TGWI0D"
      },
      "source": [
        "comments_df['Tokens'] = comments_df['comments_replaced_brands'].apply(nltk.tokenize.word_tokenize)"
      ],
      "execution_count": 190,
      "outputs": []
    },
    {
      "cell_type": "code",
      "metadata": {
        "id": "zKGkK_ATRqeb"
      },
      "source": [
        "#Define a function that will calculate Lift\n",
        "def liftCalc(word_1,word_2):\n",
        "    w1freq = sum(comments_df.apply(lambda x: word_1 in x['Tokens'], axis=1))\n",
        "    w2freq = sum(comments_df.apply(lambda x: word_2 in x['Tokens'], axis=1))\n",
        "    bothfreq = sum(comments_df.apply(lambda x: word_1 in x['Tokens'] and word_2 in x['Tokens'], axis=1))\n",
        "    return float(bothfreq/len(comments_df))/((float(w1freq)/len(comments_df))*(float(w2freq)/len(comments_df)))"
      ],
      "execution_count": 194,
      "outputs": []
    },
    {
      "cell_type": "code",
      "metadata": {
        "id": "p8O1tmvuSt8r"
      },
      "source": [
        "for i in range(10):\n",
        "  for j in range(i+1):\n",
        "    df_lift.iloc[i,j] = liftCalc(Top_10_Brands[i], Top_10_Brands[j])\n",
        "\n",
        "for i in range(10):\n",
        "  for j in range(10):\n",
        "    if i<=j:\n",
        "      df_lift.iloc[i,j] = '-'"
      ],
      "execution_count": 209,
      "outputs": []
    },
    {
      "cell_type": "code",
      "metadata": {
        "colab": {
          "base_uri": "https://localhost:8080/",
          "height": 359
        },
        "id": "bwuy0UxAZqCJ",
        "outputId": "a5cf4b65-817f-4939-efc1-b3b27c247a30"
      },
      "source": [
        "df_lift"
      ],
      "execution_count": 210,
      "outputs": [
        {
          "output_type": "execute_result",
          "data": {
            "text/html": [
              "<div>\n",
              "<style scoped>\n",
              "    .dataframe tbody tr th:only-of-type {\n",
              "        vertical-align: middle;\n",
              "    }\n",
              "\n",
              "    .dataframe tbody tr th {\n",
              "        vertical-align: top;\n",
              "    }\n",
              "\n",
              "    .dataframe thead th {\n",
              "        text-align: right;\n",
              "    }\n",
              "</style>\n",
              "<table border=\"1\" class=\"dataframe\">\n",
              "  <thead>\n",
              "    <tr style=\"text-align: right;\">\n",
              "      <th></th>\n",
              "      <th>bmw</th>\n",
              "      <th>audi</th>\n",
              "      <th>nissan</th>\n",
              "      <th>infiniti</th>\n",
              "      <th>toyota</th>\n",
              "      <th>chrysler</th>\n",
              "      <th>acura</th>\n",
              "      <th>mercedesbenz</th>\n",
              "      <th>mercedes</th>\n",
              "      <th>ford</th>\n",
              "    </tr>\n",
              "  </thead>\n",
              "  <tbody>\n",
              "    <tr>\n",
              "      <th>bmw</th>\n",
              "      <td>-</td>\n",
              "      <td>-</td>\n",
              "      <td>-</td>\n",
              "      <td>-</td>\n",
              "      <td>-</td>\n",
              "      <td>-</td>\n",
              "      <td>-</td>\n",
              "      <td>-</td>\n",
              "      <td>-</td>\n",
              "      <td>-</td>\n",
              "    </tr>\n",
              "    <tr>\n",
              "      <th>audi</th>\n",
              "      <td>1.53846</td>\n",
              "      <td>-</td>\n",
              "      <td>-</td>\n",
              "      <td>-</td>\n",
              "      <td>-</td>\n",
              "      <td>-</td>\n",
              "      <td>-</td>\n",
              "      <td>-</td>\n",
              "      <td>-</td>\n",
              "      <td>-</td>\n",
              "    </tr>\n",
              "    <tr>\n",
              "      <th>nissan</th>\n",
              "      <td>3.07692</td>\n",
              "      <td>1</td>\n",
              "      <td>-</td>\n",
              "      <td>-</td>\n",
              "      <td>-</td>\n",
              "      <td>-</td>\n",
              "      <td>-</td>\n",
              "      <td>-</td>\n",
              "      <td>-</td>\n",
              "      <td>-</td>\n",
              "    </tr>\n",
              "    <tr>\n",
              "      <th>infiniti</th>\n",
              "      <td>2.1978</td>\n",
              "      <td>1.42857</td>\n",
              "      <td>2.85714</td>\n",
              "      <td>-</td>\n",
              "      <td>-</td>\n",
              "      <td>-</td>\n",
              "      <td>-</td>\n",
              "      <td>-</td>\n",
              "      <td>-</td>\n",
              "      <td>-</td>\n",
              "    </tr>\n",
              "    <tr>\n",
              "      <th>toyota</th>\n",
              "      <td>1.44231</td>\n",
              "      <td>1.25</td>\n",
              "      <td>2.5</td>\n",
              "      <td>0.892857</td>\n",
              "      <td>-</td>\n",
              "      <td>-</td>\n",
              "      <td>-</td>\n",
              "      <td>-</td>\n",
              "      <td>-</td>\n",
              "      <td>-</td>\n",
              "    </tr>\n",
              "    <tr>\n",
              "      <th>chrysler</th>\n",
              "      <td>1.92308</td>\n",
              "      <td>1.25</td>\n",
              "      <td>5</td>\n",
              "      <td>0</td>\n",
              "      <td>6.25</td>\n",
              "      <td>-</td>\n",
              "      <td>-</td>\n",
              "      <td>-</td>\n",
              "      <td>-</td>\n",
              "      <td>-</td>\n",
              "    </tr>\n",
              "    <tr>\n",
              "      <th>acura</th>\n",
              "      <td>1.0989</td>\n",
              "      <td>1.42857</td>\n",
              "      <td>1.42857</td>\n",
              "      <td>1.02041</td>\n",
              "      <td>0.892857</td>\n",
              "      <td>1.78571</td>\n",
              "      <td>-</td>\n",
              "      <td>-</td>\n",
              "      <td>-</td>\n",
              "      <td>-</td>\n",
              "    </tr>\n",
              "    <tr>\n",
              "      <th>mercedesbenz</th>\n",
              "      <td>1.92308</td>\n",
              "      <td>2.5</td>\n",
              "      <td>0</td>\n",
              "      <td>0</td>\n",
              "      <td>3.125</td>\n",
              "      <td>6.25</td>\n",
              "      <td>3.57143</td>\n",
              "      <td>-</td>\n",
              "      <td>-</td>\n",
              "      <td>-</td>\n",
              "    </tr>\n",
              "    <tr>\n",
              "      <th>mercedes</th>\n",
              "      <td>0</td>\n",
              "      <td>2.5</td>\n",
              "      <td>5</td>\n",
              "      <td>0</td>\n",
              "      <td>3.125</td>\n",
              "      <td>6.25</td>\n",
              "      <td>0</td>\n",
              "      <td>0</td>\n",
              "      <td>-</td>\n",
              "      <td>-</td>\n",
              "    </tr>\n",
              "    <tr>\n",
              "      <th>ford</th>\n",
              "      <td>2.5641</td>\n",
              "      <td>1.66667</td>\n",
              "      <td>3.33333</td>\n",
              "      <td>0</td>\n",
              "      <td>4.16667</td>\n",
              "      <td>8.33333</td>\n",
              "      <td>2.38095</td>\n",
              "      <td>8.33333</td>\n",
              "      <td>0</td>\n",
              "      <td>-</td>\n",
              "    </tr>\n",
              "  </tbody>\n",
              "</table>\n",
              "</div>"
            ],
            "text/plain": [
              "                  bmw     audi   nissan  ... mercedesbenz mercedes ford\n",
              "bmw                 -        -        -  ...            -        -    -\n",
              "audi          1.53846        -        -  ...            -        -    -\n",
              "nissan        3.07692        1        -  ...            -        -    -\n",
              "infiniti       2.1978  1.42857  2.85714  ...            -        -    -\n",
              "toyota        1.44231     1.25      2.5  ...            -        -    -\n",
              "chrysler      1.92308     1.25        5  ...            -        -    -\n",
              "acura          1.0989  1.42857  1.42857  ...            -        -    -\n",
              "mercedesbenz  1.92308      2.5        0  ...            -        -    -\n",
              "mercedes            0      2.5        5  ...            0        -    -\n",
              "ford           2.5641  1.66667  3.33333  ...      8.33333        0    -\n",
              "\n",
              "[10 rows x 10 columns]"
            ]
          },
          "metadata": {},
          "execution_count": 210
        }
      ]
    },
    {
      "cell_type": "markdown",
      "metadata": {
        "id": "zp-VfCfuaPj6"
      },
      "source": [
        "Task D"
      ]
    },
    {
      "cell_type": "code",
      "metadata": {
        "colab": {
          "base_uri": "https://localhost:8080/",
          "height": 359
        },
        "id": "dNij4tODVv64",
        "outputId": "c9bc9f90-4177-4140-a4d4-5c08a0ec818d"
      },
      "source": [
        "dissimilarity = pd.DataFrame(index = Top_10_Brands, columns = Top_10_Brands).fillna(0)\n",
        "for i in range(10):\n",
        "  for j in range(10):\n",
        "    if i != j:\n",
        "      if liftCalc(Top_10_Brands[i], Top_10_Brands[j]) ==0:\n",
        "        dissimilarity.iloc[i,j] = 100000\n",
        "      else:\n",
        "        dissimilarity.iloc[i,j] = 1/liftCalc(Top_10_Brands[i], Top_10_Brands[j])\n"
      ],
      "execution_count": 215,
      "outputs": [
        {
          "output_type": "execute_result",
          "data": {
            "text/html": [
              "<div>\n",
              "<style scoped>\n",
              "    .dataframe tbody tr th:only-of-type {\n",
              "        vertical-align: middle;\n",
              "    }\n",
              "\n",
              "    .dataframe tbody tr th {\n",
              "        vertical-align: top;\n",
              "    }\n",
              "\n",
              "    .dataframe thead th {\n",
              "        text-align: right;\n",
              "    }\n",
              "</style>\n",
              "<table border=\"1\" class=\"dataframe\">\n",
              "  <thead>\n",
              "    <tr style=\"text-align: right;\">\n",
              "      <th></th>\n",
              "      <th>bmw</th>\n",
              "      <th>audi</th>\n",
              "      <th>nissan</th>\n",
              "      <th>infiniti</th>\n",
              "      <th>toyota</th>\n",
              "      <th>chrysler</th>\n",
              "      <th>acura</th>\n",
              "      <th>mercedesbenz</th>\n",
              "      <th>mercedes</th>\n",
              "      <th>ford</th>\n",
              "    </tr>\n",
              "  </thead>\n",
              "  <tbody>\n",
              "    <tr>\n",
              "      <th>bmw</th>\n",
              "      <td>0.000000</td>\n",
              "      <td>0.65</td>\n",
              "      <td>0.325</td>\n",
              "      <td>0.455</td>\n",
              "      <td>0.693333</td>\n",
              "      <td>0.52</td>\n",
              "      <td>0.91</td>\n",
              "      <td>0.52</td>\n",
              "      <td>100000.00</td>\n",
              "      <td>0.39</td>\n",
              "    </tr>\n",
              "    <tr>\n",
              "      <th>audi</th>\n",
              "      <td>0.650000</td>\n",
              "      <td>0.00</td>\n",
              "      <td>1.000</td>\n",
              "      <td>0.700</td>\n",
              "      <td>0.800000</td>\n",
              "      <td>0.80</td>\n",
              "      <td>0.70</td>\n",
              "      <td>0.40</td>\n",
              "      <td>0.40</td>\n",
              "      <td>0.60</td>\n",
              "    </tr>\n",
              "    <tr>\n",
              "      <th>nissan</th>\n",
              "      <td>0.325000</td>\n",
              "      <td>1.00</td>\n",
              "      <td>0.000</td>\n",
              "      <td>0.350</td>\n",
              "      <td>0.400000</td>\n",
              "      <td>0.20</td>\n",
              "      <td>0.70</td>\n",
              "      <td>100000.00</td>\n",
              "      <td>0.20</td>\n",
              "      <td>0.30</td>\n",
              "    </tr>\n",
              "    <tr>\n",
              "      <th>infiniti</th>\n",
              "      <td>0.455000</td>\n",
              "      <td>0.70</td>\n",
              "      <td>0.350</td>\n",
              "      <td>0.000</td>\n",
              "      <td>1.120000</td>\n",
              "      <td>100000.00</td>\n",
              "      <td>0.98</td>\n",
              "      <td>100000.00</td>\n",
              "      <td>100000.00</td>\n",
              "      <td>100000.00</td>\n",
              "    </tr>\n",
              "    <tr>\n",
              "      <th>toyota</th>\n",
              "      <td>0.693333</td>\n",
              "      <td>0.80</td>\n",
              "      <td>0.400</td>\n",
              "      <td>1.120</td>\n",
              "      <td>0.000000</td>\n",
              "      <td>0.16</td>\n",
              "      <td>1.12</td>\n",
              "      <td>0.32</td>\n",
              "      <td>0.32</td>\n",
              "      <td>0.24</td>\n",
              "    </tr>\n",
              "    <tr>\n",
              "      <th>chrysler</th>\n",
              "      <td>0.520000</td>\n",
              "      <td>0.80</td>\n",
              "      <td>0.200</td>\n",
              "      <td>100000.000</td>\n",
              "      <td>0.160000</td>\n",
              "      <td>0.00</td>\n",
              "      <td>0.56</td>\n",
              "      <td>0.16</td>\n",
              "      <td>0.16</td>\n",
              "      <td>0.12</td>\n",
              "    </tr>\n",
              "    <tr>\n",
              "      <th>acura</th>\n",
              "      <td>0.910000</td>\n",
              "      <td>0.70</td>\n",
              "      <td>0.700</td>\n",
              "      <td>0.980</td>\n",
              "      <td>1.120000</td>\n",
              "      <td>0.56</td>\n",
              "      <td>0.00</td>\n",
              "      <td>0.28</td>\n",
              "      <td>100000.00</td>\n",
              "      <td>0.42</td>\n",
              "    </tr>\n",
              "    <tr>\n",
              "      <th>mercedesbenz</th>\n",
              "      <td>0.520000</td>\n",
              "      <td>0.40</td>\n",
              "      <td>100000.000</td>\n",
              "      <td>100000.000</td>\n",
              "      <td>0.320000</td>\n",
              "      <td>0.16</td>\n",
              "      <td>0.28</td>\n",
              "      <td>0.00</td>\n",
              "      <td>100000.00</td>\n",
              "      <td>0.12</td>\n",
              "    </tr>\n",
              "    <tr>\n",
              "      <th>mercedes</th>\n",
              "      <td>100000.000000</td>\n",
              "      <td>0.40</td>\n",
              "      <td>0.200</td>\n",
              "      <td>100000.000</td>\n",
              "      <td>0.320000</td>\n",
              "      <td>0.16</td>\n",
              "      <td>100000.00</td>\n",
              "      <td>100000.00</td>\n",
              "      <td>0.00</td>\n",
              "      <td>100000.00</td>\n",
              "    </tr>\n",
              "    <tr>\n",
              "      <th>ford</th>\n",
              "      <td>0.390000</td>\n",
              "      <td>0.60</td>\n",
              "      <td>0.300</td>\n",
              "      <td>100000.000</td>\n",
              "      <td>0.240000</td>\n",
              "      <td>0.12</td>\n",
              "      <td>0.42</td>\n",
              "      <td>0.12</td>\n",
              "      <td>100000.00</td>\n",
              "      <td>0.00</td>\n",
              "    </tr>\n",
              "  </tbody>\n",
              "</table>\n",
              "</div>"
            ],
            "text/plain": [
              "                        bmw  audi  ...   mercedes       ford\n",
              "bmw                0.000000  0.65  ...  100000.00       0.39\n",
              "audi               0.650000  0.00  ...       0.40       0.60\n",
              "nissan             0.325000  1.00  ...       0.20       0.30\n",
              "infiniti           0.455000  0.70  ...  100000.00  100000.00\n",
              "toyota             0.693333  0.80  ...       0.32       0.24\n",
              "chrysler           0.520000  0.80  ...       0.16       0.12\n",
              "acura              0.910000  0.70  ...  100000.00       0.42\n",
              "mercedesbenz       0.520000  0.40  ...  100000.00       0.12\n",
              "mercedes      100000.000000  0.40  ...       0.00  100000.00\n",
              "ford               0.390000  0.60  ...  100000.00       0.00\n",
              "\n",
              "[10 rows x 10 columns]"
            ]
          },
          "metadata": {},
          "execution_count": 215
        }
      ]
    },
    {
      "cell_type": "code",
      "metadata": {
        "colab": {
          "base_uri": "https://localhost:8080/",
          "height": 537
        },
        "id": "LFvkp7sJYav1",
        "outputId": "927ad944-31a7-4804-c24c-829c982e9870"
      },
      "source": [
        "from sklearn.manifold import MDS\n",
        "\n",
        "mds=MDS(n_components=2)\n",
        "\n",
        "npos=mds.fit_transform(dissimilarity)\n",
        "\n",
        "plt.figure(figsize=(20,8))\n",
        "\n",
        "plt.plot(npos[:,0],npos[:,1],'*')\n",
        "for i in range(len(npos)):\n",
        "  plt.text(npos[i,0],npos[i,1],dissimilarity.index[i])"
      ],
      "execution_count": 216,
      "outputs": [
        {
          "output_type": "stream",
          "name": "stderr",
          "text": [
            "/usr/local/lib/python3.7/dist-packages/sklearn/manifold/_mds.py:419: UserWarning: The MDS API has changed. ``fit`` now constructs an dissimilarity matrix from data. To use a custom dissimilarity matrix, set ``dissimilarity='precomputed'``.\n",
            "  warnings.warn(\"The MDS API has changed. ``fit`` now constructs an\"\n"
          ]
        },
        {
          "output_type": "display_data",
          "data": {
            "image/png": "[encoded data removed]",
            "text/plain": [
              "<Figure size 1440x576 with 1 Axes>"
            ]
          },
          "metadata": {
            "needs_background": "light"
          }
        }
      ]
    },
    {
      "cell_type": "markdown",
      "metadata": {
        "id": "ghRMfX4Ph2rb"
      },
      "source": [
        "Task E"
      ]
    },
    {
      "cell_type": "code",
      "metadata": {
        "id": "yMC8inIlhv3J"
      },
      "source": [
        ""
      ],
      "execution_count": null,
      "outputs": []
    },
    {
      "cell_type": "markdown",
      "metadata": {
        "id": "DqYJv1-giuT3"
      },
      "source": [
        "Task F"
      ]
    },
    {
      "cell_type": "code",
      "metadata": {
        "id": "kan15z7zivU1"
      },
      "source": [
        "attributes = ['performance', 'steering','luxury', 'price', 'engine']"
      ],
      "execution_count": 217,
      "outputs": []
    },
    {
      "cell_type": "code",
      "metadata": {
        "colab": {
          "base_uri": "https://localhost:8080/",
          "height": 359
        },
        "id": "bDPOiJCOjIlD",
        "outputId": "85f2e595-c75a-4650-9b52-724490402dd2"
      },
      "source": [
        "lift_brand_attribute = pd.DataFrame(index = Top_10_Brands, columns= attributes).fillna(0)\n",
        "\n",
        "for i in range(10):\n",
        "  for j in range(5):\n",
        "    lift_brand_attribute.iloc[i,j] = liftCalc(Top_10_Brands[i], attributes[j])\n",
        "\n",
        "lift_brand_attribute"
      ],
      "execution_count": 222,
      "outputs": [
        {
          "output_type": "execute_result",
          "data": {
            "text/html": [
              "<div>\n",
              "<style scoped>\n",
              "    .dataframe tbody tr th:only-of-type {\n",
              "        vertical-align: middle;\n",
              "    }\n",
              "\n",
              "    .dataframe tbody tr th {\n",
              "        vertical-align: top;\n",
              "    }\n",
              "\n",
              "    .dataframe thead th {\n",
              "        text-align: right;\n",
              "    }\n",
              "</style>\n",
              "<table border=\"1\" class=\"dataframe\">\n",
              "  <thead>\n",
              "    <tr style=\"text-align: right;\">\n",
              "      <th></th>\n",
              "      <th>performance</th>\n",
              "      <th>steering</th>\n",
              "      <th>luxury</th>\n",
              "      <th>price</th>\n",
              "      <th>engine</th>\n",
              "    </tr>\n",
              "  </thead>\n",
              "  <tbody>\n",
              "    <tr>\n",
              "      <th>bmw</th>\n",
              "      <td>1.923077</td>\n",
              "      <td>0.961538</td>\n",
              "      <td>2.307692</td>\n",
              "      <td>2.307692</td>\n",
              "      <td>1.442308</td>\n",
              "    </tr>\n",
              "    <tr>\n",
              "      <th>audi</th>\n",
              "      <td>1.666667</td>\n",
              "      <td>0.625000</td>\n",
              "      <td>2.500000</td>\n",
              "      <td>1.500000</td>\n",
              "      <td>1.250000</td>\n",
              "    </tr>\n",
              "    <tr>\n",
              "      <th>nissan</th>\n",
              "      <td>1.666667</td>\n",
              "      <td>1.250000</td>\n",
              "      <td>2.000000</td>\n",
              "      <td>3.000000</td>\n",
              "      <td>0.000000</td>\n",
              "    </tr>\n",
              "    <tr>\n",
              "      <th>infiniti</th>\n",
              "      <td>1.190476</td>\n",
              "      <td>0.000000</td>\n",
              "      <td>2.142857</td>\n",
              "      <td>2.142857</td>\n",
              "      <td>0.892857</td>\n",
              "    </tr>\n",
              "    <tr>\n",
              "      <th>toyota</th>\n",
              "      <td>1.388889</td>\n",
              "      <td>1.562500</td>\n",
              "      <td>1.250000</td>\n",
              "      <td>3.125000</td>\n",
              "      <td>0.781250</td>\n",
              "    </tr>\n",
              "    <tr>\n",
              "      <th>chrysler</th>\n",
              "      <td>2.083333</td>\n",
              "      <td>3.125000</td>\n",
              "      <td>1.250000</td>\n",
              "      <td>3.750000</td>\n",
              "      <td>1.562500</td>\n",
              "    </tr>\n",
              "    <tr>\n",
              "      <th>acura</th>\n",
              "      <td>0.793651</td>\n",
              "      <td>3.571429</td>\n",
              "      <td>1.428571</td>\n",
              "      <td>2.142857</td>\n",
              "      <td>1.785714</td>\n",
              "    </tr>\n",
              "    <tr>\n",
              "      <th>mercedesbenz</th>\n",
              "      <td>1.388889</td>\n",
              "      <td>3.125000</td>\n",
              "      <td>2.500000</td>\n",
              "      <td>2.500000</td>\n",
              "      <td>3.125000</td>\n",
              "    </tr>\n",
              "    <tr>\n",
              "      <th>mercedes</th>\n",
              "      <td>1.388889</td>\n",
              "      <td>0.000000</td>\n",
              "      <td>0.000000</td>\n",
              "      <td>2.500000</td>\n",
              "      <td>3.125000</td>\n",
              "    </tr>\n",
              "    <tr>\n",
              "      <th>ford</th>\n",
              "      <td>2.777778</td>\n",
              "      <td>2.083333</td>\n",
              "      <td>3.333333</td>\n",
              "      <td>1.666667</td>\n",
              "      <td>2.083333</td>\n",
              "    </tr>\n",
              "  </tbody>\n",
              "</table>\n",
              "</div>"
            ],
            "text/plain": [
              "              performance  steering    luxury     price    engine\n",
              "bmw              1.923077  0.961538  2.307692  2.307692  1.442308\n",
              "audi             1.666667  0.625000  2.500000  1.500000  1.250000\n",
              "nissan           1.666667  1.250000  2.000000  3.000000  0.000000\n",
              "infiniti         1.190476  0.000000  2.142857  2.142857  0.892857\n",
              "toyota           1.388889  1.562500  1.250000  3.125000  0.781250\n",
              "chrysler         2.083333  3.125000  1.250000  3.750000  1.562500\n",
              "acura            0.793651  3.571429  1.428571  2.142857  1.785714\n",
              "mercedesbenz     1.388889  3.125000  2.500000  2.500000  3.125000\n",
              "mercedes         1.388889  0.000000  0.000000  2.500000  3.125000\n",
              "ford             2.777778  2.083333  3.333333  1.666667  2.083333"
            ]
          },
          "metadata": {},
          "execution_count": 222
        }
      ]
    },
    {
      "cell_type": "markdown",
      "metadata": {
        "id": "UXZGfOkWk8EB"
      },
      "source": [
        "Task G"
      ]
    },
    {
      "cell_type": "code",
      "metadata": {
        "id": "qkmhu4uHjlSL"
      },
      "source": [
        ""
      ],
      "execution_count": 222,
      "outputs": []
    },
    {
      "cell_type": "code",
      "metadata": {
        "id": "WfjfLK4dk_Pu"
      },
      "source": [
        ""
      ],
      "execution_count": null,
      "outputs": []
    },
    {
      "cell_type": "markdown",
      "metadata": {
        "id": "0M4h25wAk_iX"
      },
      "source": [
        "Task H"
      ]
    },
    {
      "cell_type": "code",
      "metadata": {
        "id": "PcBgImIykJwG"
      },
      "source": [
        "aspire = ['own', 'buy', 'aspire', 'wish', 'love', 'dream']"
      ],
      "execution_count": 266,
      "outputs": []
    },
    {
      "cell_type": "code",
      "metadata": {
        "id": "5tdhIRN0mIZx"
      },
      "source": [
        "def aspiration_calc(word_1,aspire):\n",
        "  w1freq = sum(comments_df.apply(lambda x: word_1 in x['Tokens'], axis=1))\n",
        "\n",
        "  w2freq = 0\n",
        "  present = 0\n",
        "\n",
        "  for i in range(len(comments_df)):\n",
        "    w2freq = present + w2freq\n",
        "  \n",
        "    present = 0 \n",
        "    for j in range(len(aspire)):\n",
        "      if aspire[j] in comments_df['Tokens'][i]:\n",
        "        present = 1 \n",
        "\n",
        "\n",
        "  bothfreq = 0 \n",
        "  present = 0\n",
        "\n",
        "  for i in range(len(comments_df)):\n",
        "    bothfreq = present + bothfreq\n",
        "  \n",
        "    present = 0 \n",
        "    for j in range(len(aspire)):\n",
        "      if aspire[j] in comments_df['Tokens'][i] and word_1 in comments_df['Tokens'][i]:\n",
        "        present = 1 \n",
        "\n",
        "  try:\n",
        "    return float(bothfreq/len(comments_df))/((float(w1freq)/len(comments_df))*(float(w2freq)/len(comments_df)))\n",
        "  except:\n",
        "    return 0\n",
        "\n",
        "\n",
        "\n"
      ],
      "execution_count": 264,
      "outputs": []
    },
    {
      "cell_type": "code",
      "metadata": {
        "colab": {
          "base_uri": "https://localhost:8080/",
          "height": 359
        },
        "id": "w-Sl2ZbcmRmP",
        "outputId": "519846d8-664a-442d-ece1-fd7221fb9691"
      },
      "source": [
        "Aspiration = pd.DataFrame(index = Top_10_Brands, columns= ['AspireLift']).fillna(0)\n",
        "\n",
        "for i in range(10):\n",
        "  Aspiration.iloc[i] = aspiration_calc(Top_10_Brands[i], aspire)\n",
        "\n",
        "Aspiration"
      ],
      "execution_count": 265,
      "outputs": [
        {
          "output_type": "execute_result",
          "data": {
            "text/html": [
              "<div>\n",
              "<style scoped>\n",
              "    .dataframe tbody tr th:only-of-type {\n",
              "        vertical-align: middle;\n",
              "    }\n",
              "\n",
              "    .dataframe tbody tr th {\n",
              "        vertical-align: top;\n",
              "    }\n",
              "\n",
              "    .dataframe thead th {\n",
              "        text-align: right;\n",
              "    }\n",
              "</style>\n",
              "<table border=\"1\" class=\"dataframe\">\n",
              "  <thead>\n",
              "    <tr style=\"text-align: right;\">\n",
              "      <th></th>\n",
              "      <th>AspireLift</th>\n",
              "    </tr>\n",
              "  </thead>\n",
              "  <tbody>\n",
              "    <tr>\n",
              "      <th>bmw</th>\n",
              "      <td>1.154465</td>\n",
              "    </tr>\n",
              "    <tr>\n",
              "      <th>audi</th>\n",
              "      <td>1.500804</td>\n",
              "    </tr>\n",
              "    <tr>\n",
              "      <th>nissan</th>\n",
              "      <td>0.999770</td>\n",
              "    </tr>\n",
              "    <tr>\n",
              "      <th>infiniti</th>\n",
              "      <td>2.142365</td>\n",
              "    </tr>\n",
              "    <tr>\n",
              "      <th>toyota</th>\n",
              "      <td>2.500862</td>\n",
              "    </tr>\n",
              "    <tr>\n",
              "      <th>chrysler</th>\n",
              "      <td>0.002873</td>\n",
              "    </tr>\n",
              "    <tr>\n",
              "      <th>acura</th>\n",
              "      <td>2.144006</td>\n",
              "    </tr>\n",
              "    <tr>\n",
              "      <th>mercedesbenz</th>\n",
              "      <td>0.005746</td>\n",
              "    </tr>\n",
              "    <tr>\n",
              "      <th>mercedes</th>\n",
              "      <td>0.000000</td>\n",
              "    </tr>\n",
              "    <tr>\n",
              "      <th>ford</th>\n",
              "      <td>0.003831</td>\n",
              "    </tr>\n",
              "  </tbody>\n",
              "</table>\n",
              "</div>"
            ],
            "text/plain": [
              "              AspireLift\n",
              "bmw             1.154465\n",
              "audi            1.500804\n",
              "nissan          0.999770\n",
              "infiniti        2.142365\n",
              "toyota          2.500862\n",
              "chrysler        0.002873\n",
              "acura           2.144006\n",
              "mercedesbenz    0.005746\n",
              "mercedes        0.000000\n",
              "ford            0.003831"
            ]
          },
          "metadata": {},
          "execution_count": 265
        }
      ]
    },
    {
      "cell_type": "code",
      "metadata": {
        "id": "796OGyb4mUN-"
      },
      "source": [
        ""
      ],
      "execution_count": 262,
      "outputs": []
    },
    {
      "cell_type": "code",
      "metadata": {
        "id": "YR6cwM5lqkJL"
      },
      "source": [
        ""
      ],
      "execution_count": 265,
      "outputs": []
    },
    {
      "cell_type": "code",
      "metadata": {
        "colab": {
          "base_uri": "https://localhost:8080/"
        },
        "id": "FixCMMPGrVrj",
        "outputId": "959d937a-04c5-4a8d-d7dc-d750363b24bb"
      },
      "source": [
        ""
      ],
      "execution_count": 263,
      "outputs": [
        {
          "output_type": "execute_result",
          "data": {
            "text/plain": [
              "4351"
            ]
          },
          "metadata": {},
          "execution_count": 263
        }
      ]
    },
    {
      "cell_type": "code",
      "metadata": {
        "id": "Mqmz91Oorfdm"
      },
      "source": [
        ""
      ],
      "execution_count": null,
      "outputs": []
    }
  ]
}