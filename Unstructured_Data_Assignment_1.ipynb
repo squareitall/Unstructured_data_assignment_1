{
  "nbformat": 4,
  "nbformat_minor": 0,
  "metadata": {
    "colab": {
      "name": "Unstructured Data - Assignment 1.ipynb",
      "provenance": [],
      "collapsed_sections": []
    },
    "kernelspec": {
      "name": "python3",
      "display_name": "Python 3"
    },
    "language_info": {
      "name": "python"
    },
    "accelerator": "GPU"
  },
  "cells": [
    {
      "cell_type": "code",
      "metadata": {
        "colab": {
          "base_uri": "https://localhost:8080/"
        },
        "id": "Xahra0HYBsCL",
        "outputId": "a7bd3ca0-2d81-49ac-cac2-ac73f4aff5d2"
      },
      "source": [
        "# Use this code if using Colab to run Selenium\n",
        "\n",
        "# Make sure to go to Runtime -> Change runtime and set GPU as hardware accelerator\n",
        "\n",
        "# !kill -9 -1 # Use this line to delete this VM and start a new one. \n",
        "# The above line deletes all files and folders from the current VM and allocates a new one.\n",
        "\n",
        "#Selenium is an open-source tool that automates web browsers.\n",
        "!pip install selenium\n",
        "!pip install nltk\n",
        "!apt-get -q update   #Used to handle installation and removal of softwares and libraries\n",
        "!apt install -yq chromium-chromedriver #ChromeDriver is a separate executable that Selenium WebDriver uses to control Chrome.\n",
        "!cp /usr/lib/chromium-browser/chromedriver /usr/bin\n",
        "\n",
        "import sys\n",
        "sys.path.insert(0,'/usr/lib/chromium-browser/chromedriver')\n",
        "from selenium import webdriver \n",
        "#WebDriver is a browser automation framework that works with open source APIs. \n",
        "#The framework operates by accepting commands, sending those commands to a browser, and interacting with applications.\n",
        "chrome_options = webdriver.ChromeOptions()\n",
        "chrome_options.add_argument('--headless')\n",
        "chrome_options.add_argument('--no-sandbox')\n",
        "chrome_options.add_argument('--disable-dev-shm-usage')"
      ],
      "execution_count": 2,
      "outputs": [
        {
          "output_type": "stream",
          "name": "stdout",
          "text": [
            "Collecting selenium\n",
            "  Downloading selenium-3.141.0-py2.py3-none-any.whl (904 kB)\n",
            "\u001b[?25l\r\u001b[K     |▍                               | 10 kB 24.7 MB/s eta 0:00:01\r\u001b[K     |▊                               | 20 kB 29.6 MB/s eta 0:00:01\r\u001b[K     |█                               | 30 kB 24.8 MB/s eta 0:00:01\r\u001b[K     |█▌                              | 40 kB 18.8 MB/s eta 0:00:01\r\u001b[K     |█▉                              | 51 kB 14.0 MB/s eta 0:00:01\r\u001b[K     |██▏                             | 61 kB 14.9 MB/s eta 0:00:01\r\u001b[K     |██▌                             | 71 kB 12.2 MB/s eta 0:00:01\r\u001b[K     |███                             | 81 kB 13.4 MB/s eta 0:00:01\r\u001b[K     |███▎                            | 92 kB 11.2 MB/s eta 0:00:01\r\u001b[K     |███▋                            | 102 kB 11.7 MB/s eta 0:00:01\r\u001b[K     |████                            | 112 kB 11.7 MB/s eta 0:00:01\r\u001b[K     |████▍                           | 122 kB 11.7 MB/s eta 0:00:01\r\u001b[K     |████▊                           | 133 kB 11.7 MB/s eta 0:00:01\r\u001b[K     |█████                           | 143 kB 11.7 MB/s eta 0:00:01\r\u001b[K     |█████▍                          | 153 kB 11.7 MB/s eta 0:00:01\r\u001b[K     |█████▉                          | 163 kB 11.7 MB/s eta 0:00:01\r\u001b[K     |██████▏                         | 174 kB 11.7 MB/s eta 0:00:01\r\u001b[K     |██████▌                         | 184 kB 11.7 MB/s eta 0:00:01\r\u001b[K     |██████▉                         | 194 kB 11.7 MB/s eta 0:00:01\r\u001b[K     |███████▎                        | 204 kB 11.7 MB/s eta 0:00:01\r\u001b[K     |███████▋                        | 215 kB 11.7 MB/s eta 0:00:01\r\u001b[K     |████████                        | 225 kB 11.7 MB/s eta 0:00:01\r\u001b[K     |████████▎                       | 235 kB 11.7 MB/s eta 0:00:01\r\u001b[K     |████████▊                       | 245 kB 11.7 MB/s eta 0:00:01\r\u001b[K     |█████████                       | 256 kB 11.7 MB/s eta 0:00:01\r\u001b[K     |█████████▍                      | 266 kB 11.7 MB/s eta 0:00:01\r\u001b[K     |█████████▉                      | 276 kB 11.7 MB/s eta 0:00:01\r\u001b[K     |██████████▏                     | 286 kB 11.7 MB/s eta 0:00:01\r\u001b[K     |██████████▌                     | 296 kB 11.7 MB/s eta 0:00:01\r\u001b[K     |██████████▉                     | 307 kB 11.7 MB/s eta 0:00:01\r\u001b[K     |███████████▎                    | 317 kB 11.7 MB/s eta 0:00:01\r\u001b[K     |███████████▋                    | 327 kB 11.7 MB/s eta 0:00:01\r\u001b[K     |████████████                    | 337 kB 11.7 MB/s eta 0:00:01\r\u001b[K     |████████████▎                   | 348 kB 11.7 MB/s eta 0:00:01\r\u001b[K     |████████████▊                   | 358 kB 11.7 MB/s eta 0:00:01\r\u001b[K     |█████████████                   | 368 kB 11.7 MB/s eta 0:00:01\r\u001b[K     |█████████████▍                  | 378 kB 11.7 MB/s eta 0:00:01\r\u001b[K     |█████████████▊                  | 389 kB 11.7 MB/s eta 0:00:01\r\u001b[K     |██████████████▏                 | 399 kB 11.7 MB/s eta 0:00:01\r\u001b[K     |██████████████▌                 | 409 kB 11.7 MB/s eta 0:00:01\r\u001b[K     |██████████████▉                 | 419 kB 11.7 MB/s eta 0:00:01\r\u001b[K     |███████████████▏                | 430 kB 11.7 MB/s eta 0:00:01\r\u001b[K     |███████████████▋                | 440 kB 11.7 MB/s eta 0:00:01\r\u001b[K     |████████████████                | 450 kB 11.7 MB/s eta 0:00:01\r\u001b[K     |████████████████▎               | 460 kB 11.7 MB/s eta 0:00:01\r\u001b[K     |████████████████▋               | 471 kB 11.7 MB/s eta 0:00:01\r\u001b[K     |█████████████████               | 481 kB 11.7 MB/s eta 0:00:01\r\u001b[K     |█████████████████▍              | 491 kB 11.7 MB/s eta 0:00:01\r\u001b[K     |█████████████████▊              | 501 kB 11.7 MB/s eta 0:00:01\r\u001b[K     |██████████████████▏             | 512 kB 11.7 MB/s eta 0:00:01\r\u001b[K     |██████████████████▌             | 522 kB 11.7 MB/s eta 0:00:01\r\u001b[K     |██████████████████▉             | 532 kB 11.7 MB/s eta 0:00:01\r\u001b[K     |███████████████████▏            | 542 kB 11.7 MB/s eta 0:00:01\r\u001b[K     |███████████████████▋            | 552 kB 11.7 MB/s eta 0:00:01\r\u001b[K     |████████████████████            | 563 kB 11.7 MB/s eta 0:00:01\r\u001b[K     |████████████████████▎           | 573 kB 11.7 MB/s eta 0:00:01\r\u001b[K     |████████████████████▋           | 583 kB 11.7 MB/s eta 0:00:01\r\u001b[K     |█████████████████████           | 593 kB 11.7 MB/s eta 0:00:01\r\u001b[K     |█████████████████████▍          | 604 kB 11.7 MB/s eta 0:00:01\r\u001b[K     |█████████████████████▊          | 614 kB 11.7 MB/s eta 0:00:01\r\u001b[K     |██████████████████████          | 624 kB 11.7 MB/s eta 0:00:01\r\u001b[K     |██████████████████████▌         | 634 kB 11.7 MB/s eta 0:00:01\r\u001b[K     |██████████████████████▉         | 645 kB 11.7 MB/s eta 0:00:01\r\u001b[K     |███████████████████████▏        | 655 kB 11.7 MB/s eta 0:00:01\r\u001b[K     |███████████████████████▌        | 665 kB 11.7 MB/s eta 0:00:01\r\u001b[K     |████████████████████████        | 675 kB 11.7 MB/s eta 0:00:01\r\u001b[K     |████████████████████████▎       | 686 kB 11.7 MB/s eta 0:00:01\r\u001b[K     |████████████████████████▋       | 696 kB 11.7 MB/s eta 0:00:01\r\u001b[K     |█████████████████████████       | 706 kB 11.7 MB/s eta 0:00:01\r\u001b[K     |█████████████████████████▍      | 716 kB 11.7 MB/s eta 0:00:01\r\u001b[K     |█████████████████████████▊      | 727 kB 11.7 MB/s eta 0:00:01\r\u001b[K     |██████████████████████████      | 737 kB 11.7 MB/s eta 0:00:01\r\u001b[K     |██████████████████████████▍     | 747 kB 11.7 MB/s eta 0:00:01\r\u001b[K     |██████████████████████████▉     | 757 kB 11.7 MB/s eta 0:00:01\r\u001b[K     |███████████████████████████▏    | 768 kB 11.7 MB/s eta 0:00:01\r\u001b[K     |███████████████████████████▌    | 778 kB 11.7 MB/s eta 0:00:01\r\u001b[K     |████████████████████████████    | 788 kB 11.7 MB/s eta 0:00:01\r\u001b[K     |████████████████████████████▎   | 798 kB 11.7 MB/s eta 0:00:01\r\u001b[K     |████████████████████████████▋   | 808 kB 11.7 MB/s eta 0:00:01\r\u001b[K     |█████████████████████████████   | 819 kB 11.7 MB/s eta 0:00:01\r\u001b[K     |█████████████████████████████▍  | 829 kB 11.7 MB/s eta 0:00:01\r\u001b[K     |█████████████████████████████▊  | 839 kB 11.7 MB/s eta 0:00:01\r\u001b[K     |██████████████████████████████  | 849 kB 11.7 MB/s eta 0:00:01\r\u001b[K     |██████████████████████████████▍ | 860 kB 11.7 MB/s eta 0:00:01\r\u001b[K     |██████████████████████████████▉ | 870 kB 11.7 MB/s eta 0:00:01\r\u001b[K     |███████████████████████████████▏| 880 kB 11.7 MB/s eta 0:00:01\r\u001b[K     |███████████████████████████████▌| 890 kB 11.7 MB/s eta 0:00:01\r\u001b[K     |███████████████████████████████▉| 901 kB 11.7 MB/s eta 0:00:01\r\u001b[K     |████████████████████████████████| 904 kB 11.7 MB/s \n",
            "\u001b[?25hRequirement already satisfied: urllib3 in /usr/local/lib/python3.7/dist-packages (from selenium) (1.24.3)\n",
            "Installing collected packages: selenium\n",
            "Successfully installed selenium-3.141.0\n",
            "Requirement already satisfied: nltk in /usr/local/lib/python3.7/dist-packages (3.2.5)\n",
            "Requirement already satisfied: six in /usr/local/lib/python3.7/dist-packages (from nltk) (1.15.0)\n",
            "Get:1 http://ppa.launchpad.net/c2d4u.team/c2d4u4.0+/ubuntu bionic InRelease [15.9 kB]\n",
            "Hit:2 http://archive.ubuntu.com/ubuntu bionic InRelease\n",
            "Get:3 http://archive.ubuntu.com/ubuntu bionic-updates InRelease [88.7 kB]\n",
            "Hit:4 http://ppa.launchpad.net/cran/libgit2/ubuntu bionic InRelease\n",
            "Get:5 http://archive.ubuntu.com/ubuntu bionic-backports InRelease [74.6 kB]\n",
            "Get:6 http://ppa.launchpad.net/deadsnakes/ppa/ubuntu bionic InRelease [15.9 kB]\n",
            "Get:7 https://cloud.r-project.org/bin/linux/ubuntu bionic-cran40/ InRelease [3,626 B]\n",
            "Hit:8 http://ppa.launchpad.net/graphics-drivers/ppa/ubuntu bionic InRelease\n",
            "Get:9 http://security.ubuntu.com/ubuntu bionic-security InRelease [88.7 kB]\n",
            "Get:10 http://ppa.launchpad.net/c2d4u.team/c2d4u4.0+/ubuntu bionic/main Sources [1,799 kB]\n",
            "Ign:11 https://developer.download.nvidia.com/compute/cuda/repos/ubuntu1804/x86_64  InRelease\n",
            "Get:12 http://ppa.launchpad.net/c2d4u.team/c2d4u4.0+/ubuntu bionic/main amd64 Packages [921 kB]\n",
            "Ign:13 https://developer.download.nvidia.com/compute/machine-learning/repos/ubuntu1804/x86_64  InRelease\n",
            "Get:14 https://developer.download.nvidia.com/compute/cuda/repos/ubuntu1804/x86_64  Release [696 B]\n",
            "Hit:15 https://developer.download.nvidia.com/compute/machine-learning/repos/ubuntu1804/x86_64  Release\n",
            "Get:16 https://developer.download.nvidia.com/compute/cuda/repos/ubuntu1804/x86_64  Release.gpg [836 B]\n",
            "Get:17 http://archive.ubuntu.com/ubuntu bionic-updates/restricted amd64 Packages [600 kB]\n",
            "Get:18 http://archive.ubuntu.com/ubuntu bionic-updates/main amd64 Packages [2,760 kB]\n",
            "Get:19 http://archive.ubuntu.com/ubuntu bionic-updates/universe amd64 Packages [2,202 kB]\n",
            "Get:20 http://ppa.launchpad.net/deadsnakes/ppa/ubuntu bionic/main amd64 Packages [40.8 kB]\n",
            "Get:21 http://security.ubuntu.com/ubuntu bionic-security/main amd64 Packages [2,324 kB]\n",
            "Get:23 https://developer.download.nvidia.com/compute/cuda/repos/ubuntu1804/x86_64  Packages [717 kB]\n",
            "Get:24 http://security.ubuntu.com/ubuntu bionic-security/universe amd64 Packages [1,428 kB]\n",
            "Get:25 http://security.ubuntu.com/ubuntu bionic-security/restricted amd64 Packages [567 kB]\n",
            "Fetched 13.6 MB in 3s (4,337 kB/s)\n",
            "Reading package lists...\n",
            "Reading package lists...\n",
            "Building dependency tree...\n",
            "Reading state information...\n",
            "The following additional packages will be installed:\n",
            "  chromium-browser chromium-browser-l10n chromium-codecs-ffmpeg-extra\n",
            "Suggested packages:\n",
            "  webaccounts-chromium-extension unity-chromium-extension\n",
            "The following NEW packages will be installed:\n",
            "  chromium-browser chromium-browser-l10n chromium-chromedriver\n",
            "  chromium-codecs-ffmpeg-extra\n",
            "0 upgraded, 4 newly installed, 0 to remove and 77 not upgraded.\n",
            "Need to get 91.8 MB of archives.\n",
            "After this operation, 315 MB of additional disk space will be used.\n",
            "Get:1 http://archive.ubuntu.com/ubuntu bionic-updates/universe amd64 chromium-codecs-ffmpeg-extra amd64 92.0.4515.159-0ubuntu0.18.04.1 [1,124 kB]\n",
            "Get:2 http://archive.ubuntu.com/ubuntu bionic-updates/universe amd64 chromium-browser amd64 92.0.4515.159-0ubuntu0.18.04.1 [81.7 MB]\n",
            "Get:3 http://archive.ubuntu.com/ubuntu bionic-updates/universe amd64 chromium-browser-l10n all 92.0.4515.159-0ubuntu0.18.04.1 [4,026 kB]\n",
            "Get:4 http://archive.ubuntu.com/ubuntu bionic-updates/universe amd64 chromium-chromedriver amd64 92.0.4515.159-0ubuntu0.18.04.1 [4,902 kB]\n",
            "Fetched 91.8 MB in 2s (50.6 MB/s)\n",
            "Selecting previously unselected package chromium-codecs-ffmpeg-extra.\n",
            "(Reading database ... 148492 files and directories currently installed.)\n",
            "Preparing to unpack .../chromium-codecs-ffmpeg-extra_92.0.4515.159-0ubuntu0.18.04.1_amd64.deb ...\n",
            "Unpacking chromium-codecs-ffmpeg-extra (92.0.4515.159-0ubuntu0.18.04.1) ...\n",
            "Selecting previously unselected package chromium-browser.\n",
            "Preparing to unpack .../chromium-browser_92.0.4515.159-0ubuntu0.18.04.1_amd64.deb ...\n",
            "Unpacking chromium-browser (92.0.4515.159-0ubuntu0.18.04.1) ...\n",
            "Selecting previously unselected package chromium-browser-l10n.\n",
            "Preparing to unpack .../chromium-browser-l10n_92.0.4515.159-0ubuntu0.18.04.1_all.deb ...\n",
            "Unpacking chromium-browser-l10n (92.0.4515.159-0ubuntu0.18.04.1) ...\n",
            "Selecting previously unselected package chromium-chromedriver.\n",
            "Preparing to unpack .../chromium-chromedriver_92.0.4515.159-0ubuntu0.18.04.1_amd64.deb ...\n",
            "Unpacking chromium-chromedriver (92.0.4515.159-0ubuntu0.18.04.1) ...\n",
            "Setting up chromium-codecs-ffmpeg-extra (92.0.4515.159-0ubuntu0.18.04.1) ...\n",
            "Setting up chromium-browser (92.0.4515.159-0ubuntu0.18.04.1) ...\n",
            "update-alternatives: using /usr/bin/chromium-browser to provide /usr/bin/x-www-browser (x-www-browser) in auto mode\n",
            "update-alternatives: using /usr/bin/chromium-browser to provide /usr/bin/gnome-www-browser (gnome-www-browser) in auto mode\n",
            "Setting up chromium-chromedriver (92.0.4515.159-0ubuntu0.18.04.1) ...\n",
            "Setting up chromium-browser-l10n (92.0.4515.159-0ubuntu0.18.04.1) ...\n",
            "Processing triggers for man-db (2.8.3-2ubuntu0.1) ...\n",
            "Processing triggers for hicolor-icon-theme (0.17-2) ...\n",
            "Processing triggers for mime-support (3.60ubuntu1) ...\n",
            "Processing triggers for libc-bin (2.27-3ubuntu1.2) ...\n",
            "/sbin/ldconfig.real: /usr/local/lib/python3.7/dist-packages/ideep4py/lib/libmkldnn.so.0 is not a symbolic link\n",
            "\n",
            "cp: '/usr/lib/chromium-browser/chromedriver' and '/usr/bin/chromedriver' are the same file\n"
          ]
        }
      ]
    },
    {
      "cell_type": "code",
      "metadata": {
        "id": "5tF0MjV871an"
      },
      "source": [
        "wd = webdriver.Chrome('chromedriver',options=chrome_options)\n",
        "wd.get(\"https://forums.edmunds.com/discussion/2864/general/x/entry-level-luxury-performance-sedans\")\n",
        "# print(wd.page_source)"
      ],
      "execution_count": 3,
      "outputs": []
    },
    {
      "cell_type": "code",
      "metadata": {
        "id": "gi_5fX4RrDMt"
      },
      "source": [
        "# https://www.guru99.com/xpath-selenium.html\n",
        "# Understand absolute and relative xpaths in Selenium"
      ],
      "execution_count": 4,
      "outputs": []
    },
    {
      "cell_type": "code",
      "metadata": {
        "colab": {
          "base_uri": "https://localhost:8080/"
        },
        "id": "i2eqfA6itwPP",
        "outputId": "3d434052-0e7c-4a7b-9097-000febe38ec6"
      },
      "source": [
        "user_message = wd.find_elements_by_xpath('//*[@id=\"Discussion_2864\"]/div/div[2]/div/div[1]')[0] # try relative xpath \n",
        "comment = user_message.text\n",
        "print(comment)"
      ],
      "execution_count": 5,
      "outputs": [
        {
          "output_type": "stream",
          "name": "stdout",
          "text": [
            "Entry level performance luxury sedans are a hot area for car manufacturers and enthusiasts alike. These sedans show their performance by being fun to drive and handling well. They show luxury by offering leather and some of the important creatures comforts found in the most luxurious upscale sedans. The selection of vehicles that compete in the space is vast and varied.\n",
            "\n",
            "The benchmarks which define this are the BMW 330 and the Audi A4 3.0. But there are many contenders, such as Acura TL-S, Chrysler 300M, Jaguar X-type, Infiniti I35, Mercedes C-Class, Volvo S60 T5. Some companies have contenders that emphasize performance Lexus IS300 or luxury Lexus ES300. And the field is continously growing, with the recent additions being the Cadillac CTS and Infiniti G35.\n",
            "\n",
            "The common charateristics of this entry level perfomance luxury group seem to a price around 30 to 40k (US dollars) and 0-60 times between six and eight seconds.\n",
            "\n",
            "With this wide variety of cars targeted at a similar market segment, the choices for our own personal car are great. But with all these choices, it is hard to understand and personally evaluate all these options. So this topic has been created to start a discussion on the relative merits and personalities of the cars available in this entry level performance luxury field.\n"
          ]
        }
      ]
    },
    {
      "cell_type": "code",
      "metadata": {
        "colab": {
          "base_uri": "https://localhost:8080/"
        },
        "id": "5--TLIzhqTE5",
        "outputId": "28946132-486a-4156-e4ea-41a3ab1c4f12"
      },
      "source": [
        "userid=wd.find_elements_by_xpath('//*[@id=\"Discussion_2864\"]/div/div[1]/div[1]/span[1]/a[2]')[0] #/html/body/div[1]/div[1]/div[2]/div/div/div/div/div[3]/main/div[3]/div[2]/div/div[1]/div[1]/span[1]/a[2]\n",
        "userid = userid.text\n",
        "\n",
        "print(userid)"
      ],
      "execution_count": 6,
      "outputs": [
        {
          "output_type": "stream",
          "name": "stdout",
          "text": [
            "cybersol\n"
          ]
        }
      ]
    },
    {
      "cell_type": "code",
      "metadata": {
        "colab": {
          "base_uri": "https://localhost:8080/"
        },
        "id": "TdTkWfJ9DVgZ",
        "outputId": "11f25415-10b0-4a2d-f6cf-408556fd298c"
      },
      "source": [
        "time_element = wd.find_elements_by_xpath('//*[@id=\"Discussion_2864\"]/div/div[1]/div[2]/span[1]/a/time')[0]\n",
        "time = time_element.text\n",
        "date = time_element.get_attribute('title')\n",
        "\n",
        "print(date)\n",
        "print(time)"
      ],
      "execution_count": 7,
      "outputs": [
        {
          "output_type": "stream",
          "name": "stdout",
          "text": [
            "March 23, 2002 12:04PM\n",
            "March 2002\n"
          ]
        }
      ]
    },
    {
      "cell_type": "code",
      "metadata": {
        "colab": {
          "base_uri": "https://localhost:8080/",
          "height": 111
        },
        "id": "Nrj8sjEID2Dw",
        "outputId": "cfaca80b-516e-4e1f-ba08-4834945d3cb2"
      },
      "source": [
        "import pandas as pd\n",
        "df = pd.DataFrame(columns=['username', 'date', 'comment'])\n",
        "df.loc[0, 'username'] = userid\n",
        "df.loc[0, 'date'] = date\n",
        "df.loc[0, 'comment'] = comment\n",
        "\n",
        "df.index.name = \"ID\"\n",
        "df.head()"
      ],
      "execution_count": 8,
      "outputs": [
        {
          "output_type": "execute_result",
          "data": {
            "text/html": [
              "<div>\n",
              "<style scoped>\n",
              "    .dataframe tbody tr th:only-of-type {\n",
              "        vertical-align: middle;\n",
              "    }\n",
              "\n",
              "    .dataframe tbody tr th {\n",
              "        vertical-align: top;\n",
              "    }\n",
              "\n",
              "    .dataframe thead th {\n",
              "        text-align: right;\n",
              "    }\n",
              "</style>\n",
              "<table border=\"1\" class=\"dataframe\">\n",
              "  <thead>\n",
              "    <tr style=\"text-align: right;\">\n",
              "      <th></th>\n",
              "      <th>username</th>\n",
              "      <th>date</th>\n",
              "      <th>comment</th>\n",
              "    </tr>\n",
              "    <tr>\n",
              "      <th>ID</th>\n",
              "      <th></th>\n",
              "      <th></th>\n",
              "      <th></th>\n",
              "    </tr>\n",
              "  </thead>\n",
              "  <tbody>\n",
              "    <tr>\n",
              "      <th>0</th>\n",
              "      <td>cybersol</td>\n",
              "      <td>March 23, 2002 12:04PM</td>\n",
              "      <td>Entry level performance luxury sedans are a ho...</td>\n",
              "    </tr>\n",
              "  </tbody>\n",
              "</table>\n",
              "</div>"
            ],
            "text/plain": [
              "    username  ...                                            comment\n",
              "ID            ...                                                   \n",
              "0   cybersol  ...  Entry level performance luxury sedans are a ho...\n",
              "\n",
              "[1 rows x 3 columns]"
            ]
          },
          "metadata": {},
          "execution_count": 8
        }
      ]
    },
    {
      "cell_type": "code",
      "metadata": {
        "id": "xcK_OeHVH3g5",
        "colab": {
          "base_uri": "https://localhost:8080/",
          "height": 34
        },
        "outputId": "6099e000-08f5-48b6-a952-881253b18931"
      },
      "source": [
        "df.to_csv(\"results.csv\", sep=\"\\t\")\n",
        "!ls\n",
        "from google.colab import files\n",
        "files.download(\"results.csv\")"
      ],
      "execution_count": 9,
      "outputs": [
        {
          "output_type": "stream",
          "name": "stdout",
          "text": [
            "results.csv  sample_data\n"
          ]
        },
        {
          "output_type": "display_data",
          "data": {
            "application/javascript": [
              "\n",
              "    async function download(id, filename, size) {\n",
              "      if (!google.colab.kernel.accessAllowed) {\n",
              "        return;\n",
              "      }\n",
              "      const div = document.createElement('div');\n",
              "      const label = document.createElement('label');\n",
              "      label.textContent = `Downloading \"${filename}\": `;\n",
              "      div.appendChild(label);\n",
              "      const progress = document.createElement('progress');\n",
              "      progress.max = size;\n",
              "      div.appendChild(progress);\n",
              "      document.body.appendChild(div);\n",
              "\n",
              "      const buffers = [];\n",
              "      let downloaded = 0;\n",
              "\n",
              "      const channel = await google.colab.kernel.comms.open(id);\n",
              "      // Send a message to notify the kernel that we're ready.\n",
              "      channel.send({})\n",
              "\n",
              "      for await (const message of channel.messages) {\n",
              "        // Send a message to notify the kernel that we're ready.\n",
              "        channel.send({})\n",
              "        if (message.buffers) {\n",
              "          for (const buffer of message.buffers) {\n",
              "            buffers.push(buffer);\n",
              "            downloaded += buffer.byteLength;\n",
              "            progress.value = downloaded;\n",
              "          }\n",
              "        }\n",
              "      }\n",
              "      const blob = new Blob(buffers, {type: 'application/binary'});\n",
              "      const a = document.createElement('a');\n",
              "      a.href = window.URL.createObjectURL(blob);\n",
              "      a.download = filename;\n",
              "      div.appendChild(a);\n",
              "      a.click();\n",
              "      div.remove();\n",
              "    }\n",
              "  "
            ],
            "text/plain": [
              "<IPython.core.display.Javascript object>"
            ]
          },
          "metadata": {}
        },
        {
          "output_type": "display_data",
          "data": {
            "application/javascript": [
              "download(\"download_41fbb333-46a1-426d-98c8-b72650e99c95\", \"results.csv\", 1369)"
            ],
            "text/plain": [
              "<IPython.core.display.Javascript object>"
            ]
          },
          "metadata": {}
        }
      ]
    },
    {
      "cell_type": "markdown",
      "metadata": {
        "id": "CxaL9QmQBg30"
      },
      "source": [
        "Scrapper"
      ]
    },
    {
      "cell_type": "code",
      "metadata": {
        "colab": {
          "base_uri": "https://localhost:8080/"
        },
        "id": "HPXDFDXDpuys",
        "outputId": "c0167af9-2bbb-4e37-c22e-dd167c547f6a"
      },
      "source": [
        "# Getting All Pages\n",
        "\n",
        "wd.get('https://forums.edmunds.com/discussion/2864/general/x/entry-level-luxury-performance-sedans')\n",
        "\n",
        "comments = pd.DataFrame(columns = ['Date','user_id','comments']) \n",
        "ids = wd.find_elements_by_xpath(\"//*[contains(@id,'Comment_')]\")\n",
        "\n",
        "# //*[@id=\"PagerBefore\"]/a[10]\n",
        "# /html/body/div[1]/div[1]/div[2]/div/div/div/div/div[3]/main/div[5]/span/span/a[10]\n",
        "\n",
        "\n",
        "for i in range(5):\n",
        "  next_page=wd.find_elements_by_xpath('//*[@id=\"PagerBefore\"]/a[10]')\n",
        "  next_page\n",
        "\n",
        "  comment_ids = []\n",
        "  for i in ids:\n",
        "    comment_ids.append(i.get_attribute('id'))\n",
        "\n",
        "\n",
        "  for x in comment_ids:\n",
        "      #Extract dates from for each user on a page\n",
        "      user_date = wd.find_elements_by_xpath('//*[@id=\"' + x +'\"]/div/div[2]/div[2]/span[1]/a/time')[0]\n",
        "      date = user_date.get_attribute('title')\n",
        "\n",
        "      #Extract user ids from each user on a page\n",
        "      userid_element = wd.find_elements_by_xpath('//*[@id=\"' + x +'\"]/div/div[2]/div[1]/span[1]/a[2]')[0]\n",
        "      userid = userid_element.text\n",
        "\n",
        "      #Extract Message for each user on a page\n",
        "      user_message = wd.find_elements_by_xpath('//*[@id=\"' + x +'\"]/div/div[3]/div/div[1]')[0]\n",
        "      comment = user_message.text\n",
        "                                    \n",
        "      #Adding date, userid and comment for each user in a dataframe    \n",
        "      comments.loc[len(comments)] = [date,userid,comment]\n",
        "    \n",
        "  print(comments)\n",
        "  print(comments.shape[0])\n",
        "\n",
        "\n",
        "# count_volvo = 0\n",
        "# for i in range((comments.shape[0])): \n",
        "#   if ('Volvo' in comments.loc[i,'comments']) | ('volvo' in comments.loc[i,'comments']) :\n",
        "#       count_volvo += 1\n",
        "\n",
        "# print(count_volvo)"
      ],
      "execution_count": 10,
      "outputs": [
        {
          "output_type": "stream",
          "name": "stdout",
          "text": [
            "                      Date  ...                                           comments\n",
            "0   March 24, 2002 10:54PM  ...  I personally think that with a few tweaks the ...\n",
            "1   March 25, 2002 12:06AM  ...  I am debating a new purchase and these two are...\n",
            "2   March 25, 2002 10:02AM  ...  Great handling, RWD, excellent engine and the ...\n",
            "3    March 25, 2002 4:04PM  ...  And no manual tranny. That may not matter to y...\n",
            "4    March 25, 2002 5:44PM  ...  One beauty of BMW 3 Series is that there are s...\n",
            "5    March 26, 2002 1:20PM  ...  good grief, so you wait 9 months for the manua...\n",
            "6    March 26, 2002 2:02PM  ...  I'll give it a fair shot when the manual comes...\n",
            "7    March 26, 2002 2:45PM  ...  I understand it's not about the speed. I reall...\n",
            "8    March 26, 2002 5:00PM  ...  It sounds like you know why I won't even put i...\n",
            "9    March 26, 2002 7:00PM  ...  Is there such a thing as an automatic-only tru...\n",
            "10   March 26, 2002 7:55PM  ...  If I had to rank the entry lux performance sed...\n",
            "11  March 26, 2002 10:06PM  ...  Hey my friend, dig this, in Australia, the ONL...\n",
            "12   March 27, 2002 7:20AM  ...  >\"Is there such a thing as an automatic-only t...\n",
            "13  March 27, 2002 10:00AM  ...  I think what riez and I are trying to say is n...\n",
            "14  March 27, 2002 11:10AM  ...                                               amen\n",
            "15  March 27, 2002 11:23AM  ...  In this class, the best bang for the buck has ...\n",
            "16  March 27, 2002 12:06PM  ...  Even at 29k for a 35k msrp IS300, I passed on ...\n",
            "17   March 27, 2002 1:42PM  ...  Never liked a lexus, and probably never will. ...\n",
            "18   March 27, 2002 1:46PM  ...  \"I would buy the IS as a Toyota but not a Lexu...\n",
            "19   March 27, 2002 2:10PM  ...  I couldn't have said it better myself. I'll le...\n",
            "20  March 28, 2002 12:43AM  ...  Thanks Riez! Let me know when you do. I'm sure...\n",
            "21   March 28, 2002 5:07PM  ...  mbarto... As regards the \"bribes\" issue, you'v...\n",
            "22    April 5, 2002 3:34PM  ...  So if someone were looking to purchase a new p...\n",
            "23    April 5, 2002 5:16PM  ...  Since it has to have a manual transmission and...\n",
            "24    April 7, 2002 8:22AM  ...  The TL should be up for redesign in a few year...\n",
            "25    April 7, 2002 3:59PM  ...  The new ES is a very smart looking car. Notwit...\n",
            "26    April 8, 2002 3:32PM  ...  Um...you left off the Infiniti G35 and it's bl...\n",
            "27    April 9, 2002 2:12PM  ...  Sorry, I thought that I had already taken up t...\n",
            "28    April 9, 2002 2:43PM  ...  Go drive one. They're a blast and for the mone...\n",
            "29   April 11, 2002 3:06PM  ...  I can't make a decision. I was set on the MB C...\n",
            "30   April 12, 2002 7:53AM  ...  Well I'm a Benz fan first and foremost, but th...\n",
            "31   April 14, 2002 1:09AM  ...  I think both are excellent(sp?) cars, however ...\n",
            "32   April 17, 2002 2:23AM  ...  It has come to my attention that as of late MB...\n",
            "33  April 17, 2002 12:37PM  ...  There is not much to debate on this subject. I...\n",
            "34   April 17, 2002 1:11PM  ...  gave up nationality based generalizations a co...\n",
            "35   April 18, 2002 4:12PM  ...  I'm interested more towards performance than l...\n",
            "36   April 18, 2002 4:50PM  ...  cybersol... I can't fathom why you would want ...\n",
            "37   April 18, 2002 6:07PM  ...  Sorry to disappoint with the slushbox, but if ...\n",
            "38   April 18, 2002 7:14PM  ...  The new Altima is great as my friends just bou...\n",
            "39   April 18, 2002 7:18PM  ...  cybersol... Excitement and slushbox don't seem...\n",
            "40   April 19, 2002 8:28AM  ...  \"Excitement and slushbox don't seem to be comp...\n",
            "41   April 20, 2002 1:18AM  ...  Riez, you have heard of speed sensitive steeri...\n",
            "42   April 20, 2002 9:49AM  ...  cybersol... There are two types. Those tied to...\n",
            "43  April 21, 2002 12:36AM  ...  Yeah, I have that brouchure and they don't men...\n",
            "44   April 21, 2002 6:50AM  ...  cybersol... From what I've read, the better va...\n",
            "45   April 24, 2002 7:51AM  ...  So, if you read through most of this group, al...\n",
            "46   April 24, 2002 5:15PM  ...  Have you driven them both? The S4 really moves...\n",
            "47  April 25, 2002 12:36PM  ...  I've tested the 3.0, not the S4. Hmmm... new S...\n",
            "48   April 26, 2002 9:50AM  ...  Yeah, the current S4 has 250 hp and 258 lb-ft ...\n",
            "49   April 27, 2002 2:37PM  ...  Not so fast. There is merit to the \"nationalit...\n",
            "\n",
            "[50 rows x 3 columns]\n",
            "50\n",
            "                      Date  ...                                           comments\n",
            "0   March 24, 2002 10:54PM  ...  I personally think that with a few tweaks the ...\n",
            "1   March 25, 2002 12:06AM  ...  I am debating a new purchase and these two are...\n",
            "2   March 25, 2002 10:02AM  ...  Great handling, RWD, excellent engine and the ...\n",
            "3    March 25, 2002 4:04PM  ...  And no manual tranny. That may not matter to y...\n",
            "4    March 25, 2002 5:44PM  ...  One beauty of BMW 3 Series is that there are s...\n",
            "..                     ...  ...                                                ...\n",
            "95   April 24, 2002 7:51AM  ...  So, if you read through most of this group, al...\n",
            "96   April 24, 2002 5:15PM  ...  Have you driven them both? The S4 really moves...\n",
            "97  April 25, 2002 12:36PM  ...  I've tested the 3.0, not the S4. Hmmm... new S...\n",
            "98   April 26, 2002 9:50AM  ...  Yeah, the current S4 has 250 hp and 258 lb-ft ...\n",
            "99   April 27, 2002 2:37PM  ...  Not so fast. There is merit to the \"nationalit...\n",
            "\n",
            "[100 rows x 3 columns]\n",
            "100\n",
            "                       Date  ...                                           comments\n",
            "0    March 24, 2002 10:54PM  ...  I personally think that with a few tweaks the ...\n",
            "1    March 25, 2002 12:06AM  ...  I am debating a new purchase and these two are...\n",
            "2    March 25, 2002 10:02AM  ...  Great handling, RWD, excellent engine and the ...\n",
            "3     March 25, 2002 4:04PM  ...  And no manual tranny. That may not matter to y...\n",
            "4     March 25, 2002 5:44PM  ...  One beauty of BMW 3 Series is that there are s...\n",
            "..                      ...  ...                                                ...\n",
            "145   April 24, 2002 7:51AM  ...  So, if you read through most of this group, al...\n",
            "146   April 24, 2002 5:15PM  ...  Have you driven them both? The S4 really moves...\n",
            "147  April 25, 2002 12:36PM  ...  I've tested the 3.0, not the S4. Hmmm... new S...\n",
            "148   April 26, 2002 9:50AM  ...  Yeah, the current S4 has 250 hp and 258 lb-ft ...\n",
            "149   April 27, 2002 2:37PM  ...  Not so fast. There is merit to the \"nationalit...\n",
            "\n",
            "[150 rows x 3 columns]\n",
            "150\n",
            "                       Date  ...                                           comments\n",
            "0    March 24, 2002 10:54PM  ...  I personally think that with a few tweaks the ...\n",
            "1    March 25, 2002 12:06AM  ...  I am debating a new purchase and these two are...\n",
            "2    March 25, 2002 10:02AM  ...  Great handling, RWD, excellent engine and the ...\n",
            "3     March 25, 2002 4:04PM  ...  And no manual tranny. That may not matter to y...\n",
            "4     March 25, 2002 5:44PM  ...  One beauty of BMW 3 Series is that there are s...\n",
            "..                      ...  ...                                                ...\n",
            "195   April 24, 2002 7:51AM  ...  So, if you read through most of this group, al...\n",
            "196   April 24, 2002 5:15PM  ...  Have you driven them both? The S4 really moves...\n",
            "197  April 25, 2002 12:36PM  ...  I've tested the 3.0, not the S4. Hmmm... new S...\n",
            "198   April 26, 2002 9:50AM  ...  Yeah, the current S4 has 250 hp and 258 lb-ft ...\n",
            "199   April 27, 2002 2:37PM  ...  Not so fast. There is merit to the \"nationalit...\n",
            "\n",
            "[200 rows x 3 columns]\n",
            "200\n",
            "                       Date  ...                                           comments\n",
            "0    March 24, 2002 10:54PM  ...  I personally think that with a few tweaks the ...\n",
            "1    March 25, 2002 12:06AM  ...  I am debating a new purchase and these two are...\n",
            "2    March 25, 2002 10:02AM  ...  Great handling, RWD, excellent engine and the ...\n",
            "3     March 25, 2002 4:04PM  ...  And no manual tranny. That may not matter to y...\n",
            "4     March 25, 2002 5:44PM  ...  One beauty of BMW 3 Series is that there are s...\n",
            "..                      ...  ...                                                ...\n",
            "245   April 24, 2002 7:51AM  ...  So, if you read through most of this group, al...\n",
            "246   April 24, 2002 5:15PM  ...  Have you driven them both? The S4 really moves...\n",
            "247  April 25, 2002 12:36PM  ...  I've tested the 3.0, not the S4. Hmmm... new S...\n",
            "248   April 26, 2002 9:50AM  ...  Yeah, the current S4 has 250 hp and 258 lb-ft ...\n",
            "249   April 27, 2002 2:37PM  ...  Not so fast. There is merit to the \"nationalit...\n",
            "\n",
            "[250 rows x 3 columns]\n",
            "250\n"
          ]
        }
      ]
    },
    {
      "cell_type": "code",
      "metadata": {
        "colab": {
          "base_uri": "https://localhost:8080/",
          "height": 204
        },
        "id": "cc4C6X4UBs-g",
        "outputId": "a2cfd4c8-c043-432b-93bb-9b5a9938173b"
      },
      "source": [
        "comments.head()"
      ],
      "execution_count": 11,
      "outputs": [
        {
          "output_type": "execute_result",
          "data": {
            "text/html": [
              "<div>\n",
              "<style scoped>\n",
              "    .dataframe tbody tr th:only-of-type {\n",
              "        vertical-align: middle;\n",
              "    }\n",
              "\n",
              "    .dataframe tbody tr th {\n",
              "        vertical-align: top;\n",
              "    }\n",
              "\n",
              "    .dataframe thead th {\n",
              "        text-align: right;\n",
              "    }\n",
              "</style>\n",
              "<table border=\"1\" class=\"dataframe\">\n",
              "  <thead>\n",
              "    <tr style=\"text-align: right;\">\n",
              "      <th></th>\n",
              "      <th>Date</th>\n",
              "      <th>user_id</th>\n",
              "      <th>comments</th>\n",
              "    </tr>\n",
              "  </thead>\n",
              "  <tbody>\n",
              "    <tr>\n",
              "      <th>0</th>\n",
              "      <td>March 24, 2002 10:54PM</td>\n",
              "      <td>merc1</td>\n",
              "      <td>I personally think that with a few tweaks the ...</td>\n",
              "    </tr>\n",
              "    <tr>\n",
              "      <th>1</th>\n",
              "      <td>March 25, 2002 12:06AM</td>\n",
              "      <td>fredvh</td>\n",
              "      <td>I am debating a new purchase and these two are...</td>\n",
              "    </tr>\n",
              "    <tr>\n",
              "      <th>2</th>\n",
              "      <td>March 25, 2002 10:02AM</td>\n",
              "      <td>blueguydotcom</td>\n",
              "      <td>Great handling, RWD, excellent engine and the ...</td>\n",
              "    </tr>\n",
              "    <tr>\n",
              "      <th>3</th>\n",
              "      <td>March 25, 2002 4:04PM</td>\n",
              "      <td>hungrywhale</td>\n",
              "      <td>And no manual tranny. That may not matter to y...</td>\n",
              "    </tr>\n",
              "    <tr>\n",
              "      <th>4</th>\n",
              "      <td>March 25, 2002 5:44PM</td>\n",
              "      <td>riez</td>\n",
              "      <td>One beauty of BMW 3 Series is that there are s...</td>\n",
              "    </tr>\n",
              "  </tbody>\n",
              "</table>\n",
              "</div>"
            ],
            "text/plain": [
              "                     Date  ...                                           comments\n",
              "0  March 24, 2002 10:54PM  ...  I personally think that with a few tweaks the ...\n",
              "1  March 25, 2002 12:06AM  ...  I am debating a new purchase and these two are...\n",
              "2  March 25, 2002 10:02AM  ...  Great handling, RWD, excellent engine and the ...\n",
              "3   March 25, 2002 4:04PM  ...  And no manual tranny. That may not matter to y...\n",
              "4   March 25, 2002 5:44PM  ...  One beauty of BMW 3 Series is that there are s...\n",
              "\n",
              "[5 rows x 3 columns]"
            ]
          },
          "metadata": {},
          "execution_count": 11
        }
      ]
    },
    {
      "cell_type": "markdown",
      "metadata": {
        "id": "2opJctlTBln0"
      },
      "source": [
        "Counting Frequecy and Zips Law Test"
      ]
    },
    {
      "cell_type": "code",
      "metadata": {
        "colab": {
          "base_uri": "https://localhost:8080/"
        },
        "id": "mamxJ14bs3wU",
        "outputId": "a2119c7b-13ea-4a91-ec4c-4024557d3fe4"
      },
      "source": [
        "import nltk\n",
        "from nltk.util import ngrams\n",
        "from nltk.tokenize import sent_tokenize, word_tokenize\n",
        "from nltk.collocations import *\n",
        "import re\n",
        "\n",
        "nltk.download('punkt')\n",
        "nltk.download('stopwords')\n",
        "from nltk.corpus import stopwords\n",
        "from nltk.tokenize import word_tokenize\n",
        " \n",
        "stop_words = set(stopwords.words('english'))"
      ],
      "execution_count": 12,
      "outputs": [
        {
          "output_type": "stream",
          "name": "stdout",
          "text": [
            "[nltk_data] Downloading package punkt to /root/nltk_data...\n",
            "[nltk_data]   Unzipping tokenizers/punkt.zip.\n",
            "[nltk_data] Downloading package stopwords to /root/nltk_data...\n",
            "[nltk_data]   Unzipping corpora/stopwords.zip.\n"
          ]
        }
      ]
    },
    {
      "cell_type": "code",
      "metadata": {
        "id": "2FiG3JZOJxXR",
        "colab": {
          "resources": {
            "http://localhost:8080/nbextensions/google.colab/files.js": {
              "data": "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",
              "ok": true,
              "headers": [
                [
                  "content-type",
                  "application/javascript"
                ]
              ],
              "status": 200,
              "status_text": ""
            }
          },
          "base_uri": "https://localhost:8080/",
          "height": 72
        },
        "outputId": "a2a01bf3-a839-4b36-909b-1dce5a03928f"
      },
      "source": [
        "from google.colab import files\n",
        "uploaded = files.upload()"
      ],
      "execution_count": 13,
      "outputs": [
        {
          "output_type": "display_data",
          "data": {
            "text/html": [
              "\n",
              "     <input type=\"file\" id=\"files-1089f13c-579c-4dc7-943f-1d18622826f1\" name=\"files[]\" multiple disabled\n",
              "        style=\"border:none\" />\n",
              "     <output id=\"result-1089f13c-579c-4dc7-943f-1d18622826f1\">\n",
              "      Upload widget is only available when the cell has been executed in the\n",
              "      current browser session. Please rerun this cell to enable.\n",
              "      </output>\n",
              "      <script src=\"/nbextensions/google.colab/files.js\"></script> "
            ],
            "text/plain": [
              "<IPython.core.display.HTML object>"
            ]
          },
          "metadata": {}
        },
        {
          "output_type": "stream",
          "name": "stdout",
          "text": [
            "Saving car models and brands.csv to car models and brands.csv\n"
          ]
        }
      ]
    },
    {
      "cell_type": "code",
      "metadata": {
        "id": "nWFM_GnaByFM"
      },
      "source": [
        "df = pd.read_csv('car models and brands.csv', index_col=0) "
      ],
      "execution_count": 14,
      "outputs": []
    },
    {
      "cell_type": "code",
      "metadata": {
        "colab": {
          "base_uri": "https://localhost:8080/",
          "height": 35
        },
        "id": "bB0DUqC0Ln6c",
        "outputId": "9f420d9e-ec22-4f9e-ace0-fdd00ea11c7c"
      },
      "source": [
        "df.reset_index(inplace=True)\n",
        "df.set_index('Model', inplace=True)\n",
        "df.loc['integra'].Brand"
      ],
      "execution_count": 23,
      "outputs": [
        {
          "output_type": "execute_result",
          "data": {
            "application/vnd.google.colaboratory.intrinsic+json": {
              "type": "string"
            },
            "text/plain": [
              "'acura'"
            ]
          },
          "metadata": {},
          "execution_count": 23
        }
      ]
    },
    {
      "cell_type": "code",
      "metadata": {
        "id": "FCTsLyFZ61NX"
      },
      "source": [
        ""
      ],
      "execution_count": 23,
      "outputs": []
    },
    {
      "cell_type": "code",
      "metadata": {
        "id": "BGBgRMPQByIM"
      },
      "source": [
        "def all_words(s,df):\n",
        "  all_words = {}\n",
        "\n",
        "# String Processing\n",
        "  for i in range(len(s)):\n",
        "    s[i] = re.sub(r'[^\\w\\s]','',str(s[i])).replace('\\n\\n',' ').lower()\n",
        "  \n",
        "# replacing stop words and brands.\n",
        "  for i in range(len(s)):\n",
        "    comment_words = s[i].split()\n",
        "\n",
        "    for k in range(len(comment_words)):\n",
        "      if comment_words[k] in df.index.values:\n",
        "        comment_words[k] = df.loc[comment_words[k]].Brand[0]\n",
        "\n",
        "    for j in comment_words:\n",
        "      if j not in all_words.keys() and j not in stopwords.words('english'):\n",
        "        all_words[j] = 0\n",
        "\n",
        "# Getting Frequency\n",
        "  for i in all_words.keys():\n",
        "    for j in range(len(s)):\n",
        "      if i in s[j].split():\n",
        "        all_words[i] = all_words[i]+1    \n",
        "\n",
        "  return all_words\n"
      ],
      "execution_count": 24,
      "outputs": []
    },
    {
      "cell_type": "code",
      "metadata": {
        "id": "FrT3Pq7kEgJZ"
      },
      "source": [
        "all_word_list = all_words(comments['comments'],df)"
      ],
      "execution_count": 25,
      "outputs": []
    },
    {
      "cell_type": "code",
      "metadata": {
        "id": "EGdNJSOYByQq"
      },
      "source": [
        ""
      ],
      "execution_count": 22,
      "outputs": []
    },
    {
      "cell_type": "code",
      "metadata": {
        "id": "rR20IGtxDi-H"
      },
      "source": [
        ""
      ],
      "execution_count": 22,
      "outputs": []
    },
    {
      "cell_type": "code",
      "metadata": {
        "id": "0CnSZgloDjBO"
      },
      "source": [
        ""
      ],
      "execution_count": 22,
      "outputs": []
    },
    {
      "cell_type": "code",
      "metadata": {
        "id": "dt8nYnBEDjDT"
      },
      "source": [
        ""
      ],
      "execution_count": null,
      "outputs": []
    },
    {
      "cell_type": "code",
      "metadata": {
        "id": "XEs-Q39PIQx3"
      },
      "source": [
        "# Source: https://towardsdatascience.com/visualize-multidimensional-datasets-with-mds-64d7b4c16eaa\n",
        "\n",
        "#What is MDS?\n",
        "# MDS (multidimensional scaling) is an algorithm that transforms a dataset into another dataset, usually with lower dimensions, keeping the same euclidean distances between the points.\n",
        "# Keeping the distances is a very useful feature of MDS because it allows us to reasonably preserve patterns and clusters\n",
        "import numpy as np\n",
        "from sklearn.datasets import load_iris\n",
        "import matplotlib.pyplot as plt\n",
        "from sklearn.manifold import MDS\n",
        "from sklearn.preprocessing import MinMaxScaler\n",
        "\n",
        "# load the Iris dataset.\n",
        "data = load_iris()\n",
        "X = data.data\n",
        "\n",
        "#We now perform a 0–1 scaling with MinMaxScaler\n",
        "#Transform features by scaling each feature to a given range.\n",
        "scaler = MinMaxScaler()\n",
        "X_scaled = scaler.fit_transform(X)\n",
        "\n",
        "#we apply the MDS procedure to get a 2-dimensional dataset\n",
        "mds = MDS(2,random_state=0)\n",
        "X_2d = mds.fit_transform(X_scaled)\n",
        "\n",
        "colors = ['red','green','blue']\n",
        "plt.rcParams['figure.figsize'] = [7, 7]\n",
        "plt.rc('font', size=14)\n",
        "# print(data.target)\n",
        "for i in np.unique(data.target):\n",
        "  subset = X_2d[data.target == i]\n",
        "  x = [row[0] for row in subset]\n",
        "  y = [row[1] for row in subset]\n",
        "  plt.scatter(x,y,c=colors[i],label=data.target_names[i])\n",
        "plt.legend()\n",
        "plt.show()\n",
        "\n",
        "#helpful links - http://statweb.stanford.edu/~jtaylo/courses/stats202/mds.html\n",
        "#mds documentation - https://scikit-learn.org/stable/modules/generated/sklearn.manifold.MDS.html\n",
        "#minmaxscaler documentation - https://scikit-learn.org/stable/modules/generated/sklearn.preprocessing.MinMaxScaler.html \n"
      ],
      "execution_count": null,
      "outputs": []
    }
  ]
}