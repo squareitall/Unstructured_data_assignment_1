{
  "nbformat": 4,
  "nbformat_minor": 0,
  "metadata": {
    "accelerator": "GPU",
    "colab": {
      "name": "Unstructured_data_assignment1_final_updated.ipynb",
      "provenance": [],
      "collapsed_sections": []
    },
    "kernelspec": {
      "display_name": "Python 3",
      "language": "python",
      "name": "python3"
    },
    "language_info": {
      "codemirror_mode": {
        "name": "ipython",
        "version": 3
      },
      "file_extension": ".py",
      "mimetype": "text/x-python",
      "name": "python",
      "nbconvert_exporter": "python",
      "pygments_lexer": "ipython3",
      "version": "3.8.5"
    }
  },
  "cells": [
    {
      "cell_type": "markdown",
      "metadata": {
        "id": "VSJz54DHt0Kg"
      },
      "source": [
        "Karthick Ramasubramanian - KR33733\n",
        "\n",
        "Prakhar Bansal - pb25834\n",
        "\n",
        "Shubham Singh - ss96589\n",
        "\n",
        "Soumi Basu\n",
        "\n",
        "Soumik Choudhuri\n"
      ]
    },
    {
      "cell_type": "markdown",
      "metadata": {
        "id": "ptQpPosLtgZj"
      },
      "source": [
        "URL :  https://forums.edmunds.com/discussion/2864/general/x/entry-level-luxury-performance-sedans\n",
        "\n",
        "Top 10 Brands, Attributes chosen, Lift Matrix are seperately mentioned at the bottom of the file."
      ]
    },
    {
      "cell_type": "code",
      "metadata": {
        "colab": {
          "base_uri": "https://localhost:8080/"
        },
        "id": "pWUKAsOhLFoP",
        "outputId": "ef3c9414-6fdc-4cf5-e98f-559764840634"
      },
      "source": [
        "!pip install selenium\n",
        "!apt-get update # to update ubuntu to correctly run apt install\n",
        "!apt install chromium-chromedriver\n",
        "!cp /usr/lib/chromium-browser/chromedriver /usr/bin\n",
        "import sys\n",
        "sys.path.insert(0,'/usr/lib/chromium-browser/chromedriver')\n",
        "from selenium import webdriver\n",
        "chrome_options = webdriver.ChromeOptions()\n",
        "chrome_options.add_argument('--headless')\n",
        "chrome_options.add_argument('--no-sandbox')\n",
        "chrome_options.add_argument('--disable-dev-shm-usage')"
      ],
      "execution_count": null,
      "outputs": [
        {
          "name": "stdout",
          "output_type": "stream",
          "text": [
            "Requirement already satisfied: selenium in /usr/local/lib/python3.7/dist-packages (3.141.0)\n",
            "Requirement already satisfied: urllib3 in /usr/local/lib/python3.7/dist-packages (from selenium) (1.24.3)\n",
            "Hit:1 https://cloud.r-project.org/bin/linux/ubuntu bionic-cran40/ InRelease\n",
            "Get:2 http://security.ubuntu.com/ubuntu bionic-security InRelease [88.7 kB]\n",
            "Ign:3 https://developer.download.nvidia.com/compute/cuda/repos/ubuntu1804/x86_64  InRelease\n",
            "Ign:4 https://developer.download.nvidia.com/compute/machine-learning/repos/ubuntu1804/x86_64  InRelease\n",
            "Hit:5 https://developer.download.nvidia.com/compute/cuda/repos/ubuntu1804/x86_64  Release\n",
            "Hit:6 http://ppa.launchpad.net/c2d4u.team/c2d4u4.0+/ubuntu bionic InRelease\n",
            "Hit:7 https://developer.download.nvidia.com/compute/machine-learning/repos/ubuntu1804/x86_64  Release\n",
            "Hit:8 http://archive.ubuntu.com/ubuntu bionic InRelease\n",
            "Get:9 http://archive.ubuntu.com/ubuntu bionic-updates InRelease [88.7 kB]\n",
            "Hit:10 http://ppa.launchpad.net/cran/libgit2/ubuntu bionic InRelease\n",
            "Hit:11 http://ppa.launchpad.net/deadsnakes/ppa/ubuntu bionic InRelease\n",
            "Get:13 http://archive.ubuntu.com/ubuntu bionic-backports InRelease [74.6 kB]\n",
            "Hit:14 http://ppa.launchpad.net/graphics-drivers/ppa/ubuntu bionic InRelease\n",
            "Fetched 252 kB in 2s (119 kB/s)\n",
            "Reading package lists... Done\n",
            "Reading package lists... Done\n",
            "Building dependency tree       \n",
            "Reading state information... Done\n",
            "chromium-chromedriver is already the newest version (92.0.4515.159-0ubuntu0.18.04.1).\n",
            "0 upgraded, 0 newly installed, 0 to remove and 56 not upgraded.\n",
            "cp: '/usr/lib/chromium-browser/chromedriver' and '/usr/bin/chromedriver' are the same file\n"
          ]
        }
      ]
    },
    {
      "cell_type": "code",
      "metadata": {
        "id": "ufArCqwfLMiY"
      },
      "source": [
        "import time\n",
        "\n",
        "import pandas as  pd\n",
        "import numpy as np\n",
        "import matplotlib.pyplot as plt\n",
        "\n",
        "url='https://forums.edmunds.com/discussion/2864/general/x/entry-level-luxury-performance-sedans'\n",
        "\n",
        "# wd.close()"
      ],
      "execution_count": null,
      "outputs": []
    },
    {
      "cell_type": "code",
      "metadata": {
        "colab": {
          "base_uri": "https://localhost:8080/"
        },
        "id": "5gKqMVOYNNCV",
        "outputId": "52a64c16-a64d-4a18-a5dc-458340fae083"
      },
      "source": [
        "wd= webdriver.Chrome('chromedriver',chrome_options=chrome_options)\n",
        "wd.get(url)\n"
      ],
      "execution_count": null,
      "outputs": [
        {
          "name": "stderr",
          "output_type": "stream",
          "text": [
            "/usr/local/lib/python3.7/dist-packages/ipykernel_launcher.py:1: DeprecationWarning: use options instead of chrome_options\n",
            "  \"\"\"Entry point for launching an IPython kernel.\n"
          ]
        }
      ]
    },
    {
      "cell_type": "code",
      "metadata": {
        "id": "TyVSpYYCNZ4R"
      },
      "source": [
        "# date_time=wd.find_elements_by_xpath(\"//a[@class='Permalink']/time\")\n",
        "# date_time=[i.text for i in date_time]\n",
        "\n",
        "# msg_txt=wd.find_elements_by_xpath(\"//div[@class='Message userContent']\")\n",
        "# msg_txt=[i.text for i in msg_txt]\n",
        "\n",
        "# pd.DataFrame({\n",
        "#     'date_time':date_time,\n",
        "#     'message':msg_txt\n",
        "# })"
      ],
      "execution_count": null,
      "outputs": []
    },
    {
      "cell_type": "code",
      "metadata": {
        "id": "lm5IsuMeOANG"
      },
      "source": [
        "pg_btn=wd.find_elements_by_xpath(\"//a[@aria-label='Next Page']\")\n",
        "pg_btn\n",
        "\n",
        "btn_tbu=pg_btn[0]\n",
        "\n"
      ],
      "execution_count": null,
      "outputs": []
    },
    {
      "cell_type": "code",
      "metadata": {
        "id": "z0o7pbKPOIai"
      },
      "source": [
        "def assemble_dt_messages(skip_first=False):\n",
        "  date_time=wd.find_elements_by_xpath(\"//a[@class='Permalink']/time\")\n",
        "  date_time=[i.text for i in date_time]\n",
        "\n",
        "  msg_txt=wd.find_elements_by_xpath(\"//div[@class='Message userContent']\")\n",
        "  msg_txt=[i.text for i in msg_txt]\n",
        "  \n",
        "  df=pd.DataFrame({\n",
        "    'date_time':date_time,\n",
        "    'message':msg_txt\n",
        "                  })\n",
        "  if skip_first:\n",
        "    df=df.iloc[1:,:]\n",
        "  return df\n"
      ],
      "execution_count": null,
      "outputs": []
    },
    {
      "cell_type": "code",
      "metadata": {
        "colab": {
          "base_uri": "https://localhost:8080/",
          "height": 1000
        },
        "id": "JirDVYByaFLV",
        "outputId": "3a123c75-370d-4d89-f632-32d99ba2ad2e"
      },
      "source": [
        "df_messages=pd.DataFrame()\n",
        "ct_cmnts=df_messages.shape[0]\n",
        "\n",
        "min_num_words=5\n",
        "\n",
        "pg_ct=0\n",
        "while ct_cmnts<=5000:\n",
        "  temp_df=assemble_dt_messages()\n",
        "\n",
        "  temp_df=temp_df.loc[(temp_df.message.apply(lambda e: len(set(str(e).split(' '))))>min_num_words),]#we assert our comment to have at least these many, here 5, number of words\n",
        "\n",
        "\n",
        "  df_messages=pd.concat([df_messages,temp_df])\n",
        "  df_messages=df_messages.drop_duplicates(subset=['message'])#We will drop repetitive messages like 'lol', 'same here' and any other\n",
        "\n",
        "  pg_btn=wd.find_elements_by_xpath(\"//a[@aria-label='Next Page']\")\n",
        "  pg_btn\n",
        "  # time.sleep(1)\n",
        "\n",
        "  btn_tbu=pg_btn[0]\n",
        "  btn_tbu.click()\n",
        "  # time.sleep(0.3)\n",
        "\n",
        "  pg_ct+=1\n",
        "\n",
        "  \n",
        "\n",
        "\n",
        "  ct_cmnts=df_messages.shape[0]\n",
        "\n",
        "  print(ct_cmnts)\n",
        "  display(pd.concat([temp_df.head(3),df_messages.tail(2)]))"
      ],
      "execution_count": null,
      "outputs": [
        {
          "name": "stdout",
          "output_type": "stream",
          "text": [
            "50\n"
          ]
        },
        {
          "data": {
            "text/html": [
              "<div>\n",
              "<style scoped>\n",
              "    .dataframe tbody tr th:only-of-type {\n",
              "        vertical-align: middle;\n",
              "    }\n",
              "\n",
              "    .dataframe tbody tr th {\n",
              "        vertical-align: top;\n",
              "    }\n",
              "\n",
              "    .dataframe thead th {\n",
              "        text-align: right;\n",
              "    }\n",
              "</style>\n",
              "<table border=\"1\" class=\"dataframe\">\n",
              "  <thead>\n",
              "    <tr style=\"text-align: right;\">\n",
              "      <th></th>\n",
              "      <th>date_time</th>\n",
              "      <th>message</th>\n",
              "    </tr>\n",
              "  </thead>\n",
              "  <tbody>\n",
              "    <tr>\n",
              "      <th>0</th>\n",
              "      <td>March 2002</td>\n",
              "      <td>Entry level performance luxury sedans are a ho...</td>\n",
              "    </tr>\n",
              "    <tr>\n",
              "      <th>1</th>\n",
              "      <td>March 2002</td>\n",
              "      <td>I personally think that with a few tweaks the ...</td>\n",
              "    </tr>\n",
              "    <tr>\n",
              "      <th>2</th>\n",
              "      <td>March 2002</td>\n",
              "      <td>I am debating a new purchase and these two are...</td>\n",
              "    </tr>\n",
              "    <tr>\n",
              "      <th>49</th>\n",
              "      <td>April 2002</td>\n",
              "      <td>Yeah, the current S4 has 250 hp and 258 lb-ft ...</td>\n",
              "    </tr>\n",
              "    <tr>\n",
              "      <th>50</th>\n",
              "      <td>April 2002</td>\n",
              "      <td>Not so fast. There is merit to the \"nationalit...</td>\n",
              "    </tr>\n",
              "  </tbody>\n",
              "</table>\n",
              "</div>"
            ],
            "text/plain": [
              "     date_time                                            message\n",
              "0   March 2002  Entry level performance luxury sedans are a ho...\n",
              "1   March 2002  I personally think that with a few tweaks the ...\n",
              "2   March 2002  I am debating a new purchase and these two are...\n",
              "49  April 2002  Yeah, the current S4 has 250 hp and 258 lb-ft ...\n",
              "50  April 2002  Not so fast. There is merit to the \"nationalit..."
            ]
          },
          "metadata": {},
          "output_type": "display_data"
        },
        {
          "name": "stdout",
          "output_type": "stream",
          "text": [
            "100\n"
          ]
        },
        {
          "data": {
            "text/html": [
              "<div>\n",
              "<style scoped>\n",
              "    .dataframe tbody tr th:only-of-type {\n",
              "        vertical-align: middle;\n",
              "    }\n",
              "\n",
              "    .dataframe tbody tr th {\n",
              "        vertical-align: top;\n",
              "    }\n",
              "\n",
              "    .dataframe thead th {\n",
              "        text-align: right;\n",
              "    }\n",
              "</style>\n",
              "<table border=\"1\" class=\"dataframe\">\n",
              "  <thead>\n",
              "    <tr style=\"text-align: right;\">\n",
              "      <th></th>\n",
              "      <th>date_time</th>\n",
              "      <th>message</th>\n",
              "    </tr>\n",
              "  </thead>\n",
              "  <tbody>\n",
              "    <tr>\n",
              "      <th>0</th>\n",
              "      <td>April 2002</td>\n",
              "      <td>The problem is that they are HUGE generalizati...</td>\n",
              "    </tr>\n",
              "    <tr>\n",
              "      <th>1</th>\n",
              "      <td>April 2002</td>\n",
              "      <td>Have found out that with some of the more powe...</td>\n",
              "    </tr>\n",
              "    <tr>\n",
              "      <th>2</th>\n",
              "      <td>April 2002</td>\n",
              "      <td>How does your theory explain English cars? A c...</td>\n",
              "    </tr>\n",
              "    <tr>\n",
              "      <th>48</th>\n",
              "      <td>September 2002</td>\n",
              "      <td>kdshapiro - thanks for your post.\\n\\nI'm findi...</td>\n",
              "    </tr>\n",
              "    <tr>\n",
              "      <th>49</th>\n",
              "      <td>September 2002</td>\n",
              "      <td>These are three pretty different cars, so it r...</td>\n",
              "    </tr>\n",
              "  </tbody>\n",
              "</table>\n",
              "</div>"
            ],
            "text/plain": [
              "         date_time                                            message\n",
              "0       April 2002  The problem is that they are HUGE generalizati...\n",
              "1       April 2002  Have found out that with some of the more powe...\n",
              "2       April 2002  How does your theory explain English cars? A c...\n",
              "48  September 2002  kdshapiro - thanks for your post.\\n\\nI'm findi...\n",
              "49  September 2002  These are three pretty different cars, so it r..."
            ]
          },
          "metadata": {},
          "output_type": "display_data"
        },
        {
          "name": "stdout",
          "output_type": "stream",
          "text": [
            "146\n"
          ]
        },
        {
          "data": {
            "text/html": [
              "<div>\n",
              "<style scoped>\n",
              "    .dataframe tbody tr th:only-of-type {\n",
              "        vertical-align: middle;\n",
              "    }\n",
              "\n",
              "    .dataframe tbody tr th {\n",
              "        vertical-align: top;\n",
              "    }\n",
              "\n",
              "    .dataframe thead th {\n",
              "        text-align: right;\n",
              "    }\n",
              "</style>\n",
              "<table border=\"1\" class=\"dataframe\">\n",
              "  <thead>\n",
              "    <tr style=\"text-align: right;\">\n",
              "      <th></th>\n",
              "      <th>date_time</th>\n",
              "      <th>message</th>\n",
              "    </tr>\n",
              "  </thead>\n",
              "  <tbody>\n",
              "    <tr>\n",
              "      <th>0</th>\n",
              "      <td>September 2002</td>\n",
              "      <td>Does anyone find that the TL has extrememly bo...</td>\n",
              "    </tr>\n",
              "    <tr>\n",
              "      <th>1</th>\n",
              "      <td>September 2002</td>\n",
              "      <td>The TL-S does have boring styling and white is...</td>\n",
              "    </tr>\n",
              "    <tr>\n",
              "      <th>4</th>\n",
              "      <td>September 2002</td>\n",
              "      <td>Wow...that guy in the news clip really does lo...</td>\n",
              "    </tr>\n",
              "    <tr>\n",
              "      <th>48</th>\n",
              "      <td>September 2002</td>\n",
              "      <td>I honestly cannot remember a car I've been in ...</td>\n",
              "    </tr>\n",
              "    <tr>\n",
              "      <th>49</th>\n",
              "      <td>September 2002</td>\n",
              "      <td>\"they DOUBLE their rigidity with EVERY platfor...</td>\n",
              "    </tr>\n",
              "  </tbody>\n",
              "</table>\n",
              "</div>"
            ],
            "text/plain": [
              "         date_time                                            message\n",
              "0   September 2002  Does anyone find that the TL has extrememly bo...\n",
              "1   September 2002  The TL-S does have boring styling and white is...\n",
              "4   September 2002  Wow...that guy in the news clip really does lo...\n",
              "48  September 2002  I honestly cannot remember a car I've been in ...\n",
              "49  September 2002  \"they DOUBLE their rigidity with EVERY platfor..."
            ]
          },
          "metadata": {},
          "output_type": "display_data"
        },
        {
          "name": "stdout",
          "output_type": "stream",
          "text": [
            "194\n"
          ]
        },
        {
          "data": {
            "text/html": [
              "<div>\n",
              "<style scoped>\n",
              "    .dataframe tbody tr th:only-of-type {\n",
              "        vertical-align: middle;\n",
              "    }\n",
              "\n",
              "    .dataframe tbody tr th {\n",
              "        vertical-align: top;\n",
              "    }\n",
              "\n",
              "    .dataframe thead th {\n",
              "        text-align: right;\n",
              "    }\n",
              "</style>\n",
              "<table border=\"1\" class=\"dataframe\">\n",
              "  <thead>\n",
              "    <tr style=\"text-align: right;\">\n",
              "      <th></th>\n",
              "      <th>date_time</th>\n",
              "      <th>message</th>\n",
              "    </tr>\n",
              "  </thead>\n",
              "  <tbody>\n",
              "    <tr>\n",
              "      <th>0</th>\n",
              "      <td>September 2002</td>\n",
              "      <td>Yes, my X-TYPE also has a seatbelt warning lig...</td>\n",
              "    </tr>\n",
              "    <tr>\n",
              "      <th>1</th>\n",
              "      <td>October 2002</td>\n",
              "      <td>While the C-Class did gain an extra star becau...</td>\n",
              "    </tr>\n",
              "    <tr>\n",
              "      <th>2</th>\n",
              "      <td>October 2002</td>\n",
              "      <td>Speaking of Mercedes and safety. I think this ...</td>\n",
              "    </tr>\n",
              "    <tr>\n",
              "      <th>48</th>\n",
              "      <td>September 2003</td>\n",
              "      <td>I've been really pleased with the A4 with Quat...</td>\n",
              "    </tr>\n",
              "    <tr>\n",
              "      <th>49</th>\n",
              "      <td>September 2003</td>\n",
              "      <td>I had many problems with my G35 sedan, but the...</td>\n",
              "    </tr>\n",
              "  </tbody>\n",
              "</table>\n",
              "</div>"
            ],
            "text/plain": [
              "         date_time                                            message\n",
              "0   September 2002  Yes, my X-TYPE also has a seatbelt warning lig...\n",
              "1     October 2002  While the C-Class did gain an extra star becau...\n",
              "2     October 2002  Speaking of Mercedes and safety. I think this ...\n",
              "48  September 2003  I've been really pleased with the A4 with Quat...\n",
              "49  September 2003  I had many problems with my G35 sedan, but the..."
            ]
          },
          "metadata": {},
          "output_type": "display_data"
        },
        {
          "name": "stdout",
          "output_type": "stream",
          "text": [
            "242\n"
          ]
        },
        {
          "data": {
            "text/html": [
              "<div>\n",
              "<style scoped>\n",
              "    .dataframe tbody tr th:only-of-type {\n",
              "        vertical-align: middle;\n",
              "    }\n",
              "\n",
              "    .dataframe tbody tr th {\n",
              "        vertical-align: top;\n",
              "    }\n",
              "\n",
              "    .dataframe thead th {\n",
              "        text-align: right;\n",
              "    }\n",
              "</style>\n",
              "<table border=\"1\" class=\"dataframe\">\n",
              "  <thead>\n",
              "    <tr style=\"text-align: right;\">\n",
              "      <th></th>\n",
              "      <th>date_time</th>\n",
              "      <th>message</th>\n",
              "    </tr>\n",
              "  </thead>\n",
              "  <tbody>\n",
              "    <tr>\n",
              "      <th>0</th>\n",
              "      <td>September 2003</td>\n",
              "      <td>Post your message on the Infiniti board, let b...</td>\n",
              "    </tr>\n",
              "    <tr>\n",
              "      <th>1</th>\n",
              "      <td>September 2003</td>\n",
              "      <td>billyperks - he did - several of them.</td>\n",
              "    </tr>\n",
              "    <tr>\n",
              "      <th>2</th>\n",
              "      <td>October 2003</td>\n",
              "      <td>\"there are too many of them and I feel that th...</td>\n",
              "    </tr>\n",
              "    <tr>\n",
              "      <th>48</th>\n",
              "      <td>January 2004</td>\n",
              "      <td>Not knocking Acura or CR, but JD Powers websit...</td>\n",
              "    </tr>\n",
              "    <tr>\n",
              "      <th>49</th>\n",
              "      <td>January 2004</td>\n",
              "      <td>\"Consumer Reports is THE most respected public...</td>\n",
              "    </tr>\n",
              "  </tbody>\n",
              "</table>\n",
              "</div>"
            ],
            "text/plain": [
              "         date_time                                            message\n",
              "0   September 2003  Post your message on the Infiniti board, let b...\n",
              "1   September 2003             billyperks - he did - several of them.\n",
              "2     October 2003  \"there are too many of them and I feel that th...\n",
              "48    January 2004  Not knocking Acura or CR, but JD Powers websit...\n",
              "49    January 2004  \"Consumer Reports is THE most respected public..."
            ]
          },
          "metadata": {},
          "output_type": "display_data"
        },
        {
          "name": "stdout",
          "output_type": "stream",
          "text": [
            "290\n"
          ]
        },
        {
          "data": {
            "text/html": [
              "<div>\n",
              "<style scoped>\n",
              "    .dataframe tbody tr th:only-of-type {\n",
              "        vertical-align: middle;\n",
              "    }\n",
              "\n",
              "    .dataframe tbody tr th {\n",
              "        vertical-align: top;\n",
              "    }\n",
              "\n",
              "    .dataframe thead th {\n",
              "        text-align: right;\n",
              "    }\n",
              "</style>\n",
              "<table border=\"1\" class=\"dataframe\">\n",
              "  <thead>\n",
              "    <tr style=\"text-align: right;\">\n",
              "      <th></th>\n",
              "      <th>date_time</th>\n",
              "      <th>message</th>\n",
              "    </tr>\n",
              "  </thead>\n",
              "  <tbody>\n",
              "    <tr>\n",
              "      <th>0</th>\n",
              "      <td>January 2004</td>\n",
              "      <td>Wellll, that is your opinion, of course. Other...</td>\n",
              "    </tr>\n",
              "    <tr>\n",
              "      <th>1</th>\n",
              "      <td>January 2004</td>\n",
              "      <td>Any auto reviewer that can state 530i is the b...</td>\n",
              "    </tr>\n",
              "    <tr>\n",
              "      <th>2</th>\n",
              "      <td>January 2004</td>\n",
              "      <td>Yep, hear ya.\\n\\nBut that vehicle probably doe...</td>\n",
              "    </tr>\n",
              "    <tr>\n",
              "      <th>48</th>\n",
              "      <td>January 2004</td>\n",
              "      <td>I saw the arguments about the TL and the 330. ...</td>\n",
              "    </tr>\n",
              "    <tr>\n",
              "      <th>49</th>\n",
              "      <td>January 2004</td>\n",
              "      <td>\"At this year's 2004 Los Angeles Auto Show, Ac...</td>\n",
              "    </tr>\n",
              "  </tbody>\n",
              "</table>\n",
              "</div>"
            ],
            "text/plain": [
              "       date_time                                            message\n",
              "0   January 2004  Wellll, that is your opinion, of course. Other...\n",
              "1   January 2004  Any auto reviewer that can state 530i is the b...\n",
              "2   January 2004  Yep, hear ya.\\n\\nBut that vehicle probably doe...\n",
              "48  January 2004  I saw the arguments about the TL and the 330. ...\n",
              "49  January 2004  \"At this year's 2004 Los Angeles Auto Show, Ac..."
            ]
          },
          "metadata": {},
          "output_type": "display_data"
        },
        {
          "name": "stdout",
          "output_type": "stream",
          "text": [
            "340\n"
          ]
        },
        {
          "data": {
            "text/html": [
              "<div>\n",
              "<style scoped>\n",
              "    .dataframe tbody tr th:only-of-type {\n",
              "        vertical-align: middle;\n",
              "    }\n",
              "\n",
              "    .dataframe tbody tr th {\n",
              "        vertical-align: top;\n",
              "    }\n",
              "\n",
              "    .dataframe thead th {\n",
              "        text-align: right;\n",
              "    }\n",
              "</style>\n",
              "<table border=\"1\" class=\"dataframe\">\n",
              "  <thead>\n",
              "    <tr style=\"text-align: right;\">\n",
              "      <th></th>\n",
              "      <th>date_time</th>\n",
              "      <th>message</th>\n",
              "    </tr>\n",
              "  </thead>\n",
              "  <tbody>\n",
              "    <tr>\n",
              "      <th>0</th>\n",
              "      <td>January 2004</td>\n",
              "      <td>braking - sorry the 70 to 0 braking of 189 rep...</td>\n",
              "    </tr>\n",
              "    <tr>\n",
              "      <th>1</th>\n",
              "      <td>January 2004</td>\n",
              "      <td>A new 2004 Accord drove up into my driveway la...</td>\n",
              "    </tr>\n",
              "    <tr>\n",
              "      <th>2</th>\n",
              "      <td>January 2004</td>\n",
              "      <td>For those who love numbers, compare performanc...</td>\n",
              "    </tr>\n",
              "    <tr>\n",
              "      <th>48</th>\n",
              "      <td>January 2004</td>\n",
              "      <td>yes, if you take the worst handling FWD cars a...</td>\n",
              "    </tr>\n",
              "    <tr>\n",
              "      <th>49</th>\n",
              "      <td>January 2004</td>\n",
              "      <td>Ok, kd. Time to retire the Hyundai bit, like I...</td>\n",
              "    </tr>\n",
              "  </tbody>\n",
              "</table>\n",
              "</div>"
            ],
            "text/plain": [
              "       date_time                                            message\n",
              "0   January 2004  braking - sorry the 70 to 0 braking of 189 rep...\n",
              "1   January 2004  A new 2004 Accord drove up into my driveway la...\n",
              "2   January 2004  For those who love numbers, compare performanc...\n",
              "48  January 2004  yes, if you take the worst handling FWD cars a...\n",
              "49  January 2004  Ok, kd. Time to retire the Hyundai bit, like I..."
            ]
          },
          "metadata": {},
          "output_type": "display_data"
        },
        {
          "name": "stdout",
          "output_type": "stream",
          "text": [
            "390\n"
          ]
        },
        {
          "data": {
            "text/html": [
              "<div>\n",
              "<style scoped>\n",
              "    .dataframe tbody tr th:only-of-type {\n",
              "        vertical-align: middle;\n",
              "    }\n",
              "\n",
              "    .dataframe tbody tr th {\n",
              "        vertical-align: top;\n",
              "    }\n",
              "\n",
              "    .dataframe thead th {\n",
              "        text-align: right;\n",
              "    }\n",
              "</style>\n",
              "<table border=\"1\" class=\"dataframe\">\n",
              "  <thead>\n",
              "    <tr style=\"text-align: right;\">\n",
              "      <th></th>\n",
              "      <th>date_time</th>\n",
              "      <th>message</th>\n",
              "    </tr>\n",
              "  </thead>\n",
              "  <tbody>\n",
              "    <tr>\n",
              "      <th>0</th>\n",
              "      <td>January 2004</td>\n",
              "      <td>hello everyone, I test drove both a Honda acco...</td>\n",
              "    </tr>\n",
              "    <tr>\n",
              "      <th>1</th>\n",
              "      <td>January 2004</td>\n",
              "      <td>I dont understand why is that Saab does not co...</td>\n",
              "    </tr>\n",
              "    <tr>\n",
              "      <th>2</th>\n",
              "      <td>January 2004</td>\n",
              "      <td>pp...it was written tongue in cheek...forgot t...</td>\n",
              "    </tr>\n",
              "    <tr>\n",
              "      <th>48</th>\n",
              "      <td>January 2004</td>\n",
              "      <td>So you have a car that doesn't handle nearly a...</td>\n",
              "    </tr>\n",
              "    <tr>\n",
              "      <th>49</th>\n",
              "      <td>January 2004</td>\n",
              "      <td>\"Are you kidding?! Most of us are stuck in tra...</td>\n",
              "    </tr>\n",
              "  </tbody>\n",
              "</table>\n",
              "</div>"
            ],
            "text/plain": [
              "       date_time                                            message\n",
              "0   January 2004  hello everyone, I test drove both a Honda acco...\n",
              "1   January 2004  I dont understand why is that Saab does not co...\n",
              "2   January 2004  pp...it was written tongue in cheek...forgot t...\n",
              "48  January 2004  So you have a car that doesn't handle nearly a...\n",
              "49  January 2004  \"Are you kidding?! Most of us are stuck in tra..."
            ]
          },
          "metadata": {},
          "output_type": "display_data"
        },
        {
          "name": "stdout",
          "output_type": "stream",
          "text": [
            "437\n"
          ]
        },
        {
          "data": {
            "text/html": [
              "<div>\n",
              "<style scoped>\n",
              "    .dataframe tbody tr th:only-of-type {\n",
              "        vertical-align: middle;\n",
              "    }\n",
              "\n",
              "    .dataframe tbody tr th {\n",
              "        vertical-align: top;\n",
              "    }\n",
              "\n",
              "    .dataframe thead th {\n",
              "        text-align: right;\n",
              "    }\n",
              "</style>\n",
              "<table border=\"1\" class=\"dataframe\">\n",
              "  <thead>\n",
              "    <tr style=\"text-align: right;\">\n",
              "      <th></th>\n",
              "      <th>date_time</th>\n",
              "      <th>message</th>\n",
              "    </tr>\n",
              "  </thead>\n",
              "  <tbody>\n",
              "    <tr>\n",
              "      <th>0</th>\n",
              "      <td>January 2004</td>\n",
              "      <td>Is that Blue Mountain ski resort, just north o...</td>\n",
              "    </tr>\n",
              "    <tr>\n",
              "      <th>1</th>\n",
              "      <td>January 2004</td>\n",
              "      <td>\"Are you kidding?! Most of us are stuck in tra...</td>\n",
              "    </tr>\n",
              "    <tr>\n",
              "      <th>2</th>\n",
              "      <td>January 2004</td>\n",
              "      <td>Yes it is. Not much but they open at 7:30 on w...</td>\n",
              "    </tr>\n",
              "    <tr>\n",
              "      <th>48</th>\n",
              "      <td>January 2004</td>\n",
              "      <td>The Ultimate Argument does not hold water. Per...</td>\n",
              "    </tr>\n",
              "    <tr>\n",
              "      <th>49</th>\n",
              "      <td>January 2004</td>\n",
              "      <td>At work there is a nice G35 with 18\" wheels, l...</td>\n",
              "    </tr>\n",
              "  </tbody>\n",
              "</table>\n",
              "</div>"
            ],
            "text/plain": [
              "       date_time                                            message\n",
              "0   January 2004  Is that Blue Mountain ski resort, just north o...\n",
              "1   January 2004  \"Are you kidding?! Most of us are stuck in tra...\n",
              "2   January 2004  Yes it is. Not much but they open at 7:30 on w...\n",
              "48  January 2004  The Ultimate Argument does not hold water. Per...\n",
              "49  January 2004  At work there is a nice G35 with 18\" wheels, l..."
            ]
          },
          "metadata": {},
          "output_type": "display_data"
        },
        {
          "name": "stdout",
          "output_type": "stream",
          "text": [
            "484\n"
          ]
        },
        {
          "data": {
            "text/html": [
              "<div>\n",
              "<style scoped>\n",
              "    .dataframe tbody tr th:only-of-type {\n",
              "        vertical-align: middle;\n",
              "    }\n",
              "\n",
              "    .dataframe tbody tr th {\n",
              "        vertical-align: top;\n",
              "    }\n",
              "\n",
              "    .dataframe thead th {\n",
              "        text-align: right;\n",
              "    }\n",
              "</style>\n",
              "<table border=\"1\" class=\"dataframe\">\n",
              "  <thead>\n",
              "    <tr style=\"text-align: right;\">\n",
              "      <th></th>\n",
              "      <th>date_time</th>\n",
              "      <th>message</th>\n",
              "    </tr>\n",
              "  </thead>\n",
              "  <tbody>\n",
              "    <tr>\n",
              "      <th>0</th>\n",
              "      <td>January 2004</td>\n",
              "      <td>The Legacy GT is another one I'm looking forwa...</td>\n",
              "    </tr>\n",
              "    <tr>\n",
              "      <th>1</th>\n",
              "      <td>January 2004</td>\n",
              "      <td>\"You G35, TL &amp; IS300 worshipers are gonna be u...</td>\n",
              "    </tr>\n",
              "    <tr>\n",
              "      <th>2</th>\n",
              "      <td>January 2004</td>\n",
              "      <td>If you review the few mag articles that relate...</td>\n",
              "    </tr>\n",
              "    <tr>\n",
              "      <th>48</th>\n",
              "      <td>January 2004</td>\n",
              "      <td>\"What a rhetorical question... Of course, it's...</td>\n",
              "    </tr>\n",
              "    <tr>\n",
              "      <th>49</th>\n",
              "      <td>January 2004</td>\n",
              "      <td>I'm hoping to be old, rich, healthy, driving a...</td>\n",
              "    </tr>\n",
              "  </tbody>\n",
              "</table>\n",
              "</div>"
            ],
            "text/plain": [
              "       date_time                                            message\n",
              "0   January 2004  The Legacy GT is another one I'm looking forwa...\n",
              "1   January 2004  \"You G35, TL & IS300 worshipers are gonna be u...\n",
              "2   January 2004  If you review the few mag articles that relate...\n",
              "48  January 2004  \"What a rhetorical question... Of course, it's...\n",
              "49  January 2004  I'm hoping to be old, rich, healthy, driving a..."
            ]
          },
          "metadata": {},
          "output_type": "display_data"
        },
        {
          "name": "stdout",
          "output_type": "stream",
          "text": [
            "533\n"
          ]
        },
        {
          "data": {
            "text/html": [
              "<div>\n",
              "<style scoped>\n",
              "    .dataframe tbody tr th:only-of-type {\n",
              "        vertical-align: middle;\n",
              "    }\n",
              "\n",
              "    .dataframe tbody tr th {\n",
              "        vertical-align: top;\n",
              "    }\n",
              "\n",
              "    .dataframe thead th {\n",
              "        text-align: right;\n",
              "    }\n",
              "</style>\n",
              "<table border=\"1\" class=\"dataframe\">\n",
              "  <thead>\n",
              "    <tr style=\"text-align: right;\">\n",
              "      <th></th>\n",
              "      <th>date_time</th>\n",
              "      <th>message</th>\n",
              "    </tr>\n",
              "  </thead>\n",
              "  <tbody>\n",
              "    <tr>\n",
              "      <th>0</th>\n",
              "      <td>January 2004</td>\n",
              "      <td>Don't you think people see their car as projec...</td>\n",
              "    </tr>\n",
              "    <tr>\n",
              "      <th>1</th>\n",
              "      <td>January 2004</td>\n",
              "      <td>I dont know about that...we just all want the ...</td>\n",
              "    </tr>\n",
              "    <tr>\n",
              "      <th>2</th>\n",
              "      <td>January 2004</td>\n",
              "      <td>\"way more than we are paying for entry lux sed...</td>\n",
              "    </tr>\n",
              "    <tr>\n",
              "      <th>48</th>\n",
              "      <td>January 2004</td>\n",
              "      <td>It is my belief that the average driver can ge...</td>\n",
              "    </tr>\n",
              "    <tr>\n",
              "      <th>49</th>\n",
              "      <td>January 2004</td>\n",
              "      <td>I actually agree with you in the light HP duty...</td>\n",
              "    </tr>\n",
              "  </tbody>\n",
              "</table>\n",
              "</div>"
            ],
            "text/plain": [
              "       date_time                                            message\n",
              "0   January 2004  Don't you think people see their car as projec...\n",
              "1   January 2004  I dont know about that...we just all want the ...\n",
              "2   January 2004  \"way more than we are paying for entry lux sed...\n",
              "48  January 2004  It is my belief that the average driver can ge...\n",
              "49  January 2004  I actually agree with you in the light HP duty..."
            ]
          },
          "metadata": {},
          "output_type": "display_data"
        },
        {
          "name": "stdout",
          "output_type": "stream",
          "text": [
            "582\n"
          ]
        },
        {
          "data": {
            "text/html": [
              "<div>\n",
              "<style scoped>\n",
              "    .dataframe tbody tr th:only-of-type {\n",
              "        vertical-align: middle;\n",
              "    }\n",
              "\n",
              "    .dataframe tbody tr th {\n",
              "        vertical-align: top;\n",
              "    }\n",
              "\n",
              "    .dataframe thead th {\n",
              "        text-align: right;\n",
              "    }\n",
              "</style>\n",
              "<table border=\"1\" class=\"dataframe\">\n",
              "  <thead>\n",
              "    <tr style=\"text-align: right;\">\n",
              "      <th></th>\n",
              "      <th>date_time</th>\n",
              "      <th>message</th>\n",
              "    </tr>\n",
              "  </thead>\n",
              "  <tbody>\n",
              "    <tr>\n",
              "      <th>0</th>\n",
              "      <td>January 2004</td>\n",
              "      <td>\"The bottom line for me is that I think you ca...</td>\n",
              "    </tr>\n",
              "    <tr>\n",
              "      <th>1</th>\n",
              "      <td>January 2004</td>\n",
              "      <td>The main point of my post was to emphasize tha...</td>\n",
              "    </tr>\n",
              "    <tr>\n",
              "      <th>2</th>\n",
              "      <td>January 2004</td>\n",
              "      <td>chris - my take is that you would be very eage...</td>\n",
              "    </tr>\n",
              "    <tr>\n",
              "      <th>48</th>\n",
              "      <td>January 2004</td>\n",
              "      <td>whatever comp you want KD I'll feel pretty goo...</td>\n",
              "    </tr>\n",
              "    <tr>\n",
              "      <th>49</th>\n",
              "      <td>January 2004</td>\n",
              "      <td>\"You want to bring the 2 doors into it feel fr...</td>\n",
              "    </tr>\n",
              "  </tbody>\n",
              "</table>\n",
              "</div>"
            ],
            "text/plain": [
              "       date_time                                            message\n",
              "0   January 2004  \"The bottom line for me is that I think you ca...\n",
              "1   January 2004  The main point of my post was to emphasize tha...\n",
              "2   January 2004  chris - my take is that you would be very eage...\n",
              "48  January 2004  whatever comp you want KD I'll feel pretty goo...\n",
              "49  January 2004  \"You want to bring the 2 doors into it feel fr..."
            ]
          },
          "metadata": {},
          "output_type": "display_data"
        },
        {
          "name": "stdout",
          "output_type": "stream",
          "text": [
            "630\n"
          ]
        },
        {
          "data": {
            "text/html": [
              "<div>\n",
              "<style scoped>\n",
              "    .dataframe tbody tr th:only-of-type {\n",
              "        vertical-align: middle;\n",
              "    }\n",
              "\n",
              "    .dataframe tbody tr th {\n",
              "        vertical-align: top;\n",
              "    }\n",
              "\n",
              "    .dataframe thead th {\n",
              "        text-align: right;\n",
              "    }\n",
              "</style>\n",
              "<table border=\"1\" class=\"dataframe\">\n",
              "  <thead>\n",
              "    <tr style=\"text-align: right;\">\n",
              "      <th></th>\n",
              "      <th>date_time</th>\n",
              "      <th>message</th>\n",
              "    </tr>\n",
              "  </thead>\n",
              "  <tbody>\n",
              "    <tr>\n",
              "      <th>0</th>\n",
              "      <td>January 2004</td>\n",
              "      <td>I didn't bring it into the mix - the thoroughl...</td>\n",
              "    </tr>\n",
              "    <tr>\n",
              "      <th>1</th>\n",
              "      <td>January 2004</td>\n",
              "      <td>I was just chatting with some old 5 series own...</td>\n",
              "    </tr>\n",
              "    <tr>\n",
              "      <th>2</th>\n",
              "      <td>January 2004</td>\n",
              "      <td>\"Present value of 300 a month for 48 months at...</td>\n",
              "    </tr>\n",
              "    <tr>\n",
              "      <th>47</th>\n",
              "      <td>January 2004</td>\n",
              "      <td>\"It's hard for me to see prestige when I see m...</td>\n",
              "    </tr>\n",
              "    <tr>\n",
              "      <th>48</th>\n",
              "      <td>January 2004</td>\n",
              "      <td>\"Granted, a car writer's opinion carries a lot...</td>\n",
              "    </tr>\n",
              "  </tbody>\n",
              "</table>\n",
              "</div>"
            ],
            "text/plain": [
              "       date_time                                            message\n",
              "0   January 2004  I didn't bring it into the mix - the thoroughl...\n",
              "1   January 2004  I was just chatting with some old 5 series own...\n",
              "2   January 2004  \"Present value of 300 a month for 48 months at...\n",
              "47  January 2004  \"It's hard for me to see prestige when I see m...\n",
              "48  January 2004  \"Granted, a car writer's opinion carries a lot..."
            ]
          },
          "metadata": {},
          "output_type": "display_data"
        },
        {
          "name": "stdout",
          "output_type": "stream",
          "text": [
            "679\n"
          ]
        },
        {
          "data": {
            "text/html": [
              "<div>\n",
              "<style scoped>\n",
              "    .dataframe tbody tr th:only-of-type {\n",
              "        vertical-align: middle;\n",
              "    }\n",
              "\n",
              "    .dataframe tbody tr th {\n",
              "        vertical-align: top;\n",
              "    }\n",
              "\n",
              "    .dataframe thead th {\n",
              "        text-align: right;\n",
              "    }\n",
              "</style>\n",
              "<table border=\"1\" class=\"dataframe\">\n",
              "  <thead>\n",
              "    <tr style=\"text-align: right;\">\n",
              "      <th></th>\n",
              "      <th>date_time</th>\n",
              "      <th>message</th>\n",
              "    </tr>\n",
              "  </thead>\n",
              "  <tbody>\n",
              "    <tr>\n",
              "      <th>0</th>\n",
              "      <td>January 2004</td>\n",
              "      <td>I've driven a Passat and own an A4, and they d...</td>\n",
              "    </tr>\n",
              "    <tr>\n",
              "      <th>1</th>\n",
              "      <td>January 2004</td>\n",
              "      <td>Drive a passat isn't like driving an A4. Same ...</td>\n",
              "    </tr>\n",
              "    <tr>\n",
              "      <th>2</th>\n",
              "      <td>January 2004</td>\n",
              "      <td>qbrozen... I buy what I love. I might like oth...</td>\n",
              "    </tr>\n",
              "    <tr>\n",
              "      <th>48</th>\n",
              "      <td>February 2004</td>\n",
              "      <td>Pretty darn good. If they're willing to change...</td>\n",
              "    </tr>\n",
              "    <tr>\n",
              "      <th>49</th>\n",
              "      <td>February 2004</td>\n",
              "      <td>BMW completed one if it's best years ever. So ...</td>\n",
              "    </tr>\n",
              "  </tbody>\n",
              "</table>\n",
              "</div>"
            ],
            "text/plain": [
              "        date_time                                            message\n",
              "0    January 2004  I've driven a Passat and own an A4, and they d...\n",
              "1    January 2004  Drive a passat isn't like driving an A4. Same ...\n",
              "2    January 2004  qbrozen... I buy what I love. I might like oth...\n",
              "48  February 2004  Pretty darn good. If they're willing to change...\n",
              "49  February 2004  BMW completed one if it's best years ever. So ..."
            ]
          },
          "metadata": {},
          "output_type": "display_data"
        },
        {
          "name": "stdout",
          "output_type": "stream",
          "text": [
            "727\n"
          ]
        },
        {
          "data": {
            "text/html": [
              "<div>\n",
              "<style scoped>\n",
              "    .dataframe tbody tr th:only-of-type {\n",
              "        vertical-align: middle;\n",
              "    }\n",
              "\n",
              "    .dataframe tbody tr th {\n",
              "        vertical-align: top;\n",
              "    }\n",
              "\n",
              "    .dataframe thead th {\n",
              "        text-align: right;\n",
              "    }\n",
              "</style>\n",
              "<table border=\"1\" class=\"dataframe\">\n",
              "  <thead>\n",
              "    <tr style=\"text-align: right;\">\n",
              "      <th></th>\n",
              "      <th>date_time</th>\n",
              "      <th>message</th>\n",
              "    </tr>\n",
              "  </thead>\n",
              "  <tbody>\n",
              "    <tr>\n",
              "      <th>0</th>\n",
              "      <td>February 2004</td>\n",
              "      <td>\"I dont even know why 800k people chosed Accor...</td>\n",
              "    </tr>\n",
              "    <tr>\n",
              "      <th>1</th>\n",
              "      <td>February 2004</td>\n",
              "      <td>To get the most out of a 325i or 330i, you hav...</td>\n",
              "    </tr>\n",
              "    <tr>\n",
              "      <th>2</th>\n",
              "      <td>February 2004</td>\n",
              "      <td>As much as some BMW owners on this board like ...</td>\n",
              "    </tr>\n",
              "    <tr>\n",
              "      <th>48</th>\n",
              "      <td>February 2004</td>\n",
              "      <td>So the entire 5-series gets top honors, but th...</td>\n",
              "    </tr>\n",
              "    <tr>\n",
              "      <th>49</th>\n",
              "      <td>February 2004</td>\n",
              "      <td>I read this from another forum:\\n\\n\"You just n...</td>\n",
              "    </tr>\n",
              "  </tbody>\n",
              "</table>\n",
              "</div>"
            ],
            "text/plain": [
              "        date_time                                            message\n",
              "0   February 2004  \"I dont even know why 800k people chosed Accor...\n",
              "1   February 2004  To get the most out of a 325i or 330i, you hav...\n",
              "2   February 2004  As much as some BMW owners on this board like ...\n",
              "48  February 2004  So the entire 5-series gets top honors, but th...\n",
              "49  February 2004  I read this from another forum:\\n\\n\"You just n..."
            ]
          },
          "metadata": {},
          "output_type": "display_data"
        },
        {
          "name": "stdout",
          "output_type": "stream",
          "text": [
            "775\n"
          ]
        },
        {
          "data": {
            "text/html": [
              "<div>\n",
              "<style scoped>\n",
              "    .dataframe tbody tr th:only-of-type {\n",
              "        vertical-align: middle;\n",
              "    }\n",
              "\n",
              "    .dataframe tbody tr th {\n",
              "        vertical-align: top;\n",
              "    }\n",
              "\n",
              "    .dataframe thead th {\n",
              "        text-align: right;\n",
              "    }\n",
              "</style>\n",
              "<table border=\"1\" class=\"dataframe\">\n",
              "  <thead>\n",
              "    <tr style=\"text-align: right;\">\n",
              "      <th></th>\n",
              "      <th>date_time</th>\n",
              "      <th>message</th>\n",
              "    </tr>\n",
              "  </thead>\n",
              "  <tbody>\n",
              "    <tr>\n",
              "      <th>0</th>\n",
              "      <td>February 2004</td>\n",
              "      <td>CLS? Acura CL Type S? That can't be it as the ...</td>\n",
              "    </tr>\n",
              "    <tr>\n",
              "      <th>2</th>\n",
              "      <td>February 2004</td>\n",
              "      <td>Story is titled \"Hobson's Choice: Value versus...</td>\n",
              "    </tr>\n",
              "    <tr>\n",
              "      <th>3</th>\n",
              "      <td>February 2004</td>\n",
              "      <td>I couldn't convince anyone I've helped buy a c...</td>\n",
              "    </tr>\n",
              "    <tr>\n",
              "      <th>48</th>\n",
              "      <td>February 2004</td>\n",
              "      <td>Audi and BMW make it hard to compete in the co...</td>\n",
              "    </tr>\n",
              "    <tr>\n",
              "      <th>49</th>\n",
              "      <td>February 2004</td>\n",
              "      <td>Audi? rofl. Audi's A4 Cab is a joke. It's stra...</td>\n",
              "    </tr>\n",
              "  </tbody>\n",
              "</table>\n",
              "</div>"
            ],
            "text/plain": [
              "        date_time                                            message\n",
              "0   February 2004  CLS? Acura CL Type S? That can't be it as the ...\n",
              "2   February 2004  Story is titled \"Hobson's Choice: Value versus...\n",
              "3   February 2004  I couldn't convince anyone I've helped buy a c...\n",
              "48  February 2004  Audi and BMW make it hard to compete in the co...\n",
              "49  February 2004  Audi? rofl. Audi's A4 Cab is a joke. It's stra..."
            ]
          },
          "metadata": {},
          "output_type": "display_data"
        },
        {
          "name": "stdout",
          "output_type": "stream",
          "text": [
            "825\n"
          ]
        },
        {
          "data": {
            "text/html": [
              "<div>\n",
              "<style scoped>\n",
              "    .dataframe tbody tr th:only-of-type {\n",
              "        vertical-align: middle;\n",
              "    }\n",
              "\n",
              "    .dataframe tbody tr th {\n",
              "        vertical-align: top;\n",
              "    }\n",
              "\n",
              "    .dataframe thead th {\n",
              "        text-align: right;\n",
              "    }\n",
              "</style>\n",
              "<table border=\"1\" class=\"dataframe\">\n",
              "  <thead>\n",
              "    <tr style=\"text-align: right;\">\n",
              "      <th></th>\n",
              "      <th>date_time</th>\n",
              "      <th>message</th>\n",
              "    </tr>\n",
              "  </thead>\n",
              "  <tbody>\n",
              "    <tr>\n",
              "      <th>0</th>\n",
              "      <td>February 2004</td>\n",
              "      <td>The Audi is probably cross shopped by 3cic buy...</td>\n",
              "    </tr>\n",
              "    <tr>\n",
              "      <th>1</th>\n",
              "      <td>February 2004</td>\n",
              "      <td>The A4 Cab is a beautiful car, and it is more ...</td>\n",
              "    </tr>\n",
              "    <tr>\n",
              "      <th>2</th>\n",
              "      <td>February 2004</td>\n",
              "      <td>BTW...I would hardly call the upcoming S4 Cabr...</td>\n",
              "    </tr>\n",
              "    <tr>\n",
              "      <th>48</th>\n",
              "      <td>February 2004</td>\n",
              "      <td>I said BMW's rep rests on style, performance, ...</td>\n",
              "    </tr>\n",
              "    <tr>\n",
              "      <th>49</th>\n",
              "      <td>February 2004</td>\n",
              "      <td>...notwithstanding the actual lexus dynamics, ...</td>\n",
              "    </tr>\n",
              "  </tbody>\n",
              "</table>\n",
              "</div>"
            ],
            "text/plain": [
              "        date_time                                            message\n",
              "0   February 2004  The Audi is probably cross shopped by 3cic buy...\n",
              "1   February 2004  The A4 Cab is a beautiful car, and it is more ...\n",
              "2   February 2004  BTW...I would hardly call the upcoming S4 Cabr...\n",
              "48  February 2004  I said BMW's rep rests on style, performance, ...\n",
              "49  February 2004  ...notwithstanding the actual lexus dynamics, ..."
            ]
          },
          "metadata": {},
          "output_type": "display_data"
        },
        {
          "name": "stdout",
          "output_type": "stream",
          "text": [
            "873\n"
          ]
        },
        {
          "data": {
            "text/html": [
              "<div>\n",
              "<style scoped>\n",
              "    .dataframe tbody tr th:only-of-type {\n",
              "        vertical-align: middle;\n",
              "    }\n",
              "\n",
              "    .dataframe tbody tr th {\n",
              "        vertical-align: top;\n",
              "    }\n",
              "\n",
              "    .dataframe thead th {\n",
              "        text-align: right;\n",
              "    }\n",
              "</style>\n",
              "<table border=\"1\" class=\"dataframe\">\n",
              "  <thead>\n",
              "    <tr style=\"text-align: right;\">\n",
              "      <th></th>\n",
              "      <th>date_time</th>\n",
              "      <th>message</th>\n",
              "    </tr>\n",
              "  </thead>\n",
              "  <tbody>\n",
              "    <tr>\n",
              "      <th>0</th>\n",
              "      <td>February 2004</td>\n",
              "      <td>Blue,\\n\\nNobody said VW doesn't have quality i...</td>\n",
              "    </tr>\n",
              "    <tr>\n",
              "      <th>1</th>\n",
              "      <td>February 2004</td>\n",
              "      <td>\"I said BMW's rep rests on style, performance,...</td>\n",
              "    </tr>\n",
              "    <tr>\n",
              "      <th>2</th>\n",
              "      <td>February 2004</td>\n",
              "      <td>meanwhile the 5 series got worse and costs mor...</td>\n",
              "    </tr>\n",
              "    <tr>\n",
              "      <th>47</th>\n",
              "      <td>February 2004</td>\n",
              "      <td>did your friend really pay you?</td>\n",
              "    </tr>\n",
              "    <tr>\n",
              "      <th>48</th>\n",
              "      <td>February 2004</td>\n",
              "      <td>She is sitting beside me as I am typing. We de...</td>\n",
              "    </tr>\n",
              "  </tbody>\n",
              "</table>\n",
              "</div>"
            ],
            "text/plain": [
              "        date_time                                            message\n",
              "0   February 2004  Blue,\\n\\nNobody said VW doesn't have quality i...\n",
              "1   February 2004  \"I said BMW's rep rests on style, performance,...\n",
              "2   February 2004  meanwhile the 5 series got worse and costs mor...\n",
              "47  February 2004                    did your friend really pay you?\n",
              "48  February 2004  She is sitting beside me as I am typing. We de..."
            ]
          },
          "metadata": {},
          "output_type": "display_data"
        },
        {
          "name": "stdout",
          "output_type": "stream",
          "text": [
            "923\n"
          ]
        },
        {
          "data": {
            "text/html": [
              "<div>\n",
              "<style scoped>\n",
              "    .dataframe tbody tr th:only-of-type {\n",
              "        vertical-align: middle;\n",
              "    }\n",
              "\n",
              "    .dataframe tbody tr th {\n",
              "        vertical-align: top;\n",
              "    }\n",
              "\n",
              "    .dataframe thead th {\n",
              "        text-align: right;\n",
              "    }\n",
              "</style>\n",
              "<table border=\"1\" class=\"dataframe\">\n",
              "  <thead>\n",
              "    <tr style=\"text-align: right;\">\n",
              "      <th></th>\n",
              "      <th>date_time</th>\n",
              "      <th>message</th>\n",
              "    </tr>\n",
              "  </thead>\n",
              "  <tbody>\n",
              "    <tr>\n",
              "      <th>0</th>\n",
              "      <td>February 2004</td>\n",
              "      <td>I believe all sport-sedan lovers are latent sp...</td>\n",
              "    </tr>\n",
              "    <tr>\n",
              "      <th>1</th>\n",
              "      <td>February 2004</td>\n",
              "      <td>I have been staying out of here for awhile but...</td>\n",
              "    </tr>\n",
              "    <tr>\n",
              "      <th>2</th>\n",
              "      <td>February 2004</td>\n",
              "      <td>Great post raher!\\n\\nBottom Line... We old goa...</td>\n",
              "    </tr>\n",
              "    <tr>\n",
              "      <th>48</th>\n",
              "      <td>February 2004</td>\n",
              "      <td>There are plenty of differences between the 32...</td>\n",
              "    </tr>\n",
              "    <tr>\n",
              "      <th>49</th>\n",
              "      <td>February 2004</td>\n",
              "      <td>95gt\\n\\nI got a loaded A4 1.8T frontrack for j...</td>\n",
              "    </tr>\n",
              "  </tbody>\n",
              "</table>\n",
              "</div>"
            ],
            "text/plain": [
              "        date_time                                            message\n",
              "0   February 2004  I believe all sport-sedan lovers are latent sp...\n",
              "1   February 2004  I have been staying out of here for awhile but...\n",
              "2   February 2004  Great post raher!\\n\\nBottom Line... We old goa...\n",
              "48  February 2004  There are plenty of differences between the 32...\n",
              "49  February 2004  95gt\\n\\nI got a loaded A4 1.8T frontrack for j..."
            ]
          },
          "metadata": {},
          "output_type": "display_data"
        },
        {
          "name": "stdout",
          "output_type": "stream",
          "text": [
            "971\n"
          ]
        },
        {
          "data": {
            "text/html": [
              "<div>\n",
              "<style scoped>\n",
              "    .dataframe tbody tr th:only-of-type {\n",
              "        vertical-align: middle;\n",
              "    }\n",
              "\n",
              "    .dataframe tbody tr th {\n",
              "        vertical-align: top;\n",
              "    }\n",
              "\n",
              "    .dataframe thead th {\n",
              "        text-align: right;\n",
              "    }\n",
              "</style>\n",
              "<table border=\"1\" class=\"dataframe\">\n",
              "  <thead>\n",
              "    <tr style=\"text-align: right;\">\n",
              "      <th></th>\n",
              "      <th>date_time</th>\n",
              "      <th>message</th>\n",
              "    </tr>\n",
              "  </thead>\n",
              "  <tbody>\n",
              "    <tr>\n",
              "      <th>0</th>\n",
              "      <td>February 2004</td>\n",
              "      <td>blueguydotcom... The primary point of the quot...</td>\n",
              "    </tr>\n",
              "    <tr>\n",
              "      <th>1</th>\n",
              "      <td>February 2004</td>\n",
              "      <td>So far you've said nothing to justify the $7,1...</td>\n",
              "    </tr>\n",
              "    <tr>\n",
              "      <th>2</th>\n",
              "      <td>February 2004</td>\n",
              "      <td>As for what's a rip off, and what&amp;#146;s an in...</td>\n",
              "    </tr>\n",
              "    <tr>\n",
              "      <th>48</th>\n",
              "      <td>March 2004</td>\n",
              "      <td>That's the weird thing. Bimmers are ubiquitous...</td>\n",
              "    </tr>\n",
              "    <tr>\n",
              "      <th>49</th>\n",
              "      <td>March 2004</td>\n",
              "      <td>The m3 and zhp pakages look pretty tuff - they...</td>\n",
              "    </tr>\n",
              "  </tbody>\n",
              "</table>\n",
              "</div>"
            ],
            "text/plain": [
              "        date_time                                            message\n",
              "0   February 2004  blueguydotcom... The primary point of the quot...\n",
              "1   February 2004  So far you've said nothing to justify the $7,1...\n",
              "2   February 2004  As for what's a rip off, and what&#146;s an in...\n",
              "48     March 2004  That's the weird thing. Bimmers are ubiquitous...\n",
              "49     March 2004  The m3 and zhp pakages look pretty tuff - they..."
            ]
          },
          "metadata": {},
          "output_type": "display_data"
        },
        {
          "name": "stdout",
          "output_type": "stream",
          "text": [
            "1021\n"
          ]
        },
        {
          "data": {
            "text/html": [
              "<div>\n",
              "<style scoped>\n",
              "    .dataframe tbody tr th:only-of-type {\n",
              "        vertical-align: middle;\n",
              "    }\n",
              "\n",
              "    .dataframe tbody tr th {\n",
              "        vertical-align: top;\n",
              "    }\n",
              "\n",
              "    .dataframe thead th {\n",
              "        text-align: right;\n",
              "    }\n",
              "</style>\n",
              "<table border=\"1\" class=\"dataframe\">\n",
              "  <thead>\n",
              "    <tr style=\"text-align: right;\">\n",
              "      <th></th>\n",
              "      <th>date_time</th>\n",
              "      <th>message</th>\n",
              "    </tr>\n",
              "  </thead>\n",
              "  <tbody>\n",
              "    <tr>\n",
              "      <th>0</th>\n",
              "      <td>March 2004</td>\n",
              "      <td>Chris\\n\\nYeah, S. Florida drivers are truly a ...</td>\n",
              "    </tr>\n",
              "    <tr>\n",
              "      <th>1</th>\n",
              "      <td>March 2004</td>\n",
              "      <td>I loved the old 3.0 VQ. I'm not real moved by ...</td>\n",
              "    </tr>\n",
              "    <tr>\n",
              "      <th>2</th>\n",
              "      <td>March 2004</td>\n",
              "      <td>Coming in to LA on the 101 is like riding on t...</td>\n",
              "    </tr>\n",
              "    <tr>\n",
              "      <th>48</th>\n",
              "      <td>March 2004</td>\n",
              "      <td>Check out p. 9 of the 3/8/04 issue of AutoWeek...</td>\n",
              "    </tr>\n",
              "    <tr>\n",
              "      <th>49</th>\n",
              "      <td>March 2004</td>\n",
              "      <td>Jrock is right, there is no clear cut winner i...</td>\n",
              "    </tr>\n",
              "  </tbody>\n",
              "</table>\n",
              "</div>"
            ],
            "text/plain": [
              "     date_time                                            message\n",
              "0   March 2004  Chris\\n\\nYeah, S. Florida drivers are truly a ...\n",
              "1   March 2004  I loved the old 3.0 VQ. I'm not real moved by ...\n",
              "2   March 2004  Coming in to LA on the 101 is like riding on t...\n",
              "48  March 2004  Check out p. 9 of the 3/8/04 issue of AutoWeek...\n",
              "49  March 2004  Jrock is right, there is no clear cut winner i..."
            ]
          },
          "metadata": {},
          "output_type": "display_data"
        },
        {
          "name": "stdout",
          "output_type": "stream",
          "text": [
            "1071\n"
          ]
        },
        {
          "data": {
            "text/html": [
              "<div>\n",
              "<style scoped>\n",
              "    .dataframe tbody tr th:only-of-type {\n",
              "        vertical-align: middle;\n",
              "    }\n",
              "\n",
              "    .dataframe tbody tr th {\n",
              "        vertical-align: top;\n",
              "    }\n",
              "\n",
              "    .dataframe thead th {\n",
              "        text-align: right;\n",
              "    }\n",
              "</style>\n",
              "<table border=\"1\" class=\"dataframe\">\n",
              "  <thead>\n",
              "    <tr style=\"text-align: right;\">\n",
              "      <th></th>\n",
              "      <th>date_time</th>\n",
              "      <th>message</th>\n",
              "    </tr>\n",
              "  </thead>\n",
              "  <tbody>\n",
              "    <tr>\n",
              "      <th>0</th>\n",
              "      <td>March 2004</td>\n",
              "      <td>Sorry,I have to add\\n\\nReliability, resale val...</td>\n",
              "    </tr>\n",
              "    <tr>\n",
              "      <th>1</th>\n",
              "      <td>March 2004</td>\n",
              "      <td>You've completely missed my point sales indica...</td>\n",
              "    </tr>\n",
              "    <tr>\n",
              "      <th>2</th>\n",
              "      <td>March 2004</td>\n",
              "      <td>It does to me bcuz if I dont care about them, ...</td>\n",
              "    </tr>\n",
              "    <tr>\n",
              "      <th>48</th>\n",
              "      <td>March 2004</td>\n",
              "      <td>The rather high cost of the ZHP, A-spec, and L...</td>\n",
              "    </tr>\n",
              "    <tr>\n",
              "      <th>49</th>\n",
              "      <td>March 2004</td>\n",
              "      <td>My biggest concern with the packages is that t...</td>\n",
              "    </tr>\n",
              "  </tbody>\n",
              "</table>\n",
              "</div>"
            ],
            "text/plain": [
              "     date_time                                            message\n",
              "0   March 2004  Sorry,I have to add\\n\\nReliability, resale val...\n",
              "1   March 2004  You've completely missed my point sales indica...\n",
              "2   March 2004  It does to me bcuz if I dont care about them, ...\n",
              "48  March 2004  The rather high cost of the ZHP, A-spec, and L...\n",
              "49  March 2004  My biggest concern with the packages is that t..."
            ]
          },
          "metadata": {},
          "output_type": "display_data"
        },
        {
          "name": "stdout",
          "output_type": "stream",
          "text": [
            "1120\n"
          ]
        },
        {
          "data": {
            "text/html": [
              "<div>\n",
              "<style scoped>\n",
              "    .dataframe tbody tr th:only-of-type {\n",
              "        vertical-align: middle;\n",
              "    }\n",
              "\n",
              "    .dataframe tbody tr th {\n",
              "        vertical-align: top;\n",
              "    }\n",
              "\n",
              "    .dataframe thead th {\n",
              "        text-align: right;\n",
              "    }\n",
              "</style>\n",
              "<table border=\"1\" class=\"dataframe\">\n",
              "  <thead>\n",
              "    <tr style=\"text-align: right;\">\n",
              "      <th></th>\n",
              "      <th>date_time</th>\n",
              "      <th>message</th>\n",
              "    </tr>\n",
              "  </thead>\n",
              "  <tbody>\n",
              "    <tr>\n",
              "      <th>0</th>\n",
              "      <td>March 2004</td>\n",
              "      <td>Do it yourself and dont pay someone to make mo...</td>\n",
              "    </tr>\n",
              "    <tr>\n",
              "      <th>1</th>\n",
              "      <td>March 2004</td>\n",
              "      <td>I am of two minds on this one. In most cases, ...</td>\n",
              "    </tr>\n",
              "    <tr>\n",
              "      <th>2</th>\n",
              "      <td>March 2004</td>\n",
              "      <td>Another funny thing about the 330i to ZHP swit...</td>\n",
              "    </tr>\n",
              "    <tr>\n",
              "      <th>48</th>\n",
              "      <td>March 2004</td>\n",
              "      <td>\"I admit a severe distate for American styling...</td>\n",
              "    </tr>\n",
              "    <tr>\n",
              "      <th>49</th>\n",
              "      <td>March 2004</td>\n",
              "      <td>\"Golly, if a guy in a magazine - you know the ...</td>\n",
              "    </tr>\n",
              "  </tbody>\n",
              "</table>\n",
              "</div>"
            ],
            "text/plain": [
              "     date_time                                            message\n",
              "0   March 2004  Do it yourself and dont pay someone to make mo...\n",
              "1   March 2004  I am of two minds on this one. In most cases, ...\n",
              "2   March 2004  Another funny thing about the 330i to ZHP swit...\n",
              "48  March 2004  \"I admit a severe distate for American styling...\n",
              "49  March 2004  \"Golly, if a guy in a magazine - you know the ..."
            ]
          },
          "metadata": {},
          "output_type": "display_data"
        },
        {
          "name": "stdout",
          "output_type": "stream",
          "text": [
            "1167\n"
          ]
        },
        {
          "data": {
            "text/html": [
              "<div>\n",
              "<style scoped>\n",
              "    .dataframe tbody tr th:only-of-type {\n",
              "        vertical-align: middle;\n",
              "    }\n",
              "\n",
              "    .dataframe tbody tr th {\n",
              "        vertical-align: top;\n",
              "    }\n",
              "\n",
              "    .dataframe thead th {\n",
              "        text-align: right;\n",
              "    }\n",
              "</style>\n",
              "<table border=\"1\" class=\"dataframe\">\n",
              "  <thead>\n",
              "    <tr style=\"text-align: right;\">\n",
              "      <th></th>\n",
              "      <th>date_time</th>\n",
              "      <th>message</th>\n",
              "    </tr>\n",
              "  </thead>\n",
              "  <tbody>\n",
              "    <tr>\n",
              "      <th>0</th>\n",
              "      <td>March 2004</td>\n",
              "      <td>I don't care for American car's either. Save f...</td>\n",
              "    </tr>\n",
              "    <tr>\n",
              "      <th>2</th>\n",
              "      <td>March 2004</td>\n",
              "      <td>I can honestly say I don't care where my car c...</td>\n",
              "    </tr>\n",
              "    <tr>\n",
              "      <th>3</th>\n",
              "      <td>March 2004</td>\n",
              "      <td>Cookie jar still not full. Blueguy: what's you...</td>\n",
              "    </tr>\n",
              "    <tr>\n",
              "      <th>48</th>\n",
              "      <td>March 2004</td>\n",
              "      <td>As long as as car companies in this country ea...</td>\n",
              "    </tr>\n",
              "    <tr>\n",
              "      <th>49</th>\n",
              "      <td>March 2004</td>\n",
              "      <td>Chris - \"Blueguy doesn't want auto employees t...</td>\n",
              "    </tr>\n",
              "  </tbody>\n",
              "</table>\n",
              "</div>"
            ],
            "text/plain": [
              "     date_time                                            message\n",
              "0   March 2004  I don't care for American car's either. Save f...\n",
              "2   March 2004  I can honestly say I don't care where my car c...\n",
              "3   March 2004  Cookie jar still not full. Blueguy: what's you...\n",
              "48  March 2004  As long as as car companies in this country ea...\n",
              "49  March 2004  Chris - \"Blueguy doesn't want auto employees t..."
            ]
          },
          "metadata": {},
          "output_type": "display_data"
        },
        {
          "name": "stdout",
          "output_type": "stream",
          "text": [
            "1215\n"
          ]
        },
        {
          "data": {
            "text/html": [
              "<div>\n",
              "<style scoped>\n",
              "    .dataframe tbody tr th:only-of-type {\n",
              "        vertical-align: middle;\n",
              "    }\n",
              "\n",
              "    .dataframe tbody tr th {\n",
              "        vertical-align: top;\n",
              "    }\n",
              "\n",
              "    .dataframe thead th {\n",
              "        text-align: right;\n",
              "    }\n",
              "</style>\n",
              "<table border=\"1\" class=\"dataframe\">\n",
              "  <thead>\n",
              "    <tr style=\"text-align: right;\">\n",
              "      <th></th>\n",
              "      <th>date_time</th>\n",
              "      <th>message</th>\n",
              "    </tr>\n",
              "  </thead>\n",
              "  <tbody>\n",
              "    <tr>\n",
              "      <th>0</th>\n",
              "      <td>March 2004</td>\n",
              "      <td>IMO I dont care who or which country that make...</td>\n",
              "    </tr>\n",
              "    <tr>\n",
              "      <th>1</th>\n",
              "      <td>March 2004</td>\n",
              "      <td>However when you say I want an American Car co...</td>\n",
              "    </tr>\n",
              "    <tr>\n",
              "      <th>3</th>\n",
              "      <td>March 2004</td>\n",
              "      <td>The Spielberg movie always use Ford Vans for t...</td>\n",
              "    </tr>\n",
              "    <tr>\n",
              "      <th>47</th>\n",
              "      <td>March 2004</td>\n",
              "      <td>First of all, let me say I think the 530i is o...</td>\n",
              "    </tr>\n",
              "    <tr>\n",
              "      <th>49</th>\n",
              "      <td>March 2004</td>\n",
              "      <td>well, I won't speak for everyone, but I'm not ...</td>\n",
              "    </tr>\n",
              "  </tbody>\n",
              "</table>\n",
              "</div>"
            ],
            "text/plain": [
              "     date_time                                            message\n",
              "0   March 2004  IMO I dont care who or which country that make...\n",
              "1   March 2004  However when you say I want an American Car co...\n",
              "3   March 2004  The Spielberg movie always use Ford Vans for t...\n",
              "47  March 2004  First of all, let me say I think the 530i is o...\n",
              "49  March 2004  well, I won't speak for everyone, but I'm not ..."
            ]
          },
          "metadata": {},
          "output_type": "display_data"
        },
        {
          "name": "stdout",
          "output_type": "stream",
          "text": [
            "1265\n"
          ]
        },
        {
          "data": {
            "text/html": [
              "<div>\n",
              "<style scoped>\n",
              "    .dataframe tbody tr th:only-of-type {\n",
              "        vertical-align: middle;\n",
              "    }\n",
              "\n",
              "    .dataframe tbody tr th {\n",
              "        vertical-align: top;\n",
              "    }\n",
              "\n",
              "    .dataframe thead th {\n",
              "        text-align: right;\n",
              "    }\n",
              "</style>\n",
              "<table border=\"1\" class=\"dataframe\">\n",
              "  <thead>\n",
              "    <tr style=\"text-align: right;\">\n",
              "      <th></th>\n",
              "      <th>date_time</th>\n",
              "      <th>message</th>\n",
              "    </tr>\n",
              "  </thead>\n",
              "  <tbody>\n",
              "    <tr>\n",
              "      <th>0</th>\n",
              "      <td>March 2004</td>\n",
              "      <td>too right...too funny...but too right.\\n\\nI ha...</td>\n",
              "    </tr>\n",
              "    <tr>\n",
              "      <th>1</th>\n",
              "      <td>March 2004</td>\n",
              "      <td>All of the numbers that have been posted here ...</td>\n",
              "    </tr>\n",
              "    <tr>\n",
              "      <th>2</th>\n",
              "      <td>March 2004</td>\n",
              "      <td>LOL. I agree. Actually what drives me nuts are...</td>\n",
              "    </tr>\n",
              "    <tr>\n",
              "      <th>48</th>\n",
              "      <td>March 2004</td>\n",
              "      <td>If you throw STi out of here then boot G35 als...</td>\n",
              "    </tr>\n",
              "    <tr>\n",
              "      <th>49</th>\n",
              "      <td>March 2004</td>\n",
              "      <td>The WRX certainly has enough \"performance\", bu...</td>\n",
              "    </tr>\n",
              "  </tbody>\n",
              "</table>\n",
              "</div>"
            ],
            "text/plain": [
              "     date_time                                            message\n",
              "0   March 2004  too right...too funny...but too right.\\n\\nI ha...\n",
              "1   March 2004  All of the numbers that have been posted here ...\n",
              "2   March 2004  LOL. I agree. Actually what drives me nuts are...\n",
              "48  March 2004  If you throw STi out of here then boot G35 als...\n",
              "49  March 2004  The WRX certainly has enough \"performance\", bu..."
            ]
          },
          "metadata": {},
          "output_type": "display_data"
        },
        {
          "name": "stdout",
          "output_type": "stream",
          "text": [
            "1313\n"
          ]
        },
        {
          "data": {
            "text/html": [
              "<div>\n",
              "<style scoped>\n",
              "    .dataframe tbody tr th:only-of-type {\n",
              "        vertical-align: middle;\n",
              "    }\n",
              "\n",
              "    .dataframe tbody tr th {\n",
              "        vertical-align: top;\n",
              "    }\n",
              "\n",
              "    .dataframe thead th {\n",
              "        text-align: right;\n",
              "    }\n",
              "</style>\n",
              "<table border=\"1\" class=\"dataframe\">\n",
              "  <thead>\n",
              "    <tr style=\"text-align: right;\">\n",
              "      <th></th>\n",
              "      <th>date_time</th>\n",
              "      <th>message</th>\n",
              "    </tr>\n",
              "  </thead>\n",
              "  <tbody>\n",
              "    <tr>\n",
              "      <th>0</th>\n",
              "      <td>March 2004</td>\n",
              "      <td>Think you are going way overboard there. The S...</td>\n",
              "    </tr>\n",
              "    <tr>\n",
              "      <th>1</th>\n",
              "      <td>March 2004</td>\n",
              "      <td>A loaded WRX might just barely get near the ta...</td>\n",
              "    </tr>\n",
              "    <tr>\n",
              "      <th>2</th>\n",
              "      <td>March 2004</td>\n",
              "      <td>\"True, cadillac has come a long way in quality...</td>\n",
              "    </tr>\n",
              "    <tr>\n",
              "      <th>48</th>\n",
              "      <td>March 2004</td>\n",
              "      <td>Do you agree or not?\\n\\nLuxury - Real Wood/Alu...</td>\n",
              "    </tr>\n",
              "    <tr>\n",
              "      <th>49</th>\n",
              "      <td>March 2004</td>\n",
              "      <td>Since we're still on the subject, I wouldn't a...</td>\n",
              "    </tr>\n",
              "  </tbody>\n",
              "</table>\n",
              "</div>"
            ],
            "text/plain": [
              "     date_time                                            message\n",
              "0   March 2004  Think you are going way overboard there. The S...\n",
              "1   March 2004  A loaded WRX might just barely get near the ta...\n",
              "2   March 2004  \"True, cadillac has come a long way in quality...\n",
              "48  March 2004  Do you agree or not?\\n\\nLuxury - Real Wood/Alu...\n",
              "49  March 2004  Since we're still on the subject, I wouldn't a..."
            ]
          },
          "metadata": {},
          "output_type": "display_data"
        },
        {
          "name": "stdout",
          "output_type": "stream",
          "text": [
            "1363\n"
          ]
        },
        {
          "data": {
            "text/html": [
              "<div>\n",
              "<style scoped>\n",
              "    .dataframe tbody tr th:only-of-type {\n",
              "        vertical-align: middle;\n",
              "    }\n",
              "\n",
              "    .dataframe tbody tr th {\n",
              "        vertical-align: top;\n",
              "    }\n",
              "\n",
              "    .dataframe thead th {\n",
              "        text-align: right;\n",
              "    }\n",
              "</style>\n",
              "<table border=\"1\" class=\"dataframe\">\n",
              "  <thead>\n",
              "    <tr style=\"text-align: right;\">\n",
              "      <th></th>\n",
              "      <th>date_time</th>\n",
              "      <th>message</th>\n",
              "    </tr>\n",
              "  </thead>\n",
              "  <tbody>\n",
              "    <tr>\n",
              "      <th>0</th>\n",
              "      <td>March 2004</td>\n",
              "      <td>It's funny how my '03 Maxima SE has more luxur...</td>\n",
              "    </tr>\n",
              "    <tr>\n",
              "      <th>1</th>\n",
              "      <td>March 2004</td>\n",
              "      <td>Do not agree. It's the placement of the vehicl...</td>\n",
              "    </tr>\n",
              "    <tr>\n",
              "      <th>2</th>\n",
              "      <td>March 2004</td>\n",
              "      <td>Infiniti is a brand that has shot up these las...</td>\n",
              "    </tr>\n",
              "    <tr>\n",
              "      <th>48</th>\n",
              "      <td>March 2004</td>\n",
              "      <td>Between the TL and 3series. It depends on your...</td>\n",
              "    </tr>\n",
              "    <tr>\n",
              "      <th>49</th>\n",
              "      <td>March 2004</td>\n",
              "      <td>i haven't driven one yet, but by all accounts ...</td>\n",
              "    </tr>\n",
              "  </tbody>\n",
              "</table>\n",
              "</div>"
            ],
            "text/plain": [
              "     date_time                                            message\n",
              "0   March 2004  It's funny how my '03 Maxima SE has more luxur...\n",
              "1   March 2004  Do not agree. It's the placement of the vehicl...\n",
              "2   March 2004  Infiniti is a brand that has shot up these las...\n",
              "48  March 2004  Between the TL and 3series. It depends on your...\n",
              "49  March 2004  i haven't driven one yet, but by all accounts ..."
            ]
          },
          "metadata": {},
          "output_type": "display_data"
        },
        {
          "name": "stdout",
          "output_type": "stream",
          "text": [
            "1410\n"
          ]
        },
        {
          "data": {
            "text/html": [
              "<div>\n",
              "<style scoped>\n",
              "    .dataframe tbody tr th:only-of-type {\n",
              "        vertical-align: middle;\n",
              "    }\n",
              "\n",
              "    .dataframe tbody tr th {\n",
              "        vertical-align: top;\n",
              "    }\n",
              "\n",
              "    .dataframe thead th {\n",
              "        text-align: right;\n",
              "    }\n",
              "</style>\n",
              "<table border=\"1\" class=\"dataframe\">\n",
              "  <thead>\n",
              "    <tr style=\"text-align: right;\">\n",
              "      <th></th>\n",
              "      <th>date_time</th>\n",
              "      <th>message</th>\n",
              "    </tr>\n",
              "  </thead>\n",
              "  <tbody>\n",
              "    <tr>\n",
              "      <th>0</th>\n",
              "      <td>March 2004</td>\n",
              "      <td>S60R would probably outperform any car on the ...</td>\n",
              "    </tr>\n",
              "    <tr>\n",
              "      <th>1</th>\n",
              "      <td>March 2004</td>\n",
              "      <td>I find it quite amusing that for 5 pages or so...</td>\n",
              "    </tr>\n",
              "    <tr>\n",
              "      <th>2</th>\n",
              "      <td>March 2004</td>\n",
              "      <td>I said it before, and I'll say it again, i rea...</td>\n",
              "    </tr>\n",
              "    <tr>\n",
              "      <th>48</th>\n",
              "      <td>March 2004</td>\n",
              "      <td>Also some race track certainly favor FWD cars ...</td>\n",
              "    </tr>\n",
              "    <tr>\n",
              "      <th>49</th>\n",
              "      <td>March 2004</td>\n",
              "      <td>Understeer and oversteer are both a \"loss of c...</td>\n",
              "    </tr>\n",
              "  </tbody>\n",
              "</table>\n",
              "</div>"
            ],
            "text/plain": [
              "     date_time                                            message\n",
              "0   March 2004  S60R would probably outperform any car on the ...\n",
              "1   March 2004  I find it quite amusing that for 5 pages or so...\n",
              "2   March 2004  I said it before, and I'll say it again, i rea...\n",
              "48  March 2004  Also some race track certainly favor FWD cars ...\n",
              "49  March 2004  Understeer and oversteer are both a \"loss of c..."
            ]
          },
          "metadata": {},
          "output_type": "display_data"
        },
        {
          "name": "stdout",
          "output_type": "stream",
          "text": [
            "1459\n"
          ]
        },
        {
          "data": {
            "text/html": [
              "<div>\n",
              "<style scoped>\n",
              "    .dataframe tbody tr th:only-of-type {\n",
              "        vertical-align: middle;\n",
              "    }\n",
              "\n",
              "    .dataframe tbody tr th {\n",
              "        vertical-align: top;\n",
              "    }\n",
              "\n",
              "    .dataframe thead th {\n",
              "        text-align: right;\n",
              "    }\n",
              "</style>\n",
              "<table border=\"1\" class=\"dataframe\">\n",
              "  <thead>\n",
              "    <tr style=\"text-align: right;\">\n",
              "      <th></th>\n",
              "      <th>date_time</th>\n",
              "      <th>message</th>\n",
              "    </tr>\n",
              "  </thead>\n",
              "  <tbody>\n",
              "    <tr>\n",
              "      <th>0</th>\n",
              "      <td>March 2004</td>\n",
              "      <td>My bias for RWD comes from that ethereal shove...</td>\n",
              "    </tr>\n",
              "    <tr>\n",
              "      <th>1</th>\n",
              "      <td>March 2004</td>\n",
              "      <td>\"Yes, it may be fun to play with throttle indu...</td>\n",
              "    </tr>\n",
              "    <tr>\n",
              "      <th>2</th>\n",
              "      <td>March 2004</td>\n",
              "      <td>...my TL shoving me back in my seat when I acc...</td>\n",
              "    </tr>\n",
              "    <tr>\n",
              "      <th>48</th>\n",
              "      <td>March 2004</td>\n",
              "      <td>Let that also inlcude demo sports cars/sport s...</td>\n",
              "    </tr>\n",
              "    <tr>\n",
              "      <th>49</th>\n",
              "      <td>March 2004</td>\n",
              "      <td>fedlawman... Torque steer is problematic with ...</td>\n",
              "    </tr>\n",
              "  </tbody>\n",
              "</table>\n",
              "</div>"
            ],
            "text/plain": [
              "     date_time                                            message\n",
              "0   March 2004  My bias for RWD comes from that ethereal shove...\n",
              "1   March 2004  \"Yes, it may be fun to play with throttle indu...\n",
              "2   March 2004  ...my TL shoving me back in my seat when I acc...\n",
              "48  March 2004  Let that also inlcude demo sports cars/sport s...\n",
              "49  March 2004  fedlawman... Torque steer is problematic with ..."
            ]
          },
          "metadata": {},
          "output_type": "display_data"
        },
        {
          "name": "stdout",
          "output_type": "stream",
          "text": [
            "1509\n"
          ]
        },
        {
          "data": {
            "text/html": [
              "<div>\n",
              "<style scoped>\n",
              "    .dataframe tbody tr th:only-of-type {\n",
              "        vertical-align: middle;\n",
              "    }\n",
              "\n",
              "    .dataframe tbody tr th {\n",
              "        vertical-align: top;\n",
              "    }\n",
              "\n",
              "    .dataframe thead th {\n",
              "        text-align: right;\n",
              "    }\n",
              "</style>\n",
              "<table border=\"1\" class=\"dataframe\">\n",
              "  <thead>\n",
              "    <tr style=\"text-align: right;\">\n",
              "      <th></th>\n",
              "      <th>date_time</th>\n",
              "      <th>message</th>\n",
              "    </tr>\n",
              "  </thead>\n",
              "  <tbody>\n",
              "    <tr>\n",
              "      <th>0</th>\n",
              "      <td>March 2004</td>\n",
              "      <td>If new RL is AWD, as in rumored, then it could...</td>\n",
              "    </tr>\n",
              "    <tr>\n",
              "      <th>1</th>\n",
              "      <td>March 2004</td>\n",
              "      <td>I don't understand why Acura has never offered...</td>\n",
              "    </tr>\n",
              "    <tr>\n",
              "      <th>2</th>\n",
              "      <td>March 2004</td>\n",
              "      <td>I'm not sure why they haven't switched yet eit...</td>\n",
              "    </tr>\n",
              "    <tr>\n",
              "      <th>48</th>\n",
              "      <td>March 2004</td>\n",
              "      <td>Actually, Car and Driver and I see eye to eye ...</td>\n",
              "    </tr>\n",
              "    <tr>\n",
              "      <th>49</th>\n",
              "      <td>March 2004</td>\n",
              "      <td>You keep that TSX engine perculating and it's ...</td>\n",
              "    </tr>\n",
              "  </tbody>\n",
              "</table>\n",
              "</div>"
            ],
            "text/plain": [
              "     date_time                                            message\n",
              "0   March 2004  If new RL is AWD, as in rumored, then it could...\n",
              "1   March 2004  I don't understand why Acura has never offered...\n",
              "2   March 2004  I'm not sure why they haven't switched yet eit...\n",
              "48  March 2004  Actually, Car and Driver and I see eye to eye ...\n",
              "49  March 2004  You keep that TSX engine perculating and it's ..."
            ]
          },
          "metadata": {},
          "output_type": "display_data"
        },
        {
          "name": "stdout",
          "output_type": "stream",
          "text": [
            "1558\n"
          ]
        },
        {
          "data": {
            "text/html": [
              "<div>\n",
              "<style scoped>\n",
              "    .dataframe tbody tr th:only-of-type {\n",
              "        vertical-align: middle;\n",
              "    }\n",
              "\n",
              "    .dataframe tbody tr th {\n",
              "        vertical-align: top;\n",
              "    }\n",
              "\n",
              "    .dataframe thead th {\n",
              "        text-align: right;\n",
              "    }\n",
              "</style>\n",
              "<table border=\"1\" class=\"dataframe\">\n",
              "  <thead>\n",
              "    <tr style=\"text-align: right;\">\n",
              "      <th></th>\n",
              "      <th>date_time</th>\n",
              "      <th>message</th>\n",
              "    </tr>\n",
              "  </thead>\n",
              "  <tbody>\n",
              "    <tr>\n",
              "      <th>0</th>\n",
              "      <td>March 2004</td>\n",
              "      <td>fedlawman... You wrote, \"the general consensus...</td>\n",
              "    </tr>\n",
              "    <tr>\n",
              "      <th>1</th>\n",
              "      <td>March 2004</td>\n",
              "      <td>I don't the the A4 1.8T is slow at all. For a ...</td>\n",
              "    </tr>\n",
              "    <tr>\n",
              "      <th>2</th>\n",
              "      <td>March 2004</td>\n",
              "      <td>\"Comparing it to or an I6 or a V6 is unfair.\"\\...</td>\n",
              "    </tr>\n",
              "    <tr>\n",
              "      <th>48</th>\n",
              "      <td>April 2004</td>\n",
              "      <td>Not sure what relevancy sales data has toward ...</td>\n",
              "    </tr>\n",
              "    <tr>\n",
              "      <th>49</th>\n",
              "      <td>April 2004</td>\n",
              "      <td>Don't write them off yet. Infiniti, BMW and Au...</td>\n",
              "    </tr>\n",
              "  </tbody>\n",
              "</table>\n",
              "</div>"
            ],
            "text/plain": [
              "     date_time                                            message\n",
              "0   March 2004  fedlawman... You wrote, \"the general consensus...\n",
              "1   March 2004  I don't the the A4 1.8T is slow at all. For a ...\n",
              "2   March 2004  \"Comparing it to or an I6 or a V6 is unfair.\"\\...\n",
              "48  April 2004  Not sure what relevancy sales data has toward ...\n",
              "49  April 2004  Don't write them off yet. Infiniti, BMW and Au..."
            ]
          },
          "metadata": {},
          "output_type": "display_data"
        },
        {
          "name": "stdout",
          "output_type": "stream",
          "text": [
            "1607\n"
          ]
        },
        {
          "data": {
            "text/html": [
              "<div>\n",
              "<style scoped>\n",
              "    .dataframe tbody tr th:only-of-type {\n",
              "        vertical-align: middle;\n",
              "    }\n",
              "\n",
              "    .dataframe tbody tr th {\n",
              "        vertical-align: top;\n",
              "    }\n",
              "\n",
              "    .dataframe thead th {\n",
              "        text-align: right;\n",
              "    }\n",
              "</style>\n",
              "<table border=\"1\" class=\"dataframe\">\n",
              "  <thead>\n",
              "    <tr style=\"text-align: right;\">\n",
              "      <th></th>\n",
              "      <th>date_time</th>\n",
              "      <th>message</th>\n",
              "    </tr>\n",
              "  </thead>\n",
              "  <tbody>\n",
              "    <tr>\n",
              "      <th>0</th>\n",
              "      <td>April 2004</td>\n",
              "      <td>I read these boards hoping to gain useful know...</td>\n",
              "    </tr>\n",
              "    <tr>\n",
              "      <th>1</th>\n",
              "      <td>April 2004</td>\n",
              "      <td>Good point about sales. I'll just toss in FWIW...</td>\n",
              "    </tr>\n",
              "    <tr>\n",
              "      <th>2</th>\n",
              "      <td>April 2004</td>\n",
              "      <td>Where are you pulling your numbers from?</td>\n",
              "    </tr>\n",
              "    <tr>\n",
              "      <th>48</th>\n",
              "      <td>April 2004</td>\n",
              "      <td>I think the G35 overall is very close to the T...</td>\n",
              "    </tr>\n",
              "    <tr>\n",
              "      <th>49</th>\n",
              "      <td>April 2004</td>\n",
              "      <td>You're not very good at research...a simple vi...</td>\n",
              "    </tr>\n",
              "  </tbody>\n",
              "</table>\n",
              "</div>"
            ],
            "text/plain": [
              "     date_time                                            message\n",
              "0   April 2004  I read these boards hoping to gain useful know...\n",
              "1   April 2004  Good point about sales. I'll just toss in FWIW...\n",
              "2   April 2004           Where are you pulling your numbers from?\n",
              "48  April 2004  I think the G35 overall is very close to the T...\n",
              "49  April 2004  You're not very good at research...a simple vi..."
            ]
          },
          "metadata": {},
          "output_type": "display_data"
        },
        {
          "name": "stdout",
          "output_type": "stream",
          "text": [
            "1657\n"
          ]
        },
        {
          "data": {
            "text/html": [
              "<div>\n",
              "<style scoped>\n",
              "    .dataframe tbody tr th:only-of-type {\n",
              "        vertical-align: middle;\n",
              "    }\n",
              "\n",
              "    .dataframe tbody tr th {\n",
              "        vertical-align: top;\n",
              "    }\n",
              "\n",
              "    .dataframe thead th {\n",
              "        text-align: right;\n",
              "    }\n",
              "</style>\n",
              "<table border=\"1\" class=\"dataframe\">\n",
              "  <thead>\n",
              "    <tr style=\"text-align: right;\">\n",
              "      <th></th>\n",
              "      <th>date_time</th>\n",
              "      <th>message</th>\n",
              "    </tr>\n",
              "  </thead>\n",
              "  <tbody>\n",
              "    <tr>\n",
              "      <th>0</th>\n",
              "      <td>April 2004</td>\n",
              "      <td>You are wrong blueguydotcom, I said 15k unit i...</td>\n",
              "    </tr>\n",
              "    <tr>\n",
              "      <th>1</th>\n",
              "      <td>April 2004</td>\n",
              "      <td>Danny\\n\\nSorry for being a little too personal...</td>\n",
              "    </tr>\n",
              "    <tr>\n",
              "      <th>2</th>\n",
              "      <td>April 2004</td>\n",
              "      <td>I fully agree if you classify the TL as an ave...</td>\n",
              "    </tr>\n",
              "    <tr>\n",
              "      <th>48</th>\n",
              "      <td>April 2004</td>\n",
              "      <td>you add things like the premium package, nav s...</td>\n",
              "    </tr>\n",
              "    <tr>\n",
              "      <th>49</th>\n",
              "      <td>April 2004</td>\n",
              "      <td>folks also put chains on their tires.\\n\\ndon't...</td>\n",
              "    </tr>\n",
              "  </tbody>\n",
              "</table>\n",
              "</div>"
            ],
            "text/plain": [
              "     date_time                                            message\n",
              "0   April 2004  You are wrong blueguydotcom, I said 15k unit i...\n",
              "1   April 2004  Danny\\n\\nSorry for being a little too personal...\n",
              "2   April 2004  I fully agree if you classify the TL as an ave...\n",
              "48  April 2004  you add things like the premium package, nav s...\n",
              "49  April 2004  folks also put chains on their tires.\\n\\ndon't..."
            ]
          },
          "metadata": {},
          "output_type": "display_data"
        },
        {
          "name": "stdout",
          "output_type": "stream",
          "text": [
            "1704\n"
          ]
        },
        {
          "data": {
            "text/html": [
              "<div>\n",
              "<style scoped>\n",
              "    .dataframe tbody tr th:only-of-type {\n",
              "        vertical-align: middle;\n",
              "    }\n",
              "\n",
              "    .dataframe tbody tr th {\n",
              "        vertical-align: top;\n",
              "    }\n",
              "\n",
              "    .dataframe thead th {\n",
              "        text-align: right;\n",
              "    }\n",
              "</style>\n",
              "<table border=\"1\" class=\"dataframe\">\n",
              "  <thead>\n",
              "    <tr style=\"text-align: right;\">\n",
              "      <th></th>\n",
              "      <th>date_time</th>\n",
              "      <th>message</th>\n",
              "    </tr>\n",
              "  </thead>\n",
              "  <tbody>\n",
              "    <tr>\n",
              "      <th>0</th>\n",
              "      <td>April 2004</td>\n",
              "      <td>My TL is fitted with Brembos.\\n\\nAcura TL\\n60-...</td>\n",
              "    </tr>\n",
              "    <tr>\n",
              "      <th>1</th>\n",
              "      <td>April 2004</td>\n",
              "      <td>Me thinks that 60-0 is a little easier on the ...</td>\n",
              "    </tr>\n",
              "    <tr>\n",
              "      <th>2</th>\n",
              "      <td>April 2004</td>\n",
              "      <td>I've done that a few times. Like I said...no w...</td>\n",
              "    </tr>\n",
              "    <tr>\n",
              "      <th>48</th>\n",
              "      <td>April 2004</td>\n",
              "      <td>Impartiality definitely isn't the long suit in...</td>\n",
              "    </tr>\n",
              "    <tr>\n",
              "      <th>49</th>\n",
              "      <td>April 2004</td>\n",
              "      <td>Ok my G has some issues with a rattle in the r...</td>\n",
              "    </tr>\n",
              "  </tbody>\n",
              "</table>\n",
              "</div>"
            ],
            "text/plain": [
              "     date_time                                            message\n",
              "0   April 2004  My TL is fitted with Brembos.\\n\\nAcura TL\\n60-...\n",
              "1   April 2004  Me thinks that 60-0 is a little easier on the ...\n",
              "2   April 2004  I've done that a few times. Like I said...no w...\n",
              "48  April 2004  Impartiality definitely isn't the long suit in...\n",
              "49  April 2004  Ok my G has some issues with a rattle in the r..."
            ]
          },
          "metadata": {},
          "output_type": "display_data"
        },
        {
          "name": "stdout",
          "output_type": "stream",
          "text": [
            "1750\n"
          ]
        },
        {
          "data": {
            "text/html": [
              "<div>\n",
              "<style scoped>\n",
              "    .dataframe tbody tr th:only-of-type {\n",
              "        vertical-align: middle;\n",
              "    }\n",
              "\n",
              "    .dataframe tbody tr th {\n",
              "        vertical-align: top;\n",
              "    }\n",
              "\n",
              "    .dataframe thead th {\n",
              "        text-align: right;\n",
              "    }\n",
              "</style>\n",
              "<table border=\"1\" class=\"dataframe\">\n",
              "  <thead>\n",
              "    <tr style=\"text-align: right;\">\n",
              "      <th></th>\n",
              "      <th>date_time</th>\n",
              "      <th>message</th>\n",
              "    </tr>\n",
              "  </thead>\n",
              "  <tbody>\n",
              "    <tr>\n",
              "      <th>0</th>\n",
              "      <td>April 2004</td>\n",
              "      <td>Great posts. This could be a very productive c...</td>\n",
              "    </tr>\n",
              "    <tr>\n",
              "      <th>1</th>\n",
              "      <td>April 2004</td>\n",
              "      <td>So what are you saying about the last 93 pages...</td>\n",
              "    </tr>\n",
              "    <tr>\n",
              "      <th>2</th>\n",
              "      <td>April 2004</td>\n",
              "      <td>\"What did Acura find out?\\n\\nThat their bank a...</td>\n",
              "    </tr>\n",
              "    <tr>\n",
              "      <th>48</th>\n",
              "      <td>April 2004</td>\n",
              "      <td>With all the hype of A6/M/RL/GS/STS, I think i...</td>\n",
              "    </tr>\n",
              "    <tr>\n",
              "      <th>49</th>\n",
              "      <td>April 2004</td>\n",
              "      <td>Thanks! Is your coupe auto or manaul and which...</td>\n",
              "    </tr>\n",
              "  </tbody>\n",
              "</table>\n",
              "</div>"
            ],
            "text/plain": [
              "     date_time                                            message\n",
              "0   April 2004  Great posts. This could be a very productive c...\n",
              "1   April 2004  So what are you saying about the last 93 pages...\n",
              "2   April 2004  \"What did Acura find out?\\n\\nThat their bank a...\n",
              "48  April 2004  With all the hype of A6/M/RL/GS/STS, I think i...\n",
              "49  April 2004  Thanks! Is your coupe auto or manaul and which..."
            ]
          },
          "metadata": {},
          "output_type": "display_data"
        },
        {
          "name": "stdout",
          "output_type": "stream",
          "text": [
            "1800\n"
          ]
        },
        {
          "data": {
            "text/html": [
              "<div>\n",
              "<style scoped>\n",
              "    .dataframe tbody tr th:only-of-type {\n",
              "        vertical-align: middle;\n",
              "    }\n",
              "\n",
              "    .dataframe tbody tr th {\n",
              "        vertical-align: top;\n",
              "    }\n",
              "\n",
              "    .dataframe thead th {\n",
              "        text-align: right;\n",
              "    }\n",
              "</style>\n",
              "<table border=\"1\" class=\"dataframe\">\n",
              "  <thead>\n",
              "    <tr style=\"text-align: right;\">\n",
              "      <th></th>\n",
              "      <th>date_time</th>\n",
              "      <th>message</th>\n",
              "    </tr>\n",
              "  </thead>\n",
              "  <tbody>\n",
              "    <tr>\n",
              "      <th>0</th>\n",
              "      <td>April 2004</td>\n",
              "      <td>Agreed on the appearance. I've seen the new A6...</td>\n",
              "    </tr>\n",
              "    <tr>\n",
              "      <th>1</th>\n",
              "      <td>April 2004</td>\n",
              "      <td>Dear Forum, I never thought this would happen ...</td>\n",
              "    </tr>\n",
              "    <tr>\n",
              "      <th>2</th>\n",
              "      <td>April 2004</td>\n",
              "      <td>Although derivative, I'd rather take the M45. ...</td>\n",
              "    </tr>\n",
              "    <tr>\n",
              "      <th>48</th>\n",
              "      <td>April 2004</td>\n",
              "      <td>Just wanted to add my .02...I took the CTS for...</td>\n",
              "    </tr>\n",
              "    <tr>\n",
              "      <th>49</th>\n",
              "      <td>April 2004</td>\n",
              "      <td>Regardless, the [cts] was much too soft and un...</td>\n",
              "    </tr>\n",
              "  </tbody>\n",
              "</table>\n",
              "</div>"
            ],
            "text/plain": [
              "     date_time                                            message\n",
              "0   April 2004  Agreed on the appearance. I've seen the new A6...\n",
              "1   April 2004  Dear Forum, I never thought this would happen ...\n",
              "2   April 2004  Although derivative, I'd rather take the M45. ...\n",
              "48  April 2004  Just wanted to add my .02...I took the CTS for...\n",
              "49  April 2004  Regardless, the [cts] was much too soft and un..."
            ]
          },
          "metadata": {},
          "output_type": "display_data"
        },
        {
          "name": "stdout",
          "output_type": "stream",
          "text": [
            "1850\n"
          ]
        },
        {
          "data": {
            "text/html": [
              "<div>\n",
              "<style scoped>\n",
              "    .dataframe tbody tr th:only-of-type {\n",
              "        vertical-align: middle;\n",
              "    }\n",
              "\n",
              "    .dataframe tbody tr th {\n",
              "        vertical-align: top;\n",
              "    }\n",
              "\n",
              "    .dataframe thead th {\n",
              "        text-align: right;\n",
              "    }\n",
              "</style>\n",
              "<table border=\"1\" class=\"dataframe\">\n",
              "  <thead>\n",
              "    <tr style=\"text-align: right;\">\n",
              "      <th></th>\n",
              "      <th>date_time</th>\n",
              "      <th>message</th>\n",
              "    </tr>\n",
              "  </thead>\n",
              "  <tbody>\n",
              "    <tr>\n",
              "      <th>0</th>\n",
              "      <td>April 2004</td>\n",
              "      <td>Overpriced in your eyes - which is all that ma...</td>\n",
              "    </tr>\n",
              "    <tr>\n",
              "      <th>1</th>\n",
              "      <td>April 2004</td>\n",
              "      <td>I agree with sawyerjon on the performance of t...</td>\n",
              "    </tr>\n",
              "    <tr>\n",
              "      <th>2</th>\n",
              "      <td>April 2004</td>\n",
              "      <td>PS i dont have the stripper either so i know w...</td>\n",
              "    </tr>\n",
              "    <tr>\n",
              "      <th>48</th>\n",
              "      <td>April 2004</td>\n",
              "      <td>Sort of the exact opposite of the R&amp;T article.</td>\n",
              "    </tr>\n",
              "    <tr>\n",
              "      <th>49</th>\n",
              "      <td>April 2004</td>\n",
              "      <td>Don't read the magazines and then quote them h...</td>\n",
              "    </tr>\n",
              "  </tbody>\n",
              "</table>\n",
              "</div>"
            ],
            "text/plain": [
              "     date_time                                            message\n",
              "0   April 2004  Overpriced in your eyes - which is all that ma...\n",
              "1   April 2004  I agree with sawyerjon on the performance of t...\n",
              "2   April 2004  PS i dont have the stripper either so i know w...\n",
              "48  April 2004     Sort of the exact opposite of the R&T article.\n",
              "49  April 2004  Don't read the magazines and then quote them h..."
            ]
          },
          "metadata": {},
          "output_type": "display_data"
        },
        {
          "name": "stdout",
          "output_type": "stream",
          "text": [
            "1899\n"
          ]
        },
        {
          "data": {
            "text/html": [
              "<div>\n",
              "<style scoped>\n",
              "    .dataframe tbody tr th:only-of-type {\n",
              "        vertical-align: middle;\n",
              "    }\n",
              "\n",
              "    .dataframe tbody tr th {\n",
              "        vertical-align: top;\n",
              "    }\n",
              "\n",
              "    .dataframe thead th {\n",
              "        text-align: right;\n",
              "    }\n",
              "</style>\n",
              "<table border=\"1\" class=\"dataframe\">\n",
              "  <thead>\n",
              "    <tr style=\"text-align: right;\">\n",
              "      <th></th>\n",
              "      <th>date_time</th>\n",
              "      <th>message</th>\n",
              "    </tr>\n",
              "  </thead>\n",
              "  <tbody>\n",
              "    <tr>\n",
              "      <th>0</th>\n",
              "      <td>April 2004</td>\n",
              "      <td>\"Say what? My 35 series tires on my 330i traml...</td>\n",
              "    </tr>\n",
              "    <tr>\n",
              "      <th>1</th>\n",
              "      <td>April 2004</td>\n",
              "      <td>kahunah... There is a huge difference between ...</td>\n",
              "    </tr>\n",
              "    <tr>\n",
              "      <th>2</th>\n",
              "      <td>April 2004</td>\n",
              "      <td>Does you ZHP have a staggered setup? I've been...</td>\n",
              "    </tr>\n",
              "    <tr>\n",
              "      <th>48</th>\n",
              "      <td>April 2004</td>\n",
              "      <td>Not sure why that is happening in your neck of...</td>\n",
              "    </tr>\n",
              "    <tr>\n",
              "      <th>49</th>\n",
              "      <td>April 2004</td>\n",
              "      <td>Do they still use film and then manually apply...</td>\n",
              "    </tr>\n",
              "  </tbody>\n",
              "</table>\n",
              "</div>"
            ],
            "text/plain": [
              "     date_time                                            message\n",
              "0   April 2004  \"Say what? My 35 series tires on my 330i traml...\n",
              "1   April 2004  kahunah... There is a huge difference between ...\n",
              "2   April 2004  Does you ZHP have a staggered setup? I've been...\n",
              "48  April 2004  Not sure why that is happening in your neck of...\n",
              "49  April 2004  Do they still use film and then manually apply..."
            ]
          },
          "metadata": {},
          "output_type": "display_data"
        },
        {
          "name": "stdout",
          "output_type": "stream",
          "text": [
            "1948\n"
          ]
        },
        {
          "data": {
            "text/html": [
              "<div>\n",
              "<style scoped>\n",
              "    .dataframe tbody tr th:only-of-type {\n",
              "        vertical-align: middle;\n",
              "    }\n",
              "\n",
              "    .dataframe tbody tr th {\n",
              "        vertical-align: top;\n",
              "    }\n",
              "\n",
              "    .dataframe thead th {\n",
              "        text-align: right;\n",
              "    }\n",
              "</style>\n",
              "<table border=\"1\" class=\"dataframe\">\n",
              "  <thead>\n",
              "    <tr style=\"text-align: right;\">\n",
              "      <th></th>\n",
              "      <th>date_time</th>\n",
              "      <th>message</th>\n",
              "    </tr>\n",
              "  </thead>\n",
              "  <tbody>\n",
              "    <tr>\n",
              "      <th>0</th>\n",
              "      <td>April 2004</td>\n",
              "      <td>place I plan to get it tinted from comes with ...</td>\n",
              "    </tr>\n",
              "    <tr>\n",
              "      <th>1</th>\n",
              "      <td>April 2004</td>\n",
              "      <td>Finally got to drive a G35x today (nearest dea...</td>\n",
              "    </tr>\n",
              "    <tr>\n",
              "      <th>2</th>\n",
              "      <td>April 2004</td>\n",
              "      <td>I had a '99 328i for just over five years and ...</td>\n",
              "    </tr>\n",
              "    <tr>\n",
              "      <th>48</th>\n",
              "      <td>April 2004</td>\n",
              "      <td>\".D. Power and Associates, a marketing and res...</td>\n",
              "    </tr>\n",
              "    <tr>\n",
              "      <th>49</th>\n",
              "      <td>April 2004</td>\n",
              "      <td>possible, yes. probably, no.\\n\\ni would say it...</td>\n",
              "    </tr>\n",
              "  </tbody>\n",
              "</table>\n",
              "</div>"
            ],
            "text/plain": [
              "     date_time                                            message\n",
              "0   April 2004  place I plan to get it tinted from comes with ...\n",
              "1   April 2004  Finally got to drive a G35x today (nearest dea...\n",
              "2   April 2004  I had a '99 328i for just over five years and ...\n",
              "48  April 2004  \".D. Power and Associates, a marketing and res...\n",
              "49  April 2004  possible, yes. probably, no.\\n\\ni would say it..."
            ]
          },
          "metadata": {},
          "output_type": "display_data"
        },
        {
          "name": "stdout",
          "output_type": "stream",
          "text": [
            "1996\n"
          ]
        },
        {
          "data": {
            "text/html": [
              "<div>\n",
              "<style scoped>\n",
              "    .dataframe tbody tr th:only-of-type {\n",
              "        vertical-align: middle;\n",
              "    }\n",
              "\n",
              "    .dataframe tbody tr th {\n",
              "        vertical-align: top;\n",
              "    }\n",
              "\n",
              "    .dataframe thead th {\n",
              "        text-align: right;\n",
              "    }\n",
              "</style>\n",
              "<table border=\"1\" class=\"dataframe\">\n",
              "  <thead>\n",
              "    <tr style=\"text-align: right;\">\n",
              "      <th></th>\n",
              "      <th>date_time</th>\n",
              "      <th>message</th>\n",
              "    </tr>\n",
              "  </thead>\n",
              "  <tbody>\n",
              "    <tr>\n",
              "      <th>0</th>\n",
              "      <td>April 2004</td>\n",
              "      <td>i remember toyota. honda and datsun from the e...</td>\n",
              "    </tr>\n",
              "    <tr>\n",
              "      <th>1</th>\n",
              "      <td>April 2004</td>\n",
              "      <td>Check out jdpowers.com for initial quality rat...</td>\n",
              "    </tr>\n",
              "    <tr>\n",
              "      <th>2</th>\n",
              "      <td>April 2004</td>\n",
              "      <td>out of 37 nameplates :\\n\\nlexus 1st\\ninfinity ...</td>\n",
              "    </tr>\n",
              "    <tr>\n",
              "      <th>48</th>\n",
              "      <td>May 2004</td>\n",
              "      <td>Maybe in Omaha, NE the IS 300 is not common. H...</td>\n",
              "    </tr>\n",
              "    <tr>\n",
              "      <th>49</th>\n",
              "      <td>May 2004</td>\n",
              "      <td>One also might question if less hp is worth th...</td>\n",
              "    </tr>\n",
              "  </tbody>\n",
              "</table>\n",
              "</div>"
            ],
            "text/plain": [
              "     date_time                                            message\n",
              "0   April 2004  i remember toyota. honda and datsun from the e...\n",
              "1   April 2004  Check out jdpowers.com for initial quality rat...\n",
              "2   April 2004  out of 37 nameplates :\\n\\nlexus 1st\\ninfinity ...\n",
              "48    May 2004  Maybe in Omaha, NE the IS 300 is not common. H...\n",
              "49    May 2004  One also might question if less hp is worth th..."
            ]
          },
          "metadata": {},
          "output_type": "display_data"
        },
        {
          "name": "stdout",
          "output_type": "stream",
          "text": [
            "2046\n"
          ]
        },
        {
          "data": {
            "text/html": [
              "<div>\n",
              "<style scoped>\n",
              "    .dataframe tbody tr th:only-of-type {\n",
              "        vertical-align: middle;\n",
              "    }\n",
              "\n",
              "    .dataframe tbody tr th {\n",
              "        vertical-align: top;\n",
              "    }\n",
              "\n",
              "    .dataframe thead th {\n",
              "        text-align: right;\n",
              "    }\n",
              "</style>\n",
              "<table border=\"1\" class=\"dataframe\">\n",
              "  <thead>\n",
              "    <tr style=\"text-align: right;\">\n",
              "      <th></th>\n",
              "      <th>date_time</th>\n",
              "      <th>message</th>\n",
              "    </tr>\n",
              "  </thead>\n",
              "  <tbody>\n",
              "    <tr>\n",
              "      <th>0</th>\n",
              "      <td>May 2004</td>\n",
              "      <td>According to our host Pat and all magazines, t...</td>\n",
              "    </tr>\n",
              "    <tr>\n",
              "      <th>1</th>\n",
              "      <td>May 2004</td>\n",
              "      <td>Would be interesting to see the demographic br...</td>\n",
              "    </tr>\n",
              "    <tr>\n",
              "      <th>2</th>\n",
              "      <td>May 2004</td>\n",
              "      <td>Orange County is teeming with IS300s driven by...</td>\n",
              "    </tr>\n",
              "    <tr>\n",
              "      <th>48</th>\n",
              "      <td>May 2004</td>\n",
              "      <td>This is just rumor gleaned from following othe...</td>\n",
              "    </tr>\n",
              "    <tr>\n",
              "      <th>49</th>\n",
              "      <td>May 2004</td>\n",
              "      <td>Thanks for the info. Wife has announced she wa...</td>\n",
              "    </tr>\n",
              "  </tbody>\n",
              "</table>\n",
              "</div>"
            ],
            "text/plain": [
              "   date_time                                            message\n",
              "0   May 2004  According to our host Pat and all magazines, t...\n",
              "1   May 2004  Would be interesting to see the demographic br...\n",
              "2   May 2004  Orange County is teeming with IS300s driven by...\n",
              "48  May 2004  This is just rumor gleaned from following othe...\n",
              "49  May 2004  Thanks for the info. Wife has announced she wa..."
            ]
          },
          "metadata": {},
          "output_type": "display_data"
        },
        {
          "name": "stdout",
          "output_type": "stream",
          "text": [
            "2095\n"
          ]
        },
        {
          "data": {
            "text/html": [
              "<div>\n",
              "<style scoped>\n",
              "    .dataframe tbody tr th:only-of-type {\n",
              "        vertical-align: middle;\n",
              "    }\n",
              "\n",
              "    .dataframe tbody tr th {\n",
              "        vertical-align: top;\n",
              "    }\n",
              "\n",
              "    .dataframe thead th {\n",
              "        text-align: right;\n",
              "    }\n",
              "</style>\n",
              "<table border=\"1\" class=\"dataframe\">\n",
              "  <thead>\n",
              "    <tr style=\"text-align: right;\">\n",
              "      <th></th>\n",
              "      <th>date_time</th>\n",
              "      <th>message</th>\n",
              "    </tr>\n",
              "  </thead>\n",
              "  <tbody>\n",
              "    <tr>\n",
              "      <th>0</th>\n",
              "      <td>May 2004</td>\n",
              "      <td>From the spy shots I've seen, you can see the ...</td>\n",
              "    </tr>\n",
              "    <tr>\n",
              "      <th>1</th>\n",
              "      <td>May 2004</td>\n",
              "      <td>From these spyshots it doesn't look half bad. ...</td>\n",
              "    </tr>\n",
              "    <tr>\n",
              "      <th>2</th>\n",
              "      <td>May 2004</td>\n",
              "      <td>I like it... but you never know how true those...</td>\n",
              "    </tr>\n",
              "    <tr>\n",
              "      <th>48</th>\n",
              "      <td>May 2004</td>\n",
              "      <td>The looks of the WRX don't bother me that much...</td>\n",
              "    </tr>\n",
              "    <tr>\n",
              "      <th>49</th>\n",
              "      <td>May 2004</td>\n",
              "      <td>What bothers me about the WRX, Evo, even the I...</td>\n",
              "    </tr>\n",
              "  </tbody>\n",
              "</table>\n",
              "</div>"
            ],
            "text/plain": [
              "   date_time                                            message\n",
              "0   May 2004  From the spy shots I've seen, you can see the ...\n",
              "1   May 2004  From these spyshots it doesn't look half bad. ...\n",
              "2   May 2004  I like it... but you never know how true those...\n",
              "48  May 2004  The looks of the WRX don't bother me that much...\n",
              "49  May 2004  What bothers me about the WRX, Evo, even the I..."
            ]
          },
          "metadata": {},
          "output_type": "display_data"
        },
        {
          "name": "stdout",
          "output_type": "stream",
          "text": [
            "2145\n"
          ]
        },
        {
          "data": {
            "text/html": [
              "<div>\n",
              "<style scoped>\n",
              "    .dataframe tbody tr th:only-of-type {\n",
              "        vertical-align: middle;\n",
              "    }\n",
              "\n",
              "    .dataframe tbody tr th {\n",
              "        vertical-align: top;\n",
              "    }\n",
              "\n",
              "    .dataframe thead th {\n",
              "        text-align: right;\n",
              "    }\n",
              "</style>\n",
              "<table border=\"1\" class=\"dataframe\">\n",
              "  <thead>\n",
              "    <tr style=\"text-align: right;\">\n",
              "      <th></th>\n",
              "      <th>date_time</th>\n",
              "      <th>message</th>\n",
              "    </tr>\n",
              "  </thead>\n",
              "  <tbody>\n",
              "    <tr>\n",
              "      <th>0</th>\n",
              "      <td>May 2004</td>\n",
              "      <td>\"I am in my mid 30's with young kids, and I ha...</td>\n",
              "    </tr>\n",
              "    <tr>\n",
              "      <th>1</th>\n",
              "      <td>May 2004</td>\n",
              "      <td>Oh, I plan to have a big crisis. Once the kids...</td>\n",
              "    </tr>\n",
              "    <tr>\n",
              "      <th>2</th>\n",
              "      <td>May 2004</td>\n",
              "      <td>I am there right now, got myself a 330ci coupe...</td>\n",
              "    </tr>\n",
              "    <tr>\n",
              "      <th>48</th>\n",
              "      <td>May 2004</td>\n",
              "      <td>1) There is no possible way a dealer will attr...</td>\n",
              "    </tr>\n",
              "    <tr>\n",
              "      <th>49</th>\n",
              "      <td>May 2004</td>\n",
              "      <td>\"What do you think better/more air does to you...</td>\n",
              "    </tr>\n",
              "  </tbody>\n",
              "</table>\n",
              "</div>"
            ],
            "text/plain": [
              "   date_time                                            message\n",
              "0   May 2004  \"I am in my mid 30's with young kids, and I ha...\n",
              "1   May 2004  Oh, I plan to have a big crisis. Once the kids...\n",
              "2   May 2004  I am there right now, got myself a 330ci coupe...\n",
              "48  May 2004  1) There is no possible way a dealer will attr...\n",
              "49  May 2004  \"What do you think better/more air does to you..."
            ]
          },
          "metadata": {},
          "output_type": "display_data"
        },
        {
          "name": "stdout",
          "output_type": "stream",
          "text": [
            "2195\n"
          ]
        },
        {
          "data": {
            "text/html": [
              "<div>\n",
              "<style scoped>\n",
              "    .dataframe tbody tr th:only-of-type {\n",
              "        vertical-align: middle;\n",
              "    }\n",
              "\n",
              "    .dataframe tbody tr th {\n",
              "        vertical-align: top;\n",
              "    }\n",
              "\n",
              "    .dataframe thead th {\n",
              "        text-align: right;\n",
              "    }\n",
              "</style>\n",
              "<table border=\"1\" class=\"dataframe\">\n",
              "  <thead>\n",
              "    <tr style=\"text-align: right;\">\n",
              "      <th></th>\n",
              "      <th>date_time</th>\n",
              "      <th>message</th>\n",
              "    </tr>\n",
              "  </thead>\n",
              "  <tbody>\n",
              "    <tr>\n",
              "      <th>0</th>\n",
              "      <td>May 2004</td>\n",
              "      <td>I wont try and convince you but i wont let oth...</td>\n",
              "    </tr>\n",
              "    <tr>\n",
              "      <th>1</th>\n",
              "      <td>May 2004</td>\n",
              "      <td>\"There's a weird thing going in the above sent...</td>\n",
              "    </tr>\n",
              "    <tr>\n",
              "      <th>2</th>\n",
              "      <td>May 2004</td>\n",
              "      <td>\"I wont try and convince you but i wont let ot...</td>\n",
              "    </tr>\n",
              "    <tr>\n",
              "      <th>48</th>\n",
              "      <td>June 2004</td>\n",
              "      <td>Thanks for the responses. I'm definitely not t...</td>\n",
              "    </tr>\n",
              "    <tr>\n",
              "      <th>49</th>\n",
              "      <td>June 2004</td>\n",
              "      <td>I can't complain about my ZHP. When I get home...</td>\n",
              "    </tr>\n",
              "  </tbody>\n",
              "</table>\n",
              "</div>"
            ],
            "text/plain": [
              "    date_time                                            message\n",
              "0    May 2004  I wont try and convince you but i wont let oth...\n",
              "1    May 2004  \"There's a weird thing going in the above sent...\n",
              "2    May 2004  \"I wont try and convince you but i wont let ot...\n",
              "48  June 2004  Thanks for the responses. I'm definitely not t...\n",
              "49  June 2004  I can't complain about my ZHP. When I get home..."
            ]
          },
          "metadata": {},
          "output_type": "display_data"
        },
        {
          "name": "stdout",
          "output_type": "stream",
          "text": [
            "2244\n"
          ]
        },
        {
          "data": {
            "text/html": [
              "<div>\n",
              "<style scoped>\n",
              "    .dataframe tbody tr th:only-of-type {\n",
              "        vertical-align: middle;\n",
              "    }\n",
              "\n",
              "    .dataframe tbody tr th {\n",
              "        vertical-align: top;\n",
              "    }\n",
              "\n",
              "    .dataframe thead th {\n",
              "        text-align: right;\n",
              "    }\n",
              "</style>\n",
              "<table border=\"1\" class=\"dataframe\">\n",
              "  <thead>\n",
              "    <tr style=\"text-align: right;\">\n",
              "      <th></th>\n",
              "      <th>date_time</th>\n",
              "      <th>message</th>\n",
              "    </tr>\n",
              "  </thead>\n",
              "  <tbody>\n",
              "    <tr>\n",
              "      <th>0</th>\n",
              "      <td>June 2004</td>\n",
              "      <td>I quoted the 330i,G35coupe with my Insurance A...</td>\n",
              "    </tr>\n",
              "    <tr>\n",
              "      <th>1</th>\n",
              "      <td>June 2004</td>\n",
              "      <td>When I was shopping for my 530i a couple of ye...</td>\n",
              "    </tr>\n",
              "    <tr>\n",
              "      <th>2</th>\n",
              "      <td>June 2004</td>\n",
              "      <td>Yeah.. that seems strange.. My '03 325i is onl...</td>\n",
              "    </tr>\n",
              "    <tr>\n",
              "      <th>48</th>\n",
              "      <td>June 2004</td>\n",
              "      <td>\"The stealth look personified is the Cadillac ...</td>\n",
              "    </tr>\n",
              "    <tr>\n",
              "      <th>49</th>\n",
              "      <td>June 2004</td>\n",
              "      <td>\"I think you prove my point. Once hyundia got ...</td>\n",
              "    </tr>\n",
              "  </tbody>\n",
              "</table>\n",
              "</div>"
            ],
            "text/plain": [
              "    date_time                                            message\n",
              "0   June 2004  I quoted the 330i,G35coupe with my Insurance A...\n",
              "1   June 2004  When I was shopping for my 530i a couple of ye...\n",
              "2   June 2004  Yeah.. that seems strange.. My '03 325i is onl...\n",
              "48  June 2004  \"The stealth look personified is the Cadillac ...\n",
              "49  June 2004  \"I think you prove my point. Once hyundia got ..."
            ]
          },
          "metadata": {},
          "output_type": "display_data"
        },
        {
          "name": "stdout",
          "output_type": "stream",
          "text": [
            "2292\n"
          ]
        },
        {
          "data": {
            "text/html": [
              "<div>\n",
              "<style scoped>\n",
              "    .dataframe tbody tr th:only-of-type {\n",
              "        vertical-align: middle;\n",
              "    }\n",
              "\n",
              "    .dataframe tbody tr th {\n",
              "        vertical-align: top;\n",
              "    }\n",
              "\n",
              "    .dataframe thead th {\n",
              "        text-align: right;\n",
              "    }\n",
              "</style>\n",
              "<table border=\"1\" class=\"dataframe\">\n",
              "  <thead>\n",
              "    <tr style=\"text-align: right;\">\n",
              "      <th></th>\n",
              "      <th>date_time</th>\n",
              "      <th>message</th>\n",
              "    </tr>\n",
              "  </thead>\n",
              "  <tbody>\n",
              "    <tr>\n",
              "      <th>0</th>\n",
              "      <td>June 2004</td>\n",
              "      <td>Bold styling can be an advantage or a curse. T...</td>\n",
              "    </tr>\n",
              "    <tr>\n",
              "      <th>1</th>\n",
              "      <td>June 2004</td>\n",
              "      <td>Do you want to turn heads merely because of lo...</td>\n",
              "    </tr>\n",
              "    <tr>\n",
              "      <th>2</th>\n",
              "      <td>June 2004</td>\n",
              "      <td>Am I the only one that hates that styling? The...</td>\n",
              "    </tr>\n",
              "    <tr>\n",
              "      <th>48</th>\n",
              "      <td>June 2004</td>\n",
              "      <td>I don't talk about exterior aesthetics much, s...</td>\n",
              "    </tr>\n",
              "    <tr>\n",
              "      <th>49</th>\n",
              "      <td>June 2004</td>\n",
              "      <td>Interesting visuals about the 300C! I think so...</td>\n",
              "    </tr>\n",
              "  </tbody>\n",
              "</table>\n",
              "</div>"
            ],
            "text/plain": [
              "    date_time                                            message\n",
              "0   June 2004  Bold styling can be an advantage or a curse. T...\n",
              "1   June 2004  Do you want to turn heads merely because of lo...\n",
              "2   June 2004  Am I the only one that hates that styling? The...\n",
              "48  June 2004  I don't talk about exterior aesthetics much, s...\n",
              "49  June 2004  Interesting visuals about the 300C! I think so..."
            ]
          },
          "metadata": {},
          "output_type": "display_data"
        },
        {
          "name": "stdout",
          "output_type": "stream",
          "text": [
            "2338\n"
          ]
        },
        {
          "data": {
            "text/html": [
              "<div>\n",
              "<style scoped>\n",
              "    .dataframe tbody tr th:only-of-type {\n",
              "        vertical-align: middle;\n",
              "    }\n",
              "\n",
              "    .dataframe tbody tr th {\n",
              "        vertical-align: top;\n",
              "    }\n",
              "\n",
              "    .dataframe thead th {\n",
              "        text-align: right;\n",
              "    }\n",
              "</style>\n",
              "<table border=\"1\" class=\"dataframe\">\n",
              "  <thead>\n",
              "    <tr style=\"text-align: right;\">\n",
              "      <th></th>\n",
              "      <th>date_time</th>\n",
              "      <th>message</th>\n",
              "    </tr>\n",
              "  </thead>\n",
              "  <tbody>\n",
              "    <tr>\n",
              "      <th>0</th>\n",
              "      <td>June 2004</td>\n",
              "      <td>300C nice, TL ugly.\\n\\nI have always felt that...</td>\n",
              "    </tr>\n",
              "    <tr>\n",
              "      <th>1</th>\n",
              "      <td>June 2004</td>\n",
              "      <td>\"I don't talk about exterior aesthetics much, ...</td>\n",
              "    </tr>\n",
              "    <tr>\n",
              "      <th>2</th>\n",
              "      <td>June 2004</td>\n",
              "      <td>I have always felt that European cars protect ...</td>\n",
              "    </tr>\n",
              "    <tr>\n",
              "      <th>47</th>\n",
              "      <td>June 2004</td>\n",
              "      <td>Jeez what a shock. And let me guess, Rebel Wit...</td>\n",
              "    </tr>\n",
              "    <tr>\n",
              "      <th>49</th>\n",
              "      <td>June 2004</td>\n",
              "      <td>Tasdisr...\\nThese are the exact 2 cars I compa...</td>\n",
              "    </tr>\n",
              "  </tbody>\n",
              "</table>\n",
              "</div>"
            ],
            "text/plain": [
              "    date_time                                            message\n",
              "0   June 2004  300C nice, TL ugly.\\n\\nI have always felt that...\n",
              "1   June 2004  \"I don't talk about exterior aesthetics much, ...\n",
              "2   June 2004  I have always felt that European cars protect ...\n",
              "47  June 2004  Jeez what a shock. And let me guess, Rebel Wit...\n",
              "49  June 2004  Tasdisr...\\nThese are the exact 2 cars I compa..."
            ]
          },
          "metadata": {},
          "output_type": "display_data"
        },
        {
          "name": "stdout",
          "output_type": "stream",
          "text": [
            "2388\n"
          ]
        },
        {
          "data": {
            "text/html": [
              "<div>\n",
              "<style scoped>\n",
              "    .dataframe tbody tr th:only-of-type {\n",
              "        vertical-align: middle;\n",
              "    }\n",
              "\n",
              "    .dataframe tbody tr th {\n",
              "        vertical-align: top;\n",
              "    }\n",
              "\n",
              "    .dataframe thead th {\n",
              "        text-align: right;\n",
              "    }\n",
              "</style>\n",
              "<table border=\"1\" class=\"dataframe\">\n",
              "  <thead>\n",
              "    <tr style=\"text-align: right;\">\n",
              "      <th></th>\n",
              "      <th>date_time</th>\n",
              "      <th>message</th>\n",
              "    </tr>\n",
              "  </thead>\n",
              "  <tbody>\n",
              "    <tr>\n",
              "      <th>0</th>\n",
              "      <td>June 2004</td>\n",
              "      <td>That ahem was funny. I had a feeling we'd be s...</td>\n",
              "    </tr>\n",
              "    <tr>\n",
              "      <th>1</th>\n",
              "      <td>June 2004</td>\n",
              "      <td>I might be from Mars, but I like to vacation i...</td>\n",
              "    </tr>\n",
              "    <tr>\n",
              "      <th>2</th>\n",
              "      <td>June 2004</td>\n",
              "      <td>Latest stuff floating around BMW concerns the ...</td>\n",
              "    </tr>\n",
              "    <tr>\n",
              "      <th>48</th>\n",
              "      <td>June 2004</td>\n",
              "      <td>You ain't gonna convince kd with such stats. H...</td>\n",
              "    </tr>\n",
              "    <tr>\n",
              "      <th>49</th>\n",
              "      <td>June 2004</td>\n",
              "      <td>BMW is tops in a number of different ownership...</td>\n",
              "    </tr>\n",
              "  </tbody>\n",
              "</table>\n",
              "</div>"
            ],
            "text/plain": [
              "    date_time                                            message\n",
              "0   June 2004  That ahem was funny. I had a feeling we'd be s...\n",
              "1   June 2004  I might be from Mars, but I like to vacation i...\n",
              "2   June 2004  Latest stuff floating around BMW concerns the ...\n",
              "48  June 2004  You ain't gonna convince kd with such stats. H...\n",
              "49  June 2004  BMW is tops in a number of different ownership..."
            ]
          },
          "metadata": {},
          "output_type": "display_data"
        },
        {
          "name": "stdout",
          "output_type": "stream",
          "text": [
            "2438\n"
          ]
        },
        {
          "data": {
            "text/html": [
              "<div>\n",
              "<style scoped>\n",
              "    .dataframe tbody tr th:only-of-type {\n",
              "        vertical-align: middle;\n",
              "    }\n",
              "\n",
              "    .dataframe tbody tr th {\n",
              "        vertical-align: top;\n",
              "    }\n",
              "\n",
              "    .dataframe thead th {\n",
              "        text-align: right;\n",
              "    }\n",
              "</style>\n",
              "<table border=\"1\" class=\"dataframe\">\n",
              "  <thead>\n",
              "    <tr style=\"text-align: right;\">\n",
              "      <th></th>\n",
              "      <th>date_time</th>\n",
              "      <th>message</th>\n",
              "    </tr>\n",
              "  </thead>\n",
              "  <tbody>\n",
              "    <tr>\n",
              "      <th>0</th>\n",
              "      <td>June 2004</td>\n",
              "      <td>\"Refuse to admit reality.\"\\n\\nWhat reality are...</td>\n",
              "    </tr>\n",
              "    <tr>\n",
              "      <th>1</th>\n",
              "      <td>June 2004</td>\n",
              "      <td>Even if it's one more trip, that's totally una...</td>\n",
              "    </tr>\n",
              "    <tr>\n",
              "      <th>2</th>\n",
              "      <td>June 2004</td>\n",
              "      <td>\"Even if it's one more trip, that's totally un...</td>\n",
              "    </tr>\n",
              "    <tr>\n",
              "      <th>48</th>\n",
              "      <td>July 2004</td>\n",
              "      <td>Nissans AWD system and thier CVT seem light ye...</td>\n",
              "    </tr>\n",
              "    <tr>\n",
              "      <th>49</th>\n",
              "      <td>July 2004</td>\n",
              "      <td>I dont think your 1.8T cvt stand any chance ag...</td>\n",
              "    </tr>\n",
              "  </tbody>\n",
              "</table>\n",
              "</div>"
            ],
            "text/plain": [
              "    date_time                                            message\n",
              "0   June 2004  \"Refuse to admit reality.\"\\n\\nWhat reality are...\n",
              "1   June 2004  Even if it's one more trip, that's totally una...\n",
              "2   June 2004  \"Even if it's one more trip, that's totally un...\n",
              "48  July 2004  Nissans AWD system and thier CVT seem light ye...\n",
              "49  July 2004  I dont think your 1.8T cvt stand any chance ag..."
            ]
          },
          "metadata": {},
          "output_type": "display_data"
        },
        {
          "name": "stdout",
          "output_type": "stream",
          "text": [
            "2488\n"
          ]
        },
        {
          "data": {
            "text/html": [
              "<div>\n",
              "<style scoped>\n",
              "    .dataframe tbody tr th:only-of-type {\n",
              "        vertical-align: middle;\n",
              "    }\n",
              "\n",
              "    .dataframe tbody tr th {\n",
              "        vertical-align: top;\n",
              "    }\n",
              "\n",
              "    .dataframe thead th {\n",
              "        text-align: right;\n",
              "    }\n",
              "</style>\n",
              "<table border=\"1\" class=\"dataframe\">\n",
              "  <thead>\n",
              "    <tr style=\"text-align: right;\">\n",
              "      <th></th>\n",
              "      <th>date_time</th>\n",
              "      <th>message</th>\n",
              "    </tr>\n",
              "  </thead>\n",
              "  <tbody>\n",
              "    <tr>\n",
              "      <th>0</th>\n",
              "      <td>July 2004</td>\n",
              "      <td>4-door: I'm not cool\\nSport pkg: I'm cool\\nste...</td>\n",
              "    </tr>\n",
              "    <tr>\n",
              "      <th>1</th>\n",
              "      <td>July 2004</td>\n",
              "      <td>Chris,\\n\\nCVT is sooo smooth. No abrupt jerks ...</td>\n",
              "    </tr>\n",
              "    <tr>\n",
              "      <th>2</th>\n",
              "      <td>July 2004</td>\n",
              "      <td>Actually, the BMW is FAR better in traffic. Pu...</td>\n",
              "    </tr>\n",
              "    <tr>\n",
              "      <th>48</th>\n",
              "      <td>July 2004</td>\n",
              "      <td>Take a look of the Acura TL A-spec concept. 30...</td>\n",
              "    </tr>\n",
              "    <tr>\n",
              "      <th>49</th>\n",
              "      <td>July 2004</td>\n",
              "      <td>Heres another example of wasting 6 grand</td>\n",
              "    </tr>\n",
              "  </tbody>\n",
              "</table>\n",
              "</div>"
            ],
            "text/plain": [
              "    date_time                                            message\n",
              "0   July 2004  4-door: I'm not cool\\nSport pkg: I'm cool\\nste...\n",
              "1   July 2004  Chris,\\n\\nCVT is sooo smooth. No abrupt jerks ...\n",
              "2   July 2004  Actually, the BMW is FAR better in traffic. Pu...\n",
              "48  July 2004  Take a look of the Acura TL A-spec concept. 30...\n",
              "49  July 2004           Heres another example of wasting 6 grand"
            ]
          },
          "metadata": {},
          "output_type": "display_data"
        },
        {
          "name": "stdout",
          "output_type": "stream",
          "text": [
            "2537\n"
          ]
        },
        {
          "data": {
            "text/html": [
              "<div>\n",
              "<style scoped>\n",
              "    .dataframe tbody tr th:only-of-type {\n",
              "        vertical-align: middle;\n",
              "    }\n",
              "\n",
              "    .dataframe tbody tr th {\n",
              "        vertical-align: top;\n",
              "    }\n",
              "\n",
              "    .dataframe thead th {\n",
              "        text-align: right;\n",
              "    }\n",
              "</style>\n",
              "<table border=\"1\" class=\"dataframe\">\n",
              "  <thead>\n",
              "    <tr style=\"text-align: right;\">\n",
              "      <th></th>\n",
              "      <th>date_time</th>\n",
              "      <th>message</th>\n",
              "    </tr>\n",
              "  </thead>\n",
              "  <tbody>\n",
              "    <tr>\n",
              "      <th>0</th>\n",
              "      <td>July 2004</td>\n",
              "      <td>I own a G35x and the gas mileage is one of my ...</td>\n",
              "    </tr>\n",
              "    <tr>\n",
              "      <th>1</th>\n",
              "      <td>July 2004</td>\n",
              "      <td>...but matched with Nissan's gearing, man does...</td>\n",
              "    </tr>\n",
              "    <tr>\n",
              "      <th>2</th>\n",
              "      <td>July 2004</td>\n",
              "      <td>The non awd gets about 22 until broken in then...</td>\n",
              "    </tr>\n",
              "    <tr>\n",
              "      <th>48</th>\n",
              "      <td>July 2004</td>\n",
              "      <td>No not sure that's why I used 4 in my denomina...</td>\n",
              "    </tr>\n",
              "    <tr>\n",
              "      <th>49</th>\n",
              "      <td>July 2004</td>\n",
              "      <td>Alright... all you young whippersnappers... ea...</td>\n",
              "    </tr>\n",
              "  </tbody>\n",
              "</table>\n",
              "</div>"
            ],
            "text/plain": [
              "    date_time                                            message\n",
              "0   July 2004  I own a G35x and the gas mileage is one of my ...\n",
              "1   July 2004  ...but matched with Nissan's gearing, man does...\n",
              "2   July 2004  The non awd gets about 22 until broken in then...\n",
              "48  July 2004  No not sure that's why I used 4 in my denomina...\n",
              "49  July 2004  Alright... all you young whippersnappers... ea..."
            ]
          },
          "metadata": {},
          "output_type": "display_data"
        },
        {
          "name": "stdout",
          "output_type": "stream",
          "text": [
            "2586\n"
          ]
        },
        {
          "data": {
            "text/html": [
              "<div>\n",
              "<style scoped>\n",
              "    .dataframe tbody tr th:only-of-type {\n",
              "        vertical-align: middle;\n",
              "    }\n",
              "\n",
              "    .dataframe tbody tr th {\n",
              "        vertical-align: top;\n",
              "    }\n",
              "\n",
              "    .dataframe thead th {\n",
              "        text-align: right;\n",
              "    }\n",
              "</style>\n",
              "<table border=\"1\" class=\"dataframe\">\n",
              "  <thead>\n",
              "    <tr style=\"text-align: right;\">\n",
              "      <th></th>\n",
              "      <th>date_time</th>\n",
              "      <th>message</th>\n",
              "    </tr>\n",
              "  </thead>\n",
              "  <tbody>\n",
              "    <tr>\n",
              "      <th>0</th>\n",
              "      <td>July 2004</td>\n",
              "      <td>The coupe is a pretty noisy car though. For a ...</td>\n",
              "    </tr>\n",
              "    <tr>\n",
              "      <th>1</th>\n",
              "      <td>July 2004</td>\n",
              "      <td>Not sure about you but last time I heard the V...</td>\n",
              "    </tr>\n",
              "    <tr>\n",
              "      <th>2</th>\n",
              "      <td>July 2004</td>\n",
              "      <td>The G35 coupe should be noisy because it is a ...</td>\n",
              "    </tr>\n",
              "    <tr>\n",
              "      <th>48</th>\n",
              "      <td>August 2004</td>\n",
              "      <td>Get the C32 AMG-my friend has one and it has s...</td>\n",
              "    </tr>\n",
              "    <tr>\n",
              "      <th>49</th>\n",
              "      <td>August 2004</td>\n",
              "      <td>From anecdotal evidence I would say the BMW wi...</td>\n",
              "    </tr>\n",
              "  </tbody>\n",
              "</table>\n",
              "</div>"
            ],
            "text/plain": [
              "      date_time                                            message\n",
              "0     July 2004  The coupe is a pretty noisy car though. For a ...\n",
              "1     July 2004  Not sure about you but last time I heard the V...\n",
              "2     July 2004  The G35 coupe should be noisy because it is a ...\n",
              "48  August 2004  Get the C32 AMG-my friend has one and it has s...\n",
              "49  August 2004  From anecdotal evidence I would say the BMW wi..."
            ]
          },
          "metadata": {},
          "output_type": "display_data"
        },
        {
          "name": "stdout",
          "output_type": "stream",
          "text": [
            "2635\n"
          ]
        },
        {
          "data": {
            "text/html": [
              "<div>\n",
              "<style scoped>\n",
              "    .dataframe tbody tr th:only-of-type {\n",
              "        vertical-align: middle;\n",
              "    }\n",
              "\n",
              "    .dataframe tbody tr th {\n",
              "        vertical-align: top;\n",
              "    }\n",
              "\n",
              "    .dataframe thead th {\n",
              "        text-align: right;\n",
              "    }\n",
              "</style>\n",
              "<table border=\"1\" class=\"dataframe\">\n",
              "  <thead>\n",
              "    <tr style=\"text-align: right;\">\n",
              "      <th></th>\n",
              "      <th>date_time</th>\n",
              "      <th>message</th>\n",
              "    </tr>\n",
              "  </thead>\n",
              "  <tbody>\n",
              "    <tr>\n",
              "      <th>0</th>\n",
              "      <td>August 2004</td>\n",
              "      <td>I purchased a 2002 C320 in December 2003, and ...</td>\n",
              "    </tr>\n",
              "    <tr>\n",
              "      <th>1</th>\n",
              "      <td>August 2004</td>\n",
              "      <td>Thanks for all the great feedback! I just keep...</td>\n",
              "    </tr>\n",
              "    <tr>\n",
              "      <th>2</th>\n",
              "      <td>August 2004</td>\n",
              "      <td>The more systems a things has the more potenti...</td>\n",
              "    </tr>\n",
              "    <tr>\n",
              "      <th>48</th>\n",
              "      <td>August 2004</td>\n",
              "      <td>Has anybody driven or purchased the new C55 ye...</td>\n",
              "    </tr>\n",
              "    <tr>\n",
              "      <th>49</th>\n",
              "      <td>August 2004</td>\n",
              "      <td>Drive a C430.. Figure the C55 will ride a litt...</td>\n",
              "    </tr>\n",
              "  </tbody>\n",
              "</table>\n",
              "</div>"
            ],
            "text/plain": [
              "      date_time                                            message\n",
              "0   August 2004  I purchased a 2002 C320 in December 2003, and ...\n",
              "1   August 2004  Thanks for all the great feedback! I just keep...\n",
              "2   August 2004  The more systems a things has the more potenti...\n",
              "48  August 2004  Has anybody driven or purchased the new C55 ye...\n",
              "49  August 2004  Drive a C430.. Figure the C55 will ride a litt..."
            ]
          },
          "metadata": {},
          "output_type": "display_data"
        },
        {
          "name": "stdout",
          "output_type": "stream",
          "text": [
            "2682\n"
          ]
        },
        {
          "data": {
            "text/html": [
              "<div>\n",
              "<style scoped>\n",
              "    .dataframe tbody tr th:only-of-type {\n",
              "        vertical-align: middle;\n",
              "    }\n",
              "\n",
              "    .dataframe tbody tr th {\n",
              "        vertical-align: top;\n",
              "    }\n",
              "\n",
              "    .dataframe thead th {\n",
              "        text-align: right;\n",
              "    }\n",
              "</style>\n",
              "<table border=\"1\" class=\"dataframe\">\n",
              "  <thead>\n",
              "    <tr style=\"text-align: right;\">\n",
              "      <th></th>\n",
              "      <th>date_time</th>\n",
              "      <th>message</th>\n",
              "    </tr>\n",
              "  </thead>\n",
              "  <tbody>\n",
              "    <tr>\n",
              "      <th>1</th>\n",
              "      <td>August 2004</td>\n",
              "      <td>I've owned several BMW's, mostly 3 Series, mos...</td>\n",
              "    </tr>\n",
              "    <tr>\n",
              "      <th>2</th>\n",
              "      <td>August 2004</td>\n",
              "      <td>Is there such a car as a C430?\\nIs that in the...</td>\n",
              "    </tr>\n",
              "    <tr>\n",
              "      <th>3</th>\n",
              "      <td>August 2004</td>\n",
              "      <td>There is no such car as a C430. If you are tal...</td>\n",
              "    </tr>\n",
              "    <tr>\n",
              "      <th>48</th>\n",
              "      <td>August 2004</td>\n",
              "      <td>I understand your point, but this topic is tit...</td>\n",
              "    </tr>\n",
              "    <tr>\n",
              "      <th>49</th>\n",
              "      <td>August 2004</td>\n",
              "      <td>Anybody want to talk about the vehicles in the...</td>\n",
              "    </tr>\n",
              "  </tbody>\n",
              "</table>\n",
              "</div>"
            ],
            "text/plain": [
              "      date_time                                            message\n",
              "1   August 2004  I've owned several BMW's, mostly 3 Series, mos...\n",
              "2   August 2004  Is there such a car as a C430?\\nIs that in the...\n",
              "3   August 2004  There is no such car as a C430. If you are tal...\n",
              "48  August 2004  I understand your point, but this topic is tit...\n",
              "49  August 2004  Anybody want to talk about the vehicles in the..."
            ]
          },
          "metadata": {},
          "output_type": "display_data"
        },
        {
          "name": "stdout",
          "output_type": "stream",
          "text": [
            "2729\n"
          ]
        },
        {
          "data": {
            "text/html": [
              "<div>\n",
              "<style scoped>\n",
              "    .dataframe tbody tr th:only-of-type {\n",
              "        vertical-align: middle;\n",
              "    }\n",
              "\n",
              "    .dataframe tbody tr th {\n",
              "        vertical-align: top;\n",
              "    }\n",
              "\n",
              "    .dataframe thead th {\n",
              "        text-align: right;\n",
              "    }\n",
              "</style>\n",
              "<table border=\"1\" class=\"dataframe\">\n",
              "  <thead>\n",
              "    <tr style=\"text-align: right;\">\n",
              "      <th></th>\n",
              "      <th>date_time</th>\n",
              "      <th>message</th>\n",
              "    </tr>\n",
              "  </thead>\n",
              "  <tbody>\n",
              "    <tr>\n",
              "      <th>1</th>\n",
              "      <td>August 2004</td>\n",
              "      <td>\"this topic is titled Entry Level Performance ...</td>\n",
              "    </tr>\n",
              "    <tr>\n",
              "      <th>2</th>\n",
              "      <td>August 2004</td>\n",
              "      <td>Why is there even a debate about this?\\n\\nWhet...</td>\n",
              "    </tr>\n",
              "    <tr>\n",
              "      <th>3</th>\n",
              "      <td>August 2004</td>\n",
              "      <td>thematrixhasu, please send me an email, thanks.</td>\n",
              "    </tr>\n",
              "    <tr>\n",
              "      <th>48</th>\n",
              "      <td>November 2004</td>\n",
              "      <td>riez - disagree combined 3 series is 8714. See...</td>\n",
              "    </tr>\n",
              "    <tr>\n",
              "      <th>49</th>\n",
              "      <td>November 2004</td>\n",
              "      <td>\"Interestingly, the more luxury-oriented, less...</td>\n",
              "    </tr>\n",
              "  </tbody>\n",
              "</table>\n",
              "</div>"
            ],
            "text/plain": [
              "        date_time                                            message\n",
              "1     August 2004  \"this topic is titled Entry Level Performance ...\n",
              "2     August 2004  Why is there even a debate about this?\\n\\nWhet...\n",
              "3     August 2004    thematrixhasu, please send me an email, thanks.\n",
              "48  November 2004  riez - disagree combined 3 series is 8714. See...\n",
              "49  November 2004  \"Interestingly, the more luxury-oriented, less..."
            ]
          },
          "metadata": {},
          "output_type": "display_data"
        },
        {
          "name": "stdout",
          "output_type": "stream",
          "text": [
            "2779\n"
          ]
        },
        {
          "data": {
            "text/html": [
              "<div>\n",
              "<style scoped>\n",
              "    .dataframe tbody tr th:only-of-type {\n",
              "        vertical-align: middle;\n",
              "    }\n",
              "\n",
              "    .dataframe tbody tr th {\n",
              "        vertical-align: top;\n",
              "    }\n",
              "\n",
              "    .dataframe thead th {\n",
              "        text-align: right;\n",
              "    }\n",
              "</style>\n",
              "<table border=\"1\" class=\"dataframe\">\n",
              "  <thead>\n",
              "    <tr style=\"text-align: right;\">\n",
              "      <th></th>\n",
              "      <th>date_time</th>\n",
              "      <th>message</th>\n",
              "    </tr>\n",
              "  </thead>\n",
              "  <tbody>\n",
              "    <tr>\n",
              "      <th>0</th>\n",
              "      <td>November 2004</td>\n",
              "      <td>kd,\\nThat 8714 number includes more than B3 se...</td>\n",
              "    </tr>\n",
              "    <tr>\n",
              "      <th>1</th>\n",
              "      <td>November 2004</td>\n",
              "      <td>I hope this is resolved really soon! I need to...</td>\n",
              "    </tr>\n",
              "    <tr>\n",
              "      <th>2</th>\n",
              "      <td>November 2004</td>\n",
              "      <td>lol, good old kd, dont forget the wagon\\nyou s...</td>\n",
              "    </tr>\n",
              "    <tr>\n",
              "      <th>48</th>\n",
              "      <td>November 2004</td>\n",
              "      <td>In most metropolitan areas, traffic keeps gett...</td>\n",
              "    </tr>\n",
              "    <tr>\n",
              "      <th>49</th>\n",
              "      <td>November 2004</td>\n",
              "      <td>&amp;#147;But definitely having a performance car ...</td>\n",
              "    </tr>\n",
              "  </tbody>\n",
              "</table>\n",
              "</div>"
            ],
            "text/plain": [
              "        date_time                                            message\n",
              "0   November 2004  kd,\\nThat 8714 number includes more than B3 se...\n",
              "1   November 2004  I hope this is resolved really soon! I need to...\n",
              "2   November 2004  lol, good old kd, dont forget the wagon\\nyou s...\n",
              "48  November 2004  In most metropolitan areas, traffic keeps gett...\n",
              "49  November 2004  &#147;But definitely having a performance car ..."
            ]
          },
          "metadata": {},
          "output_type": "display_data"
        },
        {
          "name": "stdout",
          "output_type": "stream",
          "text": [
            "2829\n"
          ]
        },
        {
          "data": {
            "text/html": [
              "<div>\n",
              "<style scoped>\n",
              "    .dataframe tbody tr th:only-of-type {\n",
              "        vertical-align: middle;\n",
              "    }\n",
              "\n",
              "    .dataframe tbody tr th {\n",
              "        vertical-align: top;\n",
              "    }\n",
              "\n",
              "    .dataframe thead th {\n",
              "        text-align: right;\n",
              "    }\n",
              "</style>\n",
              "<table border=\"1\" class=\"dataframe\">\n",
              "  <thead>\n",
              "    <tr style=\"text-align: right;\">\n",
              "      <th></th>\n",
              "      <th>date_time</th>\n",
              "      <th>message</th>\n",
              "    </tr>\n",
              "  </thead>\n",
              "  <tbody>\n",
              "    <tr>\n",
              "      <th>0</th>\n",
              "      <td>November 2004</td>\n",
              "      <td>The key in every purchase for me is one questi...</td>\n",
              "    </tr>\n",
              "    <tr>\n",
              "      <th>1</th>\n",
              "      <td>November 2004</td>\n",
              "      <td>You can't underestimate the p***y magnet facto...</td>\n",
              "    </tr>\n",
              "    <tr>\n",
              "      <th>2</th>\n",
              "      <td>November 2004</td>\n",
              "      <td>Thank you jrock65 for the valuable information...</td>\n",
              "    </tr>\n",
              "    <tr>\n",
              "      <th>48</th>\n",
              "      <td>November 2004</td>\n",
              "      <td>Well.. I was trying to show there is a big dif...</td>\n",
              "    </tr>\n",
              "    <tr>\n",
              "      <th>49</th>\n",
              "      <td>November 2004</td>\n",
              "      <td>Everything I've heard so far says that the int...</td>\n",
              "    </tr>\n",
              "  </tbody>\n",
              "</table>\n",
              "</div>"
            ],
            "text/plain": [
              "        date_time                                            message\n",
              "0   November 2004  The key in every purchase for me is one questi...\n",
              "1   November 2004  You can't underestimate the p***y magnet facto...\n",
              "2   November 2004  Thank you jrock65 for the valuable information...\n",
              "48  November 2004  Well.. I was trying to show there is a big dif...\n",
              "49  November 2004  Everything I've heard so far says that the int..."
            ]
          },
          "metadata": {},
          "output_type": "display_data"
        },
        {
          "name": "stdout",
          "output_type": "stream",
          "text": [
            "2876\n"
          ]
        },
        {
          "data": {
            "text/html": [
              "<div>\n",
              "<style scoped>\n",
              "    .dataframe tbody tr th:only-of-type {\n",
              "        vertical-align: middle;\n",
              "    }\n",
              "\n",
              "    .dataframe tbody tr th {\n",
              "        vertical-align: top;\n",
              "    }\n",
              "\n",
              "    .dataframe thead th {\n",
              "        text-align: right;\n",
              "    }\n",
              "</style>\n",
              "<table border=\"1\" class=\"dataframe\">\n",
              "  <thead>\n",
              "    <tr style=\"text-align: right;\">\n",
              "      <th></th>\n",
              "      <th>date_time</th>\n",
              "      <th>message</th>\n",
              "    </tr>\n",
              "  </thead>\n",
              "  <tbody>\n",
              "    <tr>\n",
              "      <th>0</th>\n",
              "      <td>November 2004</td>\n",
              "      <td>Dealer did mention that 2005 6MT has to be ord...</td>\n",
              "    </tr>\n",
              "    <tr>\n",
              "      <th>1</th>\n",
              "      <td>November 2004</td>\n",
              "      <td>Interesting result. I expected Volvo and Saab ...</td>\n",
              "    </tr>\n",
              "    <tr>\n",
              "      <th>2</th>\n",
              "      <td>November 2004</td>\n",
              "      <td>Interesting. Considering I know someone who ha...</td>\n",
              "    </tr>\n",
              "    <tr>\n",
              "      <th>48</th>\n",
              "      <td>December 2004</td>\n",
              "      <td>Wow no wonder Acura is concerned about sales, ...</td>\n",
              "    </tr>\n",
              "    <tr>\n",
              "      <th>49</th>\n",
              "      <td>December 2004</td>\n",
              "      <td>There are actually 13 in the city.\\n\\n \\n\\nUnf...</td>\n",
              "    </tr>\n",
              "  </tbody>\n",
              "</table>\n",
              "</div>"
            ],
            "text/plain": [
              "        date_time                                            message\n",
              "0   November 2004  Dealer did mention that 2005 6MT has to be ord...\n",
              "1   November 2004  Interesting result. I expected Volvo and Saab ...\n",
              "2   November 2004  Interesting. Considering I know someone who ha...\n",
              "48  December 2004  Wow no wonder Acura is concerned about sales, ...\n",
              "49  December 2004  There are actually 13 in the city.\\n\\n \\n\\nUnf..."
            ]
          },
          "metadata": {},
          "output_type": "display_data"
        },
        {
          "name": "stdout",
          "output_type": "stream",
          "text": [
            "2925\n"
          ]
        },
        {
          "data": {
            "text/html": [
              "<div>\n",
              "<style scoped>\n",
              "    .dataframe tbody tr th:only-of-type {\n",
              "        vertical-align: middle;\n",
              "    }\n",
              "\n",
              "    .dataframe tbody tr th {\n",
              "        vertical-align: top;\n",
              "    }\n",
              "\n",
              "    .dataframe thead th {\n",
              "        text-align: right;\n",
              "    }\n",
              "</style>\n",
              "<table border=\"1\" class=\"dataframe\">\n",
              "  <thead>\n",
              "    <tr style=\"text-align: right;\">\n",
              "      <th></th>\n",
              "      <th>date_time</th>\n",
              "      <th>message</th>\n",
              "    </tr>\n",
              "  </thead>\n",
              "  <tbody>\n",
              "    <tr>\n",
              "      <th>0</th>\n",
              "      <td>December 2004</td>\n",
              "      <td>\"Unfortunately #13 never shows up at our meets...</td>\n",
              "    </tr>\n",
              "    <tr>\n",
              "      <th>1</th>\n",
              "      <td>December 2004</td>\n",
              "      <td>The only reason I ever visit my Acura shop is ...</td>\n",
              "    </tr>\n",
              "    <tr>\n",
              "      <th>2</th>\n",
              "      <td>December 2004</td>\n",
              "      <td>isn't this special?\\n\\n \\n\\nIn five years' tim...</td>\n",
              "    </tr>\n",
              "    <tr>\n",
              "      <th>48</th>\n",
              "      <td>January 2005</td>\n",
              "      <td>sadly uninsured-underinsured coverage isnt man...</td>\n",
              "    </tr>\n",
              "    <tr>\n",
              "      <th>49</th>\n",
              "      <td>January 2005</td>\n",
              "      <td>TL 7211 units |Total sold in 2004 : 77895\\n\\nE...</td>\n",
              "    </tr>\n",
              "  </tbody>\n",
              "</table>\n",
              "</div>"
            ],
            "text/plain": [
              "        date_time                                            message\n",
              "0   December 2004  \"Unfortunately #13 never shows up at our meets...\n",
              "1   December 2004  The only reason I ever visit my Acura shop is ...\n",
              "2   December 2004  isn't this special?\\n\\n \\n\\nIn five years' tim...\n",
              "48   January 2005  sadly uninsured-underinsured coverage isnt man...\n",
              "49   January 2005  TL 7211 units |Total sold in 2004 : 77895\\n\\nE..."
            ]
          },
          "metadata": {},
          "output_type": "display_data"
        },
        {
          "name": "stdout",
          "output_type": "stream",
          "text": [
            "2972\n"
          ]
        },
        {
          "data": {
            "text/html": [
              "<div>\n",
              "<style scoped>\n",
              "    .dataframe tbody tr th:only-of-type {\n",
              "        vertical-align: middle;\n",
              "    }\n",
              "\n",
              "    .dataframe tbody tr th {\n",
              "        vertical-align: top;\n",
              "    }\n",
              "\n",
              "    .dataframe thead th {\n",
              "        text-align: right;\n",
              "    }\n",
              "</style>\n",
              "<table border=\"1\" class=\"dataframe\">\n",
              "  <thead>\n",
              "    <tr style=\"text-align: right;\">\n",
              "      <th></th>\n",
              "      <th>date_time</th>\n",
              "      <th>message</th>\n",
              "    </tr>\n",
              "  </thead>\n",
              "  <tbody>\n",
              "    <tr>\n",
              "      <th>0</th>\n",
              "      <td>January 2005</td>\n",
              "      <td>Total 3 Series all models Dec: 10,569\\n\\nTotal...</td>\n",
              "    </tr>\n",
              "    <tr>\n",
              "      <th>1</th>\n",
              "      <td>January 2005</td>\n",
              "      <td>I am admittedly an Acura fan (although I own n...</td>\n",
              "    </tr>\n",
              "    <tr>\n",
              "      <th>4</th>\n",
              "      <td>January 2005</td>\n",
              "      <td>Is CTS 3.6 the top selling single model of RWD...</td>\n",
              "    </tr>\n",
              "    <tr>\n",
              "      <th>48</th>\n",
              "      <td>January 2005</td>\n",
              "      <td>...can fit on the head of a pin? Let's argue a...</td>\n",
              "    </tr>\n",
              "    <tr>\n",
              "      <th>49</th>\n",
              "      <td>January 2005</td>\n",
              "      <td>\"An Acura TL finished 1st in class, and 3rd ov...</td>\n",
              "    </tr>\n",
              "  </tbody>\n",
              "</table>\n",
              "</div>"
            ],
            "text/plain": [
              "       date_time                                            message\n",
              "0   January 2005  Total 3 Series all models Dec: 10,569\\n\\nTotal...\n",
              "1   January 2005  I am admittedly an Acura fan (although I own n...\n",
              "4   January 2005  Is CTS 3.6 the top selling single model of RWD...\n",
              "48  January 2005  ...can fit on the head of a pin? Let's argue a...\n",
              "49  January 2005  \"An Acura TL finished 1st in class, and 3rd ov..."
            ]
          },
          "metadata": {},
          "output_type": "display_data"
        },
        {
          "name": "stdout",
          "output_type": "stream",
          "text": [
            "3022\n"
          ]
        },
        {
          "data": {
            "text/html": [
              "<div>\n",
              "<style scoped>\n",
              "    .dataframe tbody tr th:only-of-type {\n",
              "        vertical-align: middle;\n",
              "    }\n",
              "\n",
              "    .dataframe tbody tr th {\n",
              "        vertical-align: top;\n",
              "    }\n",
              "\n",
              "    .dataframe thead th {\n",
              "        text-align: right;\n",
              "    }\n",
              "</style>\n",
              "<table border=\"1\" class=\"dataframe\">\n",
              "  <thead>\n",
              "    <tr style=\"text-align: right;\">\n",
              "      <th></th>\n",
              "      <th>date_time</th>\n",
              "      <th>message</th>\n",
              "    </tr>\n",
              "  </thead>\n",
              "  <tbody>\n",
              "    <tr>\n",
              "      <th>0</th>\n",
              "      <td>January 2005</td>\n",
              "      <td>yeah, that's great. but you really daned aroun...</td>\n",
              "    </tr>\n",
              "    <tr>\n",
              "      <th>1</th>\n",
              "      <td>January 2005</td>\n",
              "      <td>\"How bout taking another look at the top of th...</td>\n",
              "    </tr>\n",
              "    <tr>\n",
              "      <th>2</th>\n",
              "      <td>January 2005</td>\n",
              "      <td>\"Did they let them drive those cars home?\"\\n\\n...</td>\n",
              "    </tr>\n",
              "    <tr>\n",
              "      <th>48</th>\n",
              "      <td>February 2005</td>\n",
              "      <td>Pretty sure the answer is no..\\n\\nUnfortunatel...</td>\n",
              "    </tr>\n",
              "    <tr>\n",
              "      <th>49</th>\n",
              "      <td>February 2005</td>\n",
              "      <td>The 9-3 linear uses regular gas. It's not part...</td>\n",
              "    </tr>\n",
              "  </tbody>\n",
              "</table>\n",
              "</div>"
            ],
            "text/plain": [
              "        date_time                                            message\n",
              "0    January 2005  yeah, that's great. but you really daned aroun...\n",
              "1    January 2005  \"How bout taking another look at the top of th...\n",
              "2    January 2005  \"Did they let them drive those cars home?\"\\n\\n...\n",
              "48  February 2005  Pretty sure the answer is no..\\n\\nUnfortunatel...\n",
              "49  February 2005  The 9-3 linear uses regular gas. It's not part..."
            ]
          },
          "metadata": {},
          "output_type": "display_data"
        },
        {
          "name": "stdout",
          "output_type": "stream",
          "text": [
            "3070\n"
          ]
        },
        {
          "data": {
            "text/html": [
              "<div>\n",
              "<style scoped>\n",
              "    .dataframe tbody tr th:only-of-type {\n",
              "        vertical-align: middle;\n",
              "    }\n",
              "\n",
              "    .dataframe tbody tr th {\n",
              "        vertical-align: top;\n",
              "    }\n",
              "\n",
              "    .dataframe thead th {\n",
              "        text-align: right;\n",
              "    }\n",
              "</style>\n",
              "<table border=\"1\" class=\"dataframe\">\n",
              "  <thead>\n",
              "    <tr style=\"text-align: right;\">\n",
              "      <th></th>\n",
              "      <th>date_time</th>\n",
              "      <th>message</th>\n",
              "    </tr>\n",
              "  </thead>\n",
              "  <tbody>\n",
              "    <tr>\n",
              "      <th>0</th>\n",
              "      <td>February 2005</td>\n",
              "      <td>The CTS runs on 87 octane.</td>\n",
              "    </tr>\n",
              "    <tr>\n",
              "      <th>1</th>\n",
              "      <td>February 2005</td>\n",
              "      <td>Dear Sylvia,\\n\\nWith Automobile magazine recen...</td>\n",
              "    </tr>\n",
              "    <tr>\n",
              "      <th>2</th>\n",
              "      <td>February 2005</td>\n",
              "      <td>Stability control is not available on the Lega...</td>\n",
              "    </tr>\n",
              "    <tr>\n",
              "      <th>48</th>\n",
              "      <td>March 2005</td>\n",
              "      <td>I guess I can't post a link but it's in the au...</td>\n",
              "    </tr>\n",
              "    <tr>\n",
              "      <th>49</th>\n",
              "      <td>March 2005</td>\n",
              "      <td>Um, there's no reason why you can't post a lin...</td>\n",
              "    </tr>\n",
              "  </tbody>\n",
              "</table>\n",
              "</div>"
            ],
            "text/plain": [
              "        date_time                                            message\n",
              "0   February 2005                         The CTS runs on 87 octane.\n",
              "1   February 2005  Dear Sylvia,\\n\\nWith Automobile magazine recen...\n",
              "2   February 2005  Stability control is not available on the Lega...\n",
              "48     March 2005  I guess I can't post a link but it's in the au...\n",
              "49     March 2005  Um, there's no reason why you can't post a lin..."
            ]
          },
          "metadata": {},
          "output_type": "display_data"
        },
        {
          "name": "stdout",
          "output_type": "stream",
          "text": [
            "3118\n"
          ]
        },
        {
          "data": {
            "text/html": [
              "<div>\n",
              "<style scoped>\n",
              "    .dataframe tbody tr th:only-of-type {\n",
              "        vertical-align: middle;\n",
              "    }\n",
              "\n",
              "    .dataframe tbody tr th {\n",
              "        vertical-align: top;\n",
              "    }\n",
              "\n",
              "    .dataframe thead th {\n",
              "        text-align: right;\n",
              "    }\n",
              "</style>\n",
              "<table border=\"1\" class=\"dataframe\">\n",
              "  <thead>\n",
              "    <tr style=\"text-align: right;\">\n",
              "      <th></th>\n",
              "      <th>date_time</th>\n",
              "      <th>message</th>\n",
              "    </tr>\n",
              "  </thead>\n",
              "  <tbody>\n",
              "    <tr>\n",
              "      <th>1</th>\n",
              "      <td>March 2005</td>\n",
              "      <td>that may cover the tires, but what about the w...</td>\n",
              "    </tr>\n",
              "    <tr>\n",
              "      <th>2</th>\n",
              "      <td>March 2005</td>\n",
              "      <td>Yes, winters, steel wheels, hubcaps, $500 or s...</td>\n",
              "    </tr>\n",
              "    <tr>\n",
              "      <th>3</th>\n",
              "      <td>March 2005</td>\n",
              "      <td>BMWs are much more economical to lease because...</td>\n",
              "    </tr>\n",
              "    <tr>\n",
              "      <th>48</th>\n",
              "      <td>March 2005</td>\n",
              "      <td>I do the same. I price cars there, and waste m...</td>\n",
              "    </tr>\n",
              "    <tr>\n",
              "      <th>49</th>\n",
              "      <td>March 2005</td>\n",
              "      <td>are Edmund's #s generally low or high? Are you...</td>\n",
              "    </tr>\n",
              "  </tbody>\n",
              "</table>\n",
              "</div>"
            ],
            "text/plain": [
              "     date_time                                            message\n",
              "1   March 2005  that may cover the tires, but what about the w...\n",
              "2   March 2005  Yes, winters, steel wheels, hubcaps, $500 or s...\n",
              "3   March 2005  BMWs are much more economical to lease because...\n",
              "48  March 2005  I do the same. I price cars there, and waste m...\n",
              "49  March 2005  are Edmund's #s generally low or high? Are you..."
            ]
          },
          "metadata": {},
          "output_type": "display_data"
        },
        {
          "name": "stdout",
          "output_type": "stream",
          "text": [
            "3167\n"
          ]
        },
        {
          "data": {
            "text/html": [
              "<div>\n",
              "<style scoped>\n",
              "    .dataframe tbody tr th:only-of-type {\n",
              "        vertical-align: middle;\n",
              "    }\n",
              "\n",
              "    .dataframe tbody tr th {\n",
              "        vertical-align: top;\n",
              "    }\n",
              "\n",
              "    .dataframe thead th {\n",
              "        text-align: right;\n",
              "    }\n",
              "</style>\n",
              "<table border=\"1\" class=\"dataframe\">\n",
              "  <thead>\n",
              "    <tr style=\"text-align: right;\">\n",
              "      <th></th>\n",
              "      <th>date_time</th>\n",
              "      <th>message</th>\n",
              "    </tr>\n",
              "  </thead>\n",
              "  <tbody>\n",
              "    <tr>\n",
              "      <th>0</th>\n",
              "      <td>March 2005</td>\n",
              "      <td>tends to be wrong on the invoice/msrp pricing....</td>\n",
              "    </tr>\n",
              "    <tr>\n",
              "      <th>1</th>\n",
              "      <td>March 2005</td>\n",
              "      <td>\"There is already a trend toward the sequentia...</td>\n",
              "    </tr>\n",
              "    <tr>\n",
              "      <th>2</th>\n",
              "      <td>March 2005</td>\n",
              "      <td>carsdirect shows 38,423 with luxury sport pack...</td>\n",
              "    </tr>\n",
              "    <tr>\n",
              "      <th>48</th>\n",
              "      <td>April 2005</td>\n",
              "      <td>Did I mention the Scoobies all come standard w...</td>\n",
              "    </tr>\n",
              "    <tr>\n",
              "      <th>49</th>\n",
              "      <td>April 2005</td>\n",
              "      <td>Remember the econ 101 concept of marginal util...</td>\n",
              "    </tr>\n",
              "  </tbody>\n",
              "</table>\n",
              "</div>"
            ],
            "text/plain": [
              "     date_time                                            message\n",
              "0   March 2005  tends to be wrong on the invoice/msrp pricing....\n",
              "1   March 2005  \"There is already a trend toward the sequentia...\n",
              "2   March 2005  carsdirect shows 38,423 with luxury sport pack...\n",
              "48  April 2005  Did I mention the Scoobies all come standard w...\n",
              "49  April 2005  Remember the econ 101 concept of marginal util..."
            ]
          },
          "metadata": {},
          "output_type": "display_data"
        },
        {
          "name": "stdout",
          "output_type": "stream",
          "text": [
            "3216\n"
          ]
        },
        {
          "data": {
            "text/html": [
              "<div>\n",
              "<style scoped>\n",
              "    .dataframe tbody tr th:only-of-type {\n",
              "        vertical-align: middle;\n",
              "    }\n",
              "\n",
              "    .dataframe tbody tr th {\n",
              "        vertical-align: top;\n",
              "    }\n",
              "\n",
              "    .dataframe thead th {\n",
              "        text-align: right;\n",
              "    }\n",
              "</style>\n",
              "<table border=\"1\" class=\"dataframe\">\n",
              "  <thead>\n",
              "    <tr style=\"text-align: right;\">\n",
              "      <th></th>\n",
              "      <th>date_time</th>\n",
              "      <th>message</th>\n",
              "    </tr>\n",
              "  </thead>\n",
              "  <tbody>\n",
              "    <tr>\n",
              "      <th>0</th>\n",
              "      <td>April 2005</td>\n",
              "      <td>I'm off to see the new 3-Series at Soldier Fie...</td>\n",
              "    </tr>\n",
              "    <tr>\n",
              "      <th>1</th>\n",
              "      <td>April 2005</td>\n",
              "      <td>designman - In terms of handling the only car ...</td>\n",
              "    </tr>\n",
              "    <tr>\n",
              "      <th>2</th>\n",
              "      <td>April 2005</td>\n",
              "      <td>Bumpy roads and sport suspensions are like oil...</td>\n",
              "    </tr>\n",
              "    <tr>\n",
              "      <th>48</th>\n",
              "      <td>May 2005</td>\n",
              "      <td>I have gone around corners many of times at hi...</td>\n",
              "    </tr>\n",
              "    <tr>\n",
              "      <th>49</th>\n",
              "      <td>May 2005</td>\n",
              "      <td>I have gone around corners many of times at hi...</td>\n",
              "    </tr>\n",
              "  </tbody>\n",
              "</table>\n",
              "</div>"
            ],
            "text/plain": [
              "     date_time                                            message\n",
              "0   April 2005  I'm off to see the new 3-Series at Soldier Fie...\n",
              "1   April 2005  designman - In terms of handling the only car ...\n",
              "2   April 2005  Bumpy roads and sport suspensions are like oil...\n",
              "48    May 2005  I have gone around corners many of times at hi...\n",
              "49    May 2005  I have gone around corners many of times at hi..."
            ]
          },
          "metadata": {},
          "output_type": "display_data"
        },
        {
          "name": "stdout",
          "output_type": "stream",
          "text": [
            "3265\n"
          ]
        },
        {
          "data": {
            "text/html": [
              "<div>\n",
              "<style scoped>\n",
              "    .dataframe tbody tr th:only-of-type {\n",
              "        vertical-align: middle;\n",
              "    }\n",
              "\n",
              "    .dataframe tbody tr th {\n",
              "        vertical-align: top;\n",
              "    }\n",
              "\n",
              "    .dataframe thead th {\n",
              "        text-align: right;\n",
              "    }\n",
              "</style>\n",
              "<table border=\"1\" class=\"dataframe\">\n",
              "  <thead>\n",
              "    <tr style=\"text-align: right;\">\n",
              "      <th></th>\n",
              "      <th>date_time</th>\n",
              "      <th>message</th>\n",
              "    </tr>\n",
              "  </thead>\n",
              "  <tbody>\n",
              "    <tr>\n",
              "      <th>0</th>\n",
              "      <td>May 2005</td>\n",
              "      <td>I appreciate your assessment. I have a TL and ...</td>\n",
              "    </tr>\n",
              "    <tr>\n",
              "      <th>1</th>\n",
              "      <td>May 2005</td>\n",
              "      <td>I test drove the 05TL, 05 G35 and 05 3 series....</td>\n",
              "    </tr>\n",
              "    <tr>\n",
              "      <th>2</th>\n",
              "      <td>May 2005</td>\n",
              "      <td>...it is a very good value and I felt that it ...</td>\n",
              "    </tr>\n",
              "    <tr>\n",
              "      <th>48</th>\n",
              "      <td>May 2005</td>\n",
              "      <td>\"I thought the ride in the TL was much too sof...</td>\n",
              "    </tr>\n",
              "    <tr>\n",
              "      <th>49</th>\n",
              "      <td>May 2005</td>\n",
              "      <td>Very well put ljwalters1. However, the TL is a...</td>\n",
              "    </tr>\n",
              "  </tbody>\n",
              "</table>\n",
              "</div>"
            ],
            "text/plain": [
              "   date_time                                            message\n",
              "0   May 2005  I appreciate your assessment. I have a TL and ...\n",
              "1   May 2005  I test drove the 05TL, 05 G35 and 05 3 series....\n",
              "2   May 2005  ...it is a very good value and I felt that it ...\n",
              "48  May 2005  \"I thought the ride in the TL was much too sof...\n",
              "49  May 2005  Very well put ljwalters1. However, the TL is a..."
            ]
          },
          "metadata": {},
          "output_type": "display_data"
        },
        {
          "name": "stdout",
          "output_type": "stream",
          "text": [
            "3315\n"
          ]
        },
        {
          "data": {
            "text/html": [
              "<div>\n",
              "<style scoped>\n",
              "    .dataframe tbody tr th:only-of-type {\n",
              "        vertical-align: middle;\n",
              "    }\n",
              "\n",
              "    .dataframe tbody tr th {\n",
              "        vertical-align: top;\n",
              "    }\n",
              "\n",
              "    .dataframe thead th {\n",
              "        text-align: right;\n",
              "    }\n",
              "</style>\n",
              "<table border=\"1\" class=\"dataframe\">\n",
              "  <thead>\n",
              "    <tr style=\"text-align: right;\">\n",
              "      <th></th>\n",
              "      <th>date_time</th>\n",
              "      <th>message</th>\n",
              "    </tr>\n",
              "  </thead>\n",
              "  <tbody>\n",
              "    <tr>\n",
              "      <th>0</th>\n",
              "      <td>May 2005</td>\n",
              "      <td>The S4 Cab is a great looking car. Best of luc...</td>\n",
              "    </tr>\n",
              "    <tr>\n",
              "      <th>1</th>\n",
              "      <td>May 2005</td>\n",
              "      <td>Great post again Byron! I can't justify the pr...</td>\n",
              "    </tr>\n",
              "    <tr>\n",
              "      <th>2</th>\n",
              "      <td>May 2005</td>\n",
              "      <td>...I am totally in love with the G35 coupe. Oh...</td>\n",
              "    </tr>\n",
              "    <tr>\n",
              "      <th>48</th>\n",
              "      <td>June 2005</td>\n",
              "      <td>G35: 19/26\\n330i: 19/27\\nCTS: 17/27\\n\\nSo it d...</td>\n",
              "    </tr>\n",
              "    <tr>\n",
              "      <th>49</th>\n",
              "      <td>June 2005</td>\n",
              "      <td>Not sure about where you live, but here in the...</td>\n",
              "    </tr>\n",
              "  </tbody>\n",
              "</table>\n",
              "</div>"
            ],
            "text/plain": [
              "    date_time                                            message\n",
              "0    May 2005  The S4 Cab is a great looking car. Best of luc...\n",
              "1    May 2005  Great post again Byron! I can't justify the pr...\n",
              "2    May 2005  ...I am totally in love with the G35 coupe. Oh...\n",
              "48  June 2005  G35: 19/26\\n330i: 19/27\\nCTS: 17/27\\n\\nSo it d...\n",
              "49  June 2005  Not sure about where you live, but here in the..."
            ]
          },
          "metadata": {},
          "output_type": "display_data"
        },
        {
          "name": "stdout",
          "output_type": "stream",
          "text": [
            "3363\n"
          ]
        },
        {
          "data": {
            "text/html": [
              "<div>\n",
              "<style scoped>\n",
              "    .dataframe tbody tr th:only-of-type {\n",
              "        vertical-align: middle;\n",
              "    }\n",
              "\n",
              "    .dataframe tbody tr th {\n",
              "        vertical-align: top;\n",
              "    }\n",
              "\n",
              "    .dataframe thead th {\n",
              "        text-align: right;\n",
              "    }\n",
              "</style>\n",
              "<table border=\"1\" class=\"dataframe\">\n",
              "  <thead>\n",
              "    <tr style=\"text-align: right;\">\n",
              "      <th></th>\n",
              "      <th>date_time</th>\n",
              "      <th>message</th>\n",
              "    </tr>\n",
              "  </thead>\n",
              "  <tbody>\n",
              "    <tr>\n",
              "      <th>0</th>\n",
              "      <td>June 2005</td>\n",
              "      <td>I wonder if there really is a way to find car ...</td>\n",
              "    </tr>\n",
              "    <tr>\n",
              "      <th>1</th>\n",
              "      <td>June 2005</td>\n",
              "      <td>EPA gas mileage estimate testing are out of da...</td>\n",
              "    </tr>\n",
              "    <tr>\n",
              "      <th>2</th>\n",
              "      <td>June 2005</td>\n",
              "      <td>Ever notice why the ratings for all cars are s...</td>\n",
              "    </tr>\n",
              "    <tr>\n",
              "      <th>48</th>\n",
              "      <td>June 2005</td>\n",
              "      <td>This isn't the way it operates. Read the threa...</td>\n",
              "    </tr>\n",
              "    <tr>\n",
              "      <th>49</th>\n",
              "      <td>June 2005</td>\n",
              "      <td>The \"keyless\" system in the new 3 sounds a bit...</td>\n",
              "    </tr>\n",
              "  </tbody>\n",
              "</table>\n",
              "</div>"
            ],
            "text/plain": [
              "    date_time                                            message\n",
              "0   June 2005  I wonder if there really is a way to find car ...\n",
              "1   June 2005  EPA gas mileage estimate testing are out of da...\n",
              "2   June 2005  Ever notice why the ratings for all cars are s...\n",
              "48  June 2005  This isn't the way it operates. Read the threa...\n",
              "49  June 2005  The \"keyless\" system in the new 3 sounds a bit..."
            ]
          },
          "metadata": {},
          "output_type": "display_data"
        },
        {
          "name": "stdout",
          "output_type": "stream",
          "text": [
            "3413\n"
          ]
        },
        {
          "data": {
            "text/html": [
              "<div>\n",
              "<style scoped>\n",
              "    .dataframe tbody tr th:only-of-type {\n",
              "        vertical-align: middle;\n",
              "    }\n",
              "\n",
              "    .dataframe tbody tr th {\n",
              "        vertical-align: top;\n",
              "    }\n",
              "\n",
              "    .dataframe thead th {\n",
              "        text-align: right;\n",
              "    }\n",
              "</style>\n",
              "<table border=\"1\" class=\"dataframe\">\n",
              "  <thead>\n",
              "    <tr style=\"text-align: right;\">\n",
              "      <th></th>\n",
              "      <th>date_time</th>\n",
              "      <th>message</th>\n",
              "    </tr>\n",
              "  </thead>\n",
              "  <tbody>\n",
              "    <tr>\n",
              "      <th>0</th>\n",
              "      <td>June 2005</td>\n",
              "      <td>In my search for a new car, I am truely amazed...</td>\n",
              "    </tr>\n",
              "    <tr>\n",
              "      <th>1</th>\n",
              "      <td>June 2005</td>\n",
              "      <td>I strongly agree with you, especially when you...</td>\n",
              "    </tr>\n",
              "    <tr>\n",
              "      <th>2</th>\n",
              "      <td>June 2005</td>\n",
              "      <td>So the standard system requires you to insert ...</td>\n",
              "    </tr>\n",
              "    <tr>\n",
              "      <th>48</th>\n",
              "      <td>June 2005</td>\n",
              "      <td>Came close to buying 06 325i but went with a r...</td>\n",
              "    </tr>\n",
              "    <tr>\n",
              "      <th>49</th>\n",
              "      <td>June 2005</td>\n",
              "      <td>I wish i would have been there.\\nJust like eve...</td>\n",
              "    </tr>\n",
              "  </tbody>\n",
              "</table>\n",
              "</div>"
            ],
            "text/plain": [
              "    date_time                                            message\n",
              "0   June 2005  In my search for a new car, I am truely amazed...\n",
              "1   June 2005  I strongly agree with you, especially when you...\n",
              "2   June 2005  So the standard system requires you to insert ...\n",
              "48  June 2005  Came close to buying 06 325i but went with a r...\n",
              "49  June 2005  I wish i would have been there.\\nJust like eve..."
            ]
          },
          "metadata": {},
          "output_type": "display_data"
        },
        {
          "name": "stdout",
          "output_type": "stream",
          "text": [
            "3460\n"
          ]
        },
        {
          "data": {
            "text/html": [
              "<div>\n",
              "<style scoped>\n",
              "    .dataframe tbody tr th:only-of-type {\n",
              "        vertical-align: middle;\n",
              "    }\n",
              "\n",
              "    .dataframe tbody tr th {\n",
              "        vertical-align: top;\n",
              "    }\n",
              "\n",
              "    .dataframe thead th {\n",
              "        text-align: right;\n",
              "    }\n",
              "</style>\n",
              "<table border=\"1\" class=\"dataframe\">\n",
              "  <thead>\n",
              "    <tr style=\"text-align: right;\">\n",
              "      <th></th>\n",
              "      <th>date_time</th>\n",
              "      <th>message</th>\n",
              "    </tr>\n",
              "  </thead>\n",
              "  <tbody>\n",
              "    <tr>\n",
              "      <th>0</th>\n",
              "      <td>June 2005</td>\n",
              "      <td>\"I was somewhat steered by the fact that it se...</td>\n",
              "    </tr>\n",
              "    <tr>\n",
              "      <th>1</th>\n",
              "      <td>June 2005</td>\n",
              "      <td>Any body have an input on their experience, es...</td>\n",
              "    </tr>\n",
              "    <tr>\n",
              "      <th>2</th>\n",
              "      <td>June 2005</td>\n",
              "      <td>\"I really don’t care if a TL or a G35 is a \"be...</td>\n",
              "    </tr>\n",
              "    <tr>\n",
              "      <th>48</th>\n",
              "      <td>June 2005</td>\n",
              "      <td>\" The 0-60 time of an E90 with a manual transm...</td>\n",
              "    </tr>\n",
              "    <tr>\n",
              "      <th>49</th>\n",
              "      <td>June 2005</td>\n",
              "      <td>Wow are you ever wrong about that. The percept...</td>\n",
              "    </tr>\n",
              "  </tbody>\n",
              "</table>\n",
              "</div>"
            ],
            "text/plain": [
              "    date_time                                            message\n",
              "0   June 2005  \"I was somewhat steered by the fact that it se...\n",
              "1   June 2005  Any body have an input on their experience, es...\n",
              "2   June 2005  \"I really don’t care if a TL or a G35 is a \"be...\n",
              "48  June 2005  \" The 0-60 time of an E90 with a manual transm...\n",
              "49  June 2005  Wow are you ever wrong about that. The percept..."
            ]
          },
          "metadata": {},
          "output_type": "display_data"
        },
        {
          "name": "stdout",
          "output_type": "stream",
          "text": [
            "3505\n"
          ]
        },
        {
          "data": {
            "text/html": [
              "<div>\n",
              "<style scoped>\n",
              "    .dataframe tbody tr th:only-of-type {\n",
              "        vertical-align: middle;\n",
              "    }\n",
              "\n",
              "    .dataframe tbody tr th {\n",
              "        vertical-align: top;\n",
              "    }\n",
              "\n",
              "    .dataframe thead th {\n",
              "        text-align: right;\n",
              "    }\n",
              "</style>\n",
              "<table border=\"1\" class=\"dataframe\">\n",
              "  <thead>\n",
              "    <tr style=\"text-align: right;\">\n",
              "      <th></th>\n",
              "      <th>date_time</th>\n",
              "      <th>message</th>\n",
              "    </tr>\n",
              "  </thead>\n",
              "  <tbody>\n",
              "    <tr>\n",
              "      <th>0</th>\n",
              "      <td>June 2005</td>\n",
              "      <td>\"Never have a I met a non BMW/Audi/Lexus/MB pe...</td>\n",
              "    </tr>\n",
              "    <tr>\n",
              "      <th>1</th>\n",
              "      <td>June 2005</td>\n",
              "      <td>.02 alert.\\nI dunno, I wanted a sporty rear-dr...</td>\n",
              "    </tr>\n",
              "    <tr>\n",
              "      <th>2</th>\n",
              "      <td>June 2005</td>\n",
              "      <td>maybe you asked the wrong question?</td>\n",
              "    </tr>\n",
              "    <tr>\n",
              "      <th>48</th>\n",
              "      <td>June 2005</td>\n",
              "      <td>Well.. maybe that is because you are wrong!!\\n...</td>\n",
              "    </tr>\n",
              "    <tr>\n",
              "      <th>49</th>\n",
              "      <td>June 2005</td>\n",
              "      <td>have you been talking to my wife?</td>\n",
              "    </tr>\n",
              "  </tbody>\n",
              "</table>\n",
              "</div>"
            ],
            "text/plain": [
              "    date_time                                            message\n",
              "0   June 2005  \"Never have a I met a non BMW/Audi/Lexus/MB pe...\n",
              "1   June 2005  .02 alert.\\nI dunno, I wanted a sporty rear-dr...\n",
              "2   June 2005                maybe you asked the wrong question?\n",
              "48  June 2005  Well.. maybe that is because you are wrong!!\\n...\n",
              "49  June 2005                  have you been talking to my wife?"
            ]
          },
          "metadata": {},
          "output_type": "display_data"
        },
        {
          "name": "stdout",
          "output_type": "stream",
          "text": [
            "3554\n"
          ]
        },
        {
          "data": {
            "text/html": [
              "<div>\n",
              "<style scoped>\n",
              "    .dataframe tbody tr th:only-of-type {\n",
              "        vertical-align: middle;\n",
              "    }\n",
              "\n",
              "    .dataframe tbody tr th {\n",
              "        vertical-align: top;\n",
              "    }\n",
              "\n",
              "    .dataframe thead th {\n",
              "        text-align: right;\n",
              "    }\n",
              "</style>\n",
              "<table border=\"1\" class=\"dataframe\">\n",
              "  <thead>\n",
              "    <tr style=\"text-align: right;\">\n",
              "      <th></th>\n",
              "      <th>date_time</th>\n",
              "      <th>message</th>\n",
              "    </tr>\n",
              "  </thead>\n",
              "  <tbody>\n",
              "    <tr>\n",
              "      <th>0</th>\n",
              "      <td>June 2005</td>\n",
              "      <td>Sign up on the BMW web site or call the phone ...</td>\n",
              "    </tr>\n",
              "    <tr>\n",
              "      <th>1</th>\n",
              "      <td>June 2005</td>\n",
              "      <td>Did BMW X3 a couple of years ago at Belmont NY...</td>\n",
              "    </tr>\n",
              "    <tr>\n",
              "      <th>2</th>\n",
              "      <td>June 2005</td>\n",
              "      <td>Can&amp;#146;t yet compare pre-iDrive BMW reliabil...</td>\n",
              "    </tr>\n",
              "    <tr>\n",
              "      <th>48</th>\n",
              "      <td>June 2005</td>\n",
              "      <td>Obviously you have never owned a 77 Breakdown,...</td>\n",
              "    </tr>\n",
              "    <tr>\n",
              "      <th>49</th>\n",
              "      <td>June 2005</td>\n",
              "      <td>I think I repleyed to the wrong person blueguy...</td>\n",
              "    </tr>\n",
              "  </tbody>\n",
              "</table>\n",
              "</div>"
            ],
            "text/plain": [
              "    date_time                                            message\n",
              "0   June 2005  Sign up on the BMW web site or call the phone ...\n",
              "1   June 2005  Did BMW X3 a couple of years ago at Belmont NY...\n",
              "2   June 2005  Can&#146;t yet compare pre-iDrive BMW reliabil...\n",
              "48  June 2005  Obviously you have never owned a 77 Breakdown,...\n",
              "49  June 2005  I think I repleyed to the wrong person blueguy..."
            ]
          },
          "metadata": {},
          "output_type": "display_data"
        },
        {
          "name": "stdout",
          "output_type": "stream",
          "text": [
            "3600\n"
          ]
        },
        {
          "data": {
            "text/html": [
              "<div>\n",
              "<style scoped>\n",
              "    .dataframe tbody tr th:only-of-type {\n",
              "        vertical-align: middle;\n",
              "    }\n",
              "\n",
              "    .dataframe tbody tr th {\n",
              "        vertical-align: top;\n",
              "    }\n",
              "\n",
              "    .dataframe thead th {\n",
              "        text-align: right;\n",
              "    }\n",
              "</style>\n",
              "<table border=\"1\" class=\"dataframe\">\n",
              "  <thead>\n",
              "    <tr style=\"text-align: right;\">\n",
              "      <th></th>\n",
              "      <th>date_time</th>\n",
              "      <th>message</th>\n",
              "    </tr>\n",
              "  </thead>\n",
              "  <tbody>\n",
              "    <tr>\n",
              "      <th>0</th>\n",
              "      <td>June 2005</td>\n",
              "      <td>I was confused by your post to me...no big deal.</td>\n",
              "    </tr>\n",
              "    <tr>\n",
              "      <th>1</th>\n",
              "      <td>June 2005</td>\n",
              "      <td>CR is a good source, but it has to be taken a ...</td>\n",
              "    </tr>\n",
              "    <tr>\n",
              "      <th>2</th>\n",
              "      <td>June 2005</td>\n",
              "      <td>The people that respond to CR surveys are subs...</td>\n",
              "    </tr>\n",
              "    <tr>\n",
              "      <th>48</th>\n",
              "      <td>July 2005</td>\n",
              "      <td>\"Entry level\" is really a term made up by mark...</td>\n",
              "    </tr>\n",
              "    <tr>\n",
              "      <th>49</th>\n",
              "      <td>July 2005</td>\n",
              "      <td>\"Entry level\" as a marketing ploy, yeah, never...</td>\n",
              "    </tr>\n",
              "  </tbody>\n",
              "</table>\n",
              "</div>"
            ],
            "text/plain": [
              "    date_time                                            message\n",
              "0   June 2005   I was confused by your post to me...no big deal.\n",
              "1   June 2005  CR is a good source, but it has to be taken a ...\n",
              "2   June 2005  The people that respond to CR surveys are subs...\n",
              "48  July 2005  \"Entry level\" is really a term made up by mark...\n",
              "49  July 2005  \"Entry level\" as a marketing ploy, yeah, never..."
            ]
          },
          "metadata": {},
          "output_type": "display_data"
        },
        {
          "name": "stdout",
          "output_type": "stream",
          "text": [
            "3649\n"
          ]
        },
        {
          "data": {
            "text/html": [
              "<div>\n",
              "<style scoped>\n",
              "    .dataframe tbody tr th:only-of-type {\n",
              "        vertical-align: middle;\n",
              "    }\n",
              "\n",
              "    .dataframe tbody tr th {\n",
              "        vertical-align: top;\n",
              "    }\n",
              "\n",
              "    .dataframe thead th {\n",
              "        text-align: right;\n",
              "    }\n",
              "</style>\n",
              "<table border=\"1\" class=\"dataframe\">\n",
              "  <thead>\n",
              "    <tr style=\"text-align: right;\">\n",
              "      <th></th>\n",
              "      <th>date_time</th>\n",
              "      <th>message</th>\n",
              "    </tr>\n",
              "  </thead>\n",
              "  <tbody>\n",
              "    <tr>\n",
              "      <th>0</th>\n",
              "      <td>July 2005</td>\n",
              "      <td>Entry level is a market segment. If manufactur...</td>\n",
              "    </tr>\n",
              "    <tr>\n",
              "      <th>1</th>\n",
              "      <td>July 2005</td>\n",
              "      <td>So where does the 1 series fit in ?</td>\n",
              "    </tr>\n",
              "    <tr>\n",
              "      <th>3</th>\n",
              "      <td>July 2005</td>\n",
              "      <td>\"entry level\" or \"near luxury\".... i think i p...</td>\n",
              "    </tr>\n",
              "    <tr>\n",
              "      <th>48</th>\n",
              "      <td>July 2005</td>\n",
              "      <td>Excuse my ignorence, but is the Miata a FWD or...</td>\n",
              "    </tr>\n",
              "    <tr>\n",
              "      <th>49</th>\n",
              "      <td>July 2005</td>\n",
              "      <td>hmm, it's only been out for over 15 years. RWD.</td>\n",
              "    </tr>\n",
              "  </tbody>\n",
              "</table>\n",
              "</div>"
            ],
            "text/plain": [
              "    date_time                                            message\n",
              "0   July 2005  Entry level is a market segment. If manufactur...\n",
              "1   July 2005                So where does the 1 series fit in ?\n",
              "3   July 2005  \"entry level\" or \"near luxury\".... i think i p...\n",
              "48  July 2005  Excuse my ignorence, but is the Miata a FWD or...\n",
              "49  July 2005    hmm, it's only been out for over 15 years. RWD."
            ]
          },
          "metadata": {},
          "output_type": "display_data"
        },
        {
          "name": "stdout",
          "output_type": "stream",
          "text": [
            "3699\n"
          ]
        },
        {
          "data": {
            "text/html": [
              "<div>\n",
              "<style scoped>\n",
              "    .dataframe tbody tr th:only-of-type {\n",
              "        vertical-align: middle;\n",
              "    }\n",
              "\n",
              "    .dataframe tbody tr th {\n",
              "        vertical-align: top;\n",
              "    }\n",
              "\n",
              "    .dataframe thead th {\n",
              "        text-align: right;\n",
              "    }\n",
              "</style>\n",
              "<table border=\"1\" class=\"dataframe\">\n",
              "  <thead>\n",
              "    <tr style=\"text-align: right;\">\n",
              "      <th></th>\n",
              "      <th>date_time</th>\n",
              "      <th>message</th>\n",
              "    </tr>\n",
              "  </thead>\n",
              "  <tbody>\n",
              "    <tr>\n",
              "      <th>0</th>\n",
              "      <td>July 2005</td>\n",
              "      <td>Like I said excuse my iignorence, plus it's a ...</td>\n",
              "    </tr>\n",
              "    <tr>\n",
              "      <th>1</th>\n",
              "      <td>July 2005</td>\n",
              "      <td>Thank you so much for everyone's responses. I ...</td>\n",
              "    </tr>\n",
              "    <tr>\n",
              "      <th>2</th>\n",
              "      <td>July 2005</td>\n",
              "      <td>no there wasn't. If yu look up the '05 TL revi...</td>\n",
              "    </tr>\n",
              "    <tr>\n",
              "      <th>48</th>\n",
              "      <td>July 2005</td>\n",
              "      <td>So in conclusion a standard suspension g35 wil...</td>\n",
              "    </tr>\n",
              "    <tr>\n",
              "      <th>49</th>\n",
              "      <td>July 2005</td>\n",
              "      <td>Well.. I'm offended that you've referred to my...</td>\n",
              "    </tr>\n",
              "  </tbody>\n",
              "</table>\n",
              "</div>"
            ],
            "text/plain": [
              "    date_time                                            message\n",
              "0   July 2005  Like I said excuse my iignorence, plus it's a ...\n",
              "1   July 2005  Thank you so much for everyone's responses. I ...\n",
              "2   July 2005  no there wasn't. If yu look up the '05 TL revi...\n",
              "48  July 2005  So in conclusion a standard suspension g35 wil...\n",
              "49  July 2005  Well.. I'm offended that you've referred to my..."
            ]
          },
          "metadata": {},
          "output_type": "display_data"
        },
        {
          "name": "stdout",
          "output_type": "stream",
          "text": [
            "3748\n"
          ]
        },
        {
          "data": {
            "text/html": [
              "<div>\n",
              "<style scoped>\n",
              "    .dataframe tbody tr th:only-of-type {\n",
              "        vertical-align: middle;\n",
              "    }\n",
              "\n",
              "    .dataframe tbody tr th {\n",
              "        vertical-align: top;\n",
              "    }\n",
              "\n",
              "    .dataframe thead th {\n",
              "        text-align: right;\n",
              "    }\n",
              "</style>\n",
              "<table border=\"1\" class=\"dataframe\">\n",
              "  <thead>\n",
              "    <tr style=\"text-align: right;\">\n",
              "      <th></th>\n",
              "      <th>date_time</th>\n",
              "      <th>message</th>\n",
              "    </tr>\n",
              "  </thead>\n",
              "  <tbody>\n",
              "    <tr>\n",
              "      <th>0</th>\n",
              "      <td>July 2005</td>\n",
              "      <td>So you're saying then a Crown Victoria must be...</td>\n",
              "    </tr>\n",
              "    <tr>\n",
              "      <th>1</th>\n",
              "      <td>July 2005</td>\n",
              "      <td>\"Acura TL - 0.87g, 65.8 mph\\nG35 - 0.86g, 65.0...</td>\n",
              "    </tr>\n",
              "    <tr>\n",
              "      <th>2</th>\n",
              "      <td>July 2005</td>\n",
              "      <td>\"vehicle utility\"\\n\\nYour definition of vehicl...</td>\n",
              "    </tr>\n",
              "    <tr>\n",
              "      <th>48</th>\n",
              "      <td>July 2005</td>\n",
              "      <td>Is the Pantheon as fast as the BMW M3? :P</td>\n",
              "    </tr>\n",
              "    <tr>\n",
              "      <th>49</th>\n",
              "      <td>July 2005</td>\n",
              "      <td>I think the best sportscar you can get with $5...</td>\n",
              "    </tr>\n",
              "  </tbody>\n",
              "</table>\n",
              "</div>"
            ],
            "text/plain": [
              "    date_time                                            message\n",
              "0   July 2005  So you're saying then a Crown Victoria must be...\n",
              "1   July 2005  \"Acura TL - 0.87g, 65.8 mph\\nG35 - 0.86g, 65.0...\n",
              "2   July 2005  \"vehicle utility\"\\n\\nYour definition of vehicl...\n",
              "48  July 2005          Is the Pantheon as fast as the BMW M3? :P\n",
              "49  July 2005  I think the best sportscar you can get with $5..."
            ]
          },
          "metadata": {},
          "output_type": "display_data"
        },
        {
          "name": "stdout",
          "output_type": "stream",
          "text": [
            "3797\n"
          ]
        },
        {
          "data": {
            "text/html": [
              "<div>\n",
              "<style scoped>\n",
              "    .dataframe tbody tr th:only-of-type {\n",
              "        vertical-align: middle;\n",
              "    }\n",
              "\n",
              "    .dataframe tbody tr th {\n",
              "        vertical-align: top;\n",
              "    }\n",
              "\n",
              "    .dataframe thead th {\n",
              "        text-align: right;\n",
              "    }\n",
              "</style>\n",
              "<table border=\"1\" class=\"dataframe\">\n",
              "  <thead>\n",
              "    <tr style=\"text-align: right;\">\n",
              "      <th></th>\n",
              "      <th>date_time</th>\n",
              "      <th>message</th>\n",
              "    </tr>\n",
              "  </thead>\n",
              "  <tbody>\n",
              "    <tr>\n",
              "      <th>0</th>\n",
              "      <td>July 2005</td>\n",
              "      <td>I love the TLs styling. I look at it from the ...</td>\n",
              "    </tr>\n",
              "    <tr>\n",
              "      <th>1</th>\n",
              "      <td>July 2005</td>\n",
              "      <td>I would be concerned about the vette's reliabi...</td>\n",
              "    </tr>\n",
              "    <tr>\n",
              "      <th>2</th>\n",
              "      <td>July 2005</td>\n",
              "      <td>Cant agree more!\\n\\nTaxesquire : they made up ...</td>\n",
              "    </tr>\n",
              "    <tr>\n",
              "      <th>48</th>\n",
              "      <td>August 2005</td>\n",
              "      <td>For people in the habit of thinking about SAE ...</td>\n",
              "    </tr>\n",
              "    <tr>\n",
              "      <th>49</th>\n",
              "      <td>August 2005</td>\n",
              "      <td>For the 2006 model year, all Acura horsepower ...</td>\n",
              "    </tr>\n",
              "  </tbody>\n",
              "</table>\n",
              "</div>"
            ],
            "text/plain": [
              "      date_time                                            message\n",
              "0     July 2005  I love the TLs styling. I look at it from the ...\n",
              "1     July 2005  I would be concerned about the vette's reliabi...\n",
              "2     July 2005  Cant agree more!\\n\\nTaxesquire : they made up ...\n",
              "48  August 2005  For people in the habit of thinking about SAE ...\n",
              "49  August 2005  For the 2006 model year, all Acura horsepower ..."
            ]
          },
          "metadata": {},
          "output_type": "display_data"
        },
        {
          "name": "stdout",
          "output_type": "stream",
          "text": [
            "3845\n"
          ]
        },
        {
          "data": {
            "text/html": [
              "<div>\n",
              "<style scoped>\n",
              "    .dataframe tbody tr th:only-of-type {\n",
              "        vertical-align: middle;\n",
              "    }\n",
              "\n",
              "    .dataframe tbody tr th {\n",
              "        vertical-align: top;\n",
              "    }\n",
              "\n",
              "    .dataframe thead th {\n",
              "        text-align: right;\n",
              "    }\n",
              "</style>\n",
              "<table border=\"1\" class=\"dataframe\">\n",
              "  <thead>\n",
              "    <tr style=\"text-align: right;\">\n",
              "      <th></th>\n",
              "      <th>date_time</th>\n",
              "      <th>message</th>\n",
              "    </tr>\n",
              "  </thead>\n",
              "  <tbody>\n",
              "    <tr>\n",
              "      <th>0</th>\n",
              "      <td>August 2005</td>\n",
              "      <td>I'm also thinking of switching from a Passat t...</td>\n",
              "    </tr>\n",
              "    <tr>\n",
              "      <th>1</th>\n",
              "      <td>August 2005</td>\n",
              "      <td>I love my TL, and I never regret switching fro...</td>\n",
              "    </tr>\n",
              "    <tr>\n",
              "      <th>2</th>\n",
              "      <td>August 2005</td>\n",
              "      <td>Wow, they've done a nice job leapfrogging the ...</td>\n",
              "    </tr>\n",
              "    <tr>\n",
              "      <th>48</th>\n",
              "      <td>August 2005</td>\n",
              "      <td>\"A car that sporty with no MT??? That's strang...</td>\n",
              "    </tr>\n",
              "    <tr>\n",
              "      <th>49</th>\n",
              "      <td>August 2005</td>\n",
              "      <td>INFINITI and BMW have made great cars along wi...</td>\n",
              "    </tr>\n",
              "  </tbody>\n",
              "</table>\n",
              "</div>"
            ],
            "text/plain": [
              "      date_time                                            message\n",
              "0   August 2005  I'm also thinking of switching from a Passat t...\n",
              "1   August 2005  I love my TL, and I never regret switching fro...\n",
              "2   August 2005  Wow, they've done a nice job leapfrogging the ...\n",
              "48  August 2005  \"A car that sporty with no MT??? That's strang...\n",
              "49  August 2005  INFINITI and BMW have made great cars along wi..."
            ]
          },
          "metadata": {},
          "output_type": "display_data"
        },
        {
          "name": "stdout",
          "output_type": "stream",
          "text": [
            "3895\n"
          ]
        },
        {
          "data": {
            "text/html": [
              "<div>\n",
              "<style scoped>\n",
              "    .dataframe tbody tr th:only-of-type {\n",
              "        vertical-align: middle;\n",
              "    }\n",
              "\n",
              "    .dataframe tbody tr th {\n",
              "        vertical-align: top;\n",
              "    }\n",
              "\n",
              "    .dataframe thead th {\n",
              "        text-align: right;\n",
              "    }\n",
              "</style>\n",
              "<table border=\"1\" class=\"dataframe\">\n",
              "  <thead>\n",
              "    <tr style=\"text-align: right;\">\n",
              "      <th></th>\n",
              "      <th>date_time</th>\n",
              "      <th>message</th>\n",
              "    </tr>\n",
              "  </thead>\n",
              "  <tbody>\n",
              "    <tr>\n",
              "      <th>0</th>\n",
              "      <td>August 2005</td>\n",
              "      <td>\"The coupes have too much chassis flex. \"\\n\\nI...</td>\n",
              "    </tr>\n",
              "    <tr>\n",
              "      <th>1</th>\n",
              "      <td>August 2005</td>\n",
              "      <td>\"If the IS350 loaded costs 30k,\"\\n\\nIt wont. T...</td>\n",
              "    </tr>\n",
              "    <tr>\n",
              "      <th>2</th>\n",
              "      <td>August 2005</td>\n",
              "      <td>Hey I also agree about the price... If you hea...</td>\n",
              "    </tr>\n",
              "    <tr>\n",
              "      <th>48</th>\n",
              "      <td>August 2005</td>\n",
              "      <td>Um... face the 6-SPD Infin will blow the doors...</td>\n",
              "    </tr>\n",
              "    <tr>\n",
              "      <th>49</th>\n",
              "      <td>August 2005</td>\n",
              "      <td>kd, no comparo ever has timed a 330 quicker to...</td>\n",
              "    </tr>\n",
              "  </tbody>\n",
              "</table>\n",
              "</div>"
            ],
            "text/plain": [
              "      date_time                                            message\n",
              "0   August 2005  \"The coupes have too much chassis flex. \"\\n\\nI...\n",
              "1   August 2005  \"If the IS350 loaded costs 30k,\"\\n\\nIt wont. T...\n",
              "2   August 2005  Hey I also agree about the price... If you hea...\n",
              "48  August 2005  Um... face the 6-SPD Infin will blow the doors...\n",
              "49  August 2005  kd, no comparo ever has timed a 330 quicker to..."
            ]
          },
          "metadata": {},
          "output_type": "display_data"
        },
        {
          "name": "stdout",
          "output_type": "stream",
          "text": [
            "3943\n"
          ]
        },
        {
          "data": {
            "text/html": [
              "<div>\n",
              "<style scoped>\n",
              "    .dataframe tbody tr th:only-of-type {\n",
              "        vertical-align: middle;\n",
              "    }\n",
              "\n",
              "    .dataframe tbody tr th {\n",
              "        vertical-align: top;\n",
              "    }\n",
              "\n",
              "    .dataframe thead th {\n",
              "        text-align: right;\n",
              "    }\n",
              "</style>\n",
              "<table border=\"1\" class=\"dataframe\">\n",
              "  <thead>\n",
              "    <tr style=\"text-align: right;\">\n",
              "      <th></th>\n",
              "      <th>date_time</th>\n",
              "      <th>message</th>\n",
              "    </tr>\n",
              "  </thead>\n",
              "  <tbody>\n",
              "    <tr>\n",
              "      <th>0</th>\n",
              "      <td>August 2005</td>\n",
              "      <td>again, a V6 accord stick would out gun any 325...</td>\n",
              "    </tr>\n",
              "    <tr>\n",
              "      <th>1</th>\n",
              "      <td>August 2005</td>\n",
              "      <td>the Bimmers are not just about 0-60 numbers, m...</td>\n",
              "    </tr>\n",
              "    <tr>\n",
              "      <th>2</th>\n",
              "      <td>August 2005</td>\n",
              "      <td>Wow really I never knew that the V6 Accord Cou...</td>\n",
              "    </tr>\n",
              "    <tr>\n",
              "      <th>48</th>\n",
              "      <td>August 2005</td>\n",
              "      <td>Yes the new engine 268 hp V-6 right ? Sounds g...</td>\n",
              "    </tr>\n",
              "    <tr>\n",
              "      <th>49</th>\n",
              "      <td>August 2005</td>\n",
              "      <td>I got a complimentary Dodge Neon from the 90's...</td>\n",
              "    </tr>\n",
              "  </tbody>\n",
              "</table>\n",
              "</div>"
            ],
            "text/plain": [
              "      date_time                                            message\n",
              "0   August 2005  again, a V6 accord stick would out gun any 325...\n",
              "1   August 2005  the Bimmers are not just about 0-60 numbers, m...\n",
              "2   August 2005  Wow really I never knew that the V6 Accord Cou...\n",
              "48  August 2005  Yes the new engine 268 hp V-6 right ? Sounds g...\n",
              "49  August 2005  I got a complimentary Dodge Neon from the 90's..."
            ]
          },
          "metadata": {},
          "output_type": "display_data"
        },
        {
          "name": "stdout",
          "output_type": "stream",
          "text": [
            "3992\n"
          ]
        },
        {
          "data": {
            "text/html": [
              "<div>\n",
              "<style scoped>\n",
              "    .dataframe tbody tr th:only-of-type {\n",
              "        vertical-align: middle;\n",
              "    }\n",
              "\n",
              "    .dataframe tbody tr th {\n",
              "        vertical-align: top;\n",
              "    }\n",
              "\n",
              "    .dataframe thead th {\n",
              "        text-align: right;\n",
              "    }\n",
              "</style>\n",
              "<table border=\"1\" class=\"dataframe\">\n",
              "  <thead>\n",
              "    <tr style=\"text-align: right;\">\n",
              "      <th></th>\n",
              "      <th>date_time</th>\n",
              "      <th>message</th>\n",
              "    </tr>\n",
              "  </thead>\n",
              "  <tbody>\n",
              "    <tr>\n",
              "      <th>0</th>\n",
              "      <td>August 2005</td>\n",
              "      <td>Don't get me wrong, I did like the G, I just g...</td>\n",
              "    </tr>\n",
              "    <tr>\n",
              "      <th>1</th>\n",
              "      <td>August 2005</td>\n",
              "      <td>Well then I must be a special customer because...</td>\n",
              "    </tr>\n",
              "    <tr>\n",
              "      <th>2</th>\n",
              "      <td>August 2005</td>\n",
              "      <td>Yes they are treating me good ! I just ordered...</td>\n",
              "    </tr>\n",
              "    <tr>\n",
              "      <th>48</th>\n",
              "      <td>August 2005</td>\n",
              "      <td>hey blueguy, my 330i will arrive at the dealer...</td>\n",
              "    </tr>\n",
              "    <tr>\n",
              "      <th>49</th>\n",
              "      <td>August 2005</td>\n",
              "      <td>German cars can only hope to be as good as a G...</td>\n",
              "    </tr>\n",
              "  </tbody>\n",
              "</table>\n",
              "</div>"
            ],
            "text/plain": [
              "      date_time                                            message\n",
              "0   August 2005  Don't get me wrong, I did like the G, I just g...\n",
              "1   August 2005  Well then I must be a special customer because...\n",
              "2   August 2005  Yes they are treating me good ! I just ordered...\n",
              "48  August 2005  hey blueguy, my 330i will arrive at the dealer...\n",
              "49  August 2005  German cars can only hope to be as good as a G..."
            ]
          },
          "metadata": {},
          "output_type": "display_data"
        },
        {
          "name": "stdout",
          "output_type": "stream",
          "text": [
            "4042\n"
          ]
        },
        {
          "data": {
            "text/html": [
              "<div>\n",
              "<style scoped>\n",
              "    .dataframe tbody tr th:only-of-type {\n",
              "        vertical-align: middle;\n",
              "    }\n",
              "\n",
              "    .dataframe tbody tr th {\n",
              "        vertical-align: top;\n",
              "    }\n",
              "\n",
              "    .dataframe thead th {\n",
              "        text-align: right;\n",
              "    }\n",
              "</style>\n",
              "<table border=\"1\" class=\"dataframe\">\n",
              "  <thead>\n",
              "    <tr style=\"text-align: right;\">\n",
              "      <th></th>\n",
              "      <th>date_time</th>\n",
              "      <th>message</th>\n",
              "    </tr>\n",
              "  </thead>\n",
              "  <tbody>\n",
              "    <tr>\n",
              "      <th>0</th>\n",
              "      <td>August 2005</td>\n",
              "      <td>Yeah to bad it doesn't handle as good and goob...</td>\n",
              "    </tr>\n",
              "    <tr>\n",
              "      <th>1</th>\n",
              "      <td>August 2005</td>\n",
              "      <td>The G35 coupe does handle as good as the BMW, ...</td>\n",
              "    </tr>\n",
              "    <tr>\n",
              "      <th>2</th>\n",
              "      <td>August 2005</td>\n",
              "      <td>Actually it doesn't wipe out anything. HP is n...</td>\n",
              "    </tr>\n",
              "    <tr>\n",
              "      <th>48</th>\n",
              "      <td>August 2005</td>\n",
              "      <td>Of course I can think what I want. No need for...</td>\n",
              "    </tr>\n",
              "    <tr>\n",
              "      <th>49</th>\n",
              "      <td>August 2005</td>\n",
              "      <td>Here is what I wrote:\\n\\n2005 G35 auto: 15-18/...</td>\n",
              "    </tr>\n",
              "  </tbody>\n",
              "</table>\n",
              "</div>"
            ],
            "text/plain": [
              "      date_time                                            message\n",
              "0   August 2005  Yeah to bad it doesn't handle as good and goob...\n",
              "1   August 2005  The G35 coupe does handle as good as the BMW, ...\n",
              "2   August 2005  Actually it doesn't wipe out anything. HP is n...\n",
              "48  August 2005  Of course I can think what I want. No need for...\n",
              "49  August 2005  Here is what I wrote:\\n\\n2005 G35 auto: 15-18/..."
            ]
          },
          "metadata": {},
          "output_type": "display_data"
        },
        {
          "name": "stdout",
          "output_type": "stream",
          "text": [
            "4088\n"
          ]
        },
        {
          "data": {
            "text/html": [
              "<div>\n",
              "<style scoped>\n",
              "    .dataframe tbody tr th:only-of-type {\n",
              "        vertical-align: middle;\n",
              "    }\n",
              "\n",
              "    .dataframe tbody tr th {\n",
              "        vertical-align: top;\n",
              "    }\n",
              "\n",
              "    .dataframe thead th {\n",
              "        text-align: right;\n",
              "    }\n",
              "</style>\n",
              "<table border=\"1\" class=\"dataframe\">\n",
              "  <thead>\n",
              "    <tr style=\"text-align: right;\">\n",
              "      <th></th>\n",
              "      <th>date_time</th>\n",
              "      <th>message</th>\n",
              "    </tr>\n",
              "  </thead>\n",
              "  <tbody>\n",
              "    <tr>\n",
              "      <th>0</th>\n",
              "      <td>August 2005</td>\n",
              "      <td>That's what I'm saying. To use as a comparison...</td>\n",
              "    </tr>\n",
              "    <tr>\n",
              "      <th>1</th>\n",
              "      <td>August 2005</td>\n",
              "      <td>The problem with the EPA it is not real world....</td>\n",
              "    </tr>\n",
              "    <tr>\n",
              "      <th>2</th>\n",
              "      <td>August 2005</td>\n",
              "      <td>\"i can get employee pricing on a G35...and my ...</td>\n",
              "    </tr>\n",
              "    <tr>\n",
              "      <th>47</th>\n",
              "      <td>August 2005</td>\n",
              "      <td>OAC, you gotta ask yourself, how did a slower ...</td>\n",
              "    </tr>\n",
              "    <tr>\n",
              "      <th>49</th>\n",
              "      <td>August 2005</td>\n",
              "      <td>\"The IS brings a total package to the table.\"\\...</td>\n",
              "    </tr>\n",
              "  </tbody>\n",
              "</table>\n",
              "</div>"
            ],
            "text/plain": [
              "      date_time                                            message\n",
              "0   August 2005  That's what I'm saying. To use as a comparison...\n",
              "1   August 2005  The problem with the EPA it is not real world....\n",
              "2   August 2005  \"i can get employee pricing on a G35...and my ...\n",
              "47  August 2005  OAC, you gotta ask yourself, how did a slower ...\n",
              "49  August 2005  \"The IS brings a total package to the table.\"\\..."
            ]
          },
          "metadata": {},
          "output_type": "display_data"
        },
        {
          "name": "stdout",
          "output_type": "stream",
          "text": [
            "4136\n"
          ]
        },
        {
          "data": {
            "text/html": [
              "<div>\n",
              "<style scoped>\n",
              "    .dataframe tbody tr th:only-of-type {\n",
              "        vertical-align: middle;\n",
              "    }\n",
              "\n",
              "    .dataframe tbody tr th {\n",
              "        vertical-align: top;\n",
              "    }\n",
              "\n",
              "    .dataframe thead th {\n",
              "        text-align: right;\n",
              "    }\n",
              "</style>\n",
              "<table border=\"1\" class=\"dataframe\">\n",
              "  <thead>\n",
              "    <tr style=\"text-align: right;\">\n",
              "      <th></th>\n",
              "      <th>date_time</th>\n",
              "      <th>message</th>\n",
              "    </tr>\n",
              "  </thead>\n",
              "  <tbody>\n",
              "    <tr>\n",
              "      <th>0</th>\n",
              "      <td>August 2005</td>\n",
              "      <td>There must be a lot of denial going on around ...</td>\n",
              "    </tr>\n",
              "    <tr>\n",
              "      <th>1</th>\n",
              "      <td>August 2005</td>\n",
              "      <td>you gotta ask yourself, how did a slower car t...</td>\n",
              "    </tr>\n",
              "    <tr>\n",
              "      <th>2</th>\n",
              "      <td>August 2005</td>\n",
              "      <td>Don't look now, but the \"total package\" is mis...</td>\n",
              "    </tr>\n",
              "    <tr>\n",
              "      <th>48</th>\n",
              "      <td>August 2005</td>\n",
              "      <td>As for trannies, the DSG's got it all over BMW...</td>\n",
              "    </tr>\n",
              "    <tr>\n",
              "      <th>49</th>\n",
              "      <td>August 2005</td>\n",
              "      <td>states that while they really like the car ove...</td>\n",
              "    </tr>\n",
              "  </tbody>\n",
              "</table>\n",
              "</div>"
            ],
            "text/plain": [
              "      date_time                                            message\n",
              "0   August 2005  There must be a lot of denial going on around ...\n",
              "1   August 2005  you gotta ask yourself, how did a slower car t...\n",
              "2   August 2005  Don't look now, but the \"total package\" is mis...\n",
              "48  August 2005  As for trannies, the DSG's got it all over BMW...\n",
              "49  August 2005  states that while they really like the car ove..."
            ]
          },
          "metadata": {},
          "output_type": "display_data"
        },
        {
          "name": "stdout",
          "output_type": "stream",
          "text": [
            "4185\n"
          ]
        },
        {
          "data": {
            "text/html": [
              "<div>\n",
              "<style scoped>\n",
              "    .dataframe tbody tr th:only-of-type {\n",
              "        vertical-align: middle;\n",
              "    }\n",
              "\n",
              "    .dataframe tbody tr th {\n",
              "        vertical-align: top;\n",
              "    }\n",
              "\n",
              "    .dataframe thead th {\n",
              "        text-align: right;\n",
              "    }\n",
              "</style>\n",
              "<table border=\"1\" class=\"dataframe\">\n",
              "  <thead>\n",
              "    <tr style=\"text-align: right;\">\n",
              "      <th></th>\n",
              "      <th>date_time</th>\n",
              "      <th>message</th>\n",
              "    </tr>\n",
              "  </thead>\n",
              "  <tbody>\n",
              "    <tr>\n",
              "      <th>0</th>\n",
              "      <td>August 2005</td>\n",
              "      <td>I still have fantasies about owning honda's si...</td>\n",
              "    </tr>\n",
              "    <tr>\n",
              "      <th>1</th>\n",
              "      <td>August 2005</td>\n",
              "      <td>OK, how about a Lotus Elise? Well over $30K an...</td>\n",
              "    </tr>\n",
              "    <tr>\n",
              "      <th>2</th>\n",
              "      <td>August 2005</td>\n",
              "      <td>In this review, the IS350 got a 0-60 time of 6...</td>\n",
              "    </tr>\n",
              "    <tr>\n",
              "      <th>48</th>\n",
              "      <td>September 2005</td>\n",
              "      <td>Uh... I owned a 3-speed... How old does that m...</td>\n",
              "    </tr>\n",
              "    <tr>\n",
              "      <th>49</th>\n",
              "      <td>September 2005</td>\n",
              "      <td>Extending this off-topic - Had a \"Used\" 53 For...</td>\n",
              "    </tr>\n",
              "  </tbody>\n",
              "</table>\n",
              "</div>"
            ],
            "text/plain": [
              "         date_time                                            message\n",
              "0      August 2005  I still have fantasies about owning honda's si...\n",
              "1      August 2005  OK, how about a Lotus Elise? Well over $30K an...\n",
              "2      August 2005  In this review, the IS350 got a 0-60 time of 6...\n",
              "48  September 2005  Uh... I owned a 3-speed... How old does that m...\n",
              "49  September 2005  Extending this off-topic - Had a \"Used\" 53 For..."
            ]
          },
          "metadata": {},
          "output_type": "display_data"
        },
        {
          "name": "stdout",
          "output_type": "stream",
          "text": [
            "4235\n"
          ]
        },
        {
          "data": {
            "text/html": [
              "<div>\n",
              "<style scoped>\n",
              "    .dataframe tbody tr th:only-of-type {\n",
              "        vertical-align: middle;\n",
              "    }\n",
              "\n",
              "    .dataframe tbody tr th {\n",
              "        vertical-align: top;\n",
              "    }\n",
              "\n",
              "    .dataframe thead th {\n",
              "        text-align: right;\n",
              "    }\n",
              "</style>\n",
              "<table border=\"1\" class=\"dataframe\">\n",
              "  <thead>\n",
              "    <tr style=\"text-align: right;\">\n",
              "      <th></th>\n",
              "      <th>date_time</th>\n",
              "      <th>message</th>\n",
              "    </tr>\n",
              "  </thead>\n",
              "  <tbody>\n",
              "    <tr>\n",
              "      <th>0</th>\n",
              "      <td>September 2005</td>\n",
              "      <td>that there are people on here even older than ...</td>\n",
              "    </tr>\n",
              "    <tr>\n",
              "      <th>1</th>\n",
              "      <td>September 2005</td>\n",
              "      <td>It's better than the alternative!\\n\\nJust fini...</td>\n",
              "    </tr>\n",
              "    <tr>\n",
              "      <th>2</th>\n",
              "      <td>September 2005</td>\n",
              "      <td>Your posts are great laurasdada :P\\n\\nI learne...</td>\n",
              "    </tr>\n",
              "    <tr>\n",
              "      <th>48</th>\n",
              "      <td>September 2005</td>\n",
              "      <td>Check this out.\\n\\nhttp://www.consumerreports....</td>\n",
              "    </tr>\n",
              "    <tr>\n",
              "      <th>49</th>\n",
              "      <td>September 2005</td>\n",
              "      <td>Well thanks for the clarification about this t...</td>\n",
              "    </tr>\n",
              "  </tbody>\n",
              "</table>\n",
              "</div>"
            ],
            "text/plain": [
              "         date_time                                            message\n",
              "0   September 2005  that there are people on here even older than ...\n",
              "1   September 2005  It's better than the alternative!\\n\\nJust fini...\n",
              "2   September 2005  Your posts are great laurasdada :P\\n\\nI learne...\n",
              "48  September 2005  Check this out.\\n\\nhttp://www.consumerreports....\n",
              "49  September 2005  Well thanks for the clarification about this t..."
            ]
          },
          "metadata": {},
          "output_type": "display_data"
        },
        {
          "name": "stdout",
          "output_type": "stream",
          "text": [
            "4285\n"
          ]
        },
        {
          "data": {
            "text/html": [
              "<div>\n",
              "<style scoped>\n",
              "    .dataframe tbody tr th:only-of-type {\n",
              "        vertical-align: middle;\n",
              "    }\n",
              "\n",
              "    .dataframe tbody tr th {\n",
              "        vertical-align: top;\n",
              "    }\n",
              "\n",
              "    .dataframe thead th {\n",
              "        text-align: right;\n",
              "    }\n",
              "</style>\n",
              "<table border=\"1\" class=\"dataframe\">\n",
              "  <thead>\n",
              "    <tr style=\"text-align: right;\">\n",
              "      <th></th>\n",
              "      <th>date_time</th>\n",
              "      <th>message</th>\n",
              "    </tr>\n",
              "  </thead>\n",
              "  <tbody>\n",
              "    <tr>\n",
              "      <th>0</th>\n",
              "      <td>September 2005</td>\n",
              "      <td>The only issue I have with this apparently ter...</td>\n",
              "    </tr>\n",
              "    <tr>\n",
              "      <th>1</th>\n",
              "      <td>September 2005</td>\n",
              "      <td>I mean, if the A3 fits your needs, then why no...</td>\n",
              "    </tr>\n",
              "    <tr>\n",
              "      <th>2</th>\n",
              "      <td>September 2005</td>\n",
              "      <td>http://www.auto-motor-und-sport.de/d/88304\\n\\n...</td>\n",
              "    </tr>\n",
              "    <tr>\n",
              "      <th>48</th>\n",
              "      <td>September 2005</td>\n",
              "      <td>Not sure... they mention their methodology and...</td>\n",
              "    </tr>\n",
              "    <tr>\n",
              "      <th>49</th>\n",
              "      <td>September 2005</td>\n",
              "      <td>The great thing about magazines and the intern...</td>\n",
              "    </tr>\n",
              "  </tbody>\n",
              "</table>\n",
              "</div>"
            ],
            "text/plain": [
              "         date_time                                            message\n",
              "0   September 2005  The only issue I have with this apparently ter...\n",
              "1   September 2005  I mean, if the A3 fits your needs, then why no...\n",
              "2   September 2005  http://www.auto-motor-und-sport.de/d/88304\\n\\n...\n",
              "48  September 2005  Not sure... they mention their methodology and...\n",
              "49  September 2005  The great thing about magazines and the intern..."
            ]
          },
          "metadata": {},
          "output_type": "display_data"
        },
        {
          "name": "stdout",
          "output_type": "stream",
          "text": [
            "4334\n"
          ]
        },
        {
          "data": {
            "text/html": [
              "<div>\n",
              "<style scoped>\n",
              "    .dataframe tbody tr th:only-of-type {\n",
              "        vertical-align: middle;\n",
              "    }\n",
              "\n",
              "    .dataframe tbody tr th {\n",
              "        vertical-align: top;\n",
              "    }\n",
              "\n",
              "    .dataframe thead th {\n",
              "        text-align: right;\n",
              "    }\n",
              "</style>\n",
              "<table border=\"1\" class=\"dataframe\">\n",
              "  <thead>\n",
              "    <tr style=\"text-align: right;\">\n",
              "      <th></th>\n",
              "      <th>date_time</th>\n",
              "      <th>message</th>\n",
              "    </tr>\n",
              "  </thead>\n",
              "  <tbody>\n",
              "    <tr>\n",
              "      <th>0</th>\n",
              "      <td>September 2005</td>\n",
              "      <td>That's why I rely on CR, a non-profit, who I b...</td>\n",
              "    </tr>\n",
              "    <tr>\n",
              "      <th>1</th>\n",
              "      <td>September 2005</td>\n",
              "      <td>They do, but their evaluations have not meshed...</td>\n",
              "    </tr>\n",
              "    <tr>\n",
              "      <th>2</th>\n",
              "      <td>September 2005</td>\n",
              "      <td>Depends upon what your criteria are. CR doesn'...</td>\n",
              "    </tr>\n",
              "    <tr>\n",
              "      <th>48</th>\n",
              "      <td>September 2005</td>\n",
              "      <td>Good luck? Hmmm, I'm thinking that it is more ...</td>\n",
              "    </tr>\n",
              "    <tr>\n",
              "      <th>49</th>\n",
              "      <td>September 2005</td>\n",
              "      <td>Check out this 8 car comparison test</td>\n",
              "    </tr>\n",
              "  </tbody>\n",
              "</table>\n",
              "</div>"
            ],
            "text/plain": [
              "         date_time                                            message\n",
              "0   September 2005  That's why I rely on CR, a non-profit, who I b...\n",
              "1   September 2005  They do, but their evaluations have not meshed...\n",
              "2   September 2005  Depends upon what your criteria are. CR doesn'...\n",
              "48  September 2005  Good luck? Hmmm, I'm thinking that it is more ...\n",
              "49  September 2005               Check out this 8 car comparison test"
            ]
          },
          "metadata": {},
          "output_type": "display_data"
        },
        {
          "name": "stdout",
          "output_type": "stream",
          "text": [
            "4380\n"
          ]
        },
        {
          "data": {
            "text/html": [
              "<div>\n",
              "<style scoped>\n",
              "    .dataframe tbody tr th:only-of-type {\n",
              "        vertical-align: middle;\n",
              "    }\n",
              "\n",
              "    .dataframe tbody tr th {\n",
              "        vertical-align: top;\n",
              "    }\n",
              "\n",
              "    .dataframe thead th {\n",
              "        text-align: right;\n",
              "    }\n",
              "</style>\n",
              "<table border=\"1\" class=\"dataframe\">\n",
              "  <thead>\n",
              "    <tr style=\"text-align: right;\">\n",
              "      <th></th>\n",
              "      <th>date_time</th>\n",
              "      <th>message</th>\n",
              "    </tr>\n",
              "  </thead>\n",
              "  <tbody>\n",
              "    <tr>\n",
              "      <th>1</th>\n",
              "      <td>September 2005</td>\n",
              "      <td>Search is your friend...or google for that mat...</td>\n",
              "    </tr>\n",
              "    <tr>\n",
              "      <th>2</th>\n",
              "      <td>September 2005</td>\n",
              "      <td>Thanks blue, but I don't search pontiac or sat...</td>\n",
              "    </tr>\n",
              "    <tr>\n",
              "      <th>3</th>\n",
              "      <td>September 2005</td>\n",
              "      <td>fedlawman, \"Entry-Level Luxury Performance Sed...</td>\n",
              "    </tr>\n",
              "    <tr>\n",
              "      <th>48</th>\n",
              "      <td>October 2005</td>\n",
              "      <td>Does the TL have the ability to drop the windo...</td>\n",
              "    </tr>\n",
              "    <tr>\n",
              "      <th>49</th>\n",
              "      <td>October 2005</td>\n",
              "      <td>Left in direct sun shining on the seats, a dar...</td>\n",
              "    </tr>\n",
              "  </tbody>\n",
              "</table>\n",
              "</div>"
            ],
            "text/plain": [
              "         date_time                                            message\n",
              "1   September 2005  Search is your friend...or google for that mat...\n",
              "2   September 2005  Thanks blue, but I don't search pontiac or sat...\n",
              "3   September 2005  fedlawman, \"Entry-Level Luxury Performance Sed...\n",
              "48    October 2005  Does the TL have the ability to drop the windo...\n",
              "49    October 2005  Left in direct sun shining on the seats, a dar..."
            ]
          },
          "metadata": {},
          "output_type": "display_data"
        },
        {
          "name": "stdout",
          "output_type": "stream",
          "text": [
            "4427\n"
          ]
        },
        {
          "data": {
            "text/html": [
              "<div>\n",
              "<style scoped>\n",
              "    .dataframe tbody tr th:only-of-type {\n",
              "        vertical-align: middle;\n",
              "    }\n",
              "\n",
              "    .dataframe tbody tr th {\n",
              "        vertical-align: top;\n",
              "    }\n",
              "\n",
              "    .dataframe thead th {\n",
              "        text-align: right;\n",
              "    }\n",
              "</style>\n",
              "<table border=\"1\" class=\"dataframe\">\n",
              "  <thead>\n",
              "    <tr style=\"text-align: right;\">\n",
              "      <th></th>\n",
              "      <th>date_time</th>\n",
              "      <th>message</th>\n",
              "    </tr>\n",
              "  </thead>\n",
              "  <tbody>\n",
              "    <tr>\n",
              "      <th>0</th>\n",
              "      <td>October 2005</td>\n",
              "      <td>Yes the TL has the ability to open all windows...</td>\n",
              "    </tr>\n",
              "    <tr>\n",
              "      <th>1</th>\n",
              "      <td>October 2005</td>\n",
              "      <td>I have been to Germany many times and witnesse...</td>\n",
              "    </tr>\n",
              "    <tr>\n",
              "      <th>2</th>\n",
              "      <td>October 2005</td>\n",
              "      <td>\"By the way it was funny to see the parking lo...</td>\n",
              "    </tr>\n",
              "    <tr>\n",
              "      <th>48</th>\n",
              "      <td>October 2005</td>\n",
              "      <td>Hey, what about me? I even have the name copyw...</td>\n",
              "    </tr>\n",
              "    <tr>\n",
              "      <th>49</th>\n",
              "      <td>October 2005</td>\n",
              "      <td>In any case, I may have to give up on my \"true...</td>\n",
              "    </tr>\n",
              "  </tbody>\n",
              "</table>\n",
              "</div>"
            ],
            "text/plain": [
              "       date_time                                            message\n",
              "0   October 2005  Yes the TL has the ability to open all windows...\n",
              "1   October 2005  I have been to Germany many times and witnesse...\n",
              "2   October 2005  \"By the way it was funny to see the parking lo...\n",
              "48  October 2005  Hey, what about me? I even have the name copyw...\n",
              "49  October 2005  In any case, I may have to give up on my \"true..."
            ]
          },
          "metadata": {},
          "output_type": "display_data"
        },
        {
          "name": "stdout",
          "output_type": "stream",
          "text": [
            "4475\n"
          ]
        },
        {
          "data": {
            "text/html": [
              "<div>\n",
              "<style scoped>\n",
              "    .dataframe tbody tr th:only-of-type {\n",
              "        vertical-align: middle;\n",
              "    }\n",
              "\n",
              "    .dataframe tbody tr th {\n",
              "        vertical-align: top;\n",
              "    }\n",
              "\n",
              "    .dataframe thead th {\n",
              "        text-align: right;\n",
              "    }\n",
              "</style>\n",
              "<table border=\"1\" class=\"dataframe\">\n",
              "  <thead>\n",
              "    <tr style=\"text-align: right;\">\n",
              "      <th></th>\n",
              "      <th>date_time</th>\n",
              "      <th>message</th>\n",
              "    </tr>\n",
              "  </thead>\n",
              "  <tbody>\n",
              "    <tr>\n",
              "      <th>0</th>\n",
              "      <td>October 2005</td>\n",
              "      <td>I believe the name of the corporation that man...</td>\n",
              "    </tr>\n",
              "    <tr>\n",
              "      <th>1</th>\n",
              "      <td>October 2005</td>\n",
              "      <td>\"In any case, I may have to give up on my \"tru...</td>\n",
              "    </tr>\n",
              "    <tr>\n",
              "      <th>2</th>\n",
              "      <td>October 2005</td>\n",
              "      <td>I drive manual while on the cell phone drinkin...</td>\n",
              "    </tr>\n",
              "    <tr>\n",
              "      <th>48</th>\n",
              "      <td>October 2005</td>\n",
              "      <td>In other words, a BMW 5 series with badge repl...</td>\n",
              "    </tr>\n",
              "    <tr>\n",
              "      <th>49</th>\n",
              "      <td>October 2005</td>\n",
              "      <td>Or maybe it's the roadfeel and the at-the-limi...</td>\n",
              "    </tr>\n",
              "  </tbody>\n",
              "</table>\n",
              "</div>"
            ],
            "text/plain": [
              "       date_time                                            message\n",
              "0   October 2005  I believe the name of the corporation that man...\n",
              "1   October 2005  \"In any case, I may have to give up on my \"tru...\n",
              "2   October 2005  I drive manual while on the cell phone drinkin...\n",
              "48  October 2005  In other words, a BMW 5 series with badge repl...\n",
              "49  October 2005  Or maybe it's the roadfeel and the at-the-limi..."
            ]
          },
          "metadata": {},
          "output_type": "display_data"
        },
        {
          "name": "stdout",
          "output_type": "stream",
          "text": [
            "4524\n"
          ]
        },
        {
          "data": {
            "text/html": [
              "<div>\n",
              "<style scoped>\n",
              "    .dataframe tbody tr th:only-of-type {\n",
              "        vertical-align: middle;\n",
              "    }\n",
              "\n",
              "    .dataframe tbody tr th {\n",
              "        vertical-align: top;\n",
              "    }\n",
              "\n",
              "    .dataframe thead th {\n",
              "        text-align: right;\n",
              "    }\n",
              "</style>\n",
              "<table border=\"1\" class=\"dataframe\">\n",
              "  <thead>\n",
              "    <tr style=\"text-align: right;\">\n",
              "      <th></th>\n",
              "      <th>date_time</th>\n",
              "      <th>message</th>\n",
              "    </tr>\n",
              "  </thead>\n",
              "  <tbody>\n",
              "    <tr>\n",
              "      <th>0</th>\n",
              "      <td>October 2005</td>\n",
              "      <td>If you honestly think BMWs are like overpriced...</td>\n",
              "    </tr>\n",
              "    <tr>\n",
              "      <th>1</th>\n",
              "      <td>October 2005</td>\n",
              "      <td>\"Sedan market existed long before BMW made 200...</td>\n",
              "    </tr>\n",
              "    <tr>\n",
              "      <th>2</th>\n",
              "      <td>October 2005</td>\n",
              "      <td>Or maybe it's the roadfeel and the at-the-limi...</td>\n",
              "    </tr>\n",
              "    <tr>\n",
              "      <th>48</th>\n",
              "      <td>November 2005</td>\n",
              "      <td>G30: 3.0L VQ w/ 250 hp ($30,000)\\n\\nG40: 3.8L ...</td>\n",
              "    </tr>\n",
              "    <tr>\n",
              "      <th>49</th>\n",
              "      <td>November 2005</td>\n",
              "      <td>Me want also. Now, only if they can keep the g...</td>\n",
              "    </tr>\n",
              "  </tbody>\n",
              "</table>\n",
              "</div>"
            ],
            "text/plain": [
              "        date_time                                            message\n",
              "0    October 2005  If you honestly think BMWs are like overpriced...\n",
              "1    October 2005  \"Sedan market existed long before BMW made 200...\n",
              "2    October 2005  Or maybe it's the roadfeel and the at-the-limi...\n",
              "48  November 2005  G30: 3.0L VQ w/ 250 hp ($30,000)\\n\\nG40: 3.8L ...\n",
              "49  November 2005  Me want also. Now, only if they can keep the g..."
            ]
          },
          "metadata": {},
          "output_type": "display_data"
        },
        {
          "name": "stdout",
          "output_type": "stream",
          "text": [
            "4573\n"
          ]
        },
        {
          "data": {
            "text/html": [
              "<div>\n",
              "<style scoped>\n",
              "    .dataframe tbody tr th:only-of-type {\n",
              "        vertical-align: middle;\n",
              "    }\n",
              "\n",
              "    .dataframe tbody tr th {\n",
              "        vertical-align: top;\n",
              "    }\n",
              "\n",
              "    .dataframe thead th {\n",
              "        text-align: right;\n",
              "    }\n",
              "</style>\n",
              "<table border=\"1\" class=\"dataframe\">\n",
              "  <thead>\n",
              "    <tr style=\"text-align: right;\">\n",
              "      <th></th>\n",
              "      <th>date_time</th>\n",
              "      <th>message</th>\n",
              "    </tr>\n",
              "  </thead>\n",
              "  <tbody>\n",
              "    <tr>\n",
              "      <th>0</th>\n",
              "      <td>November 2005</td>\n",
              "      <td>Dave- are you really serious about a c230 been...</td>\n",
              "    </tr>\n",
              "    <tr>\n",
              "      <th>1</th>\n",
              "      <td>November 2005</td>\n",
              "      <td>\"Dave- are you really serious about a c230 bee...</td>\n",
              "    </tr>\n",
              "    <tr>\n",
              "      <th>2</th>\n",
              "      <td>November 2005</td>\n",
              "      <td>I'm not going to insist that the C230 is a bet...</td>\n",
              "    </tr>\n",
              "    <tr>\n",
              "      <th>48</th>\n",
              "      <td>November 2005</td>\n",
              "      <td>And yet they only offer GT2 &amp; GT3 in RWD only\\...</td>\n",
              "    </tr>\n",
              "    <tr>\n",
              "      <th>49</th>\n",
              "      <td>November 2005</td>\n",
              "      <td>The fact is that there are many millions of dr...</td>\n",
              "    </tr>\n",
              "  </tbody>\n",
              "</table>\n",
              "</div>"
            ],
            "text/plain": [
              "        date_time                                            message\n",
              "0   November 2005  Dave- are you really serious about a c230 been...\n",
              "1   November 2005  \"Dave- are you really serious about a c230 bee...\n",
              "2   November 2005  I'm not going to insist that the C230 is a bet...\n",
              "48  November 2005  And yet they only offer GT2 & GT3 in RWD only\\...\n",
              "49  November 2005  The fact is that there are many millions of dr..."
            ]
          },
          "metadata": {},
          "output_type": "display_data"
        },
        {
          "name": "stdout",
          "output_type": "stream",
          "text": [
            "4623\n"
          ]
        },
        {
          "data": {
            "text/html": [
              "<div>\n",
              "<style scoped>\n",
              "    .dataframe tbody tr th:only-of-type {\n",
              "        vertical-align: middle;\n",
              "    }\n",
              "\n",
              "    .dataframe tbody tr th {\n",
              "        vertical-align: top;\n",
              "    }\n",
              "\n",
              "    .dataframe thead th {\n",
              "        text-align: right;\n",
              "    }\n",
              "</style>\n",
              "<table border=\"1\" class=\"dataframe\">\n",
              "  <thead>\n",
              "    <tr style=\"text-align: right;\">\n",
              "      <th></th>\n",
              "      <th>date_time</th>\n",
              "      <th>message</th>\n",
              "    </tr>\n",
              "  </thead>\n",
              "  <tbody>\n",
              "    <tr>\n",
              "      <th>0</th>\n",
              "      <td>November 2005</td>\n",
              "      <td>\"70miles commute on highways don't count for s...</td>\n",
              "    </tr>\n",
              "    <tr>\n",
              "      <th>1</th>\n",
              "      <td>November 2005</td>\n",
              "      <td>\"Another fact is that hundreds of thousands of...</td>\n",
              "    </tr>\n",
              "    <tr>\n",
              "      <th>2</th>\n",
              "      <td>November 2005</td>\n",
              "      <td>Distance is nowhere nearly as important as slo...</td>\n",
              "    </tr>\n",
              "    <tr>\n",
              "      <th>48</th>\n",
              "      <td>November 2005</td>\n",
              "      <td>Not sure if you have anything useful to add to...</td>\n",
              "    </tr>\n",
              "    <tr>\n",
              "      <th>49</th>\n",
              "      <td>November 2005</td>\n",
              "      <td>A journalist working on a personal finance sto...</td>\n",
              "    </tr>\n",
              "  </tbody>\n",
              "</table>\n",
              "</div>"
            ],
            "text/plain": [
              "        date_time                                            message\n",
              "0   November 2005  \"70miles commute on highways don't count for s...\n",
              "1   November 2005  \"Another fact is that hundreds of thousands of...\n",
              "2   November 2005  Distance is nowhere nearly as important as slo...\n",
              "48  November 2005  Not sure if you have anything useful to add to...\n",
              "49  November 2005  A journalist working on a personal finance sto..."
            ]
          },
          "metadata": {},
          "output_type": "display_data"
        },
        {
          "name": "stdout",
          "output_type": "stream",
          "text": [
            "4672\n"
          ]
        },
        {
          "data": {
            "text/html": [
              "<div>\n",
              "<style scoped>\n",
              "    .dataframe tbody tr th:only-of-type {\n",
              "        vertical-align: middle;\n",
              "    }\n",
              "\n",
              "    .dataframe tbody tr th {\n",
              "        vertical-align: top;\n",
              "    }\n",
              "\n",
              "    .dataframe thead th {\n",
              "        text-align: right;\n",
              "    }\n",
              "</style>\n",
              "<table border=\"1\" class=\"dataframe\">\n",
              "  <thead>\n",
              "    <tr style=\"text-align: right;\">\n",
              "      <th></th>\n",
              "      <th>date_time</th>\n",
              "      <th>message</th>\n",
              "    </tr>\n",
              "  </thead>\n",
              "  <tbody>\n",
              "    <tr>\n",
              "      <th>0</th>\n",
              "      <td>November 2005</td>\n",
              "      <td>\"Shipo I trust your opinion!\"\\n\\nYes and I enj...</td>\n",
              "    </tr>\n",
              "    <tr>\n",
              "      <th>1</th>\n",
              "      <td>November 2005</td>\n",
              "      <td>Tweaking tire pressure between front and rear ...</td>\n",
              "    </tr>\n",
              "    <tr>\n",
              "      <th>2</th>\n",
              "      <td>November 2005</td>\n",
              "      <td>I know that this is picking a nit here but...\\...</td>\n",
              "    </tr>\n",
              "    <tr>\n",
              "      <th>48</th>\n",
              "      <td>November 2005</td>\n",
              "      <td>Since there is no Porsche board, so I would ju...</td>\n",
              "    </tr>\n",
              "    <tr>\n",
              "      <th>49</th>\n",
              "      <td>December 2005</td>\n",
              "      <td>Today's Porsches are commonly considered bulle...</td>\n",
              "    </tr>\n",
              "  </tbody>\n",
              "</table>\n",
              "</div>"
            ],
            "text/plain": [
              "        date_time                                            message\n",
              "0   November 2005  \"Shipo I trust your opinion!\"\\n\\nYes and I enj...\n",
              "1   November 2005  Tweaking tire pressure between front and rear ...\n",
              "2   November 2005  I know that this is picking a nit here but...\\...\n",
              "48  November 2005  Since there is no Porsche board, so I would ju...\n",
              "49  December 2005  Today's Porsches are commonly considered bulle..."
            ]
          },
          "metadata": {},
          "output_type": "display_data"
        },
        {
          "name": "stdout",
          "output_type": "stream",
          "text": [
            "4721\n"
          ]
        },
        {
          "data": {
            "text/html": [
              "<div>\n",
              "<style scoped>\n",
              "    .dataframe tbody tr th:only-of-type {\n",
              "        vertical-align: middle;\n",
              "    }\n",
              "\n",
              "    .dataframe tbody tr th {\n",
              "        vertical-align: top;\n",
              "    }\n",
              "\n",
              "    .dataframe thead th {\n",
              "        text-align: right;\n",
              "    }\n",
              "</style>\n",
              "<table border=\"1\" class=\"dataframe\">\n",
              "  <thead>\n",
              "    <tr style=\"text-align: right;\">\n",
              "      <th></th>\n",
              "      <th>date_time</th>\n",
              "      <th>message</th>\n",
              "    </tr>\n",
              "  </thead>\n",
              "  <tbody>\n",
              "    <tr>\n",
              "      <th>0</th>\n",
              "      <td>December 2005</td>\n",
              "      <td>I was under the impression that the Cayenne wa...</td>\n",
              "    </tr>\n",
              "    <tr>\n",
              "      <th>1</th>\n",
              "      <td>December 2005</td>\n",
              "      <td>I was talking about Porsches, not a VW SUV. Th...</td>\n",
              "    </tr>\n",
              "    <tr>\n",
              "      <th>2</th>\n",
              "      <td>December 2005</td>\n",
              "      <td>Errr, sorry, not buying. The hill has to be bo...</td>\n",
              "    </tr>\n",
              "    <tr>\n",
              "      <th>48</th>\n",
              "      <td>December 2005</td>\n",
              "      <td>You are correct about the MB. My new C350 Luxu...</td>\n",
              "    </tr>\n",
              "    <tr>\n",
              "      <th>49</th>\n",
              "      <td>December 2005</td>\n",
              "      <td>how many miles on the DC C350?\\n\\nhow many day...</td>\n",
              "    </tr>\n",
              "  </tbody>\n",
              "</table>\n",
              "</div>"
            ],
            "text/plain": [
              "        date_time                                            message\n",
              "0   December 2005  I was under the impression that the Cayenne wa...\n",
              "1   December 2005  I was talking about Porsches, not a VW SUV. Th...\n",
              "2   December 2005  Errr, sorry, not buying. The hill has to be bo...\n",
              "48  December 2005  You are correct about the MB. My new C350 Luxu...\n",
              "49  December 2005  how many miles on the DC C350?\\n\\nhow many day..."
            ]
          },
          "metadata": {},
          "output_type": "display_data"
        },
        {
          "name": "stdout",
          "output_type": "stream",
          "text": [
            "4770\n"
          ]
        },
        {
          "data": {
            "text/html": [
              "<div>\n",
              "<style scoped>\n",
              "    .dataframe tbody tr th:only-of-type {\n",
              "        vertical-align: middle;\n",
              "    }\n",
              "\n",
              "    .dataframe tbody tr th {\n",
              "        vertical-align: top;\n",
              "    }\n",
              "\n",
              "    .dataframe thead th {\n",
              "        text-align: right;\n",
              "    }\n",
              "</style>\n",
              "<table border=\"1\" class=\"dataframe\">\n",
              "  <thead>\n",
              "    <tr style=\"text-align: right;\">\n",
              "      <th></th>\n",
              "      <th>date_time</th>\n",
              "      <th>message</th>\n",
              "    </tr>\n",
              "  </thead>\n",
              "  <tbody>\n",
              "    <tr>\n",
              "      <th>0</th>\n",
              "      <td>December 2005</td>\n",
              "      <td>3120 miles so far...zero days in the shop so far</td>\n",
              "    </tr>\n",
              "    <tr>\n",
              "      <th>1</th>\n",
              "      <td>December 2005</td>\n",
              "      <td>nice\\nyou got the RWD, not the AWD?</td>\n",
              "    </tr>\n",
              "    <tr>\n",
              "      <th>2</th>\n",
              "      <td>December 2005</td>\n",
              "      <td>do not need AWD where I live ...plus the mpg i...</td>\n",
              "    </tr>\n",
              "    <tr>\n",
              "      <th>48</th>\n",
              "      <td>December 2005</td>\n",
              "      <td>Glad I don't live in MA or the other 30 states...</td>\n",
              "    </tr>\n",
              "    <tr>\n",
              "      <th>49</th>\n",
              "      <td>December 2005</td>\n",
              "      <td>Fifteen years and still strong! Kudos for the ...</td>\n",
              "    </tr>\n",
              "  </tbody>\n",
              "</table>\n",
              "</div>"
            ],
            "text/plain": [
              "        date_time                                            message\n",
              "0   December 2005   3120 miles so far...zero days in the shop so far\n",
              "1   December 2005                nice\\nyou got the RWD, not the AWD?\n",
              "2   December 2005  do not need AWD where I live ...plus the mpg i...\n",
              "48  December 2005  Glad I don't live in MA or the other 30 states...\n",
              "49  December 2005  Fifteen years and still strong! Kudos for the ..."
            ]
          },
          "metadata": {},
          "output_type": "display_data"
        },
        {
          "name": "stdout",
          "output_type": "stream",
          "text": [
            "4818\n"
          ]
        },
        {
          "data": {
            "text/html": [
              "<div>\n",
              "<style scoped>\n",
              "    .dataframe tbody tr th:only-of-type {\n",
              "        vertical-align: middle;\n",
              "    }\n",
              "\n",
              "    .dataframe tbody tr th {\n",
              "        vertical-align: top;\n",
              "    }\n",
              "\n",
              "    .dataframe thead th {\n",
              "        text-align: right;\n",
              "    }\n",
              "</style>\n",
              "<table border=\"1\" class=\"dataframe\">\n",
              "  <thead>\n",
              "    <tr style=\"text-align: right;\">\n",
              "      <th></th>\n",
              "      <th>date_time</th>\n",
              "      <th>message</th>\n",
              "    </tr>\n",
              "  </thead>\n",
              "  <tbody>\n",
              "    <tr>\n",
              "      <th>0</th>\n",
              "      <td>December 2005</td>\n",
              "      <td>Looking back on the posts, if you were trying ...</td>\n",
              "    </tr>\n",
              "    <tr>\n",
              "      <th>1</th>\n",
              "      <td>December 2005</td>\n",
              "      <td>The responses (oh, there weren't any) speak to...</td>\n",
              "    </tr>\n",
              "    <tr>\n",
              "      <th>2</th>\n",
              "      <td>December 2005</td>\n",
              "      <td>The responses (oh, there weren't any) speak to...</td>\n",
              "    </tr>\n",
              "    <tr>\n",
              "      <th>48</th>\n",
              "      <td>January 2006</td>\n",
              "      <td>\"If they really want to steal the car, then BM...</td>\n",
              "    </tr>\n",
              "    <tr>\n",
              "      <th>49</th>\n",
              "      <td>January 2006</td>\n",
              "      <td>If I'm remembering the same incident you are, ...</td>\n",
              "    </tr>\n",
              "  </tbody>\n",
              "</table>\n",
              "</div>"
            ],
            "text/plain": [
              "        date_time                                            message\n",
              "0   December 2005  Looking back on the posts, if you were trying ...\n",
              "1   December 2005  The responses (oh, there weren't any) speak to...\n",
              "2   December 2005  The responses (oh, there weren't any) speak to...\n",
              "48   January 2006  \"If they really want to steal the car, then BM...\n",
              "49   January 2006  If I'm remembering the same incident you are, ..."
            ]
          },
          "metadata": {},
          "output_type": "display_data"
        },
        {
          "name": "stdout",
          "output_type": "stream",
          "text": [
            "4868\n"
          ]
        },
        {
          "data": {
            "text/html": [
              "<div>\n",
              "<style scoped>\n",
              "    .dataframe tbody tr th:only-of-type {\n",
              "        vertical-align: middle;\n",
              "    }\n",
              "\n",
              "    .dataframe tbody tr th {\n",
              "        vertical-align: top;\n",
              "    }\n",
              "\n",
              "    .dataframe thead th {\n",
              "        text-align: right;\n",
              "    }\n",
              "</style>\n",
              "<table border=\"1\" class=\"dataframe\">\n",
              "  <thead>\n",
              "    <tr style=\"text-align: right;\">\n",
              "      <th></th>\n",
              "      <th>date_time</th>\n",
              "      <th>message</th>\n",
              "    </tr>\n",
              "  </thead>\n",
              "  <tbody>\n",
              "    <tr>\n",
              "      <th>0</th>\n",
              "      <td>January 2006</td>\n",
              "      <td>Ah yes, you did indeed jog my memory. There wa...</td>\n",
              "    </tr>\n",
              "    <tr>\n",
              "      <th>1</th>\n",
              "      <td>January 2006</td>\n",
              "      <td>\"...for just everyday driving to work &amp; back (...</td>\n",
              "    </tr>\n",
              "    <tr>\n",
              "      <th>2</th>\n",
              "      <td>January 2006</td>\n",
              "      <td>Amen. I can be driving 500 miles or 5 blocks a...</td>\n",
              "    </tr>\n",
              "    <tr>\n",
              "      <th>48</th>\n",
              "      <td>January 2006</td>\n",
              "      <td>AMG i have no use for...it's MB afterall. As f...</td>\n",
              "    </tr>\n",
              "    <tr>\n",
              "      <th>49</th>\n",
              "      <td>January 2006</td>\n",
              "      <td>&gt;Alpina is like Dinan, just a tuner I want not...</td>\n",
              "    </tr>\n",
              "  </tbody>\n",
              "</table>\n",
              "</div>"
            ],
            "text/plain": [
              "       date_time                                            message\n",
              "0   January 2006  Ah yes, you did indeed jog my memory. There wa...\n",
              "1   January 2006  \"...for just everyday driving to work & back (...\n",
              "2   January 2006  Amen. I can be driving 500 miles or 5 blocks a...\n",
              "48  January 2006  AMG i have no use for...it's MB afterall. As f...\n",
              "49  January 2006  >Alpina is like Dinan, just a tuner I want not..."
            ]
          },
          "metadata": {},
          "output_type": "display_data"
        },
        {
          "name": "stdout",
          "output_type": "stream",
          "text": [
            "4917\n"
          ]
        },
        {
          "data": {
            "text/html": [
              "<div>\n",
              "<style scoped>\n",
              "    .dataframe tbody tr th:only-of-type {\n",
              "        vertical-align: middle;\n",
              "    }\n",
              "\n",
              "    .dataframe tbody tr th {\n",
              "        vertical-align: top;\n",
              "    }\n",
              "\n",
              "    .dataframe thead th {\n",
              "        text-align: right;\n",
              "    }\n",
              "</style>\n",
              "<table border=\"1\" class=\"dataframe\">\n",
              "  <thead>\n",
              "    <tr style=\"text-align: right;\">\n",
              "      <th></th>\n",
              "      <th>date_time</th>\n",
              "      <th>message</th>\n",
              "    </tr>\n",
              "  </thead>\n",
              "  <tbody>\n",
              "    <tr>\n",
              "      <th>0</th>\n",
              "      <td>January 2006</td>\n",
              "      <td>I would not compare Dinan with Alpina. Dinan i...</td>\n",
              "    </tr>\n",
              "    <tr>\n",
              "      <th>1</th>\n",
              "      <td>January 2006</td>\n",
              "      <td>Sport Car International has a comparo between ...</td>\n",
              "    </tr>\n",
              "    <tr>\n",
              "      <th>2</th>\n",
              "      <td>January 2006</td>\n",
              "      <td>Thankfully a BMW 330i was used in the comparis...</td>\n",
              "    </tr>\n",
              "    <tr>\n",
              "      <th>48</th>\n",
              "      <td>March 2006</td>\n",
              "      <td>I agree. It's really about the price. More for...</td>\n",
              "    </tr>\n",
              "    <tr>\n",
              "      <th>49</th>\n",
              "      <td>March 2006</td>\n",
              "      <td>Wow, do I envy you.\\n\\nI wish I could decide w...</td>\n",
              "    </tr>\n",
              "  </tbody>\n",
              "</table>\n",
              "</div>"
            ],
            "text/plain": [
              "       date_time                                            message\n",
              "0   January 2006  I would not compare Dinan with Alpina. Dinan i...\n",
              "1   January 2006  Sport Car International has a comparo between ...\n",
              "2   January 2006  Thankfully a BMW 330i was used in the comparis...\n",
              "48    March 2006  I agree. It's really about the price. More for...\n",
              "49    March 2006  Wow, do I envy you.\\n\\nI wish I could decide w..."
            ]
          },
          "metadata": {},
          "output_type": "display_data"
        },
        {
          "name": "stdout",
          "output_type": "stream",
          "text": [
            "4967\n"
          ]
        },
        {
          "data": {
            "text/html": [
              "<div>\n",
              "<style scoped>\n",
              "    .dataframe tbody tr th:only-of-type {\n",
              "        vertical-align: middle;\n",
              "    }\n",
              "\n",
              "    .dataframe tbody tr th {\n",
              "        vertical-align: top;\n",
              "    }\n",
              "\n",
              "    .dataframe thead th {\n",
              "        text-align: right;\n",
              "    }\n",
              "</style>\n",
              "<table border=\"1\" class=\"dataframe\">\n",
              "  <thead>\n",
              "    <tr style=\"text-align: right;\">\n",
              "      <th></th>\n",
              "      <th>date_time</th>\n",
              "      <th>message</th>\n",
              "    </tr>\n",
              "  </thead>\n",
              "  <tbody>\n",
              "    <tr>\n",
              "      <th>0</th>\n",
              "      <td>March 2006</td>\n",
              "      <td>Since you quoted him, I didn't think it necess...</td>\n",
              "    </tr>\n",
              "    <tr>\n",
              "      <th>1</th>\n",
              "      <td>March 2006</td>\n",
              "      <td>I am trying to decide which one is the better ...</td>\n",
              "    </tr>\n",
              "    <tr>\n",
              "      <th>2</th>\n",
              "      <td>March 2006</td>\n",
              "      <td>Assumption: When you say, \"I need a car that w...</td>\n",
              "    </tr>\n",
              "    <tr>\n",
              "      <th>48</th>\n",
              "      <td>March 2006</td>\n",
              "      <td>Neither the TL nor the E-class are LARGE cars ...</td>\n",
              "    </tr>\n",
              "    <tr>\n",
              "      <th>49</th>\n",
              "      <td>March 2006</td>\n",
              "      <td>\"Neither the TL nor the E-class are LARGE cars...</td>\n",
              "    </tr>\n",
              "  </tbody>\n",
              "</table>\n",
              "</div>"
            ],
            "text/plain": [
              "     date_time                                            message\n",
              "0   March 2006  Since you quoted him, I didn't think it necess...\n",
              "1   March 2006  I am trying to decide which one is the better ...\n",
              "2   March 2006  Assumption: When you say, \"I need a car that w...\n",
              "48  March 2006  Neither the TL nor the E-class are LARGE cars ...\n",
              "49  March 2006  \"Neither the TL nor the E-class are LARGE cars..."
            ]
          },
          "metadata": {},
          "output_type": "display_data"
        },
        {
          "name": "stdout",
          "output_type": "stream",
          "text": [
            "5016\n"
          ]
        },
        {
          "data": {
            "text/html": [
              "<div>\n",
              "<style scoped>\n",
              "    .dataframe tbody tr th:only-of-type {\n",
              "        vertical-align: middle;\n",
              "    }\n",
              "\n",
              "    .dataframe tbody tr th {\n",
              "        vertical-align: top;\n",
              "    }\n",
              "\n",
              "    .dataframe thead th {\n",
              "        text-align: right;\n",
              "    }\n",
              "</style>\n",
              "<table border=\"1\" class=\"dataframe\">\n",
              "  <thead>\n",
              "    <tr style=\"text-align: right;\">\n",
              "      <th></th>\n",
              "      <th>date_time</th>\n",
              "      <th>message</th>\n",
              "    </tr>\n",
              "  </thead>\n",
              "  <tbody>\n",
              "    <tr>\n",
              "      <th>0</th>\n",
              "      <td>March 2006</td>\n",
              "      <td>The TL has a 39.7 foot turning radius? Geez, e...</td>\n",
              "    </tr>\n",
              "    <tr>\n",
              "      <th>1</th>\n",
              "      <td>March 2006</td>\n",
              "      <td>and the Avalon betters the TL by almost 3 feet...</td>\n",
              "    </tr>\n",
              "    <tr>\n",
              "      <th>2</th>\n",
              "      <td>March 2006</td>\n",
              "      <td>I love my TL, so don't get me wrong. The turni...</td>\n",
              "    </tr>\n",
              "    <tr>\n",
              "      <th>48</th>\n",
              "      <td>April 2006</td>\n",
              "      <td>...Look at an Avalon anyway. Sort of a big car...</td>\n",
              "    </tr>\n",
              "    <tr>\n",
              "      <th>49</th>\n",
              "      <td>April 2006</td>\n",
              "      <td>Not that I'm any fan of Toyota, however, a hol...</td>\n",
              "    </tr>\n",
              "  </tbody>\n",
              "</table>\n",
              "</div>"
            ],
            "text/plain": [
              "     date_time                                            message\n",
              "0   March 2006  The TL has a 39.7 foot turning radius? Geez, e...\n",
              "1   March 2006  and the Avalon betters the TL by almost 3 feet...\n",
              "2   March 2006  I love my TL, so don't get me wrong. The turni...\n",
              "48  April 2006  ...Look at an Avalon anyway. Sort of a big car...\n",
              "49  April 2006  Not that I'm any fan of Toyota, however, a hol..."
            ]
          },
          "metadata": {},
          "output_type": "display_data"
        }
      ]
    },
    {
      "cell_type": "code",
      "metadata": {
        "id": "9eNrAjsfQ9pS"
      },
      "source": [
        "# df_messages=assemble_dt_messages()\n",
        "# ct_cmnts=df_messages.shape[0]\n",
        "\n",
        "# min_num_words=5\n",
        "\n",
        "# pg_ct=1\n",
        "# while ct_cmnts<=5000:\n",
        "#   pg_btn=wd.find_elements_by_xpath(\"//a[@aria-label='Next Page']\")\n",
        "#   pg_btn\n",
        "#   # time.sleep(1)\n",
        "\n",
        "#   btn_tbu=pg_btn[0]\n",
        "#   btn_tbu.click()\n",
        "#   # time.sleep(0.3)\n",
        "\n",
        "#   pg_ct+=1\n",
        "\n",
        "#   temp_df=assemble_dt_messages()\n",
        "\n",
        "#   temp_df=temp_df.loc[(temp_df.message.apply(lambda e: len(set(str(e).split(' '))))>min_num_words),]#we assert our comment to have at least these many, here 5, number of words\n",
        "\n",
        "\n",
        "#   df_messages=pd.concat([df_messages,temp_df])\n",
        "#   df_messages=df_messages.drop_duplicates(subset=['message'])#We will drop repetitive messages like 'lol', 'same here' and any other\n",
        "\n",
        "  \n",
        "\n",
        "\n",
        "#   ct_cmnts=df_messages.shape[0]\n",
        "\n",
        "#   print(ct_cmnts)\n",
        "#   display(pd.concat([temp_df.head(3),df_messages.tail(2)]))"
      ],
      "execution_count": null,
      "outputs": []
    },
    {
      "cell_type": "code",
      "metadata": {
        "colab": {
          "base_uri": "https://localhost:8080/",
          "height": 417
        },
        "id": "oT3KhgGbRJHK",
        "outputId": "609d026b-89b8-40ad-cc7b-55a6959311bb"
      },
      "source": [
        "df_messages['message'].value_counts()[:10]#.plot(kind='bar')\n",
        "\n",
        "df_messages=df_messages.iloc[:5000]\n",
        "df_messages"
      ],
      "execution_count": null,
      "outputs": [
        {
          "data": {
            "text/html": [
              "<div>\n",
              "<style scoped>\n",
              "    .dataframe tbody tr th:only-of-type {\n",
              "        vertical-align: middle;\n",
              "    }\n",
              "\n",
              "    .dataframe tbody tr th {\n",
              "        vertical-align: top;\n",
              "    }\n",
              "\n",
              "    .dataframe thead th {\n",
              "        text-align: right;\n",
              "    }\n",
              "</style>\n",
              "<table border=\"1\" class=\"dataframe\">\n",
              "  <thead>\n",
              "    <tr style=\"text-align: right;\">\n",
              "      <th></th>\n",
              "      <th>date_time</th>\n",
              "      <th>message</th>\n",
              "    </tr>\n",
              "  </thead>\n",
              "  <tbody>\n",
              "    <tr>\n",
              "      <th>0</th>\n",
              "      <td>March 2002</td>\n",
              "      <td>Entry level performance luxury sedans are a ho...</td>\n",
              "    </tr>\n",
              "    <tr>\n",
              "      <th>1</th>\n",
              "      <td>March 2002</td>\n",
              "      <td>I personally think that with a few tweaks the ...</td>\n",
              "    </tr>\n",
              "    <tr>\n",
              "      <th>2</th>\n",
              "      <td>March 2002</td>\n",
              "      <td>I am debating a new purchase and these two are...</td>\n",
              "    </tr>\n",
              "    <tr>\n",
              "      <th>3</th>\n",
              "      <td>March 2002</td>\n",
              "      <td>Great handling, RWD, excellent engine and the ...</td>\n",
              "    </tr>\n",
              "    <tr>\n",
              "      <th>4</th>\n",
              "      <td>March 2002</td>\n",
              "      <td>And no manual tranny. That may not matter to y...</td>\n",
              "    </tr>\n",
              "    <tr>\n",
              "      <th>...</th>\n",
              "      <td>...</td>\n",
              "      <td>...</td>\n",
              "    </tr>\n",
              "    <tr>\n",
              "      <th>29</th>\n",
              "      <td>March 2006</td>\n",
              "      <td>Parking makes me nuts! I left my car in my com...</td>\n",
              "    </tr>\n",
              "    <tr>\n",
              "      <th>30</th>\n",
              "      <td>April 2006</td>\n",
              "      <td>I feel your pain.....I just noticed a new kink...</td>\n",
              "    </tr>\n",
              "    <tr>\n",
              "      <th>31</th>\n",
              "      <td>April 2006</td>\n",
              "      <td>Count me as a turning radius enthusiast. In 25...</td>\n",
              "    </tr>\n",
              "    <tr>\n",
              "      <th>32</th>\n",
              "      <td>April 2006</td>\n",
              "      <td>I am the person that would park in the next po...</td>\n",
              "    </tr>\n",
              "    <tr>\n",
              "      <th>33</th>\n",
              "      <td>April 2006</td>\n",
              "      <td>You guys sound like you are the only ones that...</td>\n",
              "    </tr>\n",
              "  </tbody>\n",
              "</table>\n",
              "<p>5000 rows × 2 columns</p>\n",
              "</div>"
            ],
            "text/plain": [
              "     date_time                                            message\n",
              "0   March 2002  Entry level performance luxury sedans are a ho...\n",
              "1   March 2002  I personally think that with a few tweaks the ...\n",
              "2   March 2002  I am debating a new purchase and these two are...\n",
              "3   March 2002  Great handling, RWD, excellent engine and the ...\n",
              "4   March 2002  And no manual tranny. That may not matter to y...\n",
              "..         ...                                                ...\n",
              "29  March 2006  Parking makes me nuts! I left my car in my com...\n",
              "30  April 2006  I feel your pain.....I just noticed a new kink...\n",
              "31  April 2006  Count me as a turning radius enthusiast. In 25...\n",
              "32  April 2006  I am the person that would park in the next po...\n",
              "33  April 2006  You guys sound like you are the only ones that...\n",
              "\n",
              "[5000 rows x 2 columns]"
            ]
          },
          "execution_count": 226,
          "metadata": {},
          "output_type": "execute_result"
        }
      ]
    },
    {
      "cell_type": "code",
      "metadata": {
        "colab": {
          "base_uri": "https://localhost:8080/",
          "height": 17
        },
        "id": "Co9og1F5ReoI",
        "outputId": "7af7dc17-3a3e-467c-bd2a-e1ce53c38338"
      },
      "source": [
        "from google.colab import files\n",
        "\n",
        "df_messages.to_csv('msg_txt_endmunds.csv')\n",
        "files.download('msg_txt_endmunds.csv')"
      ],
      "execution_count": null,
      "outputs": [
        {
          "data": {
            "application/javascript": [
              "\n",
              "    async function download(id, filename, size) {\n",
              "      if (!google.colab.kernel.accessAllowed) {\n",
              "        return;\n",
              "      }\n",
              "      const div = document.createElement('div');\n",
              "      const label = document.createElement('label');\n",
              "      label.textContent = `Downloading \"${filename}\": `;\n",
              "      div.appendChild(label);\n",
              "      const progress = document.createElement('progress');\n",
              "      progress.max = size;\n",
              "      div.appendChild(progress);\n",
              "      document.body.appendChild(div);\n",
              "\n",
              "      const buffers = [];\n",
              "      let downloaded = 0;\n",
              "\n",
              "      const channel = await google.colab.kernel.comms.open(id);\n",
              "      // Send a message to notify the kernel that we're ready.\n",
              "      channel.send({})\n",
              "\n",
              "      for await (const message of channel.messages) {\n",
              "        // Send a message to notify the kernel that we're ready.\n",
              "        channel.send({})\n",
              "        if (message.buffers) {\n",
              "          for (const buffer of message.buffers) {\n",
              "            buffers.push(buffer);\n",
              "            downloaded += buffer.byteLength;\n",
              "            progress.value = downloaded;\n",
              "          }\n",
              "        }\n",
              "      }\n",
              "      const blob = new Blob(buffers, {type: 'application/binary'});\n",
              "      const a = document.createElement('a');\n",
              "      a.href = window.URL.createObjectURL(blob);\n",
              "      a.download = filename;\n",
              "      div.appendChild(a);\n",
              "      a.click();\n",
              "      div.remove();\n",
              "    }\n",
              "  "
            ],
            "text/plain": [
              "<IPython.core.display.Javascript object>"
            ]
          },
          "metadata": {},
          "output_type": "display_data"
        },
        {
          "data": {
            "application/javascript": [
              "download(\"download_a4426e5e-0dd0-48d0-b27f-d32952f977ba\", \"msg_txt_endmunds.csv\", 2650647)"
            ],
            "text/plain": [
              "<IPython.core.display.Javascript object>"
            ]
          },
          "metadata": {},
          "output_type": "display_data"
        }
      ]
    },
    {
      "cell_type": "code",
      "metadata": {
        "colab": {
          "base_uri": "https://localhost:8080/",
          "height": 49
        },
        "id": "cbE-yhdwJ2XF",
        "outputId": "0f88aa4d-8518-4c10-f67b-d061fb6561b3"
      },
      "source": [
        "temp=df_messages.message.apply(lambda e: len(str(e).split(' '))).value_counts()\n",
        "\n",
        "df_messages[df_messages.message.apply(lambda e: len(str(e).split(' ')))==1]"
      ],
      "execution_count": null,
      "outputs": [
        {
          "data": {
            "text/html": [
              "<div>\n",
              "<style scoped>\n",
              "    .dataframe tbody tr th:only-of-type {\n",
              "        vertical-align: middle;\n",
              "    }\n",
              "\n",
              "    .dataframe tbody tr th {\n",
              "        vertical-align: top;\n",
              "    }\n",
              "\n",
              "    .dataframe thead th {\n",
              "        text-align: right;\n",
              "    }\n",
              "</style>\n",
              "<table border=\"1\" class=\"dataframe\">\n",
              "  <thead>\n",
              "    <tr style=\"text-align: right;\">\n",
              "      <th></th>\n",
              "      <th>date_time</th>\n",
              "      <th>message</th>\n",
              "    </tr>\n",
              "  </thead>\n",
              "  <tbody>\n",
              "  </tbody>\n",
              "</table>\n",
              "</div>"
            ],
            "text/plain": [
              "Empty DataFrame\n",
              "Columns: [date_time, message]\n",
              "Index: []"
            ]
          },
          "execution_count": 228,
          "metadata": {},
          "output_type": "execute_result"
        }
      ]
    },
    {
      "cell_type": "markdown",
      "metadata": {
        "id": "lkAgOJogrvQI"
      },
      "source": [
        "# TASK A"
      ]
    },
    {
      "cell_type": "code",
      "metadata": {
        "id": "_5a6slKqVl9v"
      },
      "source": [
        "import pandas as pd\n",
        "import matplotlib.pyplot as plt\n",
        "import numpy as np\n",
        "\n"
      ],
      "execution_count": null,
      "outputs": []
    },
    {
      "cell_type": "code",
      "metadata": {
        "id": "IYXBhEfMhTF7"
      },
      "source": [
        "df=pd.read_csv('msg_txt_endmunds.csv',usecols=[1,2])\n",
        "# df=df_messages.copy()"
      ],
      "execution_count": null,
      "outputs": []
    },
    {
      "cell_type": "code",
      "metadata": {
        "id": "9hePyvf7hZ0G"
      },
      "source": [
        "import string\n",
        "import re\n",
        "string.punctuation#even removing the fullstops, it may influence the result slightly bcos of presence of abbreviations\n",
        "\n",
        "df['msg']=df['message'].apply(lambda e : re.sub(r'[^\\w\\s]','',str(e)).replace('\\n\\n',' ') )"
      ],
      "execution_count": null,
      "outputs": []
    },
    {
      "cell_type": "code",
      "metadata": {
        "id": "hEqDBSTHhhEZ"
      },
      "source": [
        "msg_txt=' '.join(df['msg'])\n",
        "msg_txt=msg_txt.lower()\n",
        "# msg_txt\n"
      ],
      "execution_count": null,
      "outputs": []
    },
    {
      "cell_type": "code",
      "metadata": {
        "id": "z16ClNKUiFwU"
      },
      "source": [
        "from collections import defaultdict\n",
        "word_count=defaultdict(int)\n",
        "\n",
        "ct=0\n",
        "for w in msg_txt.split(' '):\n",
        "  ct+=1\n",
        "  word_count[w]+=1\n",
        "\n"
      ],
      "execution_count": null,
      "outputs": []
    },
    {
      "cell_type": "code",
      "metadata": {
        "colab": {
          "base_uri": "https://localhost:8080/",
          "height": 500
        },
        "id": "WZ5ZiODDnTpT",
        "outputId": "988d1b5b-e1bd-4b65-fd8b-54378a552b5a"
      },
      "source": [
        "word_ct_sorted={i:j for i,j in sorted(word_count.items(), key=lambda d:d[1],reverse=True)}\n",
        "pd.Series(word_ct_sorted).reset_index()[:100].plot(kind='line',figsize=(20,8))"
      ],
      "execution_count": null,
      "outputs": [
        {
          "data": {
            "text/plain": [
              "<matplotlib.axes._subplots.AxesSubplot at 0x7f16a567ab10>"
            ]
          },
          "execution_count": 234,
          "metadata": {},
          "output_type": "execute_result"
        },
        {
          "data": {
            "image/png": "[encoded data removed]",
            "text/plain": [
              "<Figure size 1440x576 with 1 Axes>"
            ]
          },
          "metadata": {
            "needs_background": "light"
          },
          "output_type": "display_data"
        }
      ]
    },
    {
      "cell_type": "code",
      "metadata": {
        "colab": {
          "base_uri": "https://localhost:8080/"
        },
        "id": "U4yta1R2bzjB",
        "outputId": "8200613e-06ab-4e7f-c658-291615c62d1d"
      },
      "source": [
        "len(word_count)"
      ],
      "execution_count": null,
      "outputs": [
        {
          "data": {
            "text/plain": [
              "22727"
            ]
          },
          "execution_count": 235,
          "metadata": {},
          "output_type": "execute_result"
        }
      ]
    },
    {
      "cell_type": "code",
      "metadata": {
        "colab": {
          "base_uri": "https://localhost:8080/"
        },
        "id": "OVue4xYynV_x",
        "outputId": "c9f2fd33-2deb-494a-e67c-f28da1f5f866"
      },
      "source": [
        "import nltk\n",
        "from nltk.corpus import wordnet\n",
        "nltk.download('wordnet')\n",
        "\n",
        "# dir(wordnet.synsets('apple')[1])\n",
        "\n",
        "word_ct_synonyms=[(k,v,len(wordnet.synsets(k)))\n",
        " for k,v in word_count.items()]\n",
        "\n",
        "\n",
        "df_wrd=pd.DataFrame(word_ct_synonyms)\n",
        "df_wrd.columns=['word','ct','ct_synms']"
      ],
      "execution_count": null,
      "outputs": [
        {
          "name": "stdout",
          "output_type": "stream",
          "text": [
            "[nltk_data] Downloading package wordnet to /root/nltk_data...\n",
            "[nltk_data]   Package wordnet is already up-to-date!\n"
          ]
        }
      ]
    },
    {
      "cell_type": "code",
      "metadata": {
        "id": "a0juAZhAcL1w"
      },
      "source": [
        "from scipy.stats import rankdata\n",
        "df_wrd[['rk_ct','rk_synms']]=df_wrd[['ct','ct_synms']].rank(ascending=False)"
      ],
      "execution_count": null,
      "outputs": []
    },
    {
      "cell_type": "code",
      "metadata": {
        "colab": {
          "base_uri": "https://localhost:8080/",
          "height": 517
        },
        "id": "88F69PJLcPTB",
        "outputId": "c7b885df-9753-419d-a08d-93a29376a742"
      },
      "source": [
        "import seaborn as sns\n",
        "\n",
        "f,ax=plt.subplots(1,3)\n",
        "df_wrd.sort_values('ct',ascending=False).plot(x='rk_ct',y='ct',figsize=(20,8),ax=ax[0])\n",
        "df_wrd.sort_values('ct',ascending=False).plot(x='rk_ct',y='ct',figsize=(20,8),ax=ax[1])\n",
        "df_wrd.sort_values('ct',ascending=False).plot(x='rk_ct',y='ct',figsize=(20,8),ax=ax[2])\n",
        "\n",
        "\n",
        "ax[0].set_title('rank vs frequency')\n",
        "\n",
        "\n",
        "ax[1].set_title('log rank vs frequency')\n",
        "ax[1].set_xscale('log')\n",
        "\n",
        "\n",
        "\n",
        "ax[2].set_title('log rank vs log frequency')\n",
        "ax[2].set_xscale('log')\n",
        "ax[2].set_yscale('log')\n",
        "\n",
        "\n",
        "# ax[2].plot(1/df_wrd['rk_ct'],df_wrd['rk_ct'],c='r')\n",
        "# sns.regplot(x=np.log(df_wrd['rk_ct']),y=np.log(df_wrd['ct']),data=df_wrd,ax=ax[0])#.sort_values('ct',ascending=False))\n",
        "\n"
      ],
      "execution_count": null,
      "outputs": [
        {
          "data": {
            "image/png": "[encoded data removed]",
            "text/plain": [
              "<Figure size 1440x576 with 3 Axes>"
            ]
          },
          "metadata": {
            "needs_background": "light"
          },
          "output_type": "display_data"
        }
      ]
    },
    {
      "cell_type": "code",
      "metadata": {
        "colab": {
          "base_uri": "https://localhost:8080/",
          "height": 483
        },
        "id": "x004aKvBg_7w",
        "outputId": "863d7d68-b52f-4b1b-e5dd-8f6e04222d21"
      },
      "source": [
        "from sklearn.linear_model import LinearRegression\n",
        "\n",
        "model=LinearRegression()\n",
        "\n",
        "model.fit(np.log(df_wrd['ct']).to_frame(),np.log(df_wrd['rk_ct']))\n",
        "\n",
        "\n",
        "plt.figure(figsize=(20,8))\n",
        "\n",
        "plt.plot(np.log(df_wrd['rk_ct']),np.log(df_wrd['ct']),'r.',label='True points ')\n",
        "plt.plot(np.log(df_wrd['ct']),model.predict(np.log(df_wrd['ct']).to_frame()),label='Theoretical prediction')\n",
        "\n",
        "plt.legend()\n",
        "plt.show()"
      ],
      "execution_count": null,
      "outputs": [
        {
          "data": {
            "image/png": "[encoded data removed]",
            "text/plain": [
              "<Figure size 1440x576 with 1 Axes>"
            ]
          },
          "metadata": {
            "needs_background": "light"
          },
          "output_type": "display_data"
        }
      ]
    },
    {
      "cell_type": "code",
      "metadata": {
        "colab": {
          "base_uri": "https://localhost:8080/",
          "height": 172
        },
        "id": "9qg4bxrgyLAb",
        "outputId": "09c28afa-8080-4584-f90d-d2a1f6af3ac0"
      },
      "source": [
        "df_wrd.sort_values(by='ct',ascending=False).iloc[:100].corr()#.sort_values('rk_ct_synms')"
      ],
      "execution_count": null,
      "outputs": [
        {
          "data": {
            "text/html": [
              "<div>\n",
              "<style scoped>\n",
              "    .dataframe tbody tr th:only-of-type {\n",
              "        vertical-align: middle;\n",
              "    }\n",
              "\n",
              "    .dataframe tbody tr th {\n",
              "        vertical-align: top;\n",
              "    }\n",
              "\n",
              "    .dataframe thead th {\n",
              "        text-align: right;\n",
              "    }\n",
              "</style>\n",
              "<table border=\"1\" class=\"dataframe\">\n",
              "  <thead>\n",
              "    <tr style=\"text-align: right;\">\n",
              "      <th></th>\n",
              "      <th>ct</th>\n",
              "      <th>ct_synms</th>\n",
              "      <th>rk_ct</th>\n",
              "      <th>rk_synms</th>\n",
              "    </tr>\n",
              "  </thead>\n",
              "  <tbody>\n",
              "    <tr>\n",
              "      <th>ct</th>\n",
              "      <td>1.000000</td>\n",
              "      <td>-0.173803</td>\n",
              "      <td>-0.626525</td>\n",
              "      <td>0.213958</td>\n",
              "    </tr>\n",
              "    <tr>\n",
              "      <th>ct_synms</th>\n",
              "      <td>-0.173803</td>\n",
              "      <td>1.000000</td>\n",
              "      <td>0.186889</td>\n",
              "      <td>-0.705540</td>\n",
              "    </tr>\n",
              "    <tr>\n",
              "      <th>rk_ct</th>\n",
              "      <td>-0.626525</td>\n",
              "      <td>0.186889</td>\n",
              "      <td>1.000000</td>\n",
              "      <td>-0.193300</td>\n",
              "    </tr>\n",
              "    <tr>\n",
              "      <th>rk_synms</th>\n",
              "      <td>0.213958</td>\n",
              "      <td>-0.705540</td>\n",
              "      <td>-0.193300</td>\n",
              "      <td>1.000000</td>\n",
              "    </tr>\n",
              "  </tbody>\n",
              "</table>\n",
              "</div>"
            ],
            "text/plain": [
              "                ct  ct_synms     rk_ct  rk_synms\n",
              "ct        1.000000 -0.173803 -0.626525  0.213958\n",
              "ct_synms -0.173803  1.000000  0.186889 -0.705540\n",
              "rk_ct    -0.626525  0.186889  1.000000 -0.193300\n",
              "rk_synms  0.213958 -0.705540 -0.193300  1.000000"
            ]
          },
          "execution_count": 240,
          "metadata": {},
          "output_type": "execute_result"
        }
      ]
    },
    {
      "cell_type": "code",
      "metadata": {
        "colab": {
          "base_uri": "https://localhost:8080/"
        },
        "id": "1YB-efYUzDFk",
        "outputId": "d91273a2-ea78-4262-98eb-6ded33e4c868"
      },
      "source": [
        "np.corrcoef(np.log(df_wrd['ct']),np.log(df_wrd['rk_ct']))"
      ],
      "execution_count": null,
      "outputs": [
        {
          "data": {
            "text/plain": [
              "array([[ 1.        , -0.99773845],\n",
              "       [-0.99773845,  1.        ]])"
            ]
          },
          "execution_count": 241,
          "metadata": {},
          "output_type": "execute_result"
        }
      ]
    },
    {
      "cell_type": "code",
      "metadata": {
        "colab": {
          "base_uri": "https://localhost:8080/",
          "height": 296
        },
        "id": "bJyLMd4F38Ge",
        "outputId": "01a274c3-1439-45de-e8fd-2d06cc1acdd1"
      },
      "source": [
        "df_wrd.sort_values(by='ct',ascending=False).iloc[:100].plot(x='ct',y='ct_synms',kind='scatter')"
      ],
      "execution_count": null,
      "outputs": [
        {
          "data": {
            "text/plain": [
              "<matplotlib.axes._subplots.AxesSubplot at 0x7f168eae49d0>"
            ]
          },
          "execution_count": 242,
          "metadata": {},
          "output_type": "execute_result"
        },
        {
          "data": {
            "image/png": "[encoded data removed]",
            "text/plain": [
              "<Figure size 432x288 with 1 Axes>"
            ]
          },
          "metadata": {
            "needs_background": "light"
          },
          "output_type": "display_data"
        }
      ]
    },
    {
      "cell_type": "markdown",
      "metadata": {
        "id": "2o3wtv67EdFI"
      },
      "source": [
        "# TASK B"
      ]
    },
    {
      "cell_type": "code",
      "metadata": {
        "colab": {
          "base_uri": "https://localhost:8080/"
        },
        "id": "AUZEy18UhuuF",
        "outputId": "80a3bd5a-2631-45c6-8ea3-1d0e799e8443"
      },
      "source": [
        "import nltk\n",
        "nltk.download('punkt')\n",
        "nltk.download('stopwords')\n",
        "from nltk.corpus import stopwords\n",
        "from nltk.tokenize import word_tokenize\n",
        " \n",
        "stop_words = set(stopwords.words('english'))\n",
        " \n",
        "word_tokens = word_tokenize(msg_txt)\n",
        "\n"
      ],
      "execution_count": null,
      "outputs": [
        {
          "name": "stdout",
          "output_type": "stream",
          "text": [
            "[nltk_data] Downloading package punkt to /root/nltk_data...\n",
            "[nltk_data]   Package punkt is already up-to-date!\n",
            "[nltk_data] Downloading package stopwords to /root/nltk_data...\n",
            "[nltk_data]   Package stopwords is already up-to-date!\n"
          ]
        }
      ]
    },
    {
      "cell_type": "code",
      "metadata": {
        "colab": {
          "base_uri": "https://localhost:8080/"
        },
        "id": "s6VymbL1izle",
        "outputId": "2b91fefd-9eff-4365-d24c-e732ff5d359c"
      },
      "source": [
        "# len(msg_txt.split(' '))\n",
        "\n",
        "without_stop_words=[i for i in word_tokens if i not in stop_words]\n",
        "len(without_stop_words)"
      ],
      "execution_count": null,
      "outputs": [
        {
          "data": {
            "text/plain": [
              "252756"
            ]
          },
          "execution_count": 244,
          "metadata": {},
          "output_type": "execute_result"
        }
      ]
    },
    {
      "cell_type": "code",
      "metadata": {
        "id": "V3A2pTePhty1"
      },
      "source": [
        "from collections import defaultdict\n",
        "word_count=defaultdict(int)\n",
        "\n",
        "ct=0\n",
        "for w in without_stop_words:\n",
        "  ct+=1\n",
        "  word_count[w]+=1"
      ],
      "execution_count": null,
      "outputs": []
    },
    {
      "cell_type": "code",
      "metadata": {
        "id": "xYW1hhWKFPQV"
      },
      "source": [
        "# df_brands=pd.read_csv('../car models and brands.csv')\n",
        "df_brands=pd.read_csv('car models and brands.csv')\n"
      ],
      "execution_count": null,
      "outputs": []
    },
    {
      "cell_type": "code",
      "metadata": {
        "id": "N6QG4sBiEe8q"
      },
      "source": [
        "def process_str(e):\n",
        "  e=re.sub(r'[^\\w\\s]','',str(e)).replace('\\n\\n',' ')\n",
        "  return e\n",
        "lt_brands=list(set(df_brands['Brand'].apply(lambda e: process_str(e).lower()).to_list()))\n"
      ],
      "execution_count": null,
      "outputs": []
    },
    {
      "cell_type": "code",
      "metadata": {
        "colab": {
          "base_uri": "https://localhost:8080/"
        },
        "id": "PIz9eE4MEj1A",
        "outputId": "bd2618c2-393e-4ab6-90ae-47b3aeb9a086"
      },
      "source": [
        "brand_count={i:j for i,j in word_count.items() if i in lt_brands}\n",
        "brand_count"
      ],
      "execution_count": null,
      "outputs": [
        {
          "data": {
            "text/plain": [
              "{'acura': 515,\n",
              " 'audi': 371,\n",
              " 'bmw': 1865,\n",
              " 'buick': 21,\n",
              " 'cadillac': 116,\n",
              " 'car': 3893,\n",
              " 'chevrolet': 4,\n",
              " 'chrysler': 46,\n",
              " 'dodge': 28,\n",
              " 'ford': 86,\n",
              " 'honda': 227,\n",
              " 'hyundai': 104,\n",
              " 'infiniti': 466,\n",
              " 'kia': 24,\n",
              " 'lincoln': 67,\n",
              " 'mazda': 74,\n",
              " 'mercedes': 169,\n",
              " 'mercedesbenz': 36,\n",
              " 'mercury': 7,\n",
              " 'mitsubishi': 16,\n",
              " 'nissan': 214,\n",
              " 'pontiac': 26,\n",
              " 'problem': 206,\n",
              " 'saturn': 11,\n",
              " 'seat': 211,\n",
              " 'sedan': 732,\n",
              " 'subaru': 142,\n",
              " 'suzuki': 10,\n",
              " 'toyota': 135,\n",
              " 'volkswagen': 19,\n",
              " 'volkwagen': 1,\n",
              " 'volvo': 159}"
            ]
          },
          "execution_count": 248,
          "metadata": {},
          "output_type": "execute_result"
        }
      ]
    },
    {
      "cell_type": "code",
      "metadata": {
        "id": "yVSJMwsbHtly"
      },
      "source": [
        "def process_str(e):\n",
        "  e=re.sub(r'[^\\w\\s]','',str(e)).replace('\\n\\n',' ')\n",
        "  return e\n",
        "lt_models=list(set(df_brands['Model'].apply(lambda e: process_str(e).lower()).to_list()))\n",
        "model_count={i:j for i,j in word_count.items() if i in lt_models}\n"
      ],
      "execution_count": null,
      "outputs": []
    },
    {
      "cell_type": "code",
      "metadata": {
        "id": "9xKOR0DbItFs"
      },
      "source": [
        "df_brands.loc[:,'Model']=df_brands['Model'].apply(lambda e: process_str(e).lower())\n",
        "df_brands.loc[:,'Brand']=df_brands['Brand'].apply(lambda e: process_str(e).lower())"
      ],
      "execution_count": null,
      "outputs": []
    },
    {
      "cell_type": "code",
      "metadata": {
        "id": "HzvgSNCiJNMI"
      },
      "source": [
        "df_brands.loc[:,'ct_model']=df_brands['Model'].map(model_count)"
      ],
      "execution_count": null,
      "outputs": []
    },
    {
      "cell_type": "code",
      "metadata": {
        "id": "RAIOl8KzJqaf"
      },
      "source": [
        "ct_brand_models=df_brands.groupby('Brand')['ct_model'].sum()\n",
        "ct_brand=pd.Series(brand_count,name='Brand')"
      ],
      "execution_count": null,
      "outputs": []
    },
    {
      "cell_type": "code",
      "metadata": {
        "colab": {
          "base_uri": "https://localhost:8080/",
          "height": 511
        },
        "id": "KCZ421r3J7_a",
        "outputId": "bcb2fd25-4357-45b5-d2c6-3976ada607bf"
      },
      "source": [
        "df_brand_ct=pd.merge(ct_brand,ct_brand_models,left_index=True,right_index=True)\n",
        "df_brand_ct.loc[:,'sum_ct']=df_brand_ct.sum(axis=1)\n",
        "df_brand_ct.sort_values('sum_ct',ascending=False).iloc[:15]"
      ],
      "execution_count": null,
      "outputs": [
        {
          "data": {
            "text/html": [
              "<div>\n",
              "<style scoped>\n",
              "    .dataframe tbody tr th:only-of-type {\n",
              "        vertical-align: middle;\n",
              "    }\n",
              "\n",
              "    .dataframe tbody tr th {\n",
              "        vertical-align: top;\n",
              "    }\n",
              "\n",
              "    .dataframe thead th {\n",
              "        text-align: right;\n",
              "    }\n",
              "</style>\n",
              "<table border=\"1\" class=\"dataframe\">\n",
              "  <thead>\n",
              "    <tr style=\"text-align: right;\">\n",
              "      <th></th>\n",
              "      <th>Brand</th>\n",
              "      <th>ct_model</th>\n",
              "      <th>sum_ct</th>\n",
              "    </tr>\n",
              "  </thead>\n",
              "  <tbody>\n",
              "    <tr>\n",
              "      <th>car</th>\n",
              "      <td>3893</td>\n",
              "      <td>2069.0</td>\n",
              "      <td>5962.0</td>\n",
              "    </tr>\n",
              "    <tr>\n",
              "      <th>bmw</th>\n",
              "      <td>1865</td>\n",
              "      <td>1028.0</td>\n",
              "      <td>2893.0</td>\n",
              "    </tr>\n",
              "    <tr>\n",
              "      <th>sedan</th>\n",
              "      <td>732</td>\n",
              "      <td>238.0</td>\n",
              "      <td>970.0</td>\n",
              "    </tr>\n",
              "    <tr>\n",
              "      <th>audi</th>\n",
              "      <td>371</td>\n",
              "      <td>545.0</td>\n",
              "      <td>916.0</td>\n",
              "    </tr>\n",
              "    <tr>\n",
              "      <th>acura</th>\n",
              "      <td>515</td>\n",
              "      <td>377.0</td>\n",
              "      <td>892.0</td>\n",
              "    </tr>\n",
              "    <tr>\n",
              "      <th>honda</th>\n",
              "      <td>227</td>\n",
              "      <td>530.0</td>\n",
              "      <td>757.0</td>\n",
              "    </tr>\n",
              "    <tr>\n",
              "      <th>toyota</th>\n",
              "      <td>135</td>\n",
              "      <td>439.0</td>\n",
              "      <td>574.0</td>\n",
              "    </tr>\n",
              "    <tr>\n",
              "      <th>infiniti</th>\n",
              "      <td>466</td>\n",
              "      <td>101.0</td>\n",
              "      <td>567.0</td>\n",
              "    </tr>\n",
              "    <tr>\n",
              "      <th>nissan</th>\n",
              "      <td>214</td>\n",
              "      <td>290.0</td>\n",
              "      <td>504.0</td>\n",
              "    </tr>\n",
              "    <tr>\n",
              "      <th>seat</th>\n",
              "      <td>211</td>\n",
              "      <td>201.0</td>\n",
              "      <td>412.0</td>\n",
              "    </tr>\n",
              "    <tr>\n",
              "      <th>mercedes</th>\n",
              "      <td>169</td>\n",
              "      <td>224.0</td>\n",
              "      <td>393.0</td>\n",
              "    </tr>\n",
              "    <tr>\n",
              "      <th>problem</th>\n",
              "      <td>206</td>\n",
              "      <td>172.0</td>\n",
              "      <td>378.0</td>\n",
              "    </tr>\n",
              "    <tr>\n",
              "      <th>subaru</th>\n",
              "      <td>142</td>\n",
              "      <td>226.0</td>\n",
              "      <td>368.0</td>\n",
              "    </tr>\n",
              "    <tr>\n",
              "      <th>volkswagen</th>\n",
              "      <td>19</td>\n",
              "      <td>311.0</td>\n",
              "      <td>330.0</td>\n",
              "    </tr>\n",
              "    <tr>\n",
              "      <th>chevrolet</th>\n",
              "      <td>4</td>\n",
              "      <td>218.0</td>\n",
              "      <td>222.0</td>\n",
              "    </tr>\n",
              "  </tbody>\n",
              "</table>\n",
              "</div>"
            ],
            "text/plain": [
              "            Brand  ct_model  sum_ct\n",
              "car          3893    2069.0  5962.0\n",
              "bmw          1865    1028.0  2893.0\n",
              "sedan         732     238.0   970.0\n",
              "audi          371     545.0   916.0\n",
              "acura         515     377.0   892.0\n",
              "honda         227     530.0   757.0\n",
              "toyota        135     439.0   574.0\n",
              "infiniti      466     101.0   567.0\n",
              "nissan        214     290.0   504.0\n",
              "seat          211     201.0   412.0\n",
              "mercedes      169     224.0   393.0\n",
              "problem       206     172.0   378.0\n",
              "subaru        142     226.0   368.0\n",
              "volkswagen     19     311.0   330.0\n",
              "chevrolet       4     218.0   222.0"
            ]
          },
          "execution_count": 253,
          "metadata": {},
          "output_type": "execute_result"
        }
      ]
    },
    {
      "cell_type": "code",
      "metadata": {
        "colab": {
          "base_uri": "https://localhost:8080/"
        },
        "id": "KkscEnRpXFCj",
        "outputId": "2ee30971-8e93-43c0-e811-c7707d9cbc83"
      },
      "source": [
        "top_10_brands=df_brand_ct.sort_values('sum_ct',ascending=False).iloc[1:15].index.to_list()\n",
        "\n",
        "top_10_brands=[i for i in  top_10_brands if i not in ['sedan','seat','problem']][:10]\n",
        "from pprint import pprint\n",
        "pprint(top_10_brands)"
      ],
      "execution_count": null,
      "outputs": [
        {
          "name": "stdout",
          "output_type": "stream",
          "text": [
            "['bmw',\n",
            " 'audi',\n",
            " 'acura',\n",
            " 'honda',\n",
            " 'toyota',\n",
            " 'infiniti',\n",
            " 'nissan',\n",
            " 'mercedes',\n",
            " 'subaru',\n",
            " 'volkswagen']\n"
          ]
        }
      ]
    },
    {
      "cell_type": "markdown",
      "metadata": {
        "id": "A3SqiSfYYKPj"
      },
      "source": [
        "## TASK C"
      ]
    },
    {
      "cell_type": "code",
      "metadata": {
        "id": "H3NjZstAKxyc"
      },
      "source": [
        "##Just selecting the message based column to work on\n",
        "df_messages.loc[:,'message']=df_messages.message.astype(str)\n",
        "df_messages.reset_index(drop=True,inplace=True)\n",
        "df=df_messages.loc[:,['message']]\n",
        "df['message']=df['message'].apply(lambda e: process_str(e).lower())"
      ],
      "execution_count": null,
      "outputs": []
    },
    {
      "cell_type": "code",
      "metadata": {
        "colab": {
          "base_uri": "https://localhost:8080/"
        },
        "id": "5r7zDvZQKXVD",
        "outputId": "b201bc10-b0c1-4ec3-c8f1-76d93900b628"
      },
      "source": [
        "## We will first replace name of models with brand inside every indivdual message \n",
        "\n",
        "brand_models=df_brands.drop(['ct_model'],axis=1).set_index('Model')['Brand']\n",
        "\n",
        "brand_models.index.name= None\n",
        "brand_models[brand_models=='infiniti']\n",
        "\n"
      ],
      "execution_count": null,
      "outputs": [
        {
          "data": {
            "text/plain": [
              "qx50    infiniti\n",
              "qx60    infiniti\n",
              "qx70    infiniti\n",
              "fx35    infiniti\n",
              "q50     infiniti\n",
              "q60     infiniti\n",
              "q70     infiniti\n",
              "g37     infiniti\n",
              "g25     infiniti\n",
              "6mt     infiniti\n",
              "Name: Brand, dtype: object"
            ]
          },
          "execution_count": 290,
          "metadata": {},
          "output_type": "execute_result"
        }
      ]
    },
    {
      "cell_type": "code",
      "metadata": {
        "id": "8qZEopXZmBMj"
      },
      "source": [
        ""
      ],
      "execution_count": null,
      "outputs": []
    },
    {
      "cell_type": "code",
      "metadata": {
        "colab": {
          "base_uri": "https://localhost:8080/",
          "height": 417
        },
        "id": "4zPJTTD0ekiT",
        "outputId": "4c517f64-2232-4ba4-80dc-be850c3bde0c"
      },
      "source": [
        "def replace_models_with_brand(e):\n",
        "  s_e=pd.Series(word_tokenize(e))\n",
        "  s_e=s_e.replace(brand_models)\n",
        "\n",
        "  modified_text=' '.join(s_e)\n",
        "\n",
        "  return modified_text\n",
        "\n",
        "df['message_only_brands']=df.message.apply(lambda e : replace_models_with_brand(e))\n",
        "# df=pd.read_csv('txt_with_only_brand_names.csv')\n",
        "df"
      ],
      "execution_count": null,
      "outputs": [
        {
          "data": {
            "text/html": [
              "<div>\n",
              "<style scoped>\n",
              "    .dataframe tbody tr th:only-of-type {\n",
              "        vertical-align: middle;\n",
              "    }\n",
              "\n",
              "    .dataframe tbody tr th {\n",
              "        vertical-align: top;\n",
              "    }\n",
              "\n",
              "    .dataframe thead th {\n",
              "        text-align: right;\n",
              "    }\n",
              "</style>\n",
              "<table border=\"1\" class=\"dataframe\">\n",
              "  <thead>\n",
              "    <tr style=\"text-align: right;\">\n",
              "      <th></th>\n",
              "      <th>message</th>\n",
              "      <th>message_only_brands</th>\n",
              "    </tr>\n",
              "  </thead>\n",
              "  <tbody>\n",
              "    <tr>\n",
              "      <th>0</th>\n",
              "      <td>entry level performance luxury sedans are a ho...</td>\n",
              "      <td>entry level performance luxury sedan are a hot...</td>\n",
              "    </tr>\n",
              "    <tr>\n",
              "      <th>1</th>\n",
              "      <td>i personally think that with a few tweaks the ...</td>\n",
              "      <td>i personally think that with a few tweaks the ...</td>\n",
              "    </tr>\n",
              "    <tr>\n",
              "      <th>2</th>\n",
              "      <td>i am debating a new purchase and these two are...</td>\n",
              "      <td>i am debating a new purchase and these two are...</td>\n",
              "    </tr>\n",
              "    <tr>\n",
              "      <th>3</th>\n",
              "      <td>great handling rwd excellent engine and the be...</td>\n",
              "      <td>great handling rwd excellent engine and the be...</td>\n",
              "    </tr>\n",
              "    <tr>\n",
              "      <th>4</th>\n",
              "      <td>and no manual tranny that may not matter to yo...</td>\n",
              "      <td>and no manual tranny that may not matter to yo...</td>\n",
              "    </tr>\n",
              "    <tr>\n",
              "      <th>...</th>\n",
              "      <td>...</td>\n",
              "      <td>...</td>\n",
              "    </tr>\n",
              "    <tr>\n",
              "      <th>4995</th>\n",
              "      <td>parking makes me nuts i left my car in my comp...</td>\n",
              "      <td>parking makes me nuts i left my car in my comp...</td>\n",
              "    </tr>\n",
              "    <tr>\n",
              "      <th>4996</th>\n",
              "      <td>i feel your paini just noticed a new kink in t...</td>\n",
              "      <td>i feel your paini just noticed a new kink in t...</td>\n",
              "    </tr>\n",
              "    <tr>\n",
              "      <th>4997</th>\n",
              "      <td>count me as a turning radius enthusiast in 25 ...</td>\n",
              "      <td>count me as a turning radius enthusiast in 25 ...</td>\n",
              "    </tr>\n",
              "    <tr>\n",
              "      <th>4998</th>\n",
              "      <td>i am the person that would park in the next po...</td>\n",
              "      <td>i am the person that would park in the next po...</td>\n",
              "    </tr>\n",
              "    <tr>\n",
              "      <th>4999</th>\n",
              "      <td>you guys sound like you are the only ones that...</td>\n",
              "      <td>you guys sound like you are the only ones that...</td>\n",
              "    </tr>\n",
              "  </tbody>\n",
              "</table>\n",
              "<p>5000 rows × 2 columns</p>\n",
              "</div>"
            ],
            "text/plain": [
              "                                                message                                message_only_brands\n",
              "0     entry level performance luxury sedans are a ho...  entry level performance luxury sedan are a hot...\n",
              "1     i personally think that with a few tweaks the ...  i personally think that with a few tweaks the ...\n",
              "2     i am debating a new purchase and these two are...  i am debating a new purchase and these two are...\n",
              "3     great handling rwd excellent engine and the be...  great handling rwd excellent engine and the be...\n",
              "4     and no manual tranny that may not matter to yo...  and no manual tranny that may not matter to yo...\n",
              "...                                                 ...                                                ...\n",
              "4995  parking makes me nuts i left my car in my comp...  parking makes me nuts i left my car in my comp...\n",
              "4996  i feel your paini just noticed a new kink in t...  i feel your paini just noticed a new kink in t...\n",
              "4997  count me as a turning radius enthusiast in 25 ...  count me as a turning radius enthusiast in 25 ...\n",
              "4998  i am the person that would park in the next po...  i am the person that would park in the next po...\n",
              "4999  you guys sound like you are the only ones that...  you guys sound like you are the only ones that...\n",
              "\n",
              "[5000 rows x 2 columns]"
            ]
          },
          "execution_count": 257,
          "metadata": {},
          "output_type": "execute_result"
        }
      ]
    },
    {
      "cell_type": "code",
      "metadata": {
        "colab": {
          "base_uri": "https://localhost:8080/"
        },
        "id": "Ohsrd5TNgrm-",
        "outputId": "3cd49cfd-b859-47d3-d972-ee6a627d849c"
      },
      "source": [
        "df.to_csv('txt_with_only_brand_names.csv')\n",
        "df['message_only_brands']"
      ],
      "execution_count": null,
      "outputs": [
        {
          "data": {
            "text/plain": [
              "0       entry level performance luxury sedan are a hot...\n",
              "1       i personally think that with a few tweaks the ...\n",
              "2       i am debating a new purchase and these two are...\n",
              "3       great handling rwd excellent engine and the be...\n",
              "4       and no manual tranny that may not matter to yo...\n",
              "                              ...                        \n",
              "4995    parking makes me nuts i left my car in my comp...\n",
              "4996    i feel your paini just noticed a new kink in t...\n",
              "4997    count me as a turning radius enthusiast in 25 ...\n",
              "4998    i am the person that would park in the next po...\n",
              "4999    you guys sound like you are the only ones that...\n",
              "Name: message_only_brands, Length: 5000, dtype: object"
            ]
          },
          "execution_count": 258,
          "metadata": {},
          "output_type": "execute_result"
        }
      ]
    },
    {
      "cell_type": "code",
      "metadata": {
        "id": "Z4k36b0_hXMC"
      },
      "source": [
        "def ct_brand_presence(e,list_of_brands=lt_brands,only_indicator=True):\n",
        "\n",
        "  temp=pd.Series(map(e.count,list_of_brands),\n",
        "          index=list_of_brands)\n",
        "  \n",
        "  if only_indicator:\n",
        "    temp=(temp>0).astype(int)\n",
        "  return temp\n",
        "\n",
        "df_brand_cmt=df.message_only_brands.apply(lambda e:ct_brand_presence(e,list_of_brands=top_10_brands))\n"
      ],
      "execution_count": null,
      "outputs": []
    },
    {
      "cell_type": "code",
      "metadata": {
        "colab": {
          "base_uri": "https://localhost:8080/"
        },
        "id": "pDCNONu3I2-7",
        "outputId": "b482aef9-fc03-4726-e22d-71642bcdb96e"
      },
      "source": [
        "# df_brand_cmt.sum().sum()\n",
        "i='infiniti'\n",
        "j='infiniti'\n",
        "bool_cond=(df_brand_cmt[i]==1) & (df_brand_cmt[j]==1)\n",
        "df_brand_cmt[bool_cond].shape#79,319,433"
      ],
      "execution_count": null,
      "outputs": [
        {
          "data": {
            "text/plain": [
              "(433, 10)"
            ]
          },
          "execution_count": 293,
          "metadata": {},
          "output_type": "execute_result"
        }
      ]
    },
    {
      "cell_type": "code",
      "metadata": {
        "id": "mhulih2ynJAn"
      },
      "source": [
        "cols=sorted(df_brand_cmt.columns)\n",
        "df_lift=pd.DataFrame(index=cols,columns=cols)\n",
        "\n",
        "total=df_brand_cmt.sum().sum()\n",
        "total=5000\n",
        "\n",
        "for c in cols:\n",
        "  pair_cols=[i for i in cols if i>c]\n",
        "  if pair_cols:\n",
        "\n",
        "    for p_c in pair_cols:\n",
        "      num=((df_brand_cmt[p_c]*df_brand_cmt[c]).sum())*total\n",
        "      den=(df_brand_cmt[p_c].sum())*(df_brand_cmt[c].sum())\n",
        "\n",
        "\n",
        "      df_lift.loc[p_c,c]=num/den\n",
        "      df_lift.loc[c,p_c]=num/den"
      ],
      "execution_count": null,
      "outputs": []
    },
    {
      "cell_type": "code",
      "metadata": {
        "colab": {
          "base_uri": "https://localhost:8080/",
          "height": 500
        },
        "id": "1yNIM4PXoYmY",
        "outputId": "c4b0a1e5-02a2-4c3b-d2e6-3fec2617ceb8"
      },
      "source": [
        "import seaborn as sns\n",
        "plt.figure(figsize=(20,8))\n",
        "\n",
        "\n",
        "sns.heatmap(df_lift.fillna(0),\n",
        "            annot=True,mask=np.triu(df_lift))"
      ],
      "execution_count": null,
      "outputs": [
        {
          "data": {
            "text/plain": [
              "<matplotlib.axes._subplots.AxesSubplot at 0x7f168ff0fdd0>"
            ]
          },
          "execution_count": 262,
          "metadata": {},
          "output_type": "execute_result"
        },
        {
          "data": {
            "image/png": "[encoded data removed]",
            "text/plain": [
              "<Figure size 1440x576 with 2 Axes>"
            ]
          },
          "metadata": {
            "needs_background": "light"
          },
          "output_type": "display_data"
        }
      ]
    },
    {
      "cell_type": "markdown",
      "metadata": {
        "id": "ZhwxExiCjsRW"
      },
      "source": [
        "## TASK D"
      ]
    },
    {
      "cell_type": "code",
      "metadata": {
        "id": "NU82WpVbmFZc"
      },
      "source": [
        "# df_disimilarity"
      ],
      "execution_count": null,
      "outputs": []
    },
    {
      "cell_type": "code",
      "metadata": {
        "colab": {
          "base_uri": "https://localhost:8080/",
          "height": 541
        },
        "id": "UlH1fcCcjdRz",
        "outputId": "094479f5-71be-4caf-faa3-e93414c09cfc"
      },
      "source": [
        "from sklearn.manifold import MDS\n",
        "\n",
        "df_disimilarity=1/df_lift\n",
        "df_disimilarity.fillna(0,inplace=True)\n",
        "df_disimilarity\n",
        "\n",
        "\n",
        "mds=MDS(n_components=2)\n",
        "\n",
        "npos=mds.fit_transform(df_disimilarity)\n",
        "\n",
        "# df_disimilarity.index\n",
        "plt.figure(figsize=(20,8))\n",
        "\n",
        "plt.plot(npos[:,0],npos[:,1],'*')\n",
        "plt.ylim(-1,2)\n",
        "plt.xlim(-1,2)\n",
        "\n",
        "\n",
        "for i in range(len(npos)):\n",
        "  plt.text(npos[i,0],npos[i,1],df_disimilarity.index[i])"
      ],
      "execution_count": null,
      "outputs": [
        {
          "name": "stderr",
          "output_type": "stream",
          "text": [
            "/usr/local/lib/python3.7/dist-packages/sklearn/manifold/_mds.py:419: UserWarning: The MDS API has changed. ``fit`` now constructs an dissimilarity matrix from data. To use a custom dissimilarity matrix, set ``dissimilarity='precomputed'``.\n",
            "  warnings.warn(\"The MDS API has changed. ``fit`` now constructs an\"\n"
          ]
        },
        {
          "data": {
            "image/png": "[encoded data removed]",
            "text/plain": [
              "<Figure size 1440x576 with 1 Axes>"
            ]
          },
          "metadata": {
            "needs_background": "light"
          },
          "output_type": "display_data"
        }
      ]
    },
    {
      "cell_type": "code",
      "metadata": {
        "id": "-7f-wcTUMj9Z"
      },
      "source": [
        "# e=df['message'][0]\n",
        "# s_e=pd.Series(word_tokenize(e))\n",
        "\n",
        "# s_e.replace(brand_models)\n",
        "\n",
        "# ' '.join(s_e)\n",
        "# # brand_models\n",
        "\n",
        "# word_tokenize(e).count(lt_brands)\n",
        "\n",
        "# pd.Series(map(e.count,lt_brands),\n",
        "#           index=lt_brands)\n",
        "\n",
        "# df_messages.message[0]"
      ],
      "execution_count": null,
      "outputs": []
    },
    {
      "cell_type": "code",
      "metadata": {
        "id": "lAnu0bZalROc"
      },
      "source": [
        "# df_messages.message.apply(lambda e: len(set(e.split(' ')))).value_counts().sort_index().plot(kind='bar',figsize=(20,8))\n",
        "# df.loc[(df.message.apply(lambda e: len(set(e.split(' '))))>3),]\n"
      ],
      "execution_count": null,
      "outputs": []
    },
    {
      "cell_type": "code",
      "metadata": {
        "colab": {
          "base_uri": "https://localhost:8080/",
          "height": 554
        },
        "id": "1toyGLd4lVx5",
        "outputId": "357c5687-cbd3-422c-ecd1-e86445d45942"
      },
      "source": [
        "pd.Series(word_count).sort_values(ascending=False).iloc[:150].plot(kind='bar',figsize=(20,8))"
      ],
      "execution_count": null,
      "outputs": [
        {
          "data": {
            "text/plain": [
              "<matplotlib.axes._subplots.AxesSubplot at 0x7f168f9c77d0>"
            ]
          },
          "execution_count": 267,
          "metadata": {},
          "output_type": "execute_result"
        },
        {
          "data": {
            "image/png": "[encoded data removed]",
            "text/plain": [
              "<Figure size 1440x576 with 1 Axes>"
            ]
          },
          "metadata": {
            "needs_background": "light"
          },
          "output_type": "display_data"
        }
      ]
    },
    {
      "cell_type": "markdown",
      "metadata": {
        "id": "7XrOuIvZtCje"
      },
      "source": [
        "## TASK E"
      ]
    },
    {
      "cell_type": "markdown",
      "metadata": {
        "id": "TSwemHuStCjf"
      },
      "source": [
        "Honda, Toyota and Nissan all being Japanese brands have high lift as expected.  \n",
        "\n",
        "Volkswagen suprisingly has high lift with premium brands like Audi and Merdedes. BMW also has low lift with Audi and Mercedes.  This can be due to people comparing Volkswagen with other brands and consider it as a Value for money option.\n",
        "\n",
        "We basically see 2 clusters being formed.  1 of Japanese brands (Honda, Toyota & Nissan) and all other brands."
      ]
    },
    {
      "cell_type": "markdown",
      "metadata": {
        "id": "K63E2iImw3PL"
      },
      "source": [
        "## TASK F"
      ]
    },
    {
      "cell_type": "code",
      "metadata": {
        "colab": {
          "base_uri": "https://localhost:8080/"
        },
        "id": "QD2KEzqYak_f",
        "outputId": "35744e86-610f-4623-e5db-1bb947517831"
      },
      "source": [
        "nltk.download('averaged_perceptron_tagger')\n",
        "\n",
        "temp=set(list(i for i,j in nltk.pos_tag(word_count.keys()) if 'nn' in j.lower()))\n",
        "df_noun=pd.Series({i:j for i,j in word_count.items() if i in temp})"
      ],
      "execution_count": null,
      "outputs": [
        {
          "name": "stdout",
          "output_type": "stream",
          "text": [
            "[nltk_data] Downloading package averaged_perceptron_tagger to\n",
            "[nltk_data]     /root/nltk_data...\n",
            "[nltk_data]   Package averaged_perceptron_tagger is already up-to-\n",
            "[nltk_data]       date!\n"
          ]
        }
      ]
    },
    {
      "cell_type": "code",
      "metadata": {
        "colab": {
          "base_uri": "https://localhost:8080/"
        },
        "id": "SEmd89nSpaR-",
        "outputId": "400060db-f9b4-4c2c-a2bb-84499dc47438"
      },
      "source": [
        "print(*df_noun.sort_values(ascending=False).iloc[:150].index,sep='\\t')"
      ],
      "execution_count": null,
      "outputs": [
        {
          "name": "stdout",
          "output_type": "stream",
          "text": [
            "car\tcars\tdont\tget\tdrive\tim\tperformance\tpeople\tsedan\tluxury\trwd\tengine\ttime\tseries\tway\tprice\tthats\tbuy\tawd\ttest\tpower\thp\tg\tyears\tive\tinfiniti\tdoesnt\ttires\tright\tpoint\tid\tsales\tsport\tyear\tthing\ttorque\tclass\tcts\tdidnt\troad\tsomething\tcoupe\tdifference\tvalue\tsnow\tvehicle\tmb\ttsx\tyoure\tfact\tgas\tmoney\tauto\tguess\tis300\ttop\tthings\tvs\tnumbers\treliability\tothers\tfront\tmiles\tcome\tanything\tbrand\tride\tnothing\tsedans\tregards\tsports\tsystem\tcourse\tanyone\thonda\tvehicles\tbit\taccord\topinion\txtype\tquality\tdriver\texperience\ttransmission\tmileage\tm3\tmpg\tseat\tthought\tline\tlevel\tsaab\tproblem\tday\tcost\tworld\tpost\tseats\tdealer\tv6\tdrivers\tmarket\tmodel\tcomparison\tthanks\treason\ttimes\tentry\ttrack\twinter\ttheres\tworth\tdiscussion\twheel\tchoice\tsize\twork\tsomeone\tcd\tfeatures\tproblems\tpay\ttell\teverything\tmercedes\tacceleration\tsuspension\tlist\tvolvo\tmatter\tg35x\tstandard\tsteer\tissue\tlets\ttry\tmind\teveryone\tmsrp\tdesign\tfuel\tcompare\tcategory\tpremium\tsubaru\tengines\tnumber\tis350\tdeal\towners\n"
          ]
        }
      ]
    },
    {
      "cell_type": "code",
      "metadata": {
        "colab": {
          "base_uri": "https://localhost:8080/"
        },
        "id": "TXED19thpbAe",
        "outputId": "744912ae-9fdb-430a-9857-acedf9766766"
      },
      "source": [
        "'engine','price','performance','luxury','power','tires',"
      ],
      "execution_count": null,
      "outputs": [
        {
          "data": {
            "text/plain": [
              "('engine', 'price', 'performance', 'luxury', 'power', 'tires')"
            ]
          },
          "execution_count": 270,
          "metadata": {},
          "output_type": "execute_result"
        }
      ]
    },
    {
      "cell_type": "code",
      "metadata": {
        "id": "mXAGR05ynizV"
      },
      "source": [
        "lt_attrs=['engine','performance','luxury','power','tires']\n",
        "top_10_brands_attrs=top_10_brands+lt_attrs\n",
        "df_brand_attr=df.message_only_brands.apply(lambda e:ct_brand_presence(e,list_of_brands=top_10_brands_attrs))\n",
        "\n"
      ],
      "execution_count": null,
      "outputs": []
    },
    {
      "cell_type": "code",
      "metadata": {
        "id": "v2Sv88dtnnPs"
      },
      "source": [
        "cols=sorted(df_brand_attr.columns)\n",
        "df_lift_BrAttr=pd.DataFrame(index=cols,columns=cols)\n",
        "\n",
        "total=df_brand_attr.sum().sum()\n",
        "total=5000\n",
        "\n",
        "for c in cols:\n",
        "  pair_cols=[i for i in cols if i>c]\n",
        "  if pair_cols:\n",
        "\n",
        "    for p_c in pair_cols:\n",
        "      num=((df_brand_attr[p_c]*df_brand_attr[c]).sum())*total\n",
        "      den=(df_brand_attr[p_c].sum())*(df_brand_attr[c].sum())\n",
        "\n",
        "\n",
        "      df_lift_BrAttr.loc[p_c,c]=num/den\n",
        "      df_lift_BrAttr.loc[c,p_c]=num/den"
      ],
      "execution_count": null,
      "outputs": []
    },
    {
      "cell_type": "code",
      "metadata": {
        "colab": {
          "base_uri": "https://localhost:8080/",
          "height": 500
        },
        "id": "JVDpwJO9osvG",
        "outputId": "cbda3b95-8ab6-49c3-85c4-ddf8d19c728f"
      },
      "source": [
        "plt.figure(figsize=(20,8))\n",
        "\n",
        "sns.heatmap(df_lift_BrAttr.loc[top_10_brands,lt_attrs].astype(float),annot=True)"
      ],
      "execution_count": null,
      "outputs": [
        {
          "data": {
            "text/plain": [
              "<matplotlib.axes._subplots.AxesSubplot at 0x7f168fefb390>"
            ]
          },
          "execution_count": 273,
          "metadata": {},
          "output_type": "execute_result"
        },
        {
          "data": {
            "image/png": "[encoded data removed]",
            "text/plain": [
              "<Figure size 1440x576 with 2 Axes>"
            ]
          },
          "metadata": {
            "needs_background": "light"
          },
          "output_type": "display_data"
        }
      ]
    },
    {
      "cell_type": "markdown",
      "metadata": {
        "id": "V987Mrx4tCjh"
      },
      "source": [
        "## Task G"
      ]
    },
    {
      "cell_type": "markdown",
      "metadata": {
        "id": "QatI3byjtCjh"
      },
      "source": [
        "Lot of brands have low lift with Tires. \n",
        "\n",
        "Toyota has high mentions with Luxury, more than premium brands like Audi, BMW and Mercedes.  \n",
        "\n",
        "Luxury seams to be the differentiating factor, Subaru has the highest lift while BMW has the lowest.  Luxury is mentioned highly with Subaru, Toyota, Volkswagen and Acura.\n",
        "\n",
        "Performance lift does not vary much with brands.  \n",
        "\n",
        "Nissan has the highest lift with Engine.\n",
        "\n",
        "Variation of lift with the most mentioned attribute Engine, Power and Performance is minimum, whereas Luxury seems to be the determining factor.  There is an indication of Zoning."
      ]
    },
    {
      "cell_type": "markdown",
      "metadata": {
        "id": "LkqRkeUPw6X-"
      },
      "source": [
        "## TASK H "
      ]
    },
    {
      "cell_type": "code",
      "metadata": {
        "id": "cvRVUukOqAEc"
      },
      "source": [
        "lt_asp_wrds=['would like to buy','would love to buy',\n",
        "             'eager to buy','love to have',\n",
        "             'desire to','dream of', 'dream to', 'love to','to own'\n",
        "             'desire','dream','love','want','own']\n",
        "\n",
        "lt_asp_wrds=['desire to','desirable','fancy car','eager to buy','would like to buy','love to have','dream car','really want','future car','dream of',\"cant wait to buy\",'would love to buy','wish to buy','want to buy','aspire to','future car','thinking to buy','love to buy','want to own','love to own','like to own','have to own','nice to own','nice to buy','have to buy','would love to buy','would like to buy','wish to own','looking to buy','looking forward to buy']\n",
        "#temp=df.message_only_brands[0]\n",
        "# temp.count('are a')\n",
        "# temp.replace('are a|alike these', '#####')"
      ],
      "execution_count": null,
      "outputs": []
    },
    {
      "cell_type": "code",
      "metadata": {
        "colab": {
          "base_uri": "https://localhost:8080/"
        },
        "id": "MrFV10j8UENQ",
        "outputId": "161772c0-082f-493d-cd65-2af7a185f2a4"
      },
      "source": [
        "df.message_only_brands.iloc[:10].str.replace('are a|entry level','#####')\n"
      ],
      "execution_count": null,
      "outputs": [
        {
          "data": {
            "text/plain": [
              "0    ##### performance luxury sedan ##### hot area ...\n",
              "1    i personally think that with a few tweaks the ...\n",
              "2    i am debating a new purchase and these two ###...\n",
              "3    great handling rwd excellent engine and the be...\n",
              "4    and no manual tranny that may not matter to yo...\n",
              "5    one beauty of bmw 3 series is that there are s...\n",
              "6    good grief so you wait 9 months for the manual...\n",
              "7    ill give it a fair shot when the manual comes ...\n",
              "8    i understand its not about the speed i really ...\n",
              "9    it sounds like you know why i wont even put it...\n",
              "Name: message_only_brands, dtype: object"
            ]
          },
          "execution_count": 275,
          "metadata": {},
          "output_type": "execute_result"
        }
      ]
    },
    {
      "cell_type": "code",
      "metadata": {
        "id": "NXKJVirCtH_9"
      },
      "source": [
        "df.message_only_brands.iloc[:10].str.replace('are a|entry level','#####')\n",
        "\n",
        "pattern='|'.join(lt_asp_wrds)\n",
        "\n",
        "df['msg_aspire']=df.message_only_brands.str.replace(pattern,'aspire')\n"
      ],
      "execution_count": null,
      "outputs": []
    },
    {
      "cell_type": "code",
      "metadata": {
        "id": "xGdoKqIZri1Y"
      },
      "source": [
        "# df[df.message_only_brands.apply(lambda e : e.count('want to')>1)]\n",
        "# df_brand_cmt=\n",
        "df_aspr=df.msg_aspire.apply(lambda e:ct_brand_presence(e,list_of_brands=top_10_brands+['aspire']))\n",
        "\n",
        "\n"
      ],
      "execution_count": null,
      "outputs": []
    },
    {
      "cell_type": "code",
      "metadata": {
        "colab": {
          "base_uri": "https://localhost:8080/"
        },
        "id": "SV6mFRSbsFjd",
        "outputId": "59b643ae-9fe2-4e79-9731-270d63f8ae5b"
      },
      "source": [
        "total=df_aspr.sum().sum()\n",
        "total=5000\n",
        "\n",
        "df_aspire_lift=pd.Series(index=df_aspr.columns)\n",
        "\n",
        "for c in df_aspr.columns:\n",
        "  if c=='aspire':\n",
        "    print('hi')\n",
        "    continue\n",
        "\n",
        "  num=(sum((df_aspr[c])*(df_aspr['aspire'])))*total\n",
        "  den=(df_aspr[c].sum()*df_aspr['aspire'].sum())\n",
        "\n",
        "  df_aspire_lift.loc[c]=(num/den)"
      ],
      "execution_count": null,
      "outputs": [
        {
          "name": "stdout",
          "output_type": "stream",
          "text": [
            "hi\n"
          ]
        },
        {
          "name": "stderr",
          "output_type": "stream",
          "text": [
            "/usr/local/lib/python3.7/dist-packages/ipykernel_launcher.py:4: DeprecationWarning: The default dtype for empty Series will be 'object' instead of 'float64' in a future version. Specify a dtype explicitly to silence this warning.\n",
            "  after removing the cwd from sys.path.\n"
          ]
        }
      ]
    },
    {
      "cell_type": "code",
      "metadata": {
        "colab": {
          "base_uri": "https://localhost:8080/"
        },
        "id": "1A-r6QELwKY6",
        "outputId": "12d3b66a-508d-40fb-ec23-6b78868c51be"
      },
      "source": [
        "df_aspire_lift"
      ],
      "execution_count": null,
      "outputs": [
        {
          "data": {
            "text/plain": [
              "bmw           1.740174\n",
              "audi          1.408848\n",
              "acura         2.001310\n",
              "honda         1.827918\n",
              "toyota        1.336050\n",
              "infiniti      2.030302\n",
              "nissan        1.205691\n",
              "mercedes      1.194458\n",
              "subaru        1.271876\n",
              "volkswagen    0.732601\n",
              "aspire             NaN\n",
              "dtype: float64"
            ]
          },
          "execution_count": 279,
          "metadata": {},
          "output_type": "execute_result"
        }
      ]
    },
    {
      "cell_type": "markdown",
      "metadata": {
        "id": "9L6ed8_NwMWM"
      },
      "source": [
        "For measuring Aspiration, we took all the phrases (we could think of) which signifies a person wanting to buy a car.  Then we replaced all the phrases in the comments to Aspire and used lift between the word \"Aspire\" and Brands to identify which brands are people wanting to buy the most. \n",
        "\n",
        "\n",
        "\n",
        "\n",
        "1. Acura, Infiniti are the brands people want to buy the most. \n",
        "\n",
        "2. Volkswagen should be concerned as not many people want to buy this brand.  \n",
        "\n",
        "3. Asian brands like Nissan and Toyota contrary to popularity in the US have low aspiration.\n",
        "\n",
        "4. Premium brand have little lift but that is most likely due to people not being able to afford as they are premium expensive brands.\n",
        "\n",
        "5. Although Toyota has high lift with Luxury their aspiration is low indicating that there may be a negetive relation to luxury."
      ]
    },
    {
      "cell_type": "code",
      "metadata": {
        "id": "aNcIsIpU9huc"
      },
      "source": [
        ""
      ],
      "execution_count": null,
      "outputs": []
    }
  ]
}