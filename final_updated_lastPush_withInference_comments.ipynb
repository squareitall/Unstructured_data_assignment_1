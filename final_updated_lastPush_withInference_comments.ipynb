{
  "nbformat": 4,
  "nbformat_minor": 0,
  "metadata": {
    "accelerator": "GPU",
    "colab": {
      "name": "final_updated_lastPush_withInference_comments.ipynb",
      "provenance": [],
      "collapsed_sections": []
    },
    "kernelspec": {
      "display_name": "Python 3",
      "language": "python",
      "name": "python3"
    },
    "language_info": {
      "codemirror_mode": {
        "name": "ipython",
        "version": 3
      },
      "file_extension": ".py",
      "mimetype": "text/x-python",
      "name": "python",
      "nbconvert_exporter": "python",
      "pygments_lexer": "ipython3",
      "version": "3.8.5"
    }
  },
  "cells": [
    {
      "cell_type": "markdown",
      "metadata": {
        "id": "VSJz54DHt0Kg"
      },
      "source": [
        "Karthick Ramasubramanian - KR33733\n",
        "\n",
        "Prakhar Bansal - pb25834\n",
        "\n",
        "Shubham Singh - ss96589\n",
        "\n",
        "Soumi Basu- sb59982\n",
        "\n",
        "Soumik Choudhuri- sc64856\n"
      ]
    },
    {
      "cell_type": "markdown",
      "metadata": {
        "id": "ptQpPosLtgZj"
      },
      "source": [
        "URL :  https://forums.edmunds.com/discussion/2864/general/x/entry-level-luxury-performance-sedans\n",
        "\n",
        "Top 10 Brands, Attributes chosen, Lift Matrix are seperately mentioned at the bottom of the file."
      ]
    },
    {
      "cell_type": "code",
      "metadata": {
        "id": "pWUKAsOhLFoP"
      },
      "source": [
        "!pip install selenium\n",
        "!apt-get update # to update ubuntu to correctly run apt install\n",
        "!apt install chromium-chromedriver\n",
        "!cp /usr/lib/chromium-browser/chromedriver /usr/bin\n",
        "import sys\n",
        "sys.path.insert(0,'/usr/lib/chromium-browser/chromedriver')\n",
        "from selenium import webdriver\n",
        "chrome_options = webdriver.ChromeOptions()\n",
        "chrome_options.add_argument('--headless')\n",
        "chrome_options.add_argument('--no-sandbox')\n",
        "chrome_options.add_argument('--disable-dev-shm-usage')"
      ],
      "execution_count": null,
      "outputs": []
    },
    {
      "cell_type": "code",
      "metadata": {
        "id": "ufArCqwfLMiY"
      },
      "source": [
        "import time\n",
        "\n",
        "import pandas as  pd\n",
        "import numpy as np\n",
        "import matplotlib.pyplot as plt\n",
        "\n",
        "url='https://forums.edmunds.com/discussion/2864/general/x/entry-level-luxury-performance-sedans'"
      ],
      "execution_count": 5,
      "outputs": []
    },
    {
      "cell_type": "code",
      "metadata": {
        "colab": {
          "base_uri": "https://localhost:8080/"
        },
        "id": "5gKqMVOYNNCV",
        "outputId": "5a5244d8-db36-4a93-b484-7a6bbd467d7a"
      },
      "source": [
        "wd= webdriver.Chrome('chromedriver',chrome_options=chrome_options)\n",
        "wd.get(url)"
      ],
      "execution_count": 6,
      "outputs": [
        {
          "output_type": "stream",
          "name": "stderr",
          "text": [
            "/usr/local/lib/python3.7/dist-packages/ipykernel_launcher.py:1: DeprecationWarning: use options instead of chrome_options\n",
            "  \"\"\"Entry point for launching an IPython kernel.\n"
          ]
        }
      ]
    },
    {
      "cell_type": "code",
      "metadata": {
        "id": "lm5IsuMeOANG"
      },
      "source": [
        "pg_btn=wd.find_elements_by_xpath(\"//a[@aria-label='Next Page']\")\n",
        "pg_btn\n",
        "\n",
        "btn_tbu=pg_btn[0]"
      ],
      "execution_count": 7,
      "outputs": []
    },
    {
      "cell_type": "code",
      "metadata": {
        "id": "z0o7pbKPOIai"
      },
      "source": [
        "def assemble_dt_messages(skip_first=False):\n",
        "  date_time=wd.find_elements_by_xpath(\"//a[@class='Permalink']/time\")\n",
        "  date_time=[i.text for i in date_time]\n",
        "\n",
        "  msg_txt=wd.find_elements_by_xpath(\"//div[@class='Message userContent']\")\n",
        "  msg_txt=[i.text for i in msg_txt]\n",
        "  \n",
        "  df=pd.DataFrame({\n",
        "    'date_time':date_time,\n",
        "    'message':msg_txt\n",
        "                  })\n",
        "  if skip_first:\n",
        "    df=df.iloc[1:,:]\n",
        "  return df\n"
      ],
      "execution_count": 8,
      "outputs": []
    },
    {
      "cell_type": "code",
      "metadata": {
        "id": "JirDVYByaFLV"
      },
      "source": [
        "df_messages=pd.DataFrame()\n",
        "ct_cmnts=df_messages.shape[0]\n",
        "\n",
        "min_num_words=5\n",
        "\n",
        "pg_ct=0\n",
        "while ct_cmnts<=5000:\n",
        "  temp_df=assemble_dt_messages()\n",
        "\n",
        "  temp_df=temp_df.loc[(temp_df.message.apply(lambda e: len(set(str(e).split(' '))))>min_num_words),]#we assert our comment to have at least these many, here 5, number of words\n",
        "\n",
        "\n",
        "  df_messages=pd.concat([df_messages,temp_df])\n",
        "  df_messages=df_messages.drop_duplicates(subset=['message'])#We will drop repetitive messages like 'lol', 'same here' and any other\n",
        "\n",
        "  pg_btn=wd.find_elements_by_xpath(\"//a[@aria-label='Next Page']\")\n",
        "  pg_btn\n",
        "  # time.sleep(1)\n",
        "\n",
        "  btn_tbu=pg_btn[0]\n",
        "  btn_tbu.click()\n",
        "  # time.sleep(0.3)\n",
        "\n",
        "  pg_ct+=1\n",
        "\n",
        "  \n",
        "\n",
        "\n",
        "  ct_cmnts=df_messages.shape[0]\n",
        "\n",
        "  # print(ct_cmnts)\n",
        "  # display(pd.concat([temp_df.head(3),df_messages.tail(2)]))"
      ],
      "execution_count": 9,
      "outputs": []
    },
    {
      "cell_type": "code",
      "metadata": {
        "colab": {
          "base_uri": "https://localhost:8080/",
          "height": 206
        },
        "id": "oT3KhgGbRJHK",
        "outputId": "3fc6260a-ea77-41bc-9bc1-3d78d6eee524"
      },
      "source": [
        "df_messages['message'].value_counts()[:10]#.plot(kind='bar')\n",
        "\n",
        "df_messages=df_messages.iloc[:5000]\n",
        "df_messages.head()"
      ],
      "execution_count": 10,
      "outputs": [
        {
          "output_type": "execute_result",
          "data": {
            "text/html": [
              "<div>\n",
              "<style scoped>\n",
              "    .dataframe tbody tr th:only-of-type {\n",
              "        vertical-align: middle;\n",
              "    }\n",
              "\n",
              "    .dataframe tbody tr th {\n",
              "        vertical-align: top;\n",
              "    }\n",
              "\n",
              "    .dataframe thead th {\n",
              "        text-align: right;\n",
              "    }\n",
              "</style>\n",
              "<table border=\"1\" class=\"dataframe\">\n",
              "  <thead>\n",
              "    <tr style=\"text-align: right;\">\n",
              "      <th></th>\n",
              "      <th>date_time</th>\n",
              "      <th>message</th>\n",
              "    </tr>\n",
              "  </thead>\n",
              "  <tbody>\n",
              "    <tr>\n",
              "      <th>0</th>\n",
              "      <td>March 2002</td>\n",
              "      <td>Entry level performance luxury sedans are a ho...</td>\n",
              "    </tr>\n",
              "    <tr>\n",
              "      <th>1</th>\n",
              "      <td>March 2002</td>\n",
              "      <td>I personally think that with a few tweaks the ...</td>\n",
              "    </tr>\n",
              "    <tr>\n",
              "      <th>2</th>\n",
              "      <td>March 2002</td>\n",
              "      <td>I am debating a new purchase and these two are...</td>\n",
              "    </tr>\n",
              "    <tr>\n",
              "      <th>3</th>\n",
              "      <td>March 2002</td>\n",
              "      <td>Great handling, RWD, excellent engine and the ...</td>\n",
              "    </tr>\n",
              "    <tr>\n",
              "      <th>4</th>\n",
              "      <td>March 2002</td>\n",
              "      <td>And no manual tranny. That may not matter to y...</td>\n",
              "    </tr>\n",
              "  </tbody>\n",
              "</table>\n",
              "</div>"
            ],
            "text/plain": [
              "    date_time                                            message\n",
              "0  March 2002  Entry level performance luxury sedans are a ho...\n",
              "1  March 2002  I personally think that with a few tweaks the ...\n",
              "2  March 2002  I am debating a new purchase and these two are...\n",
              "3  March 2002  Great handling, RWD, excellent engine and the ...\n",
              "4  March 2002  And no manual tranny. That may not matter to y..."
            ]
          },
          "metadata": {},
          "execution_count": 10
        }
      ]
    },
    {
      "cell_type": "code",
      "metadata": {
        "colab": {
          "base_uri": "https://localhost:8080/",
          "height": 17
        },
        "id": "Co9og1F5ReoI",
        "outputId": "51474b33-c91c-4766-c32a-751ecde90998"
      },
      "source": [
        "from google.colab import files\n",
        "\n",
        "df_messages.to_csv('msg_txt_endmunds.csv')\n",
        "files.download('msg_txt_endmunds.csv')"
      ],
      "execution_count": 11,
      "outputs": [
        {
          "output_type": "display_data",
          "data": {
            "application/javascript": [
              "\n",
              "    async function download(id, filename, size) {\n",
              "      if (!google.colab.kernel.accessAllowed) {\n",
              "        return;\n",
              "      }\n",
              "      const div = document.createElement('div');\n",
              "      const label = document.createElement('label');\n",
              "      label.textContent = `Downloading \"${filename}\": `;\n",
              "      div.appendChild(label);\n",
              "      const progress = document.createElement('progress');\n",
              "      progress.max = size;\n",
              "      div.appendChild(progress);\n",
              "      document.body.appendChild(div);\n",
              "\n",
              "      const buffers = [];\n",
              "      let downloaded = 0;\n",
              "\n",
              "      const channel = await google.colab.kernel.comms.open(id);\n",
              "      // Send a message to notify the kernel that we're ready.\n",
              "      channel.send({})\n",
              "\n",
              "      for await (const message of channel.messages) {\n",
              "        // Send a message to notify the kernel that we're ready.\n",
              "        channel.send({})\n",
              "        if (message.buffers) {\n",
              "          for (const buffer of message.buffers) {\n",
              "            buffers.push(buffer);\n",
              "            downloaded += buffer.byteLength;\n",
              "            progress.value = downloaded;\n",
              "          }\n",
              "        }\n",
              "      }\n",
              "      const blob = new Blob(buffers, {type: 'application/binary'});\n",
              "      const a = document.createElement('a');\n",
              "      a.href = window.URL.createObjectURL(blob);\n",
              "      a.download = filename;\n",
              "      div.appendChild(a);\n",
              "      a.click();\n",
              "      div.remove();\n",
              "    }\n",
              "  "
            ],
            "text/plain": [
              "<IPython.core.display.Javascript object>"
            ]
          },
          "metadata": {}
        },
        {
          "output_type": "display_data",
          "data": {
            "application/javascript": [
              "download(\"download_f8d00221-301b-40c8-8a05-0d4bf5353bfd\", \"msg_txt_endmunds.csv\", 2650647)"
            ],
            "text/plain": [
              "<IPython.core.display.Javascript object>"
            ]
          },
          "metadata": {}
        }
      ]
    },
    {
      "cell_type": "markdown",
      "metadata": {
        "id": "y8vprmdq_7Gc"
      },
      "source": [
        "\n",
        "1. We have Scraped top 5000 Oldest Reviews from Edmunds website. \n",
        "2. We have also discarded comments with less than 5 words as it will not add any value gain in our Lift Analysis.\n"
      ]
    },
    {
      "cell_type": "markdown",
      "metadata": {
        "id": "lkAgOJogrvQI"
      },
      "source": [
        "# TASK A"
      ]
    },
    {
      "cell_type": "code",
      "metadata": {
        "id": "_5a6slKqVl9v"
      },
      "source": [
        "import pandas as pd\n",
        "import matplotlib.pyplot as plt\n",
        "import numpy as np"
      ],
      "execution_count": 12,
      "outputs": []
    },
    {
      "cell_type": "code",
      "metadata": {
        "id": "IYXBhEfMhTF7"
      },
      "source": [
        "df=pd.read_csv('msg_txt_endmunds.csv',usecols=[1,2])"
      ],
      "execution_count": 13,
      "outputs": []
    },
    {
      "cell_type": "code",
      "metadata": {
        "id": "9hePyvf7hZ0G"
      },
      "source": [
        "import string\n",
        "import re\n",
        "string.punctuation#even removing the fullstops, it may influence the result slightly bcos of presence of abbreviations\n",
        "\n",
        "df['msg']=df['message'].apply(lambda e : re.sub(r'[^\\w\\s]','',str(e)).replace('\\n\\n',' ') )"
      ],
      "execution_count": 14,
      "outputs": []
    },
    {
      "cell_type": "code",
      "metadata": {
        "id": "hEqDBSTHhhEZ"
      },
      "source": [
        "msg_txt=' '.join(df['msg'])\n",
        "msg_txt=msg_txt.lower()\n",
        "# msg_txt"
      ],
      "execution_count": 15,
      "outputs": []
    },
    {
      "cell_type": "code",
      "metadata": {
        "id": "z16ClNKUiFwU"
      },
      "source": [
        "from collections import defaultdict\n",
        "word_count=defaultdict(int)\n",
        "\n",
        "ct=0\n",
        "for w in msg_txt.split(' '):\n",
        "  ct+=1\n",
        "  word_count[w]+=1"
      ],
      "execution_count": 16,
      "outputs": []
    },
    {
      "cell_type": "markdown",
      "metadata": {
        "id": "PJxiIadCKEFP"
      },
      "source": [
        "## Frequency Distribution For first 100 words\n",
        "\n"
      ]
    },
    {
      "cell_type": "code",
      "metadata": {
        "colab": {
          "base_uri": "https://localhost:8080/",
          "height": 521
        },
        "id": "WZ5ZiODDnTpT",
        "outputId": "b61d52e5-47d6-4a12-a735-5febf66f8a28"
      },
      "source": [
        "word_ct_sorted={i:j for i,j in sorted(word_count.items(), key=lambda d:d[1],reverse=True)}\n",
        "pd.Series(word_ct_sorted).reset_index()[:100].plot(kind='line',figsize=(20,8),xlabel='Rank',ylabel='Frequency')\n",
        "plt.title('Zipf\\'s Law: Frequency Vs. Rank of Top 100 most Frequent Words')\n",
        "plt.xlabel('Rank of a Word')\n",
        "plt.ylabel('Frequency of a Word')"
      ],
      "execution_count": 17,
      "outputs": [
        {
          "output_type": "execute_result",
          "data": {
            "text/plain": [
              "Text(0, 0.5, 'Frequency of a Word')"
            ]
          },
          "metadata": {},
          "execution_count": 17
        },
        {
          "output_type": "display_data",
          "data": {
            "image/png": "[encoded data removed]",
            "text/plain": [
              "<Figure size 1440x576 with 1 Axes>"
            ]
          },
          "metadata": {
            "needs_background": "light"
          }
        }
      ]
    },
    {
      "cell_type": "code",
      "metadata": {
        "colab": {
          "base_uri": "https://localhost:8080/"
        },
        "id": "U4yta1R2bzjB",
        "outputId": "2e13e1ca-c1cd-4de9-d62d-28aa52b2876f"
      },
      "source": [
        "len(word_count)"
      ],
      "execution_count": 18,
      "outputs": [
        {
          "output_type": "execute_result",
          "data": {
            "text/plain": [
              "22727"
            ]
          },
          "metadata": {},
          "execution_count": 18
        }
      ]
    },
    {
      "cell_type": "code",
      "metadata": {
        "colab": {
          "base_uri": "https://localhost:8080/"
        },
        "id": "OVue4xYynV_x",
        "outputId": "fb49c730-7740-4823-eaff-8675db4faaa5"
      },
      "source": [
        "import nltk\n",
        "from nltk.corpus import wordnet\n",
        "nltk.download('wordnet')\n",
        "\n",
        "word_ct_synonyms=[(k,v,len(wordnet.synsets(k)))\n",
        " for k,v in word_count.items()]\n",
        "\n",
        "\n",
        "df_wrd=pd.DataFrame(word_ct_synonyms)\n",
        "df_wrd.columns=['word','ct','ct_synms']"
      ],
      "execution_count": 19,
      "outputs": [
        {
          "output_type": "stream",
          "name": "stdout",
          "text": [
            "[nltk_data] Downloading package wordnet to /root/nltk_data...\n",
            "[nltk_data]   Unzipping corpora/wordnet.zip.\n"
          ]
        }
      ]
    },
    {
      "cell_type": "code",
      "metadata": {
        "id": "a0juAZhAcL1w"
      },
      "source": [
        "from scipy.stats import rankdata\n",
        "df_wrd[['rk_ct','rk_synms']]=df_wrd[['ct','ct_synms']].rank(ascending=False)"
      ],
      "execution_count": 20,
      "outputs": []
    },
    {
      "cell_type": "code",
      "metadata": {
        "colab": {
          "base_uri": "https://localhost:8080/",
          "height": 513
        },
        "id": "88F69PJLcPTB",
        "outputId": "b9d072ab-d23f-4800-b149-319f25a723b1"
      },
      "source": [
        "import seaborn as sns\n",
        "\n",
        "f,ax=plt.subplots(1,3)\n",
        "df_wrd.sort_values('ct',ascending=False).plot(x='rk_ct',y='ct',figsize=(20,8),ax=ax[0])\n",
        "df_wrd.sort_values('ct',ascending=False).plot(x='rk_ct',y='ct',figsize=(20,8),ax=ax[1])\n",
        "df_wrd.sort_values('ct',ascending=False).plot(x='rk_ct',y='ct',figsize=(20,8),ax=ax[2])\n",
        "\n",
        "\n",
        "ax[0].set_title('rank vs frequency')\n",
        "\n",
        "\n",
        "ax[1].set_title('log rank vs frequency')\n",
        "ax[1].set_xscale('log')\n",
        "\n",
        "\n",
        "\n",
        "ax[2].set_title('log rank vs log frequency')\n",
        "ax[2].set_xscale('log')\n",
        "ax[2].set_yscale('log')\n"
      ],
      "execution_count": 21,
      "outputs": [
        {
          "output_type": "display_data",
          "data": {
            "image/png": "[encoded data removed]",
            "text/plain": [
              "<Figure size 1440x576 with 3 Axes>"
            ]
          },
          "metadata": {
            "needs_background": "light"
          }
        }
      ]
    },
    {
      "cell_type": "code",
      "metadata": {
        "colab": {
          "base_uri": "https://localhost:8080/",
          "height": 497
        },
        "id": "x004aKvBg_7w",
        "outputId": "a88e2567-2326-4424-aad7-31f05e41845f"
      },
      "source": [
        "from sklearn.linear_model import LinearRegression\n",
        "\n",
        "model=LinearRegression()\n",
        "\n",
        "model.fit(np.log(df_wrd['ct']).to_frame(),np.log(df_wrd['rk_ct']))\n",
        "\n",
        "\n",
        "plt.figure(figsize=(20,8))\n",
        "\n",
        "plt.plot(np.log(df_wrd['rk_ct']),np.log(df_wrd['ct']),'r.',label='True points ')\n",
        "plt.plot(np.log(df_wrd['ct']),model.predict(np.log(df_wrd['ct']).to_frame()),label='Theoretical prediction')\n",
        "plt.title('Actual Vs Predicted Word Frequency Distribution according to Zipf\\'s Law')\n",
        "plt.ylabel('Log of Frequency')\n",
        "plt.ylabel('Log of Rank')\n",
        "\n",
        "plt.legend()\n",
        "plt.show()"
      ],
      "execution_count": 22,
      "outputs": [
        {
          "output_type": "display_data",
          "data": {
            "image/png": "[encoded data removed]",
            "text/plain": [
              "<Figure size 1440x576 with 1 Axes>"
            ]
          },
          "metadata": {
            "needs_background": "light"
          }
        }
      ]
    },
    {
      "cell_type": "code",
      "metadata": {
        "colab": {
          "base_uri": "https://localhost:8080/",
          "height": 175
        },
        "id": "9qg4bxrgyLAb",
        "outputId": "5338e1fe-e49e-4ee7-bffb-6c7b1f3d1747"
      },
      "source": [
        "df_wrd.sort_values(by='ct',ascending=False).iloc[:100].corr()#.sort_values('rk_ct_synms')"
      ],
      "execution_count": 23,
      "outputs": [
        {
          "output_type": "execute_result",
          "data": {
            "text/html": [
              "<div>\n",
              "<style scoped>\n",
              "    .dataframe tbody tr th:only-of-type {\n",
              "        vertical-align: middle;\n",
              "    }\n",
              "\n",
              "    .dataframe tbody tr th {\n",
              "        vertical-align: top;\n",
              "    }\n",
              "\n",
              "    .dataframe thead th {\n",
              "        text-align: right;\n",
              "    }\n",
              "</style>\n",
              "<table border=\"1\" class=\"dataframe\">\n",
              "  <thead>\n",
              "    <tr style=\"text-align: right;\">\n",
              "      <th></th>\n",
              "      <th>ct</th>\n",
              "      <th>ct_synms</th>\n",
              "      <th>rk_ct</th>\n",
              "      <th>rk_synms</th>\n",
              "    </tr>\n",
              "  </thead>\n",
              "  <tbody>\n",
              "    <tr>\n",
              "      <th>ct</th>\n",
              "      <td>1.000000</td>\n",
              "      <td>-0.173803</td>\n",
              "      <td>-0.626525</td>\n",
              "      <td>0.213958</td>\n",
              "    </tr>\n",
              "    <tr>\n",
              "      <th>ct_synms</th>\n",
              "      <td>-0.173803</td>\n",
              "      <td>1.000000</td>\n",
              "      <td>0.186889</td>\n",
              "      <td>-0.705540</td>\n",
              "    </tr>\n",
              "    <tr>\n",
              "      <th>rk_ct</th>\n",
              "      <td>-0.626525</td>\n",
              "      <td>0.186889</td>\n",
              "      <td>1.000000</td>\n",
              "      <td>-0.193300</td>\n",
              "    </tr>\n",
              "    <tr>\n",
              "      <th>rk_synms</th>\n",
              "      <td>0.213958</td>\n",
              "      <td>-0.705540</td>\n",
              "      <td>-0.193300</td>\n",
              "      <td>1.000000</td>\n",
              "    </tr>\n",
              "  </tbody>\n",
              "</table>\n",
              "</div>"
            ],
            "text/plain": [
              "                ct  ct_synms     rk_ct  rk_synms\n",
              "ct        1.000000 -0.173803 -0.626525  0.213958\n",
              "ct_synms -0.173803  1.000000  0.186889 -0.705540\n",
              "rk_ct    -0.626525  0.186889  1.000000 -0.193300\n",
              "rk_synms  0.213958 -0.705540 -0.193300  1.000000"
            ]
          },
          "metadata": {},
          "execution_count": 23
        }
      ]
    },
    {
      "cell_type": "code",
      "metadata": {
        "colab": {
          "base_uri": "https://localhost:8080/"
        },
        "id": "1YB-efYUzDFk",
        "outputId": "b06dcaeb-15f6-4c92-fe93-7c187434b94b"
      },
      "source": [
        "np.corrcoef(np.log(df_wrd['ct']),np.log(df_wrd['rk_ct']))"
      ],
      "execution_count": 24,
      "outputs": [
        {
          "output_type": "execute_result",
          "data": {
            "text/plain": [
              "array([[ 1.        , -0.99773845],\n",
              "       [-0.99773845,  1.        ]])"
            ]
          },
          "metadata": {},
          "execution_count": 24
        }
      ]
    },
    {
      "cell_type": "code",
      "metadata": {
        "colab": {
          "base_uri": "https://localhost:8080/",
          "height": 297
        },
        "id": "bJyLMd4F38Ge",
        "outputId": "0c3d0162-bef5-4a7d-de11-44d3f73cc251"
      },
      "source": [
        "df_wrd.sort_values(by='ct',ascending=False).iloc[:100].plot(x='ct',y='ct_synms',kind='scatter')"
      ],
      "execution_count": 25,
      "outputs": [
        {
          "output_type": "execute_result",
          "data": {
            "text/plain": [
              "<matplotlib.axes._subplots.AxesSubplot at 0x7f7602cd2110>"
            ]
          },
          "metadata": {},
          "execution_count": 25
        },
        {
          "output_type": "display_data",
          "data": {
            "image/png": "[encoded data removed]",
            "text/plain": [
              "<Figure size 432x288 with 1 Axes>"
            ]
          },
          "metadata": {
            "needs_background": "light"
          }
        }
      ]
    },
    {
      "cell_type": "markdown",
      "metadata": {
        "id": "2o3wtv67EdFI"
      },
      "source": [
        "# TASK B"
      ]
    },
    {
      "cell_type": "code",
      "metadata": {
        "colab": {
          "base_uri": "https://localhost:8080/"
        },
        "id": "AUZEy18UhuuF",
        "outputId": "ee93eded-a2d7-4bd0-8c60-ca065f291547"
      },
      "source": [
        "import nltk\n",
        "nltk.download('punkt')\n",
        "nltk.download('stopwords')\n",
        "from nltk.corpus import stopwords\n",
        "from nltk.tokenize import word_tokenize\n",
        " \n",
        "stop_words = set(stopwords.words('english'))\n",
        " \n",
        "word_tokens = word_tokenize(msg_txt)"
      ],
      "execution_count": 26,
      "outputs": [
        {
          "output_type": "stream",
          "name": "stdout",
          "text": [
            "[nltk_data] Downloading package punkt to /root/nltk_data...\n",
            "[nltk_data]   Unzipping tokenizers/punkt.zip.\n",
            "[nltk_data] Downloading package stopwords to /root/nltk_data...\n",
            "[nltk_data]   Unzipping corpora/stopwords.zip.\n"
          ]
        }
      ]
    },
    {
      "cell_type": "code",
      "metadata": {
        "colab": {
          "base_uri": "https://localhost:8080/"
        },
        "id": "s6VymbL1izle",
        "outputId": "560e3bc3-9de7-4971-a52c-19a6534f6e96"
      },
      "source": [
        "without_stop_words=[i for i in word_tokens if i not in stop_words]\n",
        "len(without_stop_words)"
      ],
      "execution_count": 27,
      "outputs": [
        {
          "output_type": "execute_result",
          "data": {
            "text/plain": [
              "252756"
            ]
          },
          "metadata": {},
          "execution_count": 27
        }
      ]
    },
    {
      "cell_type": "code",
      "metadata": {
        "id": "V3A2pTePhty1"
      },
      "source": [
        "from collections import defaultdict\n",
        "word_count=defaultdict(int)\n",
        "\n",
        "ct=0\n",
        "for w in without_stop_words:\n",
        "  ct+=1\n",
        "  word_count[w]+=1"
      ],
      "execution_count": 28,
      "outputs": []
    },
    {
      "cell_type": "code",
      "metadata": {
        "id": "xYW1hhWKFPQV"
      },
      "source": [
        "files.upload()\n",
        "df_brands = pd.read_csv('car models and brands.csv')"
      ],
      "execution_count": null,
      "outputs": []
    },
    {
      "cell_type": "code",
      "metadata": {
        "id": "N6QG4sBiEe8q"
      },
      "source": [
        "def process_str(e):\n",
        "  e=re.sub(r'[^\\w\\s]','',str(e)).replace('\\n\\n',' ')\n",
        "  return e\n",
        "lt_brands=list(set(df_brands['Brand'].apply(lambda e: process_str(e).lower()).to_list()))\n"
      ],
      "execution_count": 40,
      "outputs": []
    },
    {
      "cell_type": "code",
      "metadata": {
        "id": "PIz9eE4MEj1A"
      },
      "source": [
        "brand_count={i:j for i,j in word_count.items() if i in lt_brands}"
      ],
      "execution_count": 42,
      "outputs": []
    },
    {
      "cell_type": "code",
      "metadata": {
        "id": "yVSJMwsbHtly"
      },
      "source": [
        "def process_str(e):\n",
        "  e=re.sub(r'[^\\w\\s]','',str(e)).replace('\\n\\n',' ')\n",
        "  return e\n",
        "lt_models=list(set(df_brands['Model'].apply(lambda e: process_str(e).lower()).to_list()))\n",
        "model_count={i:j for i,j in word_count.items() if i in lt_models}\n"
      ],
      "execution_count": 43,
      "outputs": []
    },
    {
      "cell_type": "code",
      "metadata": {
        "id": "9xKOR0DbItFs"
      },
      "source": [
        "df_brands.loc[:,'Model']=df_brands['Model'].apply(lambda e: process_str(e).lower())\n",
        "df_brands.loc[:,'Brand']=df_brands['Brand'].apply(lambda e: process_str(e).lower())"
      ],
      "execution_count": 44,
      "outputs": []
    },
    {
      "cell_type": "code",
      "metadata": {
        "id": "HzvgSNCiJNMI"
      },
      "source": [
        "df_brands.loc[:,'ct_model']=df_brands['Model'].map(model_count)"
      ],
      "execution_count": 45,
      "outputs": []
    },
    {
      "cell_type": "code",
      "metadata": {
        "id": "RAIOl8KzJqaf"
      },
      "source": [
        "ct_brand_models=df_brands.groupby('Brand')['ct_model'].sum()\n",
        "ct_brand=pd.Series(brand_count,name='Brand')"
      ],
      "execution_count": 46,
      "outputs": []
    },
    {
      "cell_type": "code",
      "metadata": {
        "colab": {
          "base_uri": "https://localhost:8080/",
          "height": 206
        },
        "id": "KCZ421r3J7_a",
        "outputId": "2a897eca-7426-4cc2-909a-a14b1c9268fc"
      },
      "source": [
        "df_brand_ct=pd.merge(ct_brand,ct_brand_models,left_index=True,right_index=True)\n",
        "df_brand_ct.loc[:,'sum_ct']=df_brand_ct.sum(axis=1)\n",
        "df_brand_ct.sort_values('sum_ct',ascending=False).iloc[:5]"
      ],
      "execution_count": 47,
      "outputs": [
        {
          "output_type": "execute_result",
          "data": {
            "text/html": [
              "<div>\n",
              "<style scoped>\n",
              "    .dataframe tbody tr th:only-of-type {\n",
              "        vertical-align: middle;\n",
              "    }\n",
              "\n",
              "    .dataframe tbody tr th {\n",
              "        vertical-align: top;\n",
              "    }\n",
              "\n",
              "    .dataframe thead th {\n",
              "        text-align: right;\n",
              "    }\n",
              "</style>\n",
              "<table border=\"1\" class=\"dataframe\">\n",
              "  <thead>\n",
              "    <tr style=\"text-align: right;\">\n",
              "      <th></th>\n",
              "      <th>Brand</th>\n",
              "      <th>ct_model</th>\n",
              "      <th>sum_ct</th>\n",
              "    </tr>\n",
              "  </thead>\n",
              "  <tbody>\n",
              "    <tr>\n",
              "      <th>car</th>\n",
              "      <td>3893</td>\n",
              "      <td>2069.0</td>\n",
              "      <td>5962.0</td>\n",
              "    </tr>\n",
              "    <tr>\n",
              "      <th>bmw</th>\n",
              "      <td>1865</td>\n",
              "      <td>1028.0</td>\n",
              "      <td>2893.0</td>\n",
              "    </tr>\n",
              "    <tr>\n",
              "      <th>sedan</th>\n",
              "      <td>732</td>\n",
              "      <td>238.0</td>\n",
              "      <td>970.0</td>\n",
              "    </tr>\n",
              "    <tr>\n",
              "      <th>audi</th>\n",
              "      <td>371</td>\n",
              "      <td>545.0</td>\n",
              "      <td>916.0</td>\n",
              "    </tr>\n",
              "    <tr>\n",
              "      <th>acura</th>\n",
              "      <td>515</td>\n",
              "      <td>377.0</td>\n",
              "      <td>892.0</td>\n",
              "    </tr>\n",
              "  </tbody>\n",
              "</table>\n",
              "</div>"
            ],
            "text/plain": [
              "       Brand  ct_model  sum_ct\n",
              "car     3893    2069.0  5962.0\n",
              "bmw     1865    1028.0  2893.0\n",
              "sedan    732     238.0   970.0\n",
              "audi     371     545.0   916.0\n",
              "acura    515     377.0   892.0"
            ]
          },
          "metadata": {},
          "execution_count": 47
        }
      ]
    },
    {
      "cell_type": "code",
      "metadata": {
        "colab": {
          "base_uri": "https://localhost:8080/"
        },
        "id": "KkscEnRpXFCj",
        "outputId": "bb31bb00-989b-4c9d-8ffc-8cfe19e8801f"
      },
      "source": [
        "top_10_brands=df_brand_ct.sort_values('sum_ct',ascending=False).iloc[1:15].index.to_list()\n",
        "\n",
        "top_10_brands=[i for i in  top_10_brands if i not in ['sedan','seat','problem']][:10]\n",
        "from pprint import pprint\n",
        "pprint(top_10_brands)"
      ],
      "execution_count": 48,
      "outputs": [
        {
          "output_type": "stream",
          "name": "stdout",
          "text": [
            "['bmw',\n",
            " 'audi',\n",
            " 'acura',\n",
            " 'honda',\n",
            " 'toyota',\n",
            " 'infiniti',\n",
            " 'nissan',\n",
            " 'mercedes',\n",
            " 'subaru',\n",
            " 'volkswagen']\n"
          ]
        }
      ]
    },
    {
      "cell_type": "markdown",
      "metadata": {
        "id": "A3SqiSfYYKPj"
      },
      "source": [
        "## TASK C"
      ]
    },
    {
      "cell_type": "code",
      "metadata": {
        "id": "H3NjZstAKxyc"
      },
      "source": [
        "##Just selecting the message based column to work on\n",
        "df_messages.loc[:,'message']=df_messages.message.astype(str)\n",
        "df_messages.reset_index(drop=True,inplace=True)\n",
        "df=df_messages.loc[:,['message']]\n",
        "df['message']=df['message'].apply(lambda e: process_str(e).lower())"
      ],
      "execution_count": 49,
      "outputs": []
    },
    {
      "cell_type": "code",
      "metadata": {
        "colab": {
          "base_uri": "https://localhost:8080/"
        },
        "id": "5r7zDvZQKXVD",
        "outputId": "10e99881-5eb6-48a1-f4de-c53c3c0533c3"
      },
      "source": [
        "## We will first replace name of models with brand inside every indivdual message \n",
        "\n",
        "brand_models=df_brands.drop(['ct_model'],axis=1).set_index('Model')['Brand']\n",
        "\n",
        "brand_models.index.name= None\n",
        "brand_models[brand_models=='infiniti']"
      ],
      "execution_count": 50,
      "outputs": [
        {
          "output_type": "execute_result",
          "data": {
            "text/plain": [
              "qx50    infiniti\n",
              "qx60    infiniti\n",
              "qx70    infiniti\n",
              "fx35    infiniti\n",
              "q50     infiniti\n",
              "q60     infiniti\n",
              "q70     infiniti\n",
              "g37     infiniti\n",
              "g25     infiniti\n",
              "6mt     infiniti\n",
              "Name: Brand, dtype: object"
            ]
          },
          "metadata": {},
          "execution_count": 50
        }
      ]
    },
    {
      "cell_type": "code",
      "metadata": {
        "colab": {
          "base_uri": "https://localhost:8080/",
          "height": 206
        },
        "id": "4zPJTTD0ekiT",
        "outputId": "305641f8-c52d-4af8-c212-81bab636ac37"
      },
      "source": [
        "def replace_models_with_brand(e):\n",
        "  s_e=pd.Series(word_tokenize(e))\n",
        "  s_e=s_e.replace(brand_models)\n",
        "\n",
        "  modified_text=' '.join(s_e)\n",
        "\n",
        "  return modified_text\n",
        "\n",
        "df['message_only_brands']=df.message.apply(lambda e : replace_models_with_brand(e))\n",
        "df.head()"
      ],
      "execution_count": 51,
      "outputs": [
        {
          "output_type": "execute_result",
          "data": {
            "text/html": [
              "<div>\n",
              "<style scoped>\n",
              "    .dataframe tbody tr th:only-of-type {\n",
              "        vertical-align: middle;\n",
              "    }\n",
              "\n",
              "    .dataframe tbody tr th {\n",
              "        vertical-align: top;\n",
              "    }\n",
              "\n",
              "    .dataframe thead th {\n",
              "        text-align: right;\n",
              "    }\n",
              "</style>\n",
              "<table border=\"1\" class=\"dataframe\">\n",
              "  <thead>\n",
              "    <tr style=\"text-align: right;\">\n",
              "      <th></th>\n",
              "      <th>message</th>\n",
              "      <th>message_only_brands</th>\n",
              "    </tr>\n",
              "  </thead>\n",
              "  <tbody>\n",
              "    <tr>\n",
              "      <th>0</th>\n",
              "      <td>entry level performance luxury sedans are a ho...</td>\n",
              "      <td>entry level performance luxury sedan are a hot...</td>\n",
              "    </tr>\n",
              "    <tr>\n",
              "      <th>1</th>\n",
              "      <td>i personally think that with a few tweaks the ...</td>\n",
              "      <td>i personally think that with a few tweaks the ...</td>\n",
              "    </tr>\n",
              "    <tr>\n",
              "      <th>2</th>\n",
              "      <td>i am debating a new purchase and these two are...</td>\n",
              "      <td>i am debating a new purchase and these two are...</td>\n",
              "    </tr>\n",
              "    <tr>\n",
              "      <th>3</th>\n",
              "      <td>great handling rwd excellent engine and the be...</td>\n",
              "      <td>great handling rwd excellent engine and the be...</td>\n",
              "    </tr>\n",
              "    <tr>\n",
              "      <th>4</th>\n",
              "      <td>and no manual tranny that may not matter to yo...</td>\n",
              "      <td>and no manual tranny that may not matter to yo...</td>\n",
              "    </tr>\n",
              "  </tbody>\n",
              "</table>\n",
              "</div>"
            ],
            "text/plain": [
              "                                             message                                message_only_brands\n",
              "0  entry level performance luxury sedans are a ho...  entry level performance luxury sedan are a hot...\n",
              "1  i personally think that with a few tweaks the ...  i personally think that with a few tweaks the ...\n",
              "2  i am debating a new purchase and these two are...  i am debating a new purchase and these two are...\n",
              "3  great handling rwd excellent engine and the be...  great handling rwd excellent engine and the be...\n",
              "4  and no manual tranny that may not matter to yo...  and no manual tranny that may not matter to yo..."
            ]
          },
          "metadata": {},
          "execution_count": 51
        }
      ]
    },
    {
      "cell_type": "code",
      "metadata": {
        "id": "Ohsrd5TNgrm-"
      },
      "source": [
        "df.to_csv('txt_with_only_brand_names.csv')"
      ],
      "execution_count": 52,
      "outputs": []
    },
    {
      "cell_type": "code",
      "metadata": {
        "id": "Z4k36b0_hXMC"
      },
      "source": [
        "def ct_brand_presence(e,list_of_brands=lt_brands,only_indicator=True):\n",
        "\n",
        "  temp=pd.Series(map(e.count,list_of_brands),\n",
        "          index=list_of_brands)\n",
        "  \n",
        "  if only_indicator:\n",
        "    temp=(temp>0).astype(int)\n",
        "  return temp\n",
        "\n",
        "df_brand_cmt=df.message_only_brands.apply(lambda e:ct_brand_presence(e,list_of_brands=top_10_brands))\n"
      ],
      "execution_count": 53,
      "outputs": []
    },
    {
      "cell_type": "code",
      "metadata": {
        "colab": {
          "base_uri": "https://localhost:8080/"
        },
        "id": "pDCNONu3I2-7",
        "outputId": "51666b46-b064-4a7c-ec58-5ad4a6d3490e"
      },
      "source": [
        "# df_brand_cmt.sum().sum()\n",
        "i='infiniti'\n",
        "j='infiniti'\n",
        "bool_cond=(df_brand_cmt[i]==1) & (df_brand_cmt[j]==1)\n",
        "df_brand_cmt[bool_cond].shape#79,319,433"
      ],
      "execution_count": 54,
      "outputs": [
        {
          "output_type": "execute_result",
          "data": {
            "text/plain": [
              "(433, 10)"
            ]
          },
          "metadata": {},
          "execution_count": 54
        }
      ]
    },
    {
      "cell_type": "code",
      "metadata": {
        "id": "mhulih2ynJAn"
      },
      "source": [
        "cols=sorted(df_brand_cmt.columns)\n",
        "df_lift=pd.DataFrame(index=cols,columns=cols)\n",
        "\n",
        "total=df_brand_cmt.sum().sum()\n",
        "total=5000\n",
        "\n",
        "for c in cols:\n",
        "  pair_cols=[i for i in cols if i>c]\n",
        "  if pair_cols:\n",
        "\n",
        "    for p_c in pair_cols:\n",
        "      num=((df_brand_cmt[p_c]*df_brand_cmt[c]).sum())*total\n",
        "      den=(df_brand_cmt[p_c].sum())*(df_brand_cmt[c].sum())\n",
        "\n",
        "\n",
        "      df_lift.loc[p_c,c]=num/den\n",
        "      df_lift.loc[c,p_c]=num/den"
      ],
      "execution_count": 55,
      "outputs": []
    },
    {
      "cell_type": "code",
      "metadata": {
        "colab": {
          "base_uri": "https://localhost:8080/",
          "height": 501
        },
        "id": "1yNIM4PXoYmY",
        "outputId": "4474f8da-8e93-4b55-8e7d-1fb502c5eb99"
      },
      "source": [
        "import seaborn as sns\n",
        "plt.figure(figsize=(20,8))\n",
        "\n",
        "\n",
        "sns.heatmap(df_lift.fillna(0),\n",
        "            annot=True,mask=np.triu(df_lift))"
      ],
      "execution_count": 56,
      "outputs": [
        {
          "output_type": "execute_result",
          "data": {
            "text/plain": [
              "<matplotlib.axes._subplots.AxesSubplot at 0x7f7600c1f310>"
            ]
          },
          "metadata": {},
          "execution_count": 56
        },
        {
          "output_type": "display_data",
          "data": {
            "image/png": "[encoded data removed]",
            "text/plain": [
              "<Figure size 1440x576 with 2 Axes>"
            ]
          },
          "metadata": {
            "needs_background": "light"
          }
        }
      ]
    },
    {
      "cell_type": "markdown",
      "metadata": {
        "id": "ZhwxExiCjsRW"
      },
      "source": [
        "## TASK D"
      ]
    },
    {
      "cell_type": "code",
      "metadata": {
        "id": "NU82WpVbmFZc"
      },
      "source": [
        "# Plotting MDS Map based on dissimilarity matrix obtained by inversing the Lift values"
      ],
      "execution_count": 57,
      "outputs": []
    },
    {
      "cell_type": "code",
      "metadata": {
        "colab": {
          "base_uri": "https://localhost:8080/",
          "height": 537
        },
        "id": "UlH1fcCcjdRz",
        "outputId": "1368a7e0-a8a1-4178-d8bb-62d692c714f4"
      },
      "source": [
        "from sklearn.manifold import MDS\n",
        "\n",
        "df_disimilarity=1/df_lift\n",
        "df_disimilarity.fillna(0,inplace=True)\n",
        "df_disimilarity\n",
        "\n",
        "\n",
        "mds=MDS(n_components=2)\n",
        "\n",
        "npos=mds.fit_transform(df_disimilarity)\n",
        "\n",
        "# df_disimilarity.index\n",
        "plt.figure(figsize=(20,8))\n",
        "\n",
        "plt.plot(npos[:,0],npos[:,1],'*')\n",
        "plt.ylim(-1,2)\n",
        "plt.xlim(-1,2)\n",
        "\n",
        "\n",
        "for i in range(len(npos)):\n",
        "  plt.text(npos[i,0],npos[i,1],df_disimilarity.index[i])"
      ],
      "execution_count": 58,
      "outputs": [
        {
          "output_type": "stream",
          "name": "stderr",
          "text": [
            "/usr/local/lib/python3.7/dist-packages/sklearn/manifold/_mds.py:419: UserWarning: The MDS API has changed. ``fit`` now constructs an dissimilarity matrix from data. To use a custom dissimilarity matrix, set ``dissimilarity='precomputed'``.\n",
            "  warnings.warn(\"The MDS API has changed. ``fit`` now constructs an\"\n"
          ]
        },
        {
          "output_type": "display_data",
          "data": {
            "image/png": "[encoded data removed]",
            "text/plain": [
              "<Figure size 1440x576 with 1 Axes>"
            ]
          },
          "metadata": {
            "needs_background": "light"
          }
        }
      ]
    },
    {
      "cell_type": "code",
      "metadata": {
        "colab": {
          "base_uri": "https://localhost:8080/",
          "height": 552
        },
        "id": "1toyGLd4lVx5",
        "outputId": "32ea3afc-b9c8-4ce6-eef1-cc5580e56868"
      },
      "source": [
        "pd.Series(word_count).sort_values(ascending=False).iloc[:150].plot(kind='bar',figsize=(20,8))"
      ],
      "execution_count": 59,
      "outputs": [
        {
          "output_type": "execute_result",
          "data": {
            "text/plain": [
              "<matplotlib.axes._subplots.AxesSubplot at 0x7f7607242a10>"
            ]
          },
          "metadata": {},
          "execution_count": 59
        },
        {
          "output_type": "display_data",
          "data": {
            "image/png": "[encoded data removed]",
            "text/plain": [
              "<Figure size 1440x576 with 1 Axes>"
            ]
          },
          "metadata": {
            "needs_background": "light"
          }
        }
      ]
    },
    {
      "cell_type": "markdown",
      "metadata": {
        "id": "7XrOuIvZtCje"
      },
      "source": [
        "## TASK E"
      ]
    },
    {
      "cell_type": "markdown",
      "metadata": {
        "id": "TSwemHuStCjf"
      },
      "source": [
        "1. Honda, Toyota and Nissan all being Japanese brands have high lift as expected.  \n",
        "\n",
        "2. Volkswagen suprisingly has high lift with premium brands like Audi and Merdedes. BMW also has low lift with Audi and Mercedes.  This can be due to people comparing Volkswagen with other brands and consider it as a Value for money option.\n",
        "\n",
        "3. We basically see 2 clusters being formed.  1 of Japanese brands (Honda, Toyota & Nissan) and all other brands."
      ]
    },
    {
      "cell_type": "markdown",
      "metadata": {
        "id": "K63E2iImw3PL"
      },
      "source": [
        "## TASK F"
      ]
    },
    {
      "cell_type": "code",
      "metadata": {
        "colab": {
          "base_uri": "https://localhost:8080/"
        },
        "id": "QD2KEzqYak_f",
        "outputId": "cd86c64e-af45-44ab-d8fa-edfeb263b9f4"
      },
      "source": [
        "nltk.download('averaged_perceptron_tagger')\n",
        "\n",
        "temp=set(list(i for i,j in nltk.pos_tag(word_count.keys()) if 'nn' in j.lower()))\n",
        "df_noun=pd.Series({i:j for i,j in word_count.items() if i in temp})"
      ],
      "execution_count": 60,
      "outputs": [
        {
          "output_type": "stream",
          "name": "stdout",
          "text": [
            "[nltk_data] Downloading package averaged_perceptron_tagger to\n",
            "[nltk_data]     /root/nltk_data...\n",
            "[nltk_data]   Unzipping taggers/averaged_perceptron_tagger.zip.\n"
          ]
        }
      ]
    },
    {
      "cell_type": "code",
      "metadata": {
        "colab": {
          "base_uri": "https://localhost:8080/"
        },
        "id": "SEmd89nSpaR-",
        "outputId": "0992cf33-7dc1-47da-8e9a-8db9bf40317a"
      },
      "source": [
        "print(*df_noun.sort_values(ascending=False).iloc[:150].index,sep='\\t')"
      ],
      "execution_count": 61,
      "outputs": [
        {
          "output_type": "stream",
          "name": "stdout",
          "text": [
            "car\tcars\tdont\tget\tdrive\tim\tperformance\tpeople\tsedan\tluxury\trwd\tengine\ttime\tseries\tway\tprice\tthats\tbuy\tawd\ttest\tpower\thp\tg\tyears\tive\tinfiniti\tdoesnt\ttires\tright\tpoint\tid\tsales\tsport\tyear\tthing\ttorque\tclass\tcts\tdidnt\troad\tsomething\tcoupe\tdifference\tvalue\tsnow\tvehicle\tmb\ttsx\tyoure\tfact\tgas\tmoney\tauto\tguess\tis300\ttop\tthings\tvs\tnumbers\treliability\tothers\tfront\tmiles\tcome\tanything\tbrand\tride\tnothing\tsedans\tregards\tsports\tsystem\tcourse\tanyone\thonda\tvehicles\tbit\taccord\topinion\txtype\tquality\tdriver\texperience\ttransmission\tmileage\tm3\tmpg\tseat\tthought\tline\tlevel\tsaab\tproblem\tday\tcost\tworld\tpost\tseats\tdealer\tv6\tdrivers\tmarket\tmodel\tcomparison\tthanks\treason\ttimes\tentry\ttrack\twinter\ttheres\tworth\tdiscussion\twheel\tchoice\tsize\twork\tsomeone\tcd\tfeatures\tproblems\tpay\ttell\teverything\tmercedes\tacceleration\tsuspension\tlist\tvolvo\tmatter\tg35x\tstandard\tsteer\tissue\tlets\ttry\tmind\teveryone\tmsrp\tdesign\tfuel\tcompare\tcategory\tpremium\tsubaru\tengines\tnumber\tis350\tdeal\towners\n"
          ]
        }
      ]
    },
    {
      "cell_type": "code",
      "metadata": {
        "id": "mXAGR05ynizV"
      },
      "source": [
        "lt_attrs=['engine','performance','luxury','power','tires']\n",
        "top_10_brands_attrs=top_10_brands+lt_attrs\n",
        "df_brand_attr=df.message_only_brands.apply(lambda e:ct_brand_presence(e,list_of_brands=top_10_brands_attrs))"
      ],
      "execution_count": 63,
      "outputs": []
    },
    {
      "cell_type": "code",
      "metadata": {
        "id": "v2Sv88dtnnPs"
      },
      "source": [
        "cols=sorted(df_brand_attr.columns)\n",
        "df_lift_BrAttr=pd.DataFrame(index=cols,columns=cols)\n",
        "\n",
        "total=df_brand_attr.sum().sum()\n",
        "total=5000\n",
        "\n",
        "for c in cols:\n",
        "  pair_cols=[i for i in cols if i>c]\n",
        "  if pair_cols:\n",
        "\n",
        "    for p_c in pair_cols:\n",
        "      num=((df_brand_attr[p_c]*df_brand_attr[c]).sum())*total\n",
        "      den=(df_brand_attr[p_c].sum())*(df_brand_attr[c].sum())\n",
        "\n",
        "\n",
        "      df_lift_BrAttr.loc[p_c,c]=num/den\n",
        "      df_lift_BrAttr.loc[c,p_c]=num/den"
      ],
      "execution_count": 64,
      "outputs": []
    },
    {
      "cell_type": "code",
      "metadata": {
        "colab": {
          "base_uri": "https://localhost:8080/",
          "height": 501
        },
        "id": "JVDpwJO9osvG",
        "outputId": "af021ed2-e010-40bf-ad62-77419290d528"
      },
      "source": [
        "plt.figure(figsize=(20,8))\n",
        "\n",
        "sns.heatmap(df_lift_BrAttr.loc[top_10_brands,lt_attrs].astype(float),annot=True)"
      ],
      "execution_count": 65,
      "outputs": [
        {
          "output_type": "execute_result",
          "data": {
            "text/plain": [
              "<matplotlib.axes._subplots.AxesSubplot at 0x7f75fbbee790>"
            ]
          },
          "metadata": {},
          "execution_count": 65
        },
        {
          "output_type": "display_data",
          "data": {
            "image/png": "[encoded data removed]",
            "text/plain": [
              "<Figure size 1440x576 with 2 Axes>"
            ]
          },
          "metadata": {
            "needs_background": "light"
          }
        }
      ]
    },
    {
      "cell_type": "markdown",
      "metadata": {
        "id": "V987Mrx4tCjh"
      },
      "source": [
        "## Task G"
      ]
    },
    {
      "cell_type": "markdown",
      "metadata": {
        "id": "QatI3byjtCjh"
      },
      "source": [
        "1. Lot of brands have low lift with Tires. \n",
        "\n",
        "2. Toyota has high mentions with Luxury, more than premium brands like Audi, BMW and Mercedes.  \n",
        "\n",
        "3. Luxury seams to be the differentiating factor, Subaru has the highest lift while BMW has the lowest.  Luxury is mentioned highly with Subaru, Toyota, Volkswagen and Acura.\n",
        "\n",
        "4. Performance lift does not vary much with brands.  \n",
        "\n",
        "5. Nissan has the highest lift with Engine.\n",
        "\n",
        "6. Variation of lift with the most mentioned attribute Engine, Power and Performance is minimum, whereas Luxury seems to be the determining factor.  There is an indication of Zoning."
      ]
    },
    {
      "cell_type": "markdown",
      "metadata": {
        "id": "LkqRkeUPw6X-"
      },
      "source": [
        "## TASK H "
      ]
    },
    {
      "cell_type": "code",
      "metadata": {
        "id": "cvRVUukOqAEc"
      },
      "source": [
        "lt_asp_wrds=['would like to buy','would love to buy',\n",
        "             'eager to buy','love to have',\n",
        "             'desire to','dream of', 'dream to', 'love to','to own'\n",
        "             'desire','dream','love','want','own']\n",
        "\n",
        "lt_asp_wrds=['desire to','desirable','fancy car','eager to buy','would like to buy','love to have','dream car','really want','future car','dream of',\"cant wait to buy\",'would love to buy','wish to buy','want to buy','aspire to','future car','thinking to buy','love to buy','want to own','love to own','like to own','have to own','nice to own','nice to buy','have to buy','would love to buy','would like to buy','wish to own','looking to buy','looking forward to buy']\n",
        "#temp=df.message_only_brands[0]\n",
        "# temp.count('are a')\n",
        "# temp.replace('are a|alike these', '#####')"
      ],
      "execution_count": 66,
      "outputs": []
    },
    {
      "cell_type": "code",
      "metadata": {
        "colab": {
          "base_uri": "https://localhost:8080/"
        },
        "id": "MrFV10j8UENQ",
        "outputId": "ccfa0976-794b-4129-fcae-e5ee0bfeabdd"
      },
      "source": [
        "df.message_only_brands.iloc[:10].str.replace('are a|entry level','#####')"
      ],
      "execution_count": 67,
      "outputs": [
        {
          "output_type": "execute_result",
          "data": {
            "text/plain": [
              "0    ##### performance luxury sedan ##### hot area ...\n",
              "1    i personally think that with a few tweaks the ...\n",
              "2    i am debating a new purchase and these two ###...\n",
              "3    great handling rwd excellent engine and the be...\n",
              "4    and no manual tranny that may not matter to yo...\n",
              "5    one beauty of bmw 3 series is that there are s...\n",
              "6    good grief so you wait 9 months for the manual...\n",
              "7    ill give it a fair shot when the manual comes ...\n",
              "8    i understand its not about the speed i really ...\n",
              "9    it sounds like you know why i wont even put it...\n",
              "Name: message_only_brands, dtype: object"
            ]
          },
          "metadata": {},
          "execution_count": 67
        }
      ]
    },
    {
      "cell_type": "code",
      "metadata": {
        "id": "NXKJVirCtH_9"
      },
      "source": [
        "df.message_only_brands.iloc[:10].str.replace('are a|entry level','#####')\n",
        "\n",
        "pattern='|'.join(lt_asp_wrds)\n",
        "\n",
        "df['msg_aspire']=df.message_only_brands.str.replace(pattern,'aspire')\n"
      ],
      "execution_count": 68,
      "outputs": []
    },
    {
      "cell_type": "code",
      "metadata": {
        "id": "xGdoKqIZri1Y"
      },
      "source": [
        "df_aspr=df.msg_aspire.apply(lambda e:ct_brand_presence(e,list_of_brands=top_10_brands+['aspire']))"
      ],
      "execution_count": 69,
      "outputs": []
    },
    {
      "cell_type": "code",
      "metadata": {
        "colab": {
          "base_uri": "https://localhost:8080/"
        },
        "id": "SV6mFRSbsFjd",
        "outputId": "3302f392-4faa-4acf-ce17-90f9b30e6c28"
      },
      "source": [
        "total=df_aspr.sum().sum()\n",
        "total=5000\n",
        "\n",
        "df_aspire_lift=pd.Series(index=df_aspr.columns)\n",
        "\n",
        "for c in df_aspr.columns:\n",
        "  if c=='aspire':\n",
        "    print('hi')\n",
        "    continue\n",
        "\n",
        "  num=(sum((df_aspr[c])*(df_aspr['aspire'])))*total\n",
        "  den=(df_aspr[c].sum()*df_aspr['aspire'].sum())\n",
        "\n",
        "  df_aspire_lift.loc[c]=(num/den)"
      ],
      "execution_count": 70,
      "outputs": [
        {
          "output_type": "stream",
          "name": "stdout",
          "text": [
            "hi\n"
          ]
        },
        {
          "output_type": "stream",
          "name": "stderr",
          "text": [
            "/usr/local/lib/python3.7/dist-packages/ipykernel_launcher.py:4: DeprecationWarning: The default dtype for empty Series will be 'object' instead of 'float64' in a future version. Specify a dtype explicitly to silence this warning.\n",
            "  after removing the cwd from sys.path.\n"
          ]
        }
      ]
    },
    {
      "cell_type": "code",
      "metadata": {
        "colab": {
          "base_uri": "https://localhost:8080/"
        },
        "id": "1A-r6QELwKY6",
        "outputId": "0827a3f7-8151-403e-818f-61d8e20fbf12"
      },
      "source": [
        "df_aspire_lift"
      ],
      "execution_count": 71,
      "outputs": [
        {
          "output_type": "execute_result",
          "data": {
            "text/plain": [
              "bmw           1.740174\n",
              "audi          1.408848\n",
              "acura         2.001310\n",
              "honda         1.827918\n",
              "toyota        1.336050\n",
              "infiniti      2.030302\n",
              "nissan        1.205691\n",
              "mercedes      1.194458\n",
              "subaru        1.271876\n",
              "volkswagen    0.732601\n",
              "aspire             NaN\n",
              "dtype: float64"
            ]
          },
          "metadata": {},
          "execution_count": 71
        }
      ]
    },
    {
      "cell_type": "markdown",
      "metadata": {
        "id": "9L6ed8_NwMWM"
      },
      "source": [
        "For measuring Aspiration, we took all the phrases (we could think of) which signifies a person wanting to buy a car.  Then we replaced all the phrases in the comments to Aspire and used lift between the word \"Aspire\" and Brands to identify which brands are people wanting to buy the most. \n",
        "\n",
        "\n",
        "\n",
        "\n",
        "1. Acura, Infiniti are the brands people want to buy the most. \n",
        "\n",
        "2. Volkswagen should be concerned as not many people want to buy this brand.  \n",
        "\n",
        "3. Asian brands like Nissan and Toyota contrary to popularity in the US have low aspiration.\n",
        "\n",
        "4. Premium brand have little lift but that is most likely due to people not being able to afford as they are premium expensive brands.\n",
        "\n",
        "5. Although Toyota has high lift with Luxury their aspiration is low indicating that there may be a negetive relation to luxury."
      ]
    }
  ]
}