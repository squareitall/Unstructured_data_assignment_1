{
  "nbformat": 4,
  "nbformat_minor": 0,
  "metadata": {
    "accelerator": "GPU",
    "colab": {
      "name": "Unstructured_data_assignment1_final_updated_lastPush.ipynb",
      "provenance": [],
      "collapsed_sections": []
    },
    "kernelspec": {
      "display_name": "Python 3",
      "language": "python",
      "name": "python3"
    },
    "language_info": {
      "codemirror_mode": {
        "name": "ipython",
        "version": 3
      },
      "file_extension": ".py",
      "mimetype": "text/x-python",
      "name": "python",
      "nbconvert_exporter": "python",
      "pygments_lexer": "ipython3",
      "version": "3.8.5"
    }
  },
  "cells": [
    {
      "cell_type": "markdown",
      "metadata": {
        "id": "VSJz54DHt0Kg"
      },
      "source": [
        "Karthick Ramasubramanian - KR33733\n",
        "\n",
        "Prakhar Bansal - pb25834\n",
        "\n",
        "Shubham Singh - ss96589\n",
        "\n",
        "Soumi Basu- sb59982\n",
        "\n",
        "Soumik Choudhuri- sc64856\n"
      ]
    },
    {
      "cell_type": "markdown",
      "metadata": {
        "id": "ptQpPosLtgZj"
      },
      "source": [
        "URL :  https://forums.edmunds.com/discussion/2864/general/x/entry-level-luxury-performance-sedans\n",
        "\n",
        "Top 10 Brands, Attributes chosen, Lift Matrix are seperately mentioned at the bottom of the file."
      ]
    },
    {
      "cell_type": "code",
      "metadata": {
        "colab": {
          "base_uri": "https://localhost:8080/"
        },
        "id": "pWUKAsOhLFoP",
        "outputId": "85b3aa61-d70a-43ca-d486-f5bc22be4960"
      },
      "source": [
        "!pip install selenium\n",
        "!apt-get update # to update ubuntu to correctly run apt install\n",
        "!apt install chromium-chromedriver\n",
        "!cp /usr/lib/chromium-browser/chromedriver /usr/bin\n",
        "import sys\n",
        "sys.path.insert(0,'/usr/lib/chromium-browser/chromedriver')\n",
        "from selenium import webdriver\n",
        "chrome_options = webdriver.ChromeOptions()\n",
        "chrome_options.add_argument('--headless')\n",
        "chrome_options.add_argument('--no-sandbox')\n",
        "chrome_options.add_argument('--disable-dev-shm-usage')"
      ],
      "execution_count": 1,
      "outputs": [
        {
          "output_type": "stream",
          "name": "stdout",
          "text": [
            "Collecting selenium\n",
            "  Downloading selenium-3.141.0-py2.py3-none-any.whl (904 kB)\n",
            "\u001b[K     |████████████████████████████████| 904 kB 5.8 MB/s \n",
            "\u001b[?25hRequirement already satisfied: urllib3 in /usr/local/lib/python3.7/dist-packages (from selenium) (1.24.3)\n",
            "Installing collected packages: selenium\n",
            "Successfully installed selenium-3.141.0\n",
            "Get:1 http://security.ubuntu.com/ubuntu bionic-security InRelease [88.7 kB]\n",
            "Get:2 https://cloud.r-project.org/bin/linux/ubuntu bionic-cran40/ InRelease [3,626 B]\n",
            "Ign:3 https://developer.download.nvidia.com/compute/cuda/repos/ubuntu1804/x86_64  InRelease\n",
            "Ign:4 https://developer.download.nvidia.com/compute/machine-learning/repos/ubuntu1804/x86_64  InRelease\n",
            "Get:5 http://ppa.launchpad.net/c2d4u.team/c2d4u4.0+/ubuntu bionic InRelease [15.9 kB]\n",
            "Hit:6 https://developer.download.nvidia.com/compute/cuda/repos/ubuntu1804/x86_64  Release\n",
            "Hit:7 https://developer.download.nvidia.com/compute/machine-learning/repos/ubuntu1804/x86_64  Release\n",
            "Hit:8 http://archive.ubuntu.com/ubuntu bionic InRelease\n",
            "Get:9 https://cloud.r-project.org/bin/linux/ubuntu bionic-cran40/ Packages [67.4 kB]\n",
            "Get:10 http://archive.ubuntu.com/ubuntu bionic-updates InRelease [88.7 kB]\n",
            "Hit:11 http://ppa.launchpad.net/cran/libgit2/ubuntu bionic InRelease\n",
            "Get:12 http://security.ubuntu.com/ubuntu bionic-security/universe amd64 Packages [1,428 kB]\n",
            "Hit:13 http://ppa.launchpad.net/deadsnakes/ppa/ubuntu bionic InRelease\n",
            "Get:14 http://archive.ubuntu.com/ubuntu bionic-backports InRelease [74.6 kB]\n",
            "Get:15 http://security.ubuntu.com/ubuntu bionic-security/main amd64 Packages [2,326 kB]\n",
            "Hit:17 http://ppa.launchpad.net/graphics-drivers/ppa/ubuntu bionic InRelease\n",
            "Get:19 http://ppa.launchpad.net/c2d4u.team/c2d4u4.0+/ubuntu bionic/main Sources [1,802 kB]\n",
            "Get:20 http://archive.ubuntu.com/ubuntu bionic-updates/main amd64 Packages [2,770 kB]\n",
            "Get:21 http://ppa.launchpad.net/c2d4u.team/c2d4u4.0+/ubuntu bionic/main amd64 Packages [922 kB]\n",
            "Get:22 http://archive.ubuntu.com/ubuntu bionic-updates/universe amd64 Packages [2,202 kB]\n",
            "Get:23 http://archive.ubuntu.com/ubuntu bionic-updates/restricted amd64 Packages [613 kB]\n",
            "Fetched 12.4 MB in 3s (3,810 kB/s)\n",
            "Reading package lists... Done\n",
            "Reading package lists... Done\n",
            "Building dependency tree       \n",
            "Reading state information... Done\n",
            "The following additional packages will be installed:\n",
            "  chromium-browser chromium-browser-l10n chromium-codecs-ffmpeg-extra\n",
            "Suggested packages:\n",
            "  webaccounts-chromium-extension unity-chromium-extension\n",
            "The following NEW packages will be installed:\n",
            "  chromium-browser chromium-browser-l10n chromium-chromedriver\n",
            "  chromium-codecs-ffmpeg-extra\n",
            "0 upgraded, 4 newly installed, 0 to remove and 61 not upgraded.\n",
            "Need to get 92.6 MB of archives.\n",
            "After this operation, 317 MB of additional disk space will be used.\n",
            "Get:1 http://archive.ubuntu.com/ubuntu bionic-updates/universe amd64 chromium-codecs-ffmpeg-extra amd64 93.0.4577.63-0ubuntu0.18.04.1 [1,135 kB]\n",
            "Get:2 http://archive.ubuntu.com/ubuntu bionic-updates/universe amd64 chromium-browser amd64 93.0.4577.63-0ubuntu0.18.04.1 [82.4 MB]\n",
            "Get:3 http://archive.ubuntu.com/ubuntu bionic-updates/universe amd64 chromium-browser-l10n all 93.0.4577.63-0ubuntu0.18.04.1 [4,133 kB]\n",
            "Get:4 http://archive.ubuntu.com/ubuntu bionic-updates/universe amd64 chromium-chromedriver amd64 93.0.4577.63-0ubuntu0.18.04.1 [4,961 kB]\n",
            "Fetched 92.6 MB in 6s (15.7 MB/s)\n",
            "Selecting previously unselected package chromium-codecs-ffmpeg-extra.\n",
            "(Reading database ... 155013 files and directories currently installed.)\n",
            "Preparing to unpack .../chromium-codecs-ffmpeg-extra_93.0.4577.63-0ubuntu0.18.04.1_amd64.deb ...\n",
            "Unpacking chromium-codecs-ffmpeg-extra (93.0.4577.63-0ubuntu0.18.04.1) ...\n",
            "Selecting previously unselected package chromium-browser.\n",
            "Preparing to unpack .../chromium-browser_93.0.4577.63-0ubuntu0.18.04.1_amd64.deb ...\n",
            "Unpacking chromium-browser (93.0.4577.63-0ubuntu0.18.04.1) ...\n",
            "Selecting previously unselected package chromium-browser-l10n.\n",
            "Preparing to unpack .../chromium-browser-l10n_93.0.4577.63-0ubuntu0.18.04.1_all.deb ...\n",
            "Unpacking chromium-browser-l10n (93.0.4577.63-0ubuntu0.18.04.1) ...\n",
            "Selecting previously unselected package chromium-chromedriver.\n",
            "Preparing to unpack .../chromium-chromedriver_93.0.4577.63-0ubuntu0.18.04.1_amd64.deb ...\n",
            "Unpacking chromium-chromedriver (93.0.4577.63-0ubuntu0.18.04.1) ...\n",
            "Setting up chromium-codecs-ffmpeg-extra (93.0.4577.63-0ubuntu0.18.04.1) ...\n",
            "Setting up chromium-browser (93.0.4577.63-0ubuntu0.18.04.1) ...\n",
            "update-alternatives: using /usr/bin/chromium-browser to provide /usr/bin/x-www-browser (x-www-browser) in auto mode\n",
            "update-alternatives: using /usr/bin/chromium-browser to provide /usr/bin/gnome-www-browser (gnome-www-browser) in auto mode\n",
            "Setting up chromium-chromedriver (93.0.4577.63-0ubuntu0.18.04.1) ...\n",
            "Setting up chromium-browser-l10n (93.0.4577.63-0ubuntu0.18.04.1) ...\n",
            "Processing triggers for man-db (2.8.3-2ubuntu0.1) ...\n",
            "Processing triggers for hicolor-icon-theme (0.17-2) ...\n",
            "Processing triggers for mime-support (3.60ubuntu1) ...\n",
            "Processing triggers for libc-bin (2.27-3ubuntu1.3) ...\n",
            "/sbin/ldconfig.real: /usr/local/lib/python3.7/dist-packages/ideep4py/lib/libmkldnn.so.0 is not a symbolic link\n",
            "\n",
            "cp: '/usr/lib/chromium-browser/chromedriver' and '/usr/bin/chromedriver' are the same file\n"
          ]
        }
      ]
    },
    {
      "cell_type": "code",
      "metadata": {
        "id": "ufArCqwfLMiY"
      },
      "source": [
        "import time\n",
        "\n",
        "import pandas as  pd\n",
        "import numpy as np\n",
        "import matplotlib.pyplot as plt\n",
        "\n",
        "url='https://forums.edmunds.com/discussion/2864/general/x/entry-level-luxury-performance-sedans'\n",
        "\n",
        "# wd.close()"
      ],
      "execution_count": 2,
      "outputs": []
    },
    {
      "cell_type": "code",
      "metadata": {
        "colab": {
          "base_uri": "https://localhost:8080/"
        },
        "id": "5gKqMVOYNNCV",
        "outputId": "5cd166a5-6eb7-40cc-88ca-226489d4351a"
      },
      "source": [
        "wd= webdriver.Chrome('chromedriver',chrome_options=chrome_options)\n",
        "wd.get(url)\n"
      ],
      "execution_count": 3,
      "outputs": [
        {
          "output_type": "stream",
          "name": "stderr",
          "text": [
            "/usr/local/lib/python3.7/dist-packages/ipykernel_launcher.py:1: DeprecationWarning: use options instead of chrome_options\n",
            "  \"\"\"Entry point for launching an IPython kernel.\n"
          ]
        }
      ]
    },
    {
      "cell_type": "code",
      "metadata": {
        "id": "TyVSpYYCNZ4R"
      },
      "source": [
        "# date_time=wd.find_elements_by_xpath(\"//a[@class='Permalink']/time\")\n",
        "# date_time=[i.text for i in date_time]\n",
        "\n",
        "# msg_txt=wd.find_elements_by_xpath(\"//div[@class='Message userContent']\")\n",
        "# msg_txt=[i.text for i in msg_txt]\n",
        "\n",
        "# pd.DataFrame({\n",
        "#     'date_time':date_time,\n",
        "#     'message':msg_txt\n",
        "# })"
      ],
      "execution_count": 4,
      "outputs": []
    },
    {
      "cell_type": "code",
      "metadata": {
        "id": "lm5IsuMeOANG"
      },
      "source": [
        "pg_btn=wd.find_elements_by_xpath(\"//a[@aria-label='Next Page']\")\n",
        "pg_btn\n",
        "\n",
        "btn_tbu=pg_btn[0]\n",
        "\n"
      ],
      "execution_count": 5,
      "outputs": []
    },
    {
      "cell_type": "code",
      "metadata": {
        "id": "z0o7pbKPOIai"
      },
      "source": [
        "def assemble_dt_messages(skip_first=False):\n",
        "  date_time=wd.find_elements_by_xpath(\"//a[@class='Permalink']/time\")\n",
        "  date_time=[i.text for i in date_time]\n",
        "\n",
        "  msg_txt=wd.find_elements_by_xpath(\"//div[@class='Message userContent']\")\n",
        "  msg_txt=[i.text for i in msg_txt]\n",
        "  \n",
        "  df=pd.DataFrame({\n",
        "    'date_time':date_time,\n",
        "    'message':msg_txt\n",
        "                  })\n",
        "  if skip_first:\n",
        "    df=df.iloc[1:,:]\n",
        "  return df\n"
      ],
      "execution_count": 6,
      "outputs": []
    },
    {
      "cell_type": "code",
      "metadata": {
        "id": "JirDVYByaFLV"
      },
      "source": [
        "df_messages=pd.DataFrame()\n",
        "ct_cmnts=df_messages.shape[0]\n",
        "\n",
        "min_num_words=5\n",
        "\n",
        "pg_ct=0\n",
        "while ct_cmnts<=5000:\n",
        "  temp_df=assemble_dt_messages()\n",
        "\n",
        "  temp_df=temp_df.loc[(temp_df.message.apply(lambda e: len(set(str(e).split(' '))))>min_num_words),]#we assert our comment to have at least these many, here 5, number of words\n",
        "\n",
        "\n",
        "  df_messages=pd.concat([df_messages,temp_df])\n",
        "  df_messages=df_messages.drop_duplicates(subset=['message'])#We will drop repetitive messages like 'lol', 'same here' and any other\n",
        "\n",
        "  pg_btn=wd.find_elements_by_xpath(\"//a[@aria-label='Next Page']\")\n",
        "  pg_btn\n",
        "  # time.sleep(1)\n",
        "\n",
        "  btn_tbu=pg_btn[0]\n",
        "  btn_tbu.click()\n",
        "  # time.sleep(0.3)\n",
        "\n",
        "  pg_ct+=1\n",
        "\n",
        "  \n",
        "\n",
        "\n",
        "  ct_cmnts=df_messages.shape[0]\n",
        "\n",
        "  # print(ct_cmnts)\n",
        "  # display(pd.concat([temp_df.head(3),df_messages.tail(2)]))"
      ],
      "execution_count": 7,
      "outputs": []
    },
    {
      "cell_type": "code",
      "metadata": {
        "colab": {
          "base_uri": "https://localhost:8080/",
          "height": 203
        },
        "id": "oT3KhgGbRJHK",
        "outputId": "9920453c-60aa-4240-9590-5fa759e16301"
      },
      "source": [
        "df_messages['message'].value_counts()[:10]#.plot(kind='bar')\n",
        "\n",
        "df_messages=df_messages.iloc[:5000]\n",
        "df_messages.head()"
      ],
      "execution_count": 8,
      "outputs": [
        {
          "output_type": "execute_result",
          "data": {
            "text/html": [
              "<div>\n",
              "<style scoped>\n",
              "    .dataframe tbody tr th:only-of-type {\n",
              "        vertical-align: middle;\n",
              "    }\n",
              "\n",
              "    .dataframe tbody tr th {\n",
              "        vertical-align: top;\n",
              "    }\n",
              "\n",
              "    .dataframe thead th {\n",
              "        text-align: right;\n",
              "    }\n",
              "</style>\n",
              "<table border=\"1\" class=\"dataframe\">\n",
              "  <thead>\n",
              "    <tr style=\"text-align: right;\">\n",
              "      <th></th>\n",
              "      <th>date_time</th>\n",
              "      <th>message</th>\n",
              "    </tr>\n",
              "  </thead>\n",
              "  <tbody>\n",
              "    <tr>\n",
              "      <th>0</th>\n",
              "      <td>March 2002</td>\n",
              "      <td>Entry level performance luxury sedans are a ho...</td>\n",
              "    </tr>\n",
              "    <tr>\n",
              "      <th>1</th>\n",
              "      <td>March 2002</td>\n",
              "      <td>I personally think that with a few tweaks the ...</td>\n",
              "    </tr>\n",
              "    <tr>\n",
              "      <th>2</th>\n",
              "      <td>March 2002</td>\n",
              "      <td>I am debating a new purchase and these two are...</td>\n",
              "    </tr>\n",
              "    <tr>\n",
              "      <th>3</th>\n",
              "      <td>March 2002</td>\n",
              "      <td>Great handling, RWD, excellent engine and the ...</td>\n",
              "    </tr>\n",
              "    <tr>\n",
              "      <th>4</th>\n",
              "      <td>March 2002</td>\n",
              "      <td>And no manual tranny. That may not matter to y...</td>\n",
              "    </tr>\n",
              "  </tbody>\n",
              "</table>\n",
              "</div>"
            ],
            "text/plain": [
              "    date_time                                            message\n",
              "0  March 2002  Entry level performance luxury sedans are a ho...\n",
              "1  March 2002  I personally think that with a few tweaks the ...\n",
              "2  March 2002  I am debating a new purchase and these two are...\n",
              "3  March 2002  Great handling, RWD, excellent engine and the ...\n",
              "4  March 2002  And no manual tranny. That may not matter to y..."
            ]
          },
          "metadata": {},
          "execution_count": 8
        }
      ]
    },
    {
      "cell_type": "code",
      "metadata": {
        "colab": {
          "base_uri": "https://localhost:8080/",
          "height": 17
        },
        "id": "Co9og1F5ReoI",
        "outputId": "1d430737-24ab-43a2-e681-041ea0b080d7"
      },
      "source": [
        "from google.colab import files\n",
        "\n",
        "df_messages.to_csv('msg_txt_endmunds.csv')\n",
        "files.download('msg_txt_endmunds.csv')"
      ],
      "execution_count": 9,
      "outputs": [
        {
          "output_type": "display_data",
          "data": {
            "application/javascript": [
              "\n",
              "    async function download(id, filename, size) {\n",
              "      if (!google.colab.kernel.accessAllowed) {\n",
              "        return;\n",
              "      }\n",
              "      const div = document.createElement('div');\n",
              "      const label = document.createElement('label');\n",
              "      label.textContent = `Downloading \"${filename}\": `;\n",
              "      div.appendChild(label);\n",
              "      const progress = document.createElement('progress');\n",
              "      progress.max = size;\n",
              "      div.appendChild(progress);\n",
              "      document.body.appendChild(div);\n",
              "\n",
              "      const buffers = [];\n",
              "      let downloaded = 0;\n",
              "\n",
              "      const channel = await google.colab.kernel.comms.open(id);\n",
              "      // Send a message to notify the kernel that we're ready.\n",
              "      channel.send({})\n",
              "\n",
              "      for await (const message of channel.messages) {\n",
              "        // Send a message to notify the kernel that we're ready.\n",
              "        channel.send({})\n",
              "        if (message.buffers) {\n",
              "          for (const buffer of message.buffers) {\n",
              "            buffers.push(buffer);\n",
              "            downloaded += buffer.byteLength;\n",
              "            progress.value = downloaded;\n",
              "          }\n",
              "        }\n",
              "      }\n",
              "      const blob = new Blob(buffers, {type: 'application/binary'});\n",
              "      const a = document.createElement('a');\n",
              "      a.href = window.URL.createObjectURL(blob);\n",
              "      a.download = filename;\n",
              "      div.appendChild(a);\n",
              "      a.click();\n",
              "      div.remove();\n",
              "    }\n",
              "  "
            ],
            "text/plain": [
              "<IPython.core.display.Javascript object>"
            ]
          },
          "metadata": {}
        },
        {
          "output_type": "display_data",
          "data": {
            "application/javascript": [
              "download(\"download_da7adc27-632f-4afe-8262-b403b8f20baf\", \"msg_txt_endmunds.csv\", 2650647)"
            ],
            "text/plain": [
              "<IPython.core.display.Javascript object>"
            ]
          },
          "metadata": {}
        }
      ]
    },
    {
      "cell_type": "code",
      "metadata": {
        "id": "cbE-yhdwJ2XF"
      },
      "source": [
        "# temp=df_messages.message.apply(lambda e: len(str(e).split(' '))).value_counts()\n",
        "\n",
        "# df_messages[df_messages.message.apply(lambda e: len(str(e).split(' ')))==1]\n",
        "##Comment Count"
      ],
      "execution_count": 10,
      "outputs": []
    },
    {
      "cell_type": "markdown",
      "metadata": {
        "id": "lkAgOJogrvQI"
      },
      "source": [
        "# TASK A"
      ]
    },
    {
      "cell_type": "code",
      "metadata": {
        "id": "_5a6slKqVl9v"
      },
      "source": [
        "import pandas as pd\n",
        "import matplotlib.pyplot as plt\n",
        "import numpy as np\n",
        "\n"
      ],
      "execution_count": 11,
      "outputs": []
    },
    {
      "cell_type": "code",
      "metadata": {
        "id": "IYXBhEfMhTF7"
      },
      "source": [
        "df=pd.read_csv('msg_txt_endmunds.csv',usecols=[1,2])\n",
        "# df=df_messages.copy()"
      ],
      "execution_count": 12,
      "outputs": []
    },
    {
      "cell_type": "code",
      "metadata": {
        "id": "9hePyvf7hZ0G"
      },
      "source": [
        "import string\n",
        "import re\n",
        "string.punctuation#even removing the fullstops, it may influence the result slightly bcos of presence of abbreviations\n",
        "\n",
        "df['msg']=df['message'].apply(lambda e : re.sub(r'[^\\w\\s]','',str(e)).replace('\\n\\n',' ') )"
      ],
      "execution_count": 13,
      "outputs": []
    },
    {
      "cell_type": "code",
      "metadata": {
        "id": "hEqDBSTHhhEZ"
      },
      "source": [
        "msg_txt=' '.join(df['msg'])\n",
        "msg_txt=msg_txt.lower()\n",
        "# msg_txt\n"
      ],
      "execution_count": 14,
      "outputs": []
    },
    {
      "cell_type": "code",
      "metadata": {
        "id": "z16ClNKUiFwU"
      },
      "source": [
        "from collections import defaultdict\n",
        "word_count=defaultdict(int)\n",
        "\n",
        "ct=0\n",
        "for w in msg_txt.split(' '):\n",
        "  ct+=1\n",
        "  word_count[w]+=1\n",
        "\n"
      ],
      "execution_count": 15,
      "outputs": []
    },
    {
      "cell_type": "markdown",
      "metadata": {
        "id": "PJxiIadCKEFP"
      },
      "source": [
        "## Frequency Distribution For first 100 words\n",
        "\n"
      ]
    },
    {
      "cell_type": "code",
      "metadata": {
        "colab": {
          "base_uri": "https://localhost:8080/",
          "height": 514
        },
        "id": "WZ5ZiODDnTpT",
        "outputId": "0f9487af-db95-49e9-a913-60e2dd59b7c9"
      },
      "source": [
        "word_ct_sorted={i:j for i,j in sorted(word_count.items(), key=lambda d:d[1],reverse=True)}\n",
        "pd.Series(word_ct_sorted).reset_index()[:100].plot(kind='line',figsize=(20,8),xlabel='Rank',ylabel='Frequency')"
      ],
      "execution_count": 60,
      "outputs": [
        {
          "output_type": "execute_result",
          "data": {
            "text/plain": [
              "<matplotlib.axes._subplots.AxesSubplot at 0x7f521decae90>"
            ]
          },
          "metadata": {},
          "execution_count": 60
        },
        {
          "output_type": "display_data",
          "data": {
            "image/png": "[encoded data removed]",
            "text/plain": [
              "<Figure size 1440x576 with 1 Axes>"
            ]
          },
          "metadata": {
            "needs_background": "light"
          }
        }
      ]
    },
    {
      "cell_type": "code",
      "metadata": {
        "colab": {
          "base_uri": "https://localhost:8080/"
        },
        "id": "U4yta1R2bzjB",
        "outputId": "270410c7-f818-4fe6-b879-6a4402f3e5d6"
      },
      "source": [
        "len(word_count)"
      ],
      "execution_count": 17,
      "outputs": [
        {
          "output_type": "execute_result",
          "data": {
            "text/plain": [
              "22727"
            ]
          },
          "metadata": {},
          "execution_count": 17
        }
      ]
    },
    {
      "cell_type": "code",
      "metadata": {
        "colab": {
          "base_uri": "https://localhost:8080/"
        },
        "id": "OVue4xYynV_x",
        "outputId": "cfa8bc9f-60d4-4f5b-bc75-0622c16ffc4f"
      },
      "source": [
        "import nltk\n",
        "from nltk.corpus import wordnet\n",
        "nltk.download('wordnet')\n",
        "\n",
        "# dir(wordnet.synsets('apple')[1])\n",
        "\n",
        "word_ct_synonyms=[(k,v,len(wordnet.synsets(k)))\n",
        " for k,v in word_count.items()]\n",
        "\n",
        "\n",
        "df_wrd=pd.DataFrame(word_ct_synonyms)\n",
        "df_wrd.columns=['word','ct','ct_synms']"
      ],
      "execution_count": 18,
      "outputs": [
        {
          "output_type": "stream",
          "name": "stdout",
          "text": [
            "[nltk_data] Downloading package wordnet to /root/nltk_data...\n",
            "[nltk_data]   Unzipping corpora/wordnet.zip.\n"
          ]
        }
      ]
    },
    {
      "cell_type": "code",
      "metadata": {
        "id": "a0juAZhAcL1w"
      },
      "source": [
        "from scipy.stats import rankdata\n",
        "df_wrd[['rk_ct','rk_synms']]=df_wrd[['ct','ct_synms']].rank(ascending=False)"
      ],
      "execution_count": 19,
      "outputs": []
    },
    {
      "cell_type": "code",
      "metadata": {
        "colab": {
          "base_uri": "https://localhost:8080/",
          "height": 517
        },
        "id": "88F69PJLcPTB",
        "outputId": "9455937a-6b5a-433d-a2a7-ddf1c7ce1bab"
      },
      "source": [
        "import seaborn as sns\n",
        "\n",
        "f,ax=plt.subplots(1,3)\n",
        "df_wrd.sort_values('ct',ascending=False).plot(x='rk_ct',y='ct',figsize=(20,8),ax=ax[0])\n",
        "df_wrd.sort_values('ct',ascending=False).plot(x='rk_ct',y='ct',figsize=(20,8),ax=ax[1])\n",
        "df_wrd.sort_values('ct',ascending=False).plot(x='rk_ct',y='ct',figsize=(20,8),ax=ax[2])\n",
        "\n",
        "\n",
        "ax[0].set_title('rank vs frequency')\n",
        "\n",
        "\n",
        "ax[1].set_title('log rank vs frequency')\n",
        "ax[1].set_xscale('log')\n",
        "\n",
        "\n",
        "\n",
        "ax[2].set_title('log rank vs log frequency')\n",
        "ax[2].set_xscale('log')\n",
        "ax[2].set_yscale('log')\n",
        "\n",
        "\n",
        "# ax[2].plot(1/df_wrd['rk_ct'],df_wrd['rk_ct'],c='r')\n",
        "# sns.regplot(x=np.log(df_wrd['rk_ct']),y=np.log(df_wrd['ct']),data=df_wrd,ax=ax[0])#.sort_values('ct',ascending=False))\n",
        "\n"
      ],
      "execution_count": 20,
      "outputs": [
        {
          "output_type": "display_data",
          "data": {
            "image/png": "[encoded data removed]",
            "text/plain": [
              "<Figure size 1440x576 with 3 Axes>"
            ]
          },
          "metadata": {
            "needs_background": "light"
          }
        }
      ]
    },
    {
      "cell_type": "code",
      "metadata": {
        "colab": {
          "base_uri": "https://localhost:8080/",
          "height": 483
        },
        "id": "x004aKvBg_7w",
        "outputId": "6c0762ff-e5de-4182-c331-3a3580cf4add"
      },
      "source": [
        "from sklearn.linear_model import LinearRegression\n",
        "\n",
        "model=LinearRegression()\n",
        "\n",
        "model.fit(np.log(df_wrd['ct']).to_frame(),np.log(df_wrd['rk_ct']))\n",
        "\n",
        "\n",
        "plt.figure(figsize=(20,8))\n",
        "\n",
        "plt.plot(np.log(df_wrd['rk_ct']),np.log(df_wrd['ct']),'r.',label='True points ')\n",
        "plt.plot(np.log(df_wrd['ct']),model.predict(np.log(df_wrd['ct']).to_frame()),label='Theoretical prediction')\n",
        "\n",
        "plt.legend()\n",
        "plt.show()"
      ],
      "execution_count": 21,
      "outputs": [
        {
          "output_type": "display_data",
          "data": {
            "image/png": "[encoded data removed]",
            "text/plain": [
              "<Figure size 1440x576 with 1 Axes>"
            ]
          },
          "metadata": {
            "needs_background": "light"
          }
        }
      ]
    },
    {
      "cell_type": "code",
      "metadata": {
        "colab": {
          "base_uri": "https://localhost:8080/",
          "height": 172
        },
        "id": "9qg4bxrgyLAb",
        "outputId": "ba5c556b-ef46-465d-d553-3df93aa9db7d"
      },
      "source": [
        "df_wrd.sort_values(by='ct',ascending=False).iloc[:100].corr()#.sort_values('rk_ct_synms')"
      ],
      "execution_count": 22,
      "outputs": [
        {
          "output_type": "execute_result",
          "data": {
            "text/html": [
              "<div>\n",
              "<style scoped>\n",
              "    .dataframe tbody tr th:only-of-type {\n",
              "        vertical-align: middle;\n",
              "    }\n",
              "\n",
              "    .dataframe tbody tr th {\n",
              "        vertical-align: top;\n",
              "    }\n",
              "\n",
              "    .dataframe thead th {\n",
              "        text-align: right;\n",
              "    }\n",
              "</style>\n",
              "<table border=\"1\" class=\"dataframe\">\n",
              "  <thead>\n",
              "    <tr style=\"text-align: right;\">\n",
              "      <th></th>\n",
              "      <th>ct</th>\n",
              "      <th>ct_synms</th>\n",
              "      <th>rk_ct</th>\n",
              "      <th>rk_synms</th>\n",
              "    </tr>\n",
              "  </thead>\n",
              "  <tbody>\n",
              "    <tr>\n",
              "      <th>ct</th>\n",
              "      <td>1.000000</td>\n",
              "      <td>-0.173803</td>\n",
              "      <td>-0.626525</td>\n",
              "      <td>0.213958</td>\n",
              "    </tr>\n",
              "    <tr>\n",
              "      <th>ct_synms</th>\n",
              "      <td>-0.173803</td>\n",
              "      <td>1.000000</td>\n",
              "      <td>0.186889</td>\n",
              "      <td>-0.705540</td>\n",
              "    </tr>\n",
              "    <tr>\n",
              "      <th>rk_ct</th>\n",
              "      <td>-0.626525</td>\n",
              "      <td>0.186889</td>\n",
              "      <td>1.000000</td>\n",
              "      <td>-0.193300</td>\n",
              "    </tr>\n",
              "    <tr>\n",
              "      <th>rk_synms</th>\n",
              "      <td>0.213958</td>\n",
              "      <td>-0.705540</td>\n",
              "      <td>-0.193300</td>\n",
              "      <td>1.000000</td>\n",
              "    </tr>\n",
              "  </tbody>\n",
              "</table>\n",
              "</div>"
            ],
            "text/plain": [
              "                ct  ct_synms     rk_ct  rk_synms\n",
              "ct        1.000000 -0.173803 -0.626525  0.213958\n",
              "ct_synms -0.173803  1.000000  0.186889 -0.705540\n",
              "rk_ct    -0.626525  0.186889  1.000000 -0.193300\n",
              "rk_synms  0.213958 -0.705540 -0.193300  1.000000"
            ]
          },
          "metadata": {},
          "execution_count": 22
        }
      ]
    },
    {
      "cell_type": "code",
      "metadata": {
        "colab": {
          "base_uri": "https://localhost:8080/"
        },
        "id": "1YB-efYUzDFk",
        "outputId": "aa15cf4f-eb46-46cc-e3fb-20b0894dd091"
      },
      "source": [
        "np.corrcoef(np.log(df_wrd['ct']),np.log(df_wrd['rk_ct']))"
      ],
      "execution_count": 23,
      "outputs": [
        {
          "output_type": "execute_result",
          "data": {
            "text/plain": [
              "array([[ 1.        , -0.99773845],\n",
              "       [-0.99773845,  1.        ]])"
            ]
          },
          "metadata": {},
          "execution_count": 23
        }
      ]
    },
    {
      "cell_type": "code",
      "metadata": {
        "colab": {
          "base_uri": "https://localhost:8080/",
          "height": 296
        },
        "id": "bJyLMd4F38Ge",
        "outputId": "9c94969c-5b6b-4996-99da-c395b3a00469"
      },
      "source": [
        "df_wrd.sort_values(by='ct',ascending=False).iloc[:100].plot(x='ct',y='ct_synms',kind='scatter')"
      ],
      "execution_count": 24,
      "outputs": [
        {
          "output_type": "execute_result",
          "data": {
            "text/plain": [
              "<matplotlib.axes._subplots.AxesSubplot at 0x7f522282d4d0>"
            ]
          },
          "metadata": {},
          "execution_count": 24
        },
        {
          "output_type": "display_data",
          "data": {
            "image/png": "[encoded data removed]",
            "text/plain": [
              "<Figure size 432x288 with 1 Axes>"
            ]
          },
          "metadata": {
            "needs_background": "light"
          }
        }
      ]
    },
    {
      "cell_type": "markdown",
      "metadata": {
        "id": "2o3wtv67EdFI"
      },
      "source": [
        "# TASK B"
      ]
    },
    {
      "cell_type": "code",
      "metadata": {
        "colab": {
          "base_uri": "https://localhost:8080/"
        },
        "id": "AUZEy18UhuuF",
        "outputId": "788697c1-254a-4700-8112-8db9b9c73c80"
      },
      "source": [
        "import nltk\n",
        "nltk.download('punkt')\n",
        "nltk.download('stopwords')\n",
        "from nltk.corpus import stopwords\n",
        "from nltk.tokenize import word_tokenize\n",
        " \n",
        "stop_words = set(stopwords.words('english'))\n",
        " \n",
        "word_tokens = word_tokenize(msg_txt)\n",
        "\n"
      ],
      "execution_count": 25,
      "outputs": [
        {
          "output_type": "stream",
          "name": "stdout",
          "text": [
            "[nltk_data] Downloading package punkt to /root/nltk_data...\n",
            "[nltk_data]   Unzipping tokenizers/punkt.zip.\n",
            "[nltk_data] Downloading package stopwords to /root/nltk_data...\n",
            "[nltk_data]   Unzipping corpora/stopwords.zip.\n"
          ]
        }
      ]
    },
    {
      "cell_type": "code",
      "metadata": {
        "colab": {
          "base_uri": "https://localhost:8080/"
        },
        "id": "s6VymbL1izle",
        "outputId": "42e1c0dd-f510-4075-c2ef-03d9bf887ae1"
      },
      "source": [
        "# len(msg_txt.split(' '))\n",
        "\n",
        "without_stop_words=[i for i in word_tokens if i not in stop_words]\n",
        "len(without_stop_words)"
      ],
      "execution_count": 26,
      "outputs": [
        {
          "output_type": "execute_result",
          "data": {
            "text/plain": [
              "252756"
            ]
          },
          "metadata": {},
          "execution_count": 26
        }
      ]
    },
    {
      "cell_type": "code",
      "metadata": {
        "id": "V3A2pTePhty1"
      },
      "source": [
        "from collections import defaultdict\n",
        "word_count=defaultdict(int)\n",
        "\n",
        "ct=0\n",
        "for w in without_stop_words:\n",
        "  ct+=1\n",
        "  word_count[w]+=1"
      ],
      "execution_count": 27,
      "outputs": []
    },
    {
      "cell_type": "code",
      "metadata": {
        "id": "xYW1hhWKFPQV"
      },
      "source": [
        "# df_brands=pd.read_csv('../car models and brands.csv')\n",
        "df_brands=pd.read_csv('car models and brands.csv')\n"
      ],
      "execution_count": 28,
      "outputs": []
    },
    {
      "cell_type": "code",
      "metadata": {
        "id": "N6QG4sBiEe8q"
      },
      "source": [
        "def process_str(e):\n",
        "  e=re.sub(r'[^\\w\\s]','',str(e)).replace('\\n\\n',' ')\n",
        "  return e\n",
        "lt_brands=list(set(df_brands['Brand'].apply(lambda e: process_str(e).lower()).to_list()))\n"
      ],
      "execution_count": 29,
      "outputs": []
    },
    {
      "cell_type": "code",
      "metadata": {
        "colab": {
          "base_uri": "https://localhost:8080/"
        },
        "id": "PIz9eE4MEj1A",
        "outputId": "75746cd6-e10e-4c57-9414-9194e5740cd3"
      },
      "source": [
        "brand_count={i:j for i,j in word_count.items() if i in lt_brands}\n",
        "brand_count"
      ],
      "execution_count": 30,
      "outputs": [
        {
          "output_type": "execute_result",
          "data": {
            "text/plain": [
              "{'acura': 515,\n",
              " 'audi': 371,\n",
              " 'bmw': 1865,\n",
              " 'buick': 21,\n",
              " 'cadillac': 116,\n",
              " 'car': 3893,\n",
              " 'chevrolet': 4,\n",
              " 'chrysler': 46,\n",
              " 'dodge': 28,\n",
              " 'ford': 86,\n",
              " 'honda': 227,\n",
              " 'hyundai': 104,\n",
              " 'infiniti': 466,\n",
              " 'kia': 24,\n",
              " 'lincoln': 67,\n",
              " 'mazda': 74,\n",
              " 'mercedes': 169,\n",
              " 'mercedesbenz': 36,\n",
              " 'mercury': 7,\n",
              " 'mitsubishi': 16,\n",
              " 'nissan': 214,\n",
              " 'pontiac': 26,\n",
              " 'problem': 206,\n",
              " 'saturn': 11,\n",
              " 'seat': 211,\n",
              " 'sedan': 732,\n",
              " 'subaru': 142,\n",
              " 'suzuki': 10,\n",
              " 'toyota': 135,\n",
              " 'volkswagen': 19,\n",
              " 'volkwagen': 1,\n",
              " 'volvo': 159}"
            ]
          },
          "metadata": {},
          "execution_count": 30
        }
      ]
    },
    {
      "cell_type": "code",
      "metadata": {
        "id": "yVSJMwsbHtly"
      },
      "source": [
        "def process_str(e):\n",
        "  e=re.sub(r'[^\\w\\s]','',str(e)).replace('\\n\\n',' ')\n",
        "  return e\n",
        "lt_models=list(set(df_brands['Model'].apply(lambda e: process_str(e).lower()).to_list()))\n",
        "model_count={i:j for i,j in word_count.items() if i in lt_models}\n"
      ],
      "execution_count": 31,
      "outputs": []
    },
    {
      "cell_type": "code",
      "metadata": {
        "id": "9xKOR0DbItFs"
      },
      "source": [
        "df_brands.loc[:,'Model']=df_brands['Model'].apply(lambda e: process_str(e).lower())\n",
        "df_brands.loc[:,'Brand']=df_brands['Brand'].apply(lambda e: process_str(e).lower())"
      ],
      "execution_count": 32,
      "outputs": []
    },
    {
      "cell_type": "code",
      "metadata": {
        "id": "HzvgSNCiJNMI"
      },
      "source": [
        "df_brands.loc[:,'ct_model']=df_brands['Model'].map(model_count)"
      ],
      "execution_count": 33,
      "outputs": []
    },
    {
      "cell_type": "code",
      "metadata": {
        "id": "RAIOl8KzJqaf"
      },
      "source": [
        "ct_brand_models=df_brands.groupby('Brand')['ct_model'].sum()\n",
        "ct_brand=pd.Series(brand_count,name='Brand')"
      ],
      "execution_count": 34,
      "outputs": []
    },
    {
      "cell_type": "code",
      "metadata": {
        "colab": {
          "base_uri": "https://localhost:8080/",
          "height": 511
        },
        "id": "KCZ421r3J7_a",
        "outputId": "1af9e8e7-cdf3-44d4-bd18-5c44dcc939e3"
      },
      "source": [
        "df_brand_ct=pd.merge(ct_brand,ct_brand_models,left_index=True,right_index=True)\n",
        "df_brand_ct.loc[:,'sum_ct']=df_brand_ct.sum(axis=1)\n",
        "df_brand_ct.sort_values('sum_ct',ascending=False).iloc[:15]"
      ],
      "execution_count": 35,
      "outputs": [
        {
          "output_type": "execute_result",
          "data": {
            "text/html": [
              "<div>\n",
              "<style scoped>\n",
              "    .dataframe tbody tr th:only-of-type {\n",
              "        vertical-align: middle;\n",
              "    }\n",
              "\n",
              "    .dataframe tbody tr th {\n",
              "        vertical-align: top;\n",
              "    }\n",
              "\n",
              "    .dataframe thead th {\n",
              "        text-align: right;\n",
              "    }\n",
              "</style>\n",
              "<table border=\"1\" class=\"dataframe\">\n",
              "  <thead>\n",
              "    <tr style=\"text-align: right;\">\n",
              "      <th></th>\n",
              "      <th>Brand</th>\n",
              "      <th>ct_model</th>\n",
              "      <th>sum_ct</th>\n",
              "    </tr>\n",
              "  </thead>\n",
              "  <tbody>\n",
              "    <tr>\n",
              "      <th>car</th>\n",
              "      <td>3893</td>\n",
              "      <td>2069.0</td>\n",
              "      <td>5962.0</td>\n",
              "    </tr>\n",
              "    <tr>\n",
              "      <th>bmw</th>\n",
              "      <td>1865</td>\n",
              "      <td>1028.0</td>\n",
              "      <td>2893.0</td>\n",
              "    </tr>\n",
              "    <tr>\n",
              "      <th>sedan</th>\n",
              "      <td>732</td>\n",
              "      <td>238.0</td>\n",
              "      <td>970.0</td>\n",
              "    </tr>\n",
              "    <tr>\n",
              "      <th>audi</th>\n",
              "      <td>371</td>\n",
              "      <td>545.0</td>\n",
              "      <td>916.0</td>\n",
              "    </tr>\n",
              "    <tr>\n",
              "      <th>acura</th>\n",
              "      <td>515</td>\n",
              "      <td>377.0</td>\n",
              "      <td>892.0</td>\n",
              "    </tr>\n",
              "    <tr>\n",
              "      <th>honda</th>\n",
              "      <td>227</td>\n",
              "      <td>530.0</td>\n",
              "      <td>757.0</td>\n",
              "    </tr>\n",
              "    <tr>\n",
              "      <th>toyota</th>\n",
              "      <td>135</td>\n",
              "      <td>439.0</td>\n",
              "      <td>574.0</td>\n",
              "    </tr>\n",
              "    <tr>\n",
              "      <th>infiniti</th>\n",
              "      <td>466</td>\n",
              "      <td>101.0</td>\n",
              "      <td>567.0</td>\n",
              "    </tr>\n",
              "    <tr>\n",
              "      <th>nissan</th>\n",
              "      <td>214</td>\n",
              "      <td>290.0</td>\n",
              "      <td>504.0</td>\n",
              "    </tr>\n",
              "    <tr>\n",
              "      <th>seat</th>\n",
              "      <td>211</td>\n",
              "      <td>201.0</td>\n",
              "      <td>412.0</td>\n",
              "    </tr>\n",
              "    <tr>\n",
              "      <th>mercedes</th>\n",
              "      <td>169</td>\n",
              "      <td>224.0</td>\n",
              "      <td>393.0</td>\n",
              "    </tr>\n",
              "    <tr>\n",
              "      <th>problem</th>\n",
              "      <td>206</td>\n",
              "      <td>172.0</td>\n",
              "      <td>378.0</td>\n",
              "    </tr>\n",
              "    <tr>\n",
              "      <th>subaru</th>\n",
              "      <td>142</td>\n",
              "      <td>226.0</td>\n",
              "      <td>368.0</td>\n",
              "    </tr>\n",
              "    <tr>\n",
              "      <th>volkswagen</th>\n",
              "      <td>19</td>\n",
              "      <td>311.0</td>\n",
              "      <td>330.0</td>\n",
              "    </tr>\n",
              "    <tr>\n",
              "      <th>chevrolet</th>\n",
              "      <td>4</td>\n",
              "      <td>218.0</td>\n",
              "      <td>222.0</td>\n",
              "    </tr>\n",
              "  </tbody>\n",
              "</table>\n",
              "</div>"
            ],
            "text/plain": [
              "            Brand  ct_model  sum_ct\n",
              "car          3893    2069.0  5962.0\n",
              "bmw          1865    1028.0  2893.0\n",
              "sedan         732     238.0   970.0\n",
              "audi          371     545.0   916.0\n",
              "acura         515     377.0   892.0\n",
              "honda         227     530.0   757.0\n",
              "toyota        135     439.0   574.0\n",
              "infiniti      466     101.0   567.0\n",
              "nissan        214     290.0   504.0\n",
              "seat          211     201.0   412.0\n",
              "mercedes      169     224.0   393.0\n",
              "problem       206     172.0   378.0\n",
              "subaru        142     226.0   368.0\n",
              "volkswagen     19     311.0   330.0\n",
              "chevrolet       4     218.0   222.0"
            ]
          },
          "metadata": {},
          "execution_count": 35
        }
      ]
    },
    {
      "cell_type": "code",
      "metadata": {
        "colab": {
          "base_uri": "https://localhost:8080/"
        },
        "id": "KkscEnRpXFCj",
        "outputId": "e7c86630-acdb-46fe-c8df-cc0b88e3039a"
      },
      "source": [
        "top_10_brands=df_brand_ct.sort_values('sum_ct',ascending=False).iloc[1:15].index.to_list()\n",
        "\n",
        "top_10_brands=[i for i in  top_10_brands if i not in ['sedan','seat','problem']][:10]\n",
        "from pprint import pprint\n",
        "pprint(top_10_brands)"
      ],
      "execution_count": 36,
      "outputs": [
        {
          "output_type": "stream",
          "name": "stdout",
          "text": [
            "['bmw',\n",
            " 'audi',\n",
            " 'acura',\n",
            " 'honda',\n",
            " 'toyota',\n",
            " 'infiniti',\n",
            " 'nissan',\n",
            " 'mercedes',\n",
            " 'subaru',\n",
            " 'volkswagen']\n"
          ]
        }
      ]
    },
    {
      "cell_type": "markdown",
      "metadata": {
        "id": "A3SqiSfYYKPj"
      },
      "source": [
        "## TASK C"
      ]
    },
    {
      "cell_type": "code",
      "metadata": {
        "id": "H3NjZstAKxyc"
      },
      "source": [
        "##Just selecting the message based column to work on\n",
        "df_messages.loc[:,'message']=df_messages.message.astype(str)\n",
        "df_messages.reset_index(drop=True,inplace=True)\n",
        "df=df_messages.loc[:,['message']]\n",
        "df['message']=df['message'].apply(lambda e: process_str(e).lower())"
      ],
      "execution_count": 37,
      "outputs": []
    },
    {
      "cell_type": "code",
      "metadata": {
        "colab": {
          "base_uri": "https://localhost:8080/"
        },
        "id": "5r7zDvZQKXVD",
        "outputId": "fd9c33fd-c095-401d-985b-d195002a13fc"
      },
      "source": [
        "## We will first replace name of models with brand inside every indivdual message \n",
        "\n",
        "brand_models=df_brands.drop(['ct_model'],axis=1).set_index('Model')['Brand']\n",
        "\n",
        "brand_models.index.name= None\n",
        "brand_models[brand_models=='infiniti']\n",
        "\n"
      ],
      "execution_count": 38,
      "outputs": [
        {
          "output_type": "execute_result",
          "data": {
            "text/plain": [
              "qx50    infiniti\n",
              "qx60    infiniti\n",
              "qx70    infiniti\n",
              "fx35    infiniti\n",
              "q50     infiniti\n",
              "q60     infiniti\n",
              "q70     infiniti\n",
              "g37     infiniti\n",
              "g25     infiniti\n",
              "6mt     infiniti\n",
              "Name: Brand, dtype: object"
            ]
          },
          "metadata": {},
          "execution_count": 38
        }
      ]
    },
    {
      "cell_type": "code",
      "metadata": {
        "id": "8qZEopXZmBMj"
      },
      "source": [
        ""
      ],
      "execution_count": 38,
      "outputs": []
    },
    {
      "cell_type": "code",
      "metadata": {
        "colab": {
          "base_uri": "https://localhost:8080/",
          "height": 417
        },
        "id": "4zPJTTD0ekiT",
        "outputId": "2a4e6a4f-c79b-45a1-d589-db020359d6fb"
      },
      "source": [
        "def replace_models_with_brand(e):\n",
        "  s_e=pd.Series(word_tokenize(e))\n",
        "  s_e=s_e.replace(brand_models)\n",
        "\n",
        "  modified_text=' '.join(s_e)\n",
        "\n",
        "  return modified_text\n",
        "\n",
        "df['message_only_brands']=df.message.apply(lambda e : replace_models_with_brand(e))\n",
        "# df=pd.read_csv('txt_with_only_brand_names.csv')\n",
        "df"
      ],
      "execution_count": 39,
      "outputs": [
        {
          "output_type": "execute_result",
          "data": {
            "text/html": [
              "<div>\n",
              "<style scoped>\n",
              "    .dataframe tbody tr th:only-of-type {\n",
              "        vertical-align: middle;\n",
              "    }\n",
              "\n",
              "    .dataframe tbody tr th {\n",
              "        vertical-align: top;\n",
              "    }\n",
              "\n",
              "    .dataframe thead th {\n",
              "        text-align: right;\n",
              "    }\n",
              "</style>\n",
              "<table border=\"1\" class=\"dataframe\">\n",
              "  <thead>\n",
              "    <tr style=\"text-align: right;\">\n",
              "      <th></th>\n",
              "      <th>message</th>\n",
              "      <th>message_only_brands</th>\n",
              "    </tr>\n",
              "  </thead>\n",
              "  <tbody>\n",
              "    <tr>\n",
              "      <th>0</th>\n",
              "      <td>entry level performance luxury sedans are a ho...</td>\n",
              "      <td>entry level performance luxury sedan are a hot...</td>\n",
              "    </tr>\n",
              "    <tr>\n",
              "      <th>1</th>\n",
              "      <td>i personally think that with a few tweaks the ...</td>\n",
              "      <td>i personally think that with a few tweaks the ...</td>\n",
              "    </tr>\n",
              "    <tr>\n",
              "      <th>2</th>\n",
              "      <td>i am debating a new purchase and these two are...</td>\n",
              "      <td>i am debating a new purchase and these two are...</td>\n",
              "    </tr>\n",
              "    <tr>\n",
              "      <th>3</th>\n",
              "      <td>great handling rwd excellent engine and the be...</td>\n",
              "      <td>great handling rwd excellent engine and the be...</td>\n",
              "    </tr>\n",
              "    <tr>\n",
              "      <th>4</th>\n",
              "      <td>and no manual tranny that may not matter to yo...</td>\n",
              "      <td>and no manual tranny that may not matter to yo...</td>\n",
              "    </tr>\n",
              "    <tr>\n",
              "      <th>...</th>\n",
              "      <td>...</td>\n",
              "      <td>...</td>\n",
              "    </tr>\n",
              "    <tr>\n",
              "      <th>4995</th>\n",
              "      <td>parking makes me nuts i left my car in my comp...</td>\n",
              "      <td>parking makes me nuts i left my car in my comp...</td>\n",
              "    </tr>\n",
              "    <tr>\n",
              "      <th>4996</th>\n",
              "      <td>i feel your paini just noticed a new kink in t...</td>\n",
              "      <td>i feel your paini just noticed a new kink in t...</td>\n",
              "    </tr>\n",
              "    <tr>\n",
              "      <th>4997</th>\n",
              "      <td>count me as a turning radius enthusiast in 25 ...</td>\n",
              "      <td>count me as a turning radius enthusiast in 25 ...</td>\n",
              "    </tr>\n",
              "    <tr>\n",
              "      <th>4998</th>\n",
              "      <td>i am the person that would park in the next po...</td>\n",
              "      <td>i am the person that would park in the next po...</td>\n",
              "    </tr>\n",
              "    <tr>\n",
              "      <th>4999</th>\n",
              "      <td>you guys sound like you are the only ones that...</td>\n",
              "      <td>you guys sound like you are the only ones that...</td>\n",
              "    </tr>\n",
              "  </tbody>\n",
              "</table>\n",
              "<p>5000 rows × 2 columns</p>\n",
              "</div>"
            ],
            "text/plain": [
              "                                                message                                message_only_brands\n",
              "0     entry level performance luxury sedans are a ho...  entry level performance luxury sedan are a hot...\n",
              "1     i personally think that with a few tweaks the ...  i personally think that with a few tweaks the ...\n",
              "2     i am debating a new purchase and these two are...  i am debating a new purchase and these two are...\n",
              "3     great handling rwd excellent engine and the be...  great handling rwd excellent engine and the be...\n",
              "4     and no manual tranny that may not matter to yo...  and no manual tranny that may not matter to yo...\n",
              "...                                                 ...                                                ...\n",
              "4995  parking makes me nuts i left my car in my comp...  parking makes me nuts i left my car in my comp...\n",
              "4996  i feel your paini just noticed a new kink in t...  i feel your paini just noticed a new kink in t...\n",
              "4997  count me as a turning radius enthusiast in 25 ...  count me as a turning radius enthusiast in 25 ...\n",
              "4998  i am the person that would park in the next po...  i am the person that would park in the next po...\n",
              "4999  you guys sound like you are the only ones that...  you guys sound like you are the only ones that...\n",
              "\n",
              "[5000 rows x 2 columns]"
            ]
          },
          "metadata": {},
          "execution_count": 39
        }
      ]
    },
    {
      "cell_type": "code",
      "metadata": {
        "colab": {
          "base_uri": "https://localhost:8080/"
        },
        "id": "Ohsrd5TNgrm-",
        "outputId": "21391fb5-911d-466a-b39f-d21f5cb637cd"
      },
      "source": [
        "df.to_csv('txt_with_only_brand_names.csv')\n",
        "df['message_only_brands']"
      ],
      "execution_count": 40,
      "outputs": [
        {
          "output_type": "execute_result",
          "data": {
            "text/plain": [
              "0       entry level performance luxury sedan are a hot...\n",
              "1       i personally think that with a few tweaks the ...\n",
              "2       i am debating a new purchase and these two are...\n",
              "3       great handling rwd excellent engine and the be...\n",
              "4       and no manual tranny that may not matter to yo...\n",
              "                              ...                        \n",
              "4995    parking makes me nuts i left my car in my comp...\n",
              "4996    i feel your paini just noticed a new kink in t...\n",
              "4997    count me as a turning radius enthusiast in 25 ...\n",
              "4998    i am the person that would park in the next po...\n",
              "4999    you guys sound like you are the only ones that...\n",
              "Name: message_only_brands, Length: 5000, dtype: object"
            ]
          },
          "metadata": {},
          "execution_count": 40
        }
      ]
    },
    {
      "cell_type": "code",
      "metadata": {
        "id": "Z4k36b0_hXMC"
      },
      "source": [
        "def ct_brand_presence(e,list_of_brands=lt_brands,only_indicator=True):\n",
        "\n",
        "  temp=pd.Series(map(e.count,list_of_brands),\n",
        "          index=list_of_brands)\n",
        "  \n",
        "  if only_indicator:\n",
        "    temp=(temp>0).astype(int)\n",
        "  return temp\n",
        "\n",
        "df_brand_cmt=df.message_only_brands.apply(lambda e:ct_brand_presence(e,list_of_brands=top_10_brands))\n"
      ],
      "execution_count": 41,
      "outputs": []
    },
    {
      "cell_type": "code",
      "metadata": {
        "colab": {
          "base_uri": "https://localhost:8080/"
        },
        "id": "pDCNONu3I2-7",
        "outputId": "882f0ba2-7ef2-43b9-f6c1-abe5b641544c"
      },
      "source": [
        "# df_brand_cmt.sum().sum()\n",
        "i='infiniti'\n",
        "j='infiniti'\n",
        "bool_cond=(df_brand_cmt[i]==1) & (df_brand_cmt[j]==1)\n",
        "df_brand_cmt[bool_cond].shape#79,319,433"
      ],
      "execution_count": 42,
      "outputs": [
        {
          "output_type": "execute_result",
          "data": {
            "text/plain": [
              "(433, 10)"
            ]
          },
          "metadata": {},
          "execution_count": 42
        }
      ]
    },
    {
      "cell_type": "code",
      "metadata": {
        "id": "mhulih2ynJAn"
      },
      "source": [
        "cols=sorted(df_brand_cmt.columns)\n",
        "df_lift=pd.DataFrame(index=cols,columns=cols)\n",
        "\n",
        "total=df_brand_cmt.sum().sum()\n",
        "total=5000\n",
        "\n",
        "for c in cols:\n",
        "  pair_cols=[i for i in cols if i>c]\n",
        "  if pair_cols:\n",
        "\n",
        "    for p_c in pair_cols:\n",
        "      num=((df_brand_cmt[p_c]*df_brand_cmt[c]).sum())*total\n",
        "      den=(df_brand_cmt[p_c].sum())*(df_brand_cmt[c].sum())\n",
        "\n",
        "\n",
        "      df_lift.loc[p_c,c]=num/den\n",
        "      df_lift.loc[c,p_c]=num/den"
      ],
      "execution_count": 43,
      "outputs": []
    },
    {
      "cell_type": "code",
      "metadata": {
        "colab": {
          "base_uri": "https://localhost:8080/",
          "height": 500
        },
        "id": "1yNIM4PXoYmY",
        "outputId": "48840c70-9fa7-4cfe-a637-e9bac20fd3ce"
      },
      "source": [
        "import seaborn as sns\n",
        "plt.figure(figsize=(20,8))\n",
        "\n",
        "\n",
        "sns.heatmap(df_lift.fillna(0),\n",
        "            annot=True,mask=np.triu(df_lift))"
      ],
      "execution_count": 44,
      "outputs": [
        {
          "output_type": "execute_result",
          "data": {
            "text/plain": [
              "<matplotlib.axes._subplots.AxesSubplot at 0x7f522348f490>"
            ]
          },
          "metadata": {},
          "execution_count": 44
        },
        {
          "output_type": "display_data",
          "data": {
            "image/png": "[encoded data removed]",
            "text/plain": [
              "<Figure size 1440x576 with 2 Axes>"
            ]
          },
          "metadata": {
            "needs_background": "light"
          }
        }
      ]
    },
    {
      "cell_type": "markdown",
      "metadata": {
        "id": "ZhwxExiCjsRW"
      },
      "source": [
        "## TASK D"
      ]
    },
    {
      "cell_type": "code",
      "metadata": {
        "id": "NU82WpVbmFZc"
      },
      "source": [
        "# df_disimilarity"
      ],
      "execution_count": 45,
      "outputs": []
    },
    {
      "cell_type": "code",
      "metadata": {
        "colab": {
          "base_uri": "https://localhost:8080/",
          "height": 541
        },
        "id": "UlH1fcCcjdRz",
        "outputId": "0847c5fa-5319-408e-b28e-b26d2154ac76"
      },
      "source": [
        "from sklearn.manifold import MDS\n",
        "\n",
        "df_disimilarity=1/df_lift\n",
        "df_disimilarity.fillna(0,inplace=True)\n",
        "df_disimilarity\n",
        "\n",
        "\n",
        "mds=MDS(n_components=2)\n",
        "\n",
        "npos=mds.fit_transform(df_disimilarity)\n",
        "\n",
        "# df_disimilarity.index\n",
        "plt.figure(figsize=(20,8))\n",
        "\n",
        "plt.plot(npos[:,0],npos[:,1],'*')\n",
        "plt.ylim(-1,2)\n",
        "plt.xlim(-1,2)\n",
        "\n",
        "\n",
        "for i in range(len(npos)):\n",
        "  plt.text(npos[i,0],npos[i,1],df_disimilarity.index[i])"
      ],
      "execution_count": 46,
      "outputs": [
        {
          "output_type": "stream",
          "name": "stderr",
          "text": [
            "/usr/local/lib/python3.7/dist-packages/sklearn/manifold/_mds.py:419: UserWarning: The MDS API has changed. ``fit`` now constructs an dissimilarity matrix from data. To use a custom dissimilarity matrix, set ``dissimilarity='precomputed'``.\n",
            "  warnings.warn(\"The MDS API has changed. ``fit`` now constructs an\"\n"
          ]
        },
        {
          "output_type": "display_data",
          "data": {
            "image/png": "[encoded data removed]",
            "text/plain": [
              "<Figure size 1440x576 with 1 Axes>"
            ]
          },
          "metadata": {
            "needs_background": "light"
          }
        }
      ]
    },
    {
      "cell_type": "code",
      "metadata": {
        "colab": {
          "base_uri": "https://localhost:8080/",
          "height": 554
        },
        "id": "1toyGLd4lVx5",
        "outputId": "fe162b73-8d9d-4480-b623-f68a21997e37"
      },
      "source": [
        "pd.Series(word_count).sort_values(ascending=False).iloc[:150].plot(kind='bar',figsize=(20,8))"
      ],
      "execution_count": 47,
      "outputs": [
        {
          "output_type": "execute_result",
          "data": {
            "text/plain": [
              "<matplotlib.axes._subplots.AxesSubplot at 0x7f521d87ba50>"
            ]
          },
          "metadata": {},
          "execution_count": 47
        },
        {
          "output_type": "display_data",
          "data": {
            "image/png": "[encoded data removed]",
            "text/plain": [
              "<Figure size 1440x576 with 1 Axes>"
            ]
          },
          "metadata": {
            "needs_background": "light"
          }
        }
      ]
    },
    {
      "cell_type": "markdown",
      "metadata": {
        "id": "7XrOuIvZtCje"
      },
      "source": [
        "## TASK E"
      ]
    },
    {
      "cell_type": "markdown",
      "metadata": {
        "id": "TSwemHuStCjf"
      },
      "source": [
        "Honda, Toyota and Nissan all being Japanese brands have high lift as expected.  \n",
        "\n",
        "Volkswagen suprisingly has high lift with premium brands like Audi and Merdedes. BMW also has low lift with Audi and Mercedes.  This can be due to people comparing Volkswagen with other brands and consider it as a Value for money option.\n",
        "\n",
        "We basically see 2 clusters being formed.  1 of Japanese brands (Honda, Toyota & Nissan) and all other brands."
      ]
    },
    {
      "cell_type": "markdown",
      "metadata": {
        "id": "K63E2iImw3PL"
      },
      "source": [
        "## TASK F"
      ]
    },
    {
      "cell_type": "code",
      "metadata": {
        "colab": {
          "base_uri": "https://localhost:8080/"
        },
        "id": "QD2KEzqYak_f",
        "outputId": "4b3a5933-f921-468b-aedc-3a2700708308"
      },
      "source": [
        "nltk.download('averaged_perceptron_tagger')\n",
        "\n",
        "temp=set(list(i for i,j in nltk.pos_tag(word_count.keys()) if 'nn' in j.lower()))\n",
        "df_noun=pd.Series({i:j for i,j in word_count.items() if i in temp})"
      ],
      "execution_count": 48,
      "outputs": [
        {
          "output_type": "stream",
          "name": "stdout",
          "text": [
            "[nltk_data] Downloading package averaged_perceptron_tagger to\n",
            "[nltk_data]     /root/nltk_data...\n",
            "[nltk_data]   Unzipping taggers/averaged_perceptron_tagger.zip.\n"
          ]
        }
      ]
    },
    {
      "cell_type": "code",
      "metadata": {
        "colab": {
          "base_uri": "https://localhost:8080/"
        },
        "id": "SEmd89nSpaR-",
        "outputId": "6d5eb2b5-2bd6-4f32-c811-45a5784aa11a"
      },
      "source": [
        "print(*df_noun.sort_values(ascending=False).iloc[:150].index,sep='\\t')"
      ],
      "execution_count": 49,
      "outputs": [
        {
          "output_type": "stream",
          "name": "stdout",
          "text": [
            "car\tcars\tdont\tget\tdrive\tim\tperformance\tpeople\tsedan\tluxury\trwd\tengine\ttime\tseries\tway\tprice\tthats\tbuy\tawd\ttest\tpower\thp\tg\tyears\tive\tinfiniti\tdoesnt\ttires\tright\tpoint\tid\tsales\tsport\tyear\tthing\ttorque\tclass\tcts\tdidnt\troad\tsomething\tcoupe\tdifference\tvalue\tsnow\tvehicle\tmb\ttsx\tyoure\tfact\tgas\tmoney\tauto\tguess\tis300\ttop\tthings\tvs\tnumbers\treliability\tothers\tfront\tmiles\tcome\tanything\tbrand\tride\tnothing\tsedans\tregards\tsports\tsystem\tcourse\tanyone\thonda\tvehicles\tbit\taccord\topinion\txtype\tquality\tdriver\texperience\ttransmission\tmileage\tm3\tmpg\tseat\tthought\tline\tlevel\tsaab\tproblem\tday\tcost\tworld\tpost\tseats\tdealer\tv6\tdrivers\tmarket\tmodel\tcomparison\tthanks\treason\ttimes\tentry\ttrack\twinter\ttheres\tworth\tdiscussion\twheel\tchoice\tsize\twork\tsomeone\tcd\tfeatures\tproblems\tpay\ttell\teverything\tmercedes\tacceleration\tsuspension\tlist\tvolvo\tmatter\tg35x\tstandard\tsteer\tissue\tlets\ttry\tmind\teveryone\tmsrp\tdesign\tfuel\tcompare\tcategory\tpremium\tsubaru\tengines\tnumber\tis350\tdeal\towners\n"
          ]
        }
      ]
    },
    {
      "cell_type": "code",
      "metadata": {
        "colab": {
          "base_uri": "https://localhost:8080/"
        },
        "id": "TXED19thpbAe",
        "outputId": "f08e9c6b-318a-45e6-bd01-158bb92b4255"
      },
      "source": [
        "'engine','price','performance','luxury','power','tires',"
      ],
      "execution_count": 50,
      "outputs": [
        {
          "output_type": "execute_result",
          "data": {
            "text/plain": [
              "('engine', 'price', 'performance', 'luxury', 'power', 'tires')"
            ]
          },
          "metadata": {},
          "execution_count": 50
        }
      ]
    },
    {
      "cell_type": "code",
      "metadata": {
        "id": "mXAGR05ynizV"
      },
      "source": [
        "lt_attrs=['engine','performance','luxury','power','tires']\n",
        "top_10_brands_attrs=top_10_brands+lt_attrs\n",
        "df_brand_attr=df.message_only_brands.apply(lambda e:ct_brand_presence(e,list_of_brands=top_10_brands_attrs))\n",
        "\n"
      ],
      "execution_count": 51,
      "outputs": []
    },
    {
      "cell_type": "code",
      "metadata": {
        "id": "v2Sv88dtnnPs"
      },
      "source": [
        "cols=sorted(df_brand_attr.columns)\n",
        "df_lift_BrAttr=pd.DataFrame(index=cols,columns=cols)\n",
        "\n",
        "total=df_brand_attr.sum().sum()\n",
        "total=5000\n",
        "\n",
        "for c in cols:\n",
        "  pair_cols=[i for i in cols if i>c]\n",
        "  if pair_cols:\n",
        "\n",
        "    for p_c in pair_cols:\n",
        "      num=((df_brand_attr[p_c]*df_brand_attr[c]).sum())*total\n",
        "      den=(df_brand_attr[p_c].sum())*(df_brand_attr[c].sum())\n",
        "\n",
        "\n",
        "      df_lift_BrAttr.loc[p_c,c]=num/den\n",
        "      df_lift_BrAttr.loc[c,p_c]=num/den"
      ],
      "execution_count": 52,
      "outputs": []
    },
    {
      "cell_type": "code",
      "metadata": {
        "colab": {
          "base_uri": "https://localhost:8080/",
          "height": 500
        },
        "id": "JVDpwJO9osvG",
        "outputId": "911cd650-0d81-45c1-b3f4-886c1528e1a7"
      },
      "source": [
        "plt.figure(figsize=(20,8))\n",
        "\n",
        "sns.heatmap(df_lift_BrAttr.loc[top_10_brands,lt_attrs].astype(float),annot=True)"
      ],
      "execution_count": 53,
      "outputs": [
        {
          "output_type": "execute_result",
          "data": {
            "text/plain": [
              "<matplotlib.axes._subplots.AxesSubplot at 0x7f521dfcdd50>"
            ]
          },
          "metadata": {},
          "execution_count": 53
        },
        {
          "output_type": "display_data",
          "data": {
            "image/png": "[encoded data removed]",
            "text/plain": [
              "<Figure size 1440x576 with 2 Axes>"
            ]
          },
          "metadata": {
            "needs_background": "light"
          }
        }
      ]
    },
    {
      "cell_type": "markdown",
      "metadata": {
        "id": "V987Mrx4tCjh"
      },
      "source": [
        "## Task G"
      ]
    },
    {
      "cell_type": "markdown",
      "metadata": {
        "id": "QatI3byjtCjh"
      },
      "source": [
        "Lot of brands have low lift with Tires. \n",
        "\n",
        "Toyota has high mentions with Luxury, more than premium brands like Audi, BMW and Mercedes.  \n",
        "\n",
        "Luxury seams to be the differentiating factor, Subaru has the highest lift while BMW has the lowest.  Luxury is mentioned highly with Subaru, Toyota, Volkswagen and Acura.\n",
        "\n",
        "Performance lift does not vary much with brands.  \n",
        "\n",
        "Nissan has the highest lift with Engine.\n",
        "\n",
        "Variation of lift with the most mentioned attribute Engine, Power and Performance is minimum, whereas Luxury seems to be the determining factor.  There is an indication of Zoning."
      ]
    },
    {
      "cell_type": "markdown",
      "metadata": {
        "id": "LkqRkeUPw6X-"
      },
      "source": [
        "## TASK H "
      ]
    },
    {
      "cell_type": "code",
      "metadata": {
        "id": "cvRVUukOqAEc"
      },
      "source": [
        "lt_asp_wrds=['would like to buy','would love to buy',\n",
        "             'eager to buy','love to have',\n",
        "             'desire to','dream of', 'dream to', 'love to','to own'\n",
        "             'desire','dream','love','want','own']\n",
        "\n",
        "lt_asp_wrds=['desire to','desirable','fancy car','eager to buy','would like to buy','love to have','dream car','really want','future car','dream of',\"cant wait to buy\",'would love to buy','wish to buy','want to buy','aspire to','future car','thinking to buy','love to buy','want to own','love to own','like to own','have to own','nice to own','nice to buy','have to buy','would love to buy','would like to buy','wish to own','looking to buy','looking forward to buy']\n",
        "#temp=df.message_only_brands[0]\n",
        "# temp.count('are a')\n",
        "# temp.replace('are a|alike these', '#####')"
      ],
      "execution_count": 54,
      "outputs": []
    },
    {
      "cell_type": "code",
      "metadata": {
        "colab": {
          "base_uri": "https://localhost:8080/"
        },
        "id": "MrFV10j8UENQ",
        "outputId": "e1980d1a-ef4a-4d3d-bbeb-5556eebfe137"
      },
      "source": [
        "df.message_only_brands.iloc[:10].str.replace('are a|entry level','#####')\n"
      ],
      "execution_count": 55,
      "outputs": [
        {
          "output_type": "execute_result",
          "data": {
            "text/plain": [
              "0    ##### performance luxury sedan ##### hot area ...\n",
              "1    i personally think that with a few tweaks the ...\n",
              "2    i am debating a new purchase and these two ###...\n",
              "3    great handling rwd excellent engine and the be...\n",
              "4    and no manual tranny that may not matter to yo...\n",
              "5    one beauty of bmw 3 series is that there are s...\n",
              "6    good grief so you wait 9 months for the manual...\n",
              "7    ill give it a fair shot when the manual comes ...\n",
              "8    i understand its not about the speed i really ...\n",
              "9    it sounds like you know why i wont even put it...\n",
              "Name: message_only_brands, dtype: object"
            ]
          },
          "metadata": {},
          "execution_count": 55
        }
      ]
    },
    {
      "cell_type": "code",
      "metadata": {
        "id": "NXKJVirCtH_9"
      },
      "source": [
        "df.message_only_brands.iloc[:10].str.replace('are a|entry level','#####')\n",
        "\n",
        "pattern='|'.join(lt_asp_wrds)\n",
        "\n",
        "df['msg_aspire']=df.message_only_brands.str.replace(pattern,'aspire')\n"
      ],
      "execution_count": 56,
      "outputs": []
    },
    {
      "cell_type": "code",
      "metadata": {
        "id": "xGdoKqIZri1Y"
      },
      "source": [
        "# df[df.message_only_brands.apply(lambda e : e.count('want to')>1)]\n",
        "# df_brand_cmt=\n",
        "df_aspr=df.msg_aspire.apply(lambda e:ct_brand_presence(e,list_of_brands=top_10_brands+['aspire']))\n",
        "\n",
        "\n"
      ],
      "execution_count": 57,
      "outputs": []
    },
    {
      "cell_type": "code",
      "metadata": {
        "colab": {
          "base_uri": "https://localhost:8080/"
        },
        "id": "SV6mFRSbsFjd",
        "outputId": "c391f44f-7f62-4ca9-bcbc-c7947f837390"
      },
      "source": [
        "total=df_aspr.sum().sum()\n",
        "total=5000\n",
        "\n",
        "df_aspire_lift=pd.Series(index=df_aspr.columns)\n",
        "\n",
        "for c in df_aspr.columns:\n",
        "  if c=='aspire':\n",
        "    print('hi')\n",
        "    continue\n",
        "\n",
        "  num=(sum((df_aspr[c])*(df_aspr['aspire'])))*total\n",
        "  den=(df_aspr[c].sum()*df_aspr['aspire'].sum())\n",
        "\n",
        "  df_aspire_lift.loc[c]=(num/den)"
      ],
      "execution_count": 58,
      "outputs": [
        {
          "output_type": "stream",
          "name": "stdout",
          "text": [
            "hi\n"
          ]
        },
        {
          "output_type": "stream",
          "name": "stderr",
          "text": [
            "/usr/local/lib/python3.7/dist-packages/ipykernel_launcher.py:4: DeprecationWarning: The default dtype for empty Series will be 'object' instead of 'float64' in a future version. Specify a dtype explicitly to silence this warning.\n",
            "  after removing the cwd from sys.path.\n"
          ]
        }
      ]
    },
    {
      "cell_type": "code",
      "metadata": {
        "colab": {
          "base_uri": "https://localhost:8080/"
        },
        "id": "1A-r6QELwKY6",
        "outputId": "e6d34b61-470d-4159-f189-42bb107a0000"
      },
      "source": [
        "df_aspire_lift"
      ],
      "execution_count": 59,
      "outputs": [
        {
          "output_type": "execute_result",
          "data": {
            "text/plain": [
              "bmw           1.740174\n",
              "audi          1.408848\n",
              "acura         2.001310\n",
              "honda         1.827918\n",
              "toyota        1.336050\n",
              "infiniti      2.030302\n",
              "nissan        1.205691\n",
              "mercedes      1.194458\n",
              "subaru        1.271876\n",
              "volkswagen    0.732601\n",
              "aspire             NaN\n",
              "dtype: float64"
            ]
          },
          "metadata": {},
          "execution_count": 59
        }
      ]
    },
    {
      "cell_type": "markdown",
      "metadata": {
        "id": "9L6ed8_NwMWM"
      },
      "source": [
        "For measuring Aspiration, we took all the phrases (we could think of) which signifies a person wanting to buy a car.  Then we replaced all the phrases in the comments to Aspire and used lift between the word \"Aspire\" and Brands to identify which brands are people wanting to buy the most. \n",
        "\n",
        "\n",
        "\n",
        "\n",
        "1. Acura, Infiniti are the brands people want to buy the most. \n",
        "\n",
        "2. Volkswagen should be concerned as not many people want to buy this brand.  \n",
        "\n",
        "3. Asian brands like Nissan and Toyota contrary to popularity in the US have low aspiration.\n",
        "\n",
        "4. Premium brand have little lift but that is most likely due to people not being able to afford as they are premium expensive brands.\n",
        "\n",
        "5. Although Toyota has high lift with Luxury their aspiration is low indicating that there may be a negetive relation to luxury."
      ]
    },
    {
      "cell_type": "code",
      "metadata": {
        "id": "aNcIsIpU9huc"
      },
      "source": [
        ""
      ],
      "execution_count": 59,
      "outputs": []
    }
  ]
}